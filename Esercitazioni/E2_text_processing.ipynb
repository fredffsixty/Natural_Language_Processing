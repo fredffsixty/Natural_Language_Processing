{
  "cells": [
    {
      "cell_type": "code",
      "execution_count": 3,
      "metadata": {
        "colab": {
          "base_uri": "https://localhost:8080/",
          "height": 0
        },
        "id": "hCjHeKY5RUdk",
        "outputId": "c3085c91-f46d-4e6e-c6b1-5c387d09be27"
      },
      "outputs": [
        {
          "name": "stdout",
          "output_type": "stream",
          "text": [
            "Drive already mounted at /content/gdrive; to attempt to forcibly remount, call drive.mount(\"/content/gdrive\", force_remount=True).\n"
          ]
        }
      ],
      "source": [
        "import pandas as pd\n",
        "import numpy as np\n",
        "from tqdm import tqdm\n",
        "import sklearn\n",
        "import nltk\n",
        "from nltk.corpus import stopwords\n",
        "\n",
        "from google.colab import drive\n",
        "drive.mount('/content/gdrive')"
      ]
    },
    {
      "cell_type": "code",
      "execution_count": 8,
      "metadata": {
        "id": "TiSR10vmpBXS"
      },
      "outputs": [],
      "source": [
        "# HODI @ EVALITA 2023\n",
        "# https://hodi-evalita.github.io/ https://github.com/HODI-EVALITA/HODI_2023\n",
        "\n",
        "root = '/content/gdrive/MyDrive/Colab Notebooks/torch/'\n",
        "df = pd.read_csv(root+'data/HODI/HODI_2023_train_subtaskA.tsv', sep='\\t')"
      ]
    },
    {
      "cell_type": "code",
      "execution_count": 28,
      "metadata": {
        "colab": {
          "base_uri": "https://localhost:8080/",
          "height": 206
        },
        "id": "QfaC1puvSTmm",
        "outputId": "00781c4d-3b7c-49b1-ed09-5d801ac9103e"
      },
      "outputs": [
        {
          "data": {
            "application/vnd.google.colaboratory.intrinsic+json": {
              "summary": "{\n  \"name\": \"df\",\n  \"rows\": 5000,\n  \"fields\": [\n    {\n      \"column\": \"id\",\n      \"properties\": {\n        \"dtype\": \"number\",\n        \"std\": 1443,\n        \"min\": 1,\n        \"max\": 5000,\n        \"num_unique_values\": 5000,\n        \"samples\": [\n          1502,\n          2587,\n          2654\n        ],\n        \"semantic_type\": \"\",\n        \"description\": \"\"\n      }\n    },\n    {\n      \"column\": \"text\",\n      \"properties\": {\n        \"dtype\": \"string\",\n        \"num_unique_values\": 5000,\n        \"samples\": [\n          \"Non accetti la sconfitta mica lui \\u00e8 ricchione.\",\n          \"@user_abc @user_abcdefghi lei ti chiamerebbe rottinculo so what\",\n          \"@user_abc Altre palle Altre prese oer il culo Non verr\\u00e0 Navas , non verr\\u00e0 Djbala al massimo Sineone x Petagna , rinnova Mertens , Nandez x Demme . Acerbi Ostigard o qualche svincolato in stile Juan Jesus Avete rotto le palle\"\n        ],\n        \"semantic_type\": \"\",\n        \"description\": \"\"\n      }\n    },\n    {\n      \"column\": \"homotransphobic\",\n      \"properties\": {\n        \"dtype\": \"number\",\n        \"std\": 0,\n        \"min\": 0,\n        \"max\": 1,\n        \"num_unique_values\": 2,\n        \"samples\": [\n          1,\n          0\n        ],\n        \"semantic_type\": \"\",\n        \"description\": \"\"\n      }\n    }\n  ]\n}",
              "type": "dataframe",
              "variable_name": "df"
            },
            "text/html": [
              "\n",
              "  <div id=\"df-6eebf769-b3f7-42d7-8374-9682f7ed9197\" class=\"colab-df-container\">\n",
              "    <div>\n",
              "<style scoped>\n",
              "    .dataframe tbody tr th:only-of-type {\n",
              "        vertical-align: middle;\n",
              "    }\n",
              "\n",
              "    .dataframe tbody tr th {\n",
              "        vertical-align: top;\n",
              "    }\n",
              "\n",
              "    .dataframe thead th {\n",
              "        text-align: right;\n",
              "    }\n",
              "</style>\n",
              "<table border=\"1\" class=\"dataframe\">\n",
              "  <thead>\n",
              "    <tr style=\"text-align: right;\">\n",
              "      <th></th>\n",
              "      <th>id</th>\n",
              "      <th>text</th>\n",
              "      <th>homotransphobic</th>\n",
              "    </tr>\n",
              "  </thead>\n",
              "  <tbody>\n",
              "    <tr>\n",
              "      <th>0</th>\n",
              "      <td>1</td>\n",
              "      <td>Hanno rotto le #palle con i €compleanni a #dop...</td>\n",
              "      <td>0</td>\n",
              "    </tr>\n",
              "    <tr>\n",
              "      <th>1</th>\n",
              "      <td>2</td>\n",
              "      <td>@user_abc Avete rotto,come potete prendere se ...</td>\n",
              "      <td>0</td>\n",
              "    </tr>\n",
              "    <tr>\n",
              "      <th>2</th>\n",
              "      <td>3</td>\n",
              "      <td>Guevara si è rotto il cazzo e ha mandato a far...</td>\n",
              "      <td>0</td>\n",
              "    </tr>\n",
              "    <tr>\n",
              "      <th>3</th>\n",
              "      <td>4</td>\n",
              "      <td>@user_abcd Se io volessi entrare in un bar con...</td>\n",
              "      <td>0</td>\n",
              "    </tr>\n",
              "    <tr>\n",
              "      <th>4</th>\n",
              "      <td>5</td>\n",
              "      <td>@user_abcdef @user_abc @user_abcdefgh Ok nessu...</td>\n",
              "      <td>0</td>\n",
              "    </tr>\n",
              "  </tbody>\n",
              "</table>\n",
              "</div>\n",
              "    <div class=\"colab-df-buttons\">\n",
              "\n",
              "  <div class=\"colab-df-container\">\n",
              "    <button class=\"colab-df-convert\" onclick=\"convertToInteractive('df-6eebf769-b3f7-42d7-8374-9682f7ed9197')\"\n",
              "            title=\"Convert this dataframe to an interactive table.\"\n",
              "            style=\"display:none;\">\n",
              "\n",
              "  <svg xmlns=\"http://www.w3.org/2000/svg\" height=\"24px\" viewBox=\"0 -960 960 960\">\n",
              "    <path d=\"M120-120v-720h720v720H120Zm60-500h600v-160H180v160Zm220 220h160v-160H400v160Zm0 220h160v-160H400v160ZM180-400h160v-160H180v160Zm440 0h160v-160H620v160ZM180-180h160v-160H180v160Zm440 0h160v-160H620v160Z\"/>\n",
              "  </svg>\n",
              "    </button>\n",
              "\n",
              "  <style>\n",
              "    .colab-df-container {\n",
              "      display:flex;\n",
              "      gap: 12px;\n",
              "    }\n",
              "\n",
              "    .colab-df-convert {\n",
              "      background-color: #E8F0FE;\n",
              "      border: none;\n",
              "      border-radius: 50%;\n",
              "      cursor: pointer;\n",
              "      display: none;\n",
              "      fill: #1967D2;\n",
              "      height: 32px;\n",
              "      padding: 0 0 0 0;\n",
              "      width: 32px;\n",
              "    }\n",
              "\n",
              "    .colab-df-convert:hover {\n",
              "      background-color: #E2EBFA;\n",
              "      box-shadow: 0px 1px 2px rgba(60, 64, 67, 0.3), 0px 1px 3px 1px rgba(60, 64, 67, 0.15);\n",
              "      fill: #174EA6;\n",
              "    }\n",
              "\n",
              "    .colab-df-buttons div {\n",
              "      margin-bottom: 4px;\n",
              "    }\n",
              "\n",
              "    [theme=dark] .colab-df-convert {\n",
              "      background-color: #3B4455;\n",
              "      fill: #D2E3FC;\n",
              "    }\n",
              "\n",
              "    [theme=dark] .colab-df-convert:hover {\n",
              "      background-color: #434B5C;\n",
              "      box-shadow: 0px 1px 3px 1px rgba(0, 0, 0, 0.15);\n",
              "      filter: drop-shadow(0px 1px 2px rgba(0, 0, 0, 0.3));\n",
              "      fill: #FFFFFF;\n",
              "    }\n",
              "  </style>\n",
              "\n",
              "    <script>\n",
              "      const buttonEl =\n",
              "        document.querySelector('#df-6eebf769-b3f7-42d7-8374-9682f7ed9197 button.colab-df-convert');\n",
              "      buttonEl.style.display =\n",
              "        google.colab.kernel.accessAllowed ? 'block' : 'none';\n",
              "\n",
              "      async function convertToInteractive(key) {\n",
              "        const element = document.querySelector('#df-6eebf769-b3f7-42d7-8374-9682f7ed9197');\n",
              "        const dataTable =\n",
              "          await google.colab.kernel.invokeFunction('convertToInteractive',\n",
              "                                                    [key], {});\n",
              "        if (!dataTable) return;\n",
              "\n",
              "        const docLinkHtml = 'Like what you see? Visit the ' +\n",
              "          '<a target=\"_blank\" href=https://colab.research.google.com/notebooks/data_table.ipynb>data table notebook</a>'\n",
              "          + ' to learn more about interactive tables.';\n",
              "        element.innerHTML = '';\n",
              "        dataTable['output_type'] = 'display_data';\n",
              "        await google.colab.output.renderOutput(dataTable, element);\n",
              "        const docLink = document.createElement('div');\n",
              "        docLink.innerHTML = docLinkHtml;\n",
              "        element.appendChild(docLink);\n",
              "      }\n",
              "    </script>\n",
              "  </div>\n",
              "\n",
              "\n",
              "    <div id=\"df-11508194-3842-4c4c-9660-d1ec61370b98\">\n",
              "      <button class=\"colab-df-quickchart\" onclick=\"quickchart('df-11508194-3842-4c4c-9660-d1ec61370b98')\"\n",
              "                title=\"Suggest charts\"\n",
              "                style=\"display:none;\">\n",
              "\n",
              "<svg xmlns=\"http://www.w3.org/2000/svg\" height=\"24px\"viewBox=\"0 0 24 24\"\n",
              "     width=\"24px\">\n",
              "    <g>\n",
              "        <path d=\"M19 3H5c-1.1 0-2 .9-2 2v14c0 1.1.9 2 2 2h14c1.1 0 2-.9 2-2V5c0-1.1-.9-2-2-2zM9 17H7v-7h2v7zm4 0h-2V7h2v10zm4 0h-2v-4h2v4z\"/>\n",
              "    </g>\n",
              "</svg>\n",
              "      </button>\n",
              "\n",
              "<style>\n",
              "  .colab-df-quickchart {\n",
              "      --bg-color: #E8F0FE;\n",
              "      --fill-color: #1967D2;\n",
              "      --hover-bg-color: #E2EBFA;\n",
              "      --hover-fill-color: #174EA6;\n",
              "      --disabled-fill-color: #AAA;\n",
              "      --disabled-bg-color: #DDD;\n",
              "  }\n",
              "\n",
              "  [theme=dark] .colab-df-quickchart {\n",
              "      --bg-color: #3B4455;\n",
              "      --fill-color: #D2E3FC;\n",
              "      --hover-bg-color: #434B5C;\n",
              "      --hover-fill-color: #FFFFFF;\n",
              "      --disabled-bg-color: #3B4455;\n",
              "      --disabled-fill-color: #666;\n",
              "  }\n",
              "\n",
              "  .colab-df-quickchart {\n",
              "    background-color: var(--bg-color);\n",
              "    border: none;\n",
              "    border-radius: 50%;\n",
              "    cursor: pointer;\n",
              "    display: none;\n",
              "    fill: var(--fill-color);\n",
              "    height: 32px;\n",
              "    padding: 0;\n",
              "    width: 32px;\n",
              "  }\n",
              "\n",
              "  .colab-df-quickchart:hover {\n",
              "    background-color: var(--hover-bg-color);\n",
              "    box-shadow: 0 1px 2px rgba(60, 64, 67, 0.3), 0 1px 3px 1px rgba(60, 64, 67, 0.15);\n",
              "    fill: var(--button-hover-fill-color);\n",
              "  }\n",
              "\n",
              "  .colab-df-quickchart-complete:disabled,\n",
              "  .colab-df-quickchart-complete:disabled:hover {\n",
              "    background-color: var(--disabled-bg-color);\n",
              "    fill: var(--disabled-fill-color);\n",
              "    box-shadow: none;\n",
              "  }\n",
              "\n",
              "  .colab-df-spinner {\n",
              "    border: 2px solid var(--fill-color);\n",
              "    border-color: transparent;\n",
              "    border-bottom-color: var(--fill-color);\n",
              "    animation:\n",
              "      spin 1s steps(1) infinite;\n",
              "  }\n",
              "\n",
              "  @keyframes spin {\n",
              "    0% {\n",
              "      border-color: transparent;\n",
              "      border-bottom-color: var(--fill-color);\n",
              "      border-left-color: var(--fill-color);\n",
              "    }\n",
              "    20% {\n",
              "      border-color: transparent;\n",
              "      border-left-color: var(--fill-color);\n",
              "      border-top-color: var(--fill-color);\n",
              "    }\n",
              "    30% {\n",
              "      border-color: transparent;\n",
              "      border-left-color: var(--fill-color);\n",
              "      border-top-color: var(--fill-color);\n",
              "      border-right-color: var(--fill-color);\n",
              "    }\n",
              "    40% {\n",
              "      border-color: transparent;\n",
              "      border-right-color: var(--fill-color);\n",
              "      border-top-color: var(--fill-color);\n",
              "    }\n",
              "    60% {\n",
              "      border-color: transparent;\n",
              "      border-right-color: var(--fill-color);\n",
              "    }\n",
              "    80% {\n",
              "      border-color: transparent;\n",
              "      border-right-color: var(--fill-color);\n",
              "      border-bottom-color: var(--fill-color);\n",
              "    }\n",
              "    90% {\n",
              "      border-color: transparent;\n",
              "      border-bottom-color: var(--fill-color);\n",
              "    }\n",
              "  }\n",
              "</style>\n",
              "\n",
              "      <script>\n",
              "        async function quickchart(key) {\n",
              "          const quickchartButtonEl =\n",
              "            document.querySelector('#' + key + ' button');\n",
              "          quickchartButtonEl.disabled = true;  // To prevent multiple clicks.\n",
              "          quickchartButtonEl.classList.add('colab-df-spinner');\n",
              "          try {\n",
              "            const charts = await google.colab.kernel.invokeFunction(\n",
              "                'suggestCharts', [key], {});\n",
              "          } catch (error) {\n",
              "            console.error('Error during call to suggestCharts:', error);\n",
              "          }\n",
              "          quickchartButtonEl.classList.remove('colab-df-spinner');\n",
              "          quickchartButtonEl.classList.add('colab-df-quickchart-complete');\n",
              "        }\n",
              "        (() => {\n",
              "          let quickchartButtonEl =\n",
              "            document.querySelector('#df-11508194-3842-4c4c-9660-d1ec61370b98 button');\n",
              "          quickchartButtonEl.style.display =\n",
              "            google.colab.kernel.accessAllowed ? 'block' : 'none';\n",
              "        })();\n",
              "      </script>\n",
              "    </div>\n",
              "\n",
              "    </div>\n",
              "  </div>\n"
            ],
            "text/plain": [
              "   id                                               text  homotransphobic\n",
              "0   1  Hanno rotto le #palle con i €compleanni a #dop...                0\n",
              "1   2  @user_abc Avete rotto,come potete prendere se ...                0\n",
              "2   3  Guevara si è rotto il cazzo e ha mandato a far...                0\n",
              "3   4  @user_abcd Se io volessi entrare in un bar con...                0\n",
              "4   5  @user_abcdef @user_abc @user_abcdefgh Ok nessu...                0"
            ]
          },
          "execution_count": 28,
          "metadata": {},
          "output_type": "execute_result"
        }
      ],
      "source": [
        "df.head()"
      ]
    },
    {
      "cell_type": "code",
      "execution_count": 13,
      "metadata": {
        "colab": {
          "base_uri": "https://localhost:8080/",
          "height": 554
        },
        "id": "1dCjzDIjsd3A",
        "outputId": "d898fd3b-ae77-404c-987e-8ed1ddb7ccea"
      },
      "outputs": [
        {
          "name": "stdout",
          "output_type": "stream",
          "text": [
            "n sample ->  5000\n",
            "homotransphobic\n",
            "0    2992\n",
            "1    2008\n",
            "Name: count, dtype: int64\n"
          ]
        },
        {
          "data": {
            "text/plain": [
              "<Axes: xlabel='homotransphobic'>"
            ]
          },
          "execution_count": 13,
          "metadata": {},
          "output_type": "execute_result"
        },
        {
          "data": {
            "image/png": "[encoded data removed]",
            "text/plain": [
              "<Figure size 640x480 with 1 Axes>"
            ]
          },
          "metadata": {},
          "output_type": "display_data"
        }
      ],
      "source": [
        "print('n sample -> ', len(df))\n",
        "print(df['homotransphobic'].value_counts())\n",
        "df.groupby(['homotransphobic']).size().plot.bar()"
      ]
    },
    {
      "cell_type": "code",
      "execution_count": 27,
      "metadata": {
        "colab": {
          "base_uri": "https://localhost:8080/",
          "height": 0
        },
        "id": "xf2wjn3mTfaa",
        "outputId": "c1946692-1352-4352-deec-5b24212576bc"
      },
      "outputs": [
        {
          "name": "stdout",
          "output_type": "stream",
          "text": [
            "Alla #conversations di #fratellidindrangheta il grido di battaglia è: \"energia da liberare\". Speriamo che non caghino tutti insieme.😟😂 [URL]\n",
            "0\n",
            "@user_abcde @user_abc stai zitto coglione e fatti bombardare da putin magari diventi più bello con quei capelli rossi da ricchione\n",
            "1\n"
          ]
        }
      ],
      "source": [
        "print(df.at[7, 'text'])\n",
        "print(df.at[7, 'homotransphobic'])\n",
        "\n",
        "print(df.at[4997, 'text'])\n",
        "print(df.at[4997, 'homotransphobic'])"
      ]
    },
    {
      "cell_type": "markdown",
      "metadata": {
        "id": "sxVJUfQa2l8d"
      },
      "source": [
        "**Emoji/Emoticons**"
      ]
    },
    {
      "cell_type": "code",
      "execution_count": 99,
      "metadata": {
        "colab": {
          "base_uri": "https://localhost:8080/",
          "height": 0
        },
        "id": "5C9LLzyp4N8l",
        "outputId": "fae7eeed-43e4-4972-f3b0-d72526a21e74"
      },
      "outputs": [
        {
          "name": "stdout",
          "output_type": "stream",
          "text": [
            "Collecting emoji\n",
            "  Downloading emoji-2.15.0-py3-none-any.whl.metadata (5.7 kB)\n",
            "Downloading emoji-2.15.0-py3-none-any.whl (608 kB)\n",
            "\u001b[?25l   \u001b[90m━━━━━━━━━━━━━━━━━━━━━━━━━━━━━━━━━━━━━━━━\u001b[0m \u001b[32m0.0/608.4 kB\u001b[0m \u001b[31m?\u001b[0m eta \u001b[36m-:--:--\u001b[0m\r\u001b[2K   \u001b[90m━━━━━━━━━━━━━━━━━━━━━━━━━━━━━━━━━━━━━━━━\u001b[0m \u001b[32m608.4/608.4 kB\u001b[0m \u001b[31m18.3 MB/s\u001b[0m eta \u001b[36m0:00:00\u001b[0m\n",
            "\u001b[?25hInstalling collected packages: emoji\n",
            "Successfully installed emoji-2.15.0\n"
          ]
        }
      ],
      "source": [
        "!pip install emoji"
      ]
    },
    {
      "cell_type": "code",
      "execution_count": 128,
      "metadata": {
        "colab": {
          "base_uri": "https://localhost:8080/",
          "height": 0
        },
        "id": "aiBG5hvn2pFm",
        "outputId": "adfb1808-fbb5-44e7-a85c-269f55d0e8bd"
      },
      "outputs": [
        {
          "name": "stdout",
          "output_type": "stream",
          "text": [
            "Alla #conversations di #fratellidindrangheta il grido di battaglia è: \"energia da liberare\". Speriamo che non caghino tutti insieme.😟😂 [URL]\n",
            "['😟', '😂']\n"
          ]
        },
        {
          "data": {
            "text/plain": [
              "{'en': ':worried_face:', 'status': 2, 'E': 1, 'alias': [':worried:']}"
            ]
          },
          "execution_count": 128,
          "metadata": {},
          "output_type": "execute_result"
        }
      ],
      "source": [
        "import emoji\n",
        "# https://github.com/kyokomi/emoji\n",
        "\n",
        "print(df.at[7, 'text'])\n",
        "emoji_intext = list(dict.fromkeys([e['emoji'] for e in emoji.emoji_list(df.at[7, 'text'])]))\n",
        "print(emoji_intext)\n",
        "emoji.EMOJI_DATA[emoji_intext[0]]"
      ]
    },
    {
      "cell_type": "markdown",
      "metadata": {
        "id": "k_Gi0FcF8DuK"
      },
      "source": [
        "**Tokenization**"
      ]
    },
    {
      "cell_type": "code",
      "execution_count": 39,
      "metadata": {
        "colab": {
          "base_uri": "https://localhost:8080/",
          "height": 0
        },
        "id": "7BGzSlWETqI2",
        "outputId": "2ace9221-ad46-4af5-8ff6-850ed19f69a4"
      },
      "outputs": [
        {
          "name": "stderr",
          "output_type": "stream",
          "text": [
            "[nltk_data] Downloading package punkt_tab to /root/nltk_data...\n",
            "[nltk_data]   Unzipping tokenizers/punkt_tab.zip.\n"
          ]
        },
        {
          "data": {
            "text/plain": [
              "True"
            ]
          },
          "execution_count": 39,
          "metadata": {},
          "output_type": "execute_result"
        }
      ],
      "source": [
        "# https://www.nltk.org/\n",
        "\n",
        "nltk.download('punkt_tab') #it contains data for the library (tokenizers and corpora)"
      ]
    },
    {
      "cell_type": "code",
      "execution_count": null,
      "metadata": {
        "id": "TwDmgsqkvdMg"
      },
      "outputs": [],
      "source": [
        "nltk.download()"
      ]
    },
    {
      "cell_type": "code",
      "execution_count": 83,
      "metadata": {
        "colab": {
          "base_uri": "https://localhost:8080/",
          "height": 0
        },
        "id": "0SMU3GmVUOn1",
        "outputId": "20a050b7-b486-4461-ac24-282db1881424"
      },
      "outputs": [
        {
          "name": "stdout",
          "output_type": "stream",
          "text": [
            "['The', 'quick', 'brown', 'fox', ',', 'jumps', 'over', ':', 'THE', 'LAZY', 'DOG', '.']\n"
          ]
        }
      ],
      "source": [
        "s_en = 'The quick brown fox, jumps over: THE LAZY DOG.'\n",
        "t_en = nltk.word_tokenize(s_en)\n",
        "print(t_en)"
      ]
    },
    {
      "cell_type": "code",
      "execution_count": 62,
      "metadata": {
        "colab": {
          "base_uri": "https://localhost:8080/",
          "height": 0
        },
        "id": "3JGJIzKRwh2y",
        "outputId": "9cedc19a-d005-441a-b7fc-8bd8f369c38e"
      },
      "outputs": [
        {
          "name": "stdout",
          "output_type": "stream",
          "text": [
            "['La', 'veloce', 'volpe', 'marrone', ',', 'salta', 'sopra', ':', 'IL', 'CANE', 'PIGRO', '.']\n"
          ]
        }
      ],
      "source": [
        "s_it = 'La veloce volpe marrone, salta sopra: IL CANE PIGRO.'\n",
        "t_it = nltk.word_tokenize(s_it)\n",
        "print(t_it)"
      ]
    },
    {
      "cell_type": "code",
      "execution_count": 55,
      "metadata": {
        "colab": {
          "base_uri": "https://localhost:8080/",
          "height": 0
        },
        "id": "woYD-9t6U4D6",
        "outputId": "7918649b-5ed9-4464-eb38-643859c7422a"
      },
      "outputs": [
        {
          "name": "stdout",
          "output_type": "stream",
          "text": [
            "The quick brown fox, jumps over: the lazy dog.\n",
            "The quick brown fox jumps over the lazy dog \n",
            "['The', 'quick', 'brown', 'fox', 'jumps', 'over', 'the', 'lazy', 'dog']\n"
          ]
        }
      ],
      "source": [
        "import re\n",
        "\n",
        "s = 'The quick brown fox, jumps over: the lazy dog.'\n",
        "print(s)\n",
        "s = re.sub(r'[^\\w]+', ' ', s)\n",
        "print(s)\n",
        "t = nltk.word_tokenize(s)\n",
        "print(t)"
      ]
    },
    {
      "cell_type": "markdown",
      "metadata": {
        "id": "JuuBJnmf8IGC"
      },
      "source": [
        "**Stemming**"
      ]
    },
    {
      "cell_type": "code",
      "execution_count": 64,
      "metadata": {
        "colab": {
          "base_uri": "https://localhost:8080/",
          "height": 0
        },
        "id": "3pvoATH7VPmG",
        "outputId": "4a33d9f1-91f0-4ea5-d3c8-d475157d6512"
      },
      "outputs": [
        {
          "name": "stdout",
          "output_type": "stream",
          "text": [
            "['The', 'quick', 'brown', 'fox', ',', 'jumps', 'over', ':', 'THE', 'LAZY', 'DOG', '.']\n",
            "['the', 'quick', 'brown', 'fox', ',', 'jump', 'over', ':', 'the', 'lazi', 'dog', '.']\n"
          ]
        }
      ],
      "source": [
        "from nltk.stem.snowball import SnowballStemmer\n",
        "stemmer = SnowballStemmer('english')\n",
        "print(t_en)\n",
        "stem = [stemmer.stem(w) for w in t_en]\n",
        "print(stem)"
      ]
    },
    {
      "cell_type": "code",
      "execution_count": 65,
      "metadata": {
        "colab": {
          "base_uri": "https://localhost:8080/",
          "height": 0
        },
        "id": "ILJ9CzY-xbdL",
        "outputId": "f9186078-5ddf-4f22-a8b8-00db04dea29b"
      },
      "outputs": [
        {
          "name": "stdout",
          "output_type": "stream",
          "text": [
            "['La', 'veloce', 'volpe', 'marrone', ',', 'salta', 'sopra', ':', 'IL', 'CANE', 'PIGRO', '.']\n",
            "['la', 'veloc', 'volp', 'marron', ',', 'salt', 'sopr', ':', 'il', 'can', 'pigr', '.']\n"
          ]
        }
      ],
      "source": [
        "from nltk.stem.snowball import SnowballStemmer\n",
        "stemmer = SnowballStemmer('italian')\n",
        "print(t_it)\n",
        "stem = [stemmer.stem(w) for w in t_it]\n",
        "print(stem)"
      ]
    },
    {
      "cell_type": "markdown",
      "metadata": {
        "id": "VZ9f-E908RwP"
      },
      "source": [
        "**Lemmatization**"
      ]
    },
    {
      "cell_type": "code",
      "execution_count": 61,
      "metadata": {
        "colab": {
          "base_uri": "https://localhost:8080/",
          "height": 0
        },
        "id": "wVWOT7BR8Q8l",
        "outputId": "2fc66848-0fc3-4739-c74a-8d84dcd44054"
      },
      "outputs": [
        {
          "name": "stdout",
          "output_type": "stream",
          "text": [
            "dog\n",
            "bellissimo\n"
          ]
        },
        {
          "name": "stderr",
          "output_type": "stream",
          "text": [
            "[nltk_data] Downloading package wordnet to /root/nltk_data...\n",
            "[nltk_data]   Package wordnet is already up-to-date!\n"
          ]
        }
      ],
      "source": [
        "nltk.download('wordnet')\n",
        "from nltk.stem import WordNetLemmatizer\n",
        "wnl = WordNetLemmatizer()\n",
        "print(wnl.lemmatize('dogs'))\n",
        "print(wnl.lemmatize('bellissimo'))"
      ]
    },
    {
      "cell_type": "code",
      "execution_count": 135,
      "metadata": {
        "colab": {
          "base_uri": "https://localhost:8080/",
          "height": 0
        },
        "id": "NCRWSSXs-AOo",
        "outputId": "6cfa592d-073f-4369-933a-55b717104c86"
      },
      "outputs": [
        {
          "name": "stdout",
          "output_type": "stream",
          "text": [
            "The quick brown fox, jumps over: THE LAZY DOG.\n",
            "['The', 'quick', 'brown', 'fox', ',', 'jump', 'over', ':', 'THE', 'LAZY', 'DOG', '.']\n"
          ]
        }
      ],
      "source": [
        "print(s_en)\n",
        "lemmas_en = [wnl.lemmatize(x) for x in t_en]\n",
        "print(lemmas_en)"
      ]
    },
    {
      "cell_type": "code",
      "execution_count": null,
      "metadata": {
        "id": "BYpF1ZkX0lqq"
      },
      "outputs": [],
      "source": [
        "!python -m spacy download it_core_news_sm"
      ]
    },
    {
      "cell_type": "code",
      "execution_count": 78,
      "metadata": {
        "colab": {
          "base_uri": "https://localhost:8080/",
          "height": 0
        },
        "id": "uuPYt9Ouz16P",
        "outputId": "dd46de63-0764-4053-b4cb-f0df15750afb"
      },
      "outputs": [
        {
          "name": "stdout",
          "output_type": "stream",
          "text": [
            "La veloce volpe marrone, salta sopra: IL CANE PIGRO.\n",
            "['il', 'veloce', 'volpe', 'marrone', ',', 'saltare', 'sopra', ':', 'iL', 'CANE', 'PIGRO', '.']\n",
            "[('La', 'il'), ('veloce', 'veloce'), ('volpe', 'volpe'), ('marrone', 'marrone'), (',', ','), ('salta', 'saltare'), ('sopra', 'sopra'), (':', ':'), ('IL', 'iL'), ('CANE', 'CANE'), ('PIGRO', 'PIGRO'), ('.', '.')]\n"
          ]
        }
      ],
      "source": [
        "import spacy\n",
        "# https://spacy.io/models/it\n",
        "\n",
        "# Load Italian model\n",
        "nlp = spacy.load(\"it_core_news_sm\")\n",
        "\n",
        "print(s_it)\n",
        "\n",
        "doc = nlp(s_it)\n",
        "lemmas = [token.lemma_ for token in doc]\n",
        "print(lemmas)\n",
        "print(list(zip([t.text for t in doc], lemmas)))"
      ]
    },
    {
      "cell_type": "markdown",
      "metadata": {
        "id": "U29H_zPi8NO7"
      },
      "source": [
        "**Stopwords**"
      ]
    },
    {
      "cell_type": "code",
      "execution_count": 80,
      "metadata": {
        "colab": {
          "base_uri": "https://localhost:8080/",
          "height": 0
        },
        "id": "N63kPKnJW06N",
        "outputId": "b1f31a31-5f17-4718-b8b8-dd8d26d73917"
      },
      "outputs": [
        {
          "name": "stdout",
          "output_type": "stream",
          "text": [
            "there are 198 stopwords\n",
            "\n",
            "['a', 'about', 'above', 'after', 'again', 'against', 'ain', 'all', 'am', 'an', 'and', 'any', 'are', 'aren', \"aren't\", 'as', 'at', 'be', 'because', 'been', 'before', 'being', 'below', 'between', 'both', 'but', 'by', 'can', 'couldn', \"couldn't\", 'd', 'did', 'didn', \"didn't\", 'do', 'does', 'doesn', \"doesn't\", 'doing', 'don', \"don't\", 'down', 'during', 'each', 'few', 'for', 'from', 'further', 'had', 'hadn', \"hadn't\", 'has', 'hasn', \"hasn't\", 'have', 'haven', \"haven't\", 'having', 'he', \"he'd\", \"he'll\", 'her', 'here', 'hers', 'herself', \"he's\", 'him', 'himself', 'his', 'how', 'i', \"i'd\", 'if', \"i'll\", \"i'm\", 'in', 'into', 'is', 'isn', \"isn't\", 'it', \"it'd\", \"it'll\", \"it's\", 'its', 'itself', \"i've\", 'just', 'll', 'm', 'ma', 'me', 'mightn', \"mightn't\", 'more', 'most', 'mustn', \"mustn't\", 'my', 'myself', 'needn', \"needn't\", 'no', 'nor', 'not', 'now', 'o', 'of', 'off', 'on', 'once', 'only', 'or', 'other', 'our', 'ours', 'ourselves', 'out', 'over', 'own', 're', 's', 'same', 'shan', \"shan't\", 'she', \"she'd\", \"she'll\", \"she's\", 'should', 'shouldn', \"shouldn't\", \"should've\", 'so', 'some', 'such', 't', 'than', 'that', \"that'll\", 'the', 'their', 'theirs', 'them', 'themselves', 'then', 'there', 'these', 'they', \"they'd\", \"they'll\", \"they're\", \"they've\", 'this', 'those', 'through', 'to', 'too', 'under', 'until', 'up', 've', 'very', 'was', 'wasn', \"wasn't\", 'we', \"we'd\", \"we'll\", \"we're\", 'were', 'weren', \"weren't\", \"we've\", 'what', 'when', 'where', 'which', 'while', 'who', 'whom', 'why', 'will', 'with', 'won', \"won't\", 'wouldn', \"wouldn't\", 'y', 'you', \"you'd\", \"you'll\", 'your', \"you're\", 'yours', 'yourself', 'yourselves', \"you've\"]\n",
            "there are 279 stopwords\n",
            "\n",
            "['ad', 'al', 'allo', 'ai', 'agli', 'all', 'agl', 'alla', 'alle', 'con', 'col', 'coi', 'da', 'dal', 'dallo', 'dai', 'dagli', 'dall', 'dagl', 'dalla', 'dalle', 'di', 'del', 'dello', 'dei', 'degli', 'dell', 'degl', 'della', 'delle', 'in', 'nel', 'nello', 'nei', 'negli', 'nell', 'negl', 'nella', 'nelle', 'su', 'sul', 'sullo', 'sui', 'sugli', 'sull', 'sugl', 'sulla', 'sulle', 'per', 'tra', 'contro', 'io', 'tu', 'lui', 'lei', 'noi', 'voi', 'loro', 'mio', 'mia', 'miei', 'mie', 'tuo', 'tua', 'tuoi', 'tue', 'suo', 'sua', 'suoi', 'sue', 'nostro', 'nostra', 'nostri', 'nostre', 'vostro', 'vostra', 'vostri', 'vostre', 'mi', 'ti', 'ci', 'vi', 'lo', 'la', 'li', 'le', 'gli', 'ne', 'il', 'un', 'uno', 'una', 'ma', 'ed', 'se', 'perché', 'anche', 'come', 'dov', 'dove', 'che', 'chi', 'cui', 'non', 'più', 'quale', 'quanto', 'quanti', 'quanta', 'quante', 'quello', 'quelli', 'quella', 'quelle', 'questo', 'questi', 'questa', 'queste', 'si', 'tutto', 'tutti', 'a', 'c', 'e', 'i', 'l', 'o', 'ho', 'hai', 'ha', 'abbiamo', 'avete', 'hanno', 'abbia', 'abbiate', 'abbiano', 'avrò', 'avrai', 'avrà', 'avremo', 'avrete', 'avranno', 'avrei', 'avresti', 'avrebbe', 'avremmo', 'avreste', 'avrebbero', 'avevo', 'avevi', 'aveva', 'avevamo', 'avevate', 'avevano', 'ebbi', 'avesti', 'ebbe', 'avemmo', 'aveste', 'ebbero', 'avessi', 'avesse', 'avessimo', 'avessero', 'avendo', 'avuto', 'avuta', 'avuti', 'avute', 'sono', 'sei', 'è', 'siamo', 'siete', 'sia', 'siate', 'siano', 'sarò', 'sarai', 'sarà', 'saremo', 'sarete', 'saranno', 'sarei', 'saresti', 'sarebbe', 'saremmo', 'sareste', 'sarebbero', 'ero', 'eri', 'era', 'eravamo', 'eravate', 'erano', 'fui', 'fosti', 'fu', 'fummo', 'foste', 'furono', 'fossi', 'fosse', 'fossimo', 'fossero', 'essendo', 'faccio', 'fai', 'facciamo', 'fanno', 'faccia', 'facciate', 'facciano', 'farò', 'farai', 'farà', 'faremo', 'farete', 'faranno', 'farei', 'faresti', 'farebbe', 'faremmo', 'fareste', 'farebbero', 'facevo', 'facevi', 'faceva', 'facevamo', 'facevate', 'facevano', 'feci', 'facesti', 'fece', 'facemmo', 'faceste', 'fecero', 'facessi', 'facesse', 'facessimo', 'facessero', 'facendo', 'sto', 'stai', 'sta', 'stiamo', 'stanno', 'stia', 'stiate', 'stiano', 'starò', 'starai', 'starà', 'staremo', 'starete', 'staranno', 'starei', 'staresti', 'starebbe', 'staremmo', 'stareste', 'starebbero', 'stavo', 'stavi', 'stava', 'stavamo', 'stavate', 'stavano', 'stetti', 'stesti', 'stette', 'stemmo', 'steste', 'stettero', 'stessi', 'stesse', 'stessimo', 'stessero', 'stando']\n"
          ]
        },
        {
          "name": "stderr",
          "output_type": "stream",
          "text": [
            "[nltk_data] Downloading package stopwords to /root/nltk_data...\n",
            "[nltk_data]   Package stopwords is already up-to-date!\n"
          ]
        }
      ],
      "source": [
        "nltk.download('stopwords')\n",
        "\n",
        "stop = stopwords.words('english')\n",
        "print(f'there are {len(stop)} stopwords\\n')\n",
        "print(stop)\n",
        "\n",
        "stop = stopwords.words('italian')\n",
        "print(f'there are {len(stop)} stopwords\\n')\n",
        "print(stop)"
      ]
    },
    {
      "cell_type": "code",
      "execution_count": 86,
      "metadata": {
        "colab": {
          "base_uri": "https://localhost:8080/",
          "height": 0
        },
        "id": "vSqw_Lp0XzDf",
        "outputId": "2f4049bf-6e1f-4bb8-e625-6a9246aae97d"
      },
      "outputs": [
        {
          "name": "stdout",
          "output_type": "stream",
          "text": [
            "['The', 'quick', 'brown', 'fox', ',', 'jumps', 'over', ':', 'THE', 'LAZY', 'DOG', '.']\n",
            "['quick', 'brown', 'fox', ',', 'jumps', ':', 'LAZY', 'DOG', '.']\n",
            "['The', 'quick', 'brown', 'fox', ',', 'jumps', ':', 'THE', 'LAZY', 'DOG', '.']\n",
            "['the', 'quick', 'brown', 'fox', ',', 'jumps', 'over', ':', 'the', 'lazy', 'dog', '.']\n"
          ]
        }
      ],
      "source": [
        "stop = stopwords.words('english')\n",
        "# w/o stemming\n",
        "print(t_en)\n",
        "# lower words\n",
        "filtered_s = [w for w in t_en if not w.lower() in stop]\n",
        "print(filtered_s)\n",
        "# w/o lower words\n",
        "filtered_s2 = [w for w in t_en if not w in stop]\n",
        "print(filtered_s2)\n",
        "# stemming\n",
        "filtered_s3 = [stemmer.stem(w) for w in t_en]\n",
        "print(filtered_s3)"
      ]
    },
    {
      "cell_type": "code",
      "execution_count": 87,
      "metadata": {
        "colab": {
          "base_uri": "https://localhost:8080/",
          "height": 0
        },
        "id": "xPVMtZhz1YBD",
        "outputId": "e3873517-1df9-4b7c-bf1a-196c88bc99a6"
      },
      "outputs": [
        {
          "name": "stdout",
          "output_type": "stream",
          "text": [
            "['La', 'veloce', 'volpe', 'marrone', ',', 'salta', 'sopra', ':', 'IL', 'CANE', 'PIGRO', '.']\n",
            "['veloce', 'volpe', 'marrone', ',', 'salta', 'sopra', ':', 'CANE', 'PIGRO', '.']\n",
            "['La', 'veloce', 'volpe', 'marrone', ',', 'salta', 'sopra', ':', 'IL', 'CANE', 'PIGRO', '.']\n",
            "['la', 'veloc', 'volp', 'marron', ',', 'salt', 'sopr', ':', 'il', 'can', 'pigr', '.']\n"
          ]
        }
      ],
      "source": [
        "stop = stopwords.words('italian')\n",
        "# w/o stemming\n",
        "print(t_it)\n",
        "# lower words\n",
        "filtered_s = [w for w in t_it if not w.lower() in stop]\n",
        "print(filtered_s)\n",
        "# w/o lower words\n",
        "filtered_s2 = [w for w in t_it if not w in stop]\n",
        "print(filtered_s2)\n",
        "# stemming\n",
        "filtered_s3 = [stemmer.stem(w) for w in t_it]\n",
        "print(filtered_s3)"
      ]
    },
    {
      "cell_type": "code",
      "execution_count": 129,
      "metadata": {
        "colab": {
          "base_uri": "https://localhost:8080/",
          "height": 0
        },
        "id": "90idtJMXYl_L",
        "outputId": "03c38115-91dd-4a65-bcbf-18c9d583fe33"
      },
      "outputs": [
        {
          "name": "stdout",
          "output_type": "stream",
          "text": [
            "Alla #conversations di #fratellidindrangheta il grido di battaglia è: \"energia da liberare\". Speriamo che non caghino tutti insieme.😟😂 [URL]\n",
            "['Alla', 'conversations', 'di', 'fratellidindrangheta', 'il', 'grido', 'di', 'battaglia', 'è', 'energia', 'da', 'liberare', 'Speriamo', 'che', 'non', 'caghino', 'tutti', 'insieme', 'URL']\n",
            "['conversations', 'fratellidindrangheta', 'grido', 'battaglia', 'energia', 'liberare', 'Speriamo', 'caghino', 'insieme', 'URL']\n",
            "['conversations', 'fratellidindranghet', 'grid', 'battagl', 'energ', 'liber', 'sper', 'caghin', 'insiem', 'url']\n"
          ]
        }
      ],
      "source": [
        "# tokenization over dataset\n",
        "df['tokenized'] = df['text'].apply(lambda x: nltk.word_tokenize(re.sub(r'[^\\w]+', ' ', x)))\n",
        "# removing stopwords over dataset\n",
        "df['filtered'] = df['tokenized'].apply(lambda x: [w for w in x if not w.lower() in stop])\n",
        "# stemming over dataset\n",
        "df['stemmed'] = df['filtered'].apply(lambda x: [stemmer.stem(w) for w in x])\n",
        "\n",
        "print(df.at[7, 'text'])\n",
        "print(df.at[7, 'tokenized'])\n",
        "print(df.at[7, 'filtered'])\n",
        "print(df.at[7, 'stemmed'])"
      ]
    },
    {
      "cell_type": "markdown",
      "metadata": {
        "id": "lUzb3dXPGfmi"
      },
      "source": [
        "**N-grams**"
      ]
    },
    {
      "cell_type": "code",
      "execution_count": 133,
      "metadata": {
        "colab": {
          "base_uri": "https://localhost:8080/",
          "height": 0
        },
        "id": "Lw9V859TZQHK",
        "outputId": "55da43d4-0ddd-4b49-a478-41ed3dc66ca3"
      },
      "outputs": [
        {
          "name": "stdout",
          "output_type": "stream",
          "text": [
            "['conversations', 'fratellidindranghet', 'grid', 'battagl', 'energ', 'liber', 'sper', 'caghin', 'insiem', 'url']\n",
            "[('conversations', 'fratellidindranghet', 'grid'), ('fratellidindranghet', 'grid', 'battagl'), ('grid', 'battagl', 'energ'), ('battagl', 'energ', 'liber'), ('energ', 'liber', 'sper'), ('liber', 'sper', 'caghin'), ('sper', 'caghin', 'insiem'), ('caghin', 'insiem', 'url')]\n"
          ]
        }
      ],
      "source": [
        "print(df.at[7, 'stemmed'])\n",
        "\n",
        "# generate bigrams/trigrams\n",
        "ngrams = list(nltk.ngrams(df.at[7, 'stemmed'], 3))\n",
        "\n",
        "print(ngrams)"
      ]
    },
    {
      "cell_type": "code",
      "execution_count": 92,
      "metadata": {
        "colab": {
          "base_uri": "https://localhost:8080/",
          "height": 0
        },
        "id": "WuEGwsCdbXNW",
        "outputId": "ec5216b6-f46f-4472-f52f-ae25317f4a89"
      },
      "outputs": [
        {
          "name": "stdout",
          "output_type": "stream",
          "text": [
            "['user_abcdefgh', 'user_abcdefghij', 'Lesbiche', 'Non', 'lo', 'so', 'Per', 'me', 'sono', 'solo', 'delle', 'squadriste', 'rosse']\n",
            "user_abcdefgh user_abcdefghij Lesbiche Non lo so Per me sono solo delle squadriste rosse\n",
            "['user_abcdefgh', 'user_abcdefghij', 'Lesbiche', 'so', 'me', 'solo', 'squadriste', 'rosse']\n",
            "user_abcdefgh user_abcdefghij Lesbiche so me solo squadriste rosse\n",
            "['user_abcdefg', 'user_abcdefghij', 'lesbic', 'so', 'me', 'sol', 'squadrist', 'ross']\n",
            "user_abcdefg user_abcdefghij lesbic so me sol squadrist ross\n"
          ]
        }
      ],
      "source": [
        "# nel dataframe i nostri input devono essere dei testi e non delle liste\n",
        "# concateniamo quindi gli elementi delle liste con la funzione join in modo da avere solo stringe\n",
        "\n",
        "df['tokenized_text'] = df['tokenized'].apply(lambda x: \" \".join(x))\n",
        "df['filtered_text'] = df['filtered'].apply(lambda x: \" \".join(x))\n",
        "df['cured_text'] = df['stemmed'].apply(lambda x: \" \".join(x))\n",
        "\n",
        "print(df.at[4998, 'tokenized'])\n",
        "print(df.at[4998, 'tokenized_text'])\n",
        "\n",
        "print(df.at[4998, 'filtered'])\n",
        "print(df.at[4998, 'filtered_text'])\n",
        "\n",
        "print(df.at[4998, 'stemmed'])\n",
        "print(df.at[4998, 'cured_text'])"
      ]
    },
    {
      "cell_type": "code",
      "execution_count": 93,
      "metadata": {
        "colab": {
          "base_uri": "https://localhost:8080/",
          "height": 467
        },
        "id": "_K2jqCxqcTH0",
        "outputId": "188bf4f9-93c0-4a27-cc1f-af0753095f5d"
      },
      "outputs": [
        {
          "data": {
            "application/vnd.google.colaboratory.intrinsic+json": {
              "summary": "{\n  \"name\": \"df\",\n  \"rows\": 5000,\n  \"fields\": [\n    {\n      \"column\": \"id\",\n      \"properties\": {\n        \"dtype\": \"number\",\n        \"std\": 1443,\n        \"min\": 1,\n        \"max\": 5000,\n        \"num_unique_values\": 5000,\n        \"samples\": [\n          1502,\n          2587,\n          2654\n        ],\n        \"semantic_type\": \"\",\n        \"description\": \"\"\n      }\n    },\n    {\n      \"column\": \"text\",\n      \"properties\": {\n        \"dtype\": \"string\",\n        \"num_unique_values\": 5000,\n        \"samples\": [\n          \"Non accetti la sconfitta mica lui \\u00e8 ricchione.\",\n          \"@user_abc @user_abcdefghi lei ti chiamerebbe rottinculo so what\",\n          \"@user_abc Altre palle Altre prese oer il culo Non verr\\u00e0 Navas , non verr\\u00e0 Djbala al massimo Sineone x Petagna , rinnova Mertens , Nandez x Demme . Acerbi Ostigard o qualche svincolato in stile Juan Jesus Avete rotto le palle\"\n        ],\n        \"semantic_type\": \"\",\n        \"description\": \"\"\n      }\n    },\n    {\n      \"column\": \"homotransphobic\",\n      \"properties\": {\n        \"dtype\": \"number\",\n        \"std\": 0,\n        \"min\": 0,\n        \"max\": 1,\n        \"num_unique_values\": 2,\n        \"samples\": [\n          1,\n          0\n        ],\n        \"semantic_type\": \"\",\n        \"description\": \"\"\n      }\n    },\n    {\n      \"column\": \"tokenized\",\n      \"properties\": {\n        \"dtype\": \"object\",\n        \"semantic_type\": \"\",\n        \"description\": \"\"\n      }\n    },\n    {\n      \"column\": \"filtered\",\n      \"properties\": {\n        \"dtype\": \"object\",\n        \"semantic_type\": \"\",\n        \"description\": \"\"\n      }\n    },\n    {\n      \"column\": \"stemmed\",\n      \"properties\": {\n        \"dtype\": \"object\",\n        \"semantic_type\": \"\",\n        \"description\": \"\"\n      }\n    },\n    {\n      \"column\": \"tokenized_text\",\n      \"properties\": {\n        \"dtype\": \"string\",\n        \"num_unique_values\": 5000,\n        \"samples\": [\n          \"Non accetti la sconfitta mica lui \\u00e8 ricchione\",\n          \"user_abc user_abcdefghi lei ti chiamerebbe rottinculo so what\"\n        ],\n        \"semantic_type\": \"\",\n        \"description\": \"\"\n      }\n    },\n    {\n      \"column\": \"filtered_text\",\n      \"properties\": {\n        \"dtype\": \"string\",\n        \"num_unique_values\": 5000,\n        \"samples\": [\n          \"accetti sconfitta mica ricchione\",\n          \"user_abc user_abcdefghi chiamerebbe rottinculo so what\"\n        ],\n        \"semantic_type\": \"\",\n        \"description\": \"\"\n      }\n    },\n    {\n      \"column\": \"cured_text\",\n      \"properties\": {\n        \"dtype\": \"string\",\n        \"num_unique_values\": 4999,\n        \"samples\": [\n          \"cia tutt perosn ier rott cazz pancett cul pigiam url\",\n          \"rai pigl cul pass interv elis domen cazz\"\n        ],\n        \"semantic_type\": \"\",\n        \"description\": \"\"\n      }\n    }\n  ]\n}",
              "type": "dataframe",
              "variable_name": "df"
            },
            "text/html": [
              "\n",
              "  <div id=\"df-4fe74775-6020-455c-a23e-bc157a0f23a0\" class=\"colab-df-container\">\n",
              "    <div>\n",
              "<style scoped>\n",
              "    .dataframe tbody tr th:only-of-type {\n",
              "        vertical-align: middle;\n",
              "    }\n",
              "\n",
              "    .dataframe tbody tr th {\n",
              "        vertical-align: top;\n",
              "    }\n",
              "\n",
              "    .dataframe thead th {\n",
              "        text-align: right;\n",
              "    }\n",
              "</style>\n",
              "<table border=\"1\" class=\"dataframe\">\n",
              "  <thead>\n",
              "    <tr style=\"text-align: right;\">\n",
              "      <th></th>\n",
              "      <th>id</th>\n",
              "      <th>text</th>\n",
              "      <th>homotransphobic</th>\n",
              "      <th>tokenized</th>\n",
              "      <th>filtered</th>\n",
              "      <th>stemmed</th>\n",
              "      <th>tokenized_text</th>\n",
              "      <th>filtered_text</th>\n",
              "      <th>cured_text</th>\n",
              "    </tr>\n",
              "  </thead>\n",
              "  <tbody>\n",
              "    <tr>\n",
              "      <th>0</th>\n",
              "      <td>1</td>\n",
              "      <td>Hanno rotto le #palle con i €compleanni a #dop...</td>\n",
              "      <td>0</td>\n",
              "      <td>[Hanno, rotto, le, palle, con, i, compleanni, ...</td>\n",
              "      <td>[rotto, palle, compleanni, doppio, leoanrdo, c...</td>\n",
              "      <td>[rott, pall, compleann, dopp, leoanrd, cio, le...</td>\n",
              "      <td>Hanno rotto le palle con i compleanni a doppio...</td>\n",
              "      <td>rotto palle compleanni doppio leoanrdo cioè le...</td>\n",
              "      <td>rott pall compleann dopp leoanrd cio leoanrd d...</td>\n",
              "    </tr>\n",
              "    <tr>\n",
              "      <th>1</th>\n",
              "      <td>2</td>\n",
              "      <td>@user_abc Avete rotto,come potete prendere se ...</td>\n",
              "      <td>0</td>\n",
              "      <td>[user_abc, Avete, rotto, come, potete, prender...</td>\n",
              "      <td>[user_abc, rotto, potete, prendere, pubblicità...</td>\n",
              "      <td>[user_abc, rott, pot, prend, pubblic, fat, tut...</td>\n",
              "      <td>user_abc Avete rotto come potete prendere se l...</td>\n",
              "      <td>user_abc rotto potete prendere pubblicità fate...</td>\n",
              "      <td>user_abc rott pot prend pubblic fat tutt negat...</td>\n",
              "    </tr>\n",
              "    <tr>\n",
              "      <th>2</th>\n",
              "      <td>3</td>\n",
              "      <td>Guevara si è rotto il cazzo e ha mandato a far...</td>\n",
              "      <td>0</td>\n",
              "      <td>[Guevara, si, è, rotto, il, cazzo, e, ha, mand...</td>\n",
              "      <td>[Guevara, rotto, cazzo, mandato, fare, culo, M...</td>\n",
              "      <td>[guevar, rott, cazz, mand, far, cul, mas, incr...</td>\n",
              "      <td>Guevara si è rotto il cazzo e ha mandato a far...</td>\n",
              "      <td>Guevara rotto cazzo mandato fare culo Masia In...</td>\n",
              "      <td>guevar rott cazz mand far cul mas incred capac...</td>\n",
              "    </tr>\n",
              "    <tr>\n",
              "      <th>3</th>\n",
              "      <td>4</td>\n",
              "      <td>@user_abcd Se io volessi entrare in un bar con...</td>\n",
              "      <td>0</td>\n",
              "      <td>[user_abcd, Se, io, volessi, entrare, in, un, ...</td>\n",
              "      <td>[user_abcd, volessi, entrare, bar, trombetta, ...</td>\n",
              "      <td>[user_abcd, voless, entrar, bar, trombett, cul...</td>\n",
              "      <td>user_abcd Se io volessi entrare in un bar con ...</td>\n",
              "      <td>user_abcd volessi entrare bar trombetta culo l...</td>\n",
              "      <td>user_abcd voless entrar bar trombett cul lev r...</td>\n",
              "    </tr>\n",
              "    <tr>\n",
              "      <th>4</th>\n",
              "      <td>5</td>\n",
              "      <td>@user_abcdef @user_abc @user_abcdefgh Ok nessu...</td>\n",
              "      <td>0</td>\n",
              "      <td>[user_abcdef, user_abc, user_abcdefgh, Ok, nes...</td>\n",
              "      <td>[user_abcdef, user_abc, user_abcdefgh, Ok, nes...</td>\n",
              "      <td>[user_abcdef, user_abc, user_abcdefg, ok, ness...</td>\n",
              "      <td>user_abcdef user_abc user_abcdefgh Ok nessuno ...</td>\n",
              "      <td>user_abcdef user_abc user_abcdefgh Ok nessuno ...</td>\n",
              "      <td>user_abcdef user_abc user_abcdefg ok nessun di...</td>\n",
              "    </tr>\n",
              "  </tbody>\n",
              "</table>\n",
              "</div>\n",
              "    <div class=\"colab-df-buttons\">\n",
              "\n",
              "  <div class=\"colab-df-container\">\n",
              "    <button class=\"colab-df-convert\" onclick=\"convertToInteractive('df-4fe74775-6020-455c-a23e-bc157a0f23a0')\"\n",
              "            title=\"Convert this dataframe to an interactive table.\"\n",
              "            style=\"display:none;\">\n",
              "\n",
              "  <svg xmlns=\"http://www.w3.org/2000/svg\" height=\"24px\" viewBox=\"0 -960 960 960\">\n",
              "    <path d=\"M120-120v-720h720v720H120Zm60-500h600v-160H180v160Zm220 220h160v-160H400v160Zm0 220h160v-160H400v160ZM180-400h160v-160H180v160Zm440 0h160v-160H620v160ZM180-180h160v-160H180v160Zm440 0h160v-160H620v160Z\"/>\n",
              "  </svg>\n",
              "    </button>\n",
              "\n",
              "  <style>\n",
              "    .colab-df-container {\n",
              "      display:flex;\n",
              "      gap: 12px;\n",
              "    }\n",
              "\n",
              "    .colab-df-convert {\n",
              "      background-color: #E8F0FE;\n",
              "      border: none;\n",
              "      border-radius: 50%;\n",
              "      cursor: pointer;\n",
              "      display: none;\n",
              "      fill: #1967D2;\n",
              "      height: 32px;\n",
              "      padding: 0 0 0 0;\n",
              "      width: 32px;\n",
              "    }\n",
              "\n",
              "    .colab-df-convert:hover {\n",
              "      background-color: #E2EBFA;\n",
              "      box-shadow: 0px 1px 2px rgba(60, 64, 67, 0.3), 0px 1px 3px 1px rgba(60, 64, 67, 0.15);\n",
              "      fill: #174EA6;\n",
              "    }\n",
              "\n",
              "    .colab-df-buttons div {\n",
              "      margin-bottom: 4px;\n",
              "    }\n",
              "\n",
              "    [theme=dark] .colab-df-convert {\n",
              "      background-color: #3B4455;\n",
              "      fill: #D2E3FC;\n",
              "    }\n",
              "\n",
              "    [theme=dark] .colab-df-convert:hover {\n",
              "      background-color: #434B5C;\n",
              "      box-shadow: 0px 1px 3px 1px rgba(0, 0, 0, 0.15);\n",
              "      filter: drop-shadow(0px 1px 2px rgba(0, 0, 0, 0.3));\n",
              "      fill: #FFFFFF;\n",
              "    }\n",
              "  </style>\n",
              "\n",
              "    <script>\n",
              "      const buttonEl =\n",
              "        document.querySelector('#df-4fe74775-6020-455c-a23e-bc157a0f23a0 button.colab-df-convert');\n",
              "      buttonEl.style.display =\n",
              "        google.colab.kernel.accessAllowed ? 'block' : 'none';\n",
              "\n",
              "      async function convertToInteractive(key) {\n",
              "        const element = document.querySelector('#df-4fe74775-6020-455c-a23e-bc157a0f23a0');\n",
              "        const dataTable =\n",
              "          await google.colab.kernel.invokeFunction('convertToInteractive',\n",
              "                                                    [key], {});\n",
              "        if (!dataTable) return;\n",
              "\n",
              "        const docLinkHtml = 'Like what you see? Visit the ' +\n",
              "          '<a target=\"_blank\" href=https://colab.research.google.com/notebooks/data_table.ipynb>data table notebook</a>'\n",
              "          + ' to learn more about interactive tables.';\n",
              "        element.innerHTML = '';\n",
              "        dataTable['output_type'] = 'display_data';\n",
              "        await google.colab.output.renderOutput(dataTable, element);\n",
              "        const docLink = document.createElement('div');\n",
              "        docLink.innerHTML = docLinkHtml;\n",
              "        element.appendChild(docLink);\n",
              "      }\n",
              "    </script>\n",
              "  </div>\n",
              "\n",
              "\n",
              "    <div id=\"df-3858a064-d055-4ad4-9281-ba016852d027\">\n",
              "      <button class=\"colab-df-quickchart\" onclick=\"quickchart('df-3858a064-d055-4ad4-9281-ba016852d027')\"\n",
              "                title=\"Suggest charts\"\n",
              "                style=\"display:none;\">\n",
              "\n",
              "<svg xmlns=\"http://www.w3.org/2000/svg\" height=\"24px\"viewBox=\"0 0 24 24\"\n",
              "     width=\"24px\">\n",
              "    <g>\n",
              "        <path d=\"M19 3H5c-1.1 0-2 .9-2 2v14c0 1.1.9 2 2 2h14c1.1 0 2-.9 2-2V5c0-1.1-.9-2-2-2zM9 17H7v-7h2v7zm4 0h-2V7h2v10zm4 0h-2v-4h2v4z\"/>\n",
              "    </g>\n",
              "</svg>\n",
              "      </button>\n",
              "\n",
              "<style>\n",
              "  .colab-df-quickchart {\n",
              "      --bg-color: #E8F0FE;\n",
              "      --fill-color: #1967D2;\n",
              "      --hover-bg-color: #E2EBFA;\n",
              "      --hover-fill-color: #174EA6;\n",
              "      --disabled-fill-color: #AAA;\n",
              "      --disabled-bg-color: #DDD;\n",
              "  }\n",
              "\n",
              "  [theme=dark] .colab-df-quickchart {\n",
              "      --bg-color: #3B4455;\n",
              "      --fill-color: #D2E3FC;\n",
              "      --hover-bg-color: #434B5C;\n",
              "      --hover-fill-color: #FFFFFF;\n",
              "      --disabled-bg-color: #3B4455;\n",
              "      --disabled-fill-color: #666;\n",
              "  }\n",
              "\n",
              "  .colab-df-quickchart {\n",
              "    background-color: var(--bg-color);\n",
              "    border: none;\n",
              "    border-radius: 50%;\n",
              "    cursor: pointer;\n",
              "    display: none;\n",
              "    fill: var(--fill-color);\n",
              "    height: 32px;\n",
              "    padding: 0;\n",
              "    width: 32px;\n",
              "  }\n",
              "\n",
              "  .colab-df-quickchart:hover {\n",
              "    background-color: var(--hover-bg-color);\n",
              "    box-shadow: 0 1px 2px rgba(60, 64, 67, 0.3), 0 1px 3px 1px rgba(60, 64, 67, 0.15);\n",
              "    fill: var(--button-hover-fill-color);\n",
              "  }\n",
              "\n",
              "  .colab-df-quickchart-complete:disabled,\n",
              "  .colab-df-quickchart-complete:disabled:hover {\n",
              "    background-color: var(--disabled-bg-color);\n",
              "    fill: var(--disabled-fill-color);\n",
              "    box-shadow: none;\n",
              "  }\n",
              "\n",
              "  .colab-df-spinner {\n",
              "    border: 2px solid var(--fill-color);\n",
              "    border-color: transparent;\n",
              "    border-bottom-color: var(--fill-color);\n",
              "    animation:\n",
              "      spin 1s steps(1) infinite;\n",
              "  }\n",
              "\n",
              "  @keyframes spin {\n",
              "    0% {\n",
              "      border-color: transparent;\n",
              "      border-bottom-color: var(--fill-color);\n",
              "      border-left-color: var(--fill-color);\n",
              "    }\n",
              "    20% {\n",
              "      border-color: transparent;\n",
              "      border-left-color: var(--fill-color);\n",
              "      border-top-color: var(--fill-color);\n",
              "    }\n",
              "    30% {\n",
              "      border-color: transparent;\n",
              "      border-left-color: var(--fill-color);\n",
              "      border-top-color: var(--fill-color);\n",
              "      border-right-color: var(--fill-color);\n",
              "    }\n",
              "    40% {\n",
              "      border-color: transparent;\n",
              "      border-right-color: var(--fill-color);\n",
              "      border-top-color: var(--fill-color);\n",
              "    }\n",
              "    60% {\n",
              "      border-color: transparent;\n",
              "      border-right-color: var(--fill-color);\n",
              "    }\n",
              "    80% {\n",
              "      border-color: transparent;\n",
              "      border-right-color: var(--fill-color);\n",
              "      border-bottom-color: var(--fill-color);\n",
              "    }\n",
              "    90% {\n",
              "      border-color: transparent;\n",
              "      border-bottom-color: var(--fill-color);\n",
              "    }\n",
              "  }\n",
              "</style>\n",
              "\n",
              "      <script>\n",
              "        async function quickchart(key) {\n",
              "          const quickchartButtonEl =\n",
              "            document.querySelector('#' + key + ' button');\n",
              "          quickchartButtonEl.disabled = true;  // To prevent multiple clicks.\n",
              "          quickchartButtonEl.classList.add('colab-df-spinner');\n",
              "          try {\n",
              "            const charts = await google.colab.kernel.invokeFunction(\n",
              "                'suggestCharts', [key], {});\n",
              "          } catch (error) {\n",
              "            console.error('Error during call to suggestCharts:', error);\n",
              "          }\n",
              "          quickchartButtonEl.classList.remove('colab-df-spinner');\n",
              "          quickchartButtonEl.classList.add('colab-df-quickchart-complete');\n",
              "        }\n",
              "        (() => {\n",
              "          let quickchartButtonEl =\n",
              "            document.querySelector('#df-3858a064-d055-4ad4-9281-ba016852d027 button');\n",
              "          quickchartButtonEl.style.display =\n",
              "            google.colab.kernel.accessAllowed ? 'block' : 'none';\n",
              "        })();\n",
              "      </script>\n",
              "    </div>\n",
              "\n",
              "    </div>\n",
              "  </div>\n"
            ],
            "text/plain": [
              "   id                                               text  homotransphobic  \\\n",
              "0   1  Hanno rotto le #palle con i €compleanni a #dop...                0   \n",
              "1   2  @user_abc Avete rotto,come potete prendere se ...                0   \n",
              "2   3  Guevara si è rotto il cazzo e ha mandato a far...                0   \n",
              "3   4  @user_abcd Se io volessi entrare in un bar con...                0   \n",
              "4   5  @user_abcdef @user_abc @user_abcdefgh Ok nessu...                0   \n",
              "\n",
              "                                           tokenized  \\\n",
              "0  [Hanno, rotto, le, palle, con, i, compleanni, ...   \n",
              "1  [user_abc, Avete, rotto, come, potete, prender...   \n",
              "2  [Guevara, si, è, rotto, il, cazzo, e, ha, mand...   \n",
              "3  [user_abcd, Se, io, volessi, entrare, in, un, ...   \n",
              "4  [user_abcdef, user_abc, user_abcdefgh, Ok, nes...   \n",
              "\n",
              "                                            filtered  \\\n",
              "0  [rotto, palle, compleanni, doppio, leoanrdo, c...   \n",
              "1  [user_abc, rotto, potete, prendere, pubblicità...   \n",
              "2  [Guevara, rotto, cazzo, mandato, fare, culo, M...   \n",
              "3  [user_abcd, volessi, entrare, bar, trombetta, ...   \n",
              "4  [user_abcdef, user_abc, user_abcdefgh, Ok, nes...   \n",
              "\n",
              "                                             stemmed  \\\n",
              "0  [rott, pall, compleann, dopp, leoanrd, cio, le...   \n",
              "1  [user_abc, rott, pot, prend, pubblic, fat, tut...   \n",
              "2  [guevar, rott, cazz, mand, far, cul, mas, incr...   \n",
              "3  [user_abcd, voless, entrar, bar, trombett, cul...   \n",
              "4  [user_abcdef, user_abc, user_abcdefg, ok, ness...   \n",
              "\n",
              "                                      tokenized_text  \\\n",
              "0  Hanno rotto le palle con i compleanni a doppio...   \n",
              "1  user_abc Avete rotto come potete prendere se l...   \n",
              "2  Guevara si è rotto il cazzo e ha mandato a far...   \n",
              "3  user_abcd Se io volessi entrare in un bar con ...   \n",
              "4  user_abcdef user_abc user_abcdefgh Ok nessuno ...   \n",
              "\n",
              "                                       filtered_text  \\\n",
              "0  rotto palle compleanni doppio leoanrdo cioè le...   \n",
              "1  user_abc rotto potete prendere pubblicità fate...   \n",
              "2  Guevara rotto cazzo mandato fare culo Masia In...   \n",
              "3  user_abcd volessi entrare bar trombetta culo l...   \n",
              "4  user_abcdef user_abc user_abcdefgh Ok nessuno ...   \n",
              "\n",
              "                                          cured_text  \n",
              "0  rott pall compleann dopp leoanrd cio leoanrd d...  \n",
              "1  user_abc rott pot prend pubblic fat tutt negat...  \n",
              "2  guevar rott cazz mand far cul mas incred capac...  \n",
              "3  user_abcd voless entrar bar trombett cul lev r...  \n",
              "4  user_abcdef user_abc user_abcdefg ok nessun di...  "
            ]
          },
          "execution_count": 93,
          "metadata": {},
          "output_type": "execute_result"
        }
      ],
      "source": [
        "df.head()"
      ]
    },
    {
      "cell_type": "code",
      "execution_count": 100,
      "metadata": {
        "colab": {
          "base_uri": "https://localhost:8080/",
          "height": 0
        },
        "id": "n-IPMMVDciL2",
        "outputId": "166e6506-c31a-4104-cf7e-b0df39b4717a"
      },
      "outputs": [
        {
          "name": "stdout",
          "output_type": "stream",
          "text": [
            "4000 4000\n",
            "1000 1000\n"
          ]
        }
      ],
      "source": [
        "(x_train, x_test, y_train, y_test) = sklearn.model_selection.train_test_split(df['cured_text'], df['homotransphobic'], test_size = 0.2, random_state = 17)\n",
        "\n",
        "print(len(x_train), len(y_train))\n",
        "print(len(x_test), len(y_test))"
      ]
    },
    {
      "cell_type": "code",
      "execution_count": 101,
      "metadata": {
        "id": "IE2ru3TEdV5_"
      },
      "outputs": [],
      "source": [
        "# oltre ad usare NLTK, possiamo usare CountVectorizer di sklearn per generare i\n",
        "# ngrams ma questo metodo implementa anche una vettorizzazione, che ci serve\n",
        "# per la successiva fase di classificazione\n",
        "\n",
        "# https://scikit-learn.org/stable/modules/generated/sklearn.feature_extraction.text.CountVectorizer.html\n",
        "\n",
        "vectorizer = sklearn.feature_extraction.text.CountVectorizer(ngram_range=(2,2))\n",
        "X_train = vectorizer.fit_transform(x_train)\n",
        "X_test = vectorizer.transform(x_test)"
      ]
    },
    {
      "cell_type": "code",
      "execution_count": 102,
      "metadata": {
        "colab": {
          "base_uri": "https://localhost:8080/",
          "height": 0
        },
        "id": "UTpUsiy6elaE",
        "outputId": "bdac53c9-2bde-4695-9a54-d61da6f7399b"
      },
      "outputs": [
        {
          "name": "stdout",
          "output_type": "stream",
          "text": [
            "(4000, 42097)\n",
            "(1000, 42097)\n"
          ]
        }
      ],
      "source": [
        "print(X_train.shape)\n",
        "print(X_test.shape)\n",
        "\n",
        "# la seconda dimensione è la grandezza del vocabolario/feature"
      ]
    },
    {
      "cell_type": "code",
      "execution_count": 103,
      "metadata": {
        "colab": {
          "base_uri": "https://localhost:8080/",
          "height": 0
        },
        "id": "v9uRu2TnfUL1",
        "outputId": "696fbe5b-3446-48ec-ee6b-df12218ece6c"
      },
      "outputs": [
        {
          "name": "stdout",
          "output_type": "stream",
          "text": [
            "['00 13' '00 luc' '000 eur' ... 'جنسيا merd' 'شاذ جنسيا'\n",
            " '방탄의_수고는_아미가_알아 diocan']\n",
            "[[0 0 0 ... 0 0 0]]\n"
          ]
        }
      ],
      "source": [
        "# overview delle feature/elementi del vocabolario, tutti gli n-gramns generati a partire dal training set\n",
        "print(vectorizer.get_feature_names_out())\n",
        "#versione vettoriale del primo sample\n",
        "print(X_train[0].toarray())\n",
        "# è un vettore riga in \"one-hot encoding\" ma ho le frequenze"
      ]
    },
    {
      "cell_type": "code",
      "execution_count": 104,
      "metadata": {
        "colab": {
          "base_uri": "https://localhost:8080/",
          "height": 0
        },
        "id": "QqrqqMQwfCF7",
        "outputId": "7faa910e-b032-4d1d-a9f7-c3b6e15326b5"
      },
      "outputs": [
        {
          "name": "stdout",
          "output_type": "stream",
          "text": [
            "<Compressed Sparse Row sparse matrix of dtype 'int64'\n",
            "\twith 12 stored elements and shape (1, 42097)>\n",
            "  Coords\tValues\n",
            "  (0, 39331)\t1\n",
            "  (0, 3521)\t1\n",
            "  (0, 16842)\t1\n",
            "  (0, 26668)\t1\n",
            "  (0, 12939)\t1\n",
            "  (0, 14272)\t1\n",
            "  (0, 35718)\t1\n",
            "  (0, 24032)\t1\n",
            "  (0, 8451)\t1\n",
            "  (0, 34869)\t1\n",
            "  (0, 4728)\t1\n",
            "  (0, 21945)\t1\n"
          ]
        }
      ],
      "source": [
        "for element in X_train[0]:\n",
        "    print(element)"
      ]
    },
    {
      "cell_type": "code",
      "execution_count": 105,
      "metadata": {
        "colab": {
          "base_uri": "https://localhost:8080/",
          "height": 80
        },
        "id": "U12bPAeYf1_P",
        "outputId": "67777ec5-45f0-4379-fe85-833ff8acb90b"
      },
      "outputs": [
        {
          "data": {
            "text/html": [
              "<style>#sk-container-id-1 {\n",
              "  /* Definition of color scheme common for light and dark mode */\n",
              "  --sklearn-color-text: #000;\n",
              "  --sklearn-color-text-muted: #666;\n",
              "  --sklearn-color-line: gray;\n",
              "  /* Definition of color scheme for unfitted estimators */\n",
              "  --sklearn-color-unfitted-level-0: #fff5e6;\n",
              "  --sklearn-color-unfitted-level-1: #f6e4d2;\n",
              "  --sklearn-color-unfitted-level-2: #ffe0b3;\n",
              "  --sklearn-color-unfitted-level-3: chocolate;\n",
              "  /* Definition of color scheme for fitted estimators */\n",
              "  --sklearn-color-fitted-level-0: #f0f8ff;\n",
              "  --sklearn-color-fitted-level-1: #d4ebff;\n",
              "  --sklearn-color-fitted-level-2: #b3dbfd;\n",
              "  --sklearn-color-fitted-level-3: cornflowerblue;\n",
              "\n",
              "  /* Specific color for light theme */\n",
              "  --sklearn-color-text-on-default-background: var(--sg-text-color, var(--theme-code-foreground, var(--jp-content-font-color1, black)));\n",
              "  --sklearn-color-background: var(--sg-background-color, var(--theme-background, var(--jp-layout-color0, white)));\n",
              "  --sklearn-color-border-box: var(--sg-text-color, var(--theme-code-foreground, var(--jp-content-font-color1, black)));\n",
              "  --sklearn-color-icon: #696969;\n",
              "\n",
              "  @media (prefers-color-scheme: dark) {\n",
              "    /* Redefinition of color scheme for dark theme */\n",
              "    --sklearn-color-text-on-default-background: var(--sg-text-color, var(--theme-code-foreground, var(--jp-content-font-color1, white)));\n",
              "    --sklearn-color-background: var(--sg-background-color, var(--theme-background, var(--jp-layout-color0, #111)));\n",
              "    --sklearn-color-border-box: var(--sg-text-color, var(--theme-code-foreground, var(--jp-content-font-color1, white)));\n",
              "    --sklearn-color-icon: #878787;\n",
              "  }\n",
              "}\n",
              "\n",
              "#sk-container-id-1 {\n",
              "  color: var(--sklearn-color-text);\n",
              "}\n",
              "\n",
              "#sk-container-id-1 pre {\n",
              "  padding: 0;\n",
              "}\n",
              "\n",
              "#sk-container-id-1 input.sk-hidden--visually {\n",
              "  border: 0;\n",
              "  clip: rect(1px 1px 1px 1px);\n",
              "  clip: rect(1px, 1px, 1px, 1px);\n",
              "  height: 1px;\n",
              "  margin: -1px;\n",
              "  overflow: hidden;\n",
              "  padding: 0;\n",
              "  position: absolute;\n",
              "  width: 1px;\n",
              "}\n",
              "\n",
              "#sk-container-id-1 div.sk-dashed-wrapped {\n",
              "  border: 1px dashed var(--sklearn-color-line);\n",
              "  margin: 0 0.4em 0.5em 0.4em;\n",
              "  box-sizing: border-box;\n",
              "  padding-bottom: 0.4em;\n",
              "  background-color: var(--sklearn-color-background);\n",
              "}\n",
              "\n",
              "#sk-container-id-1 div.sk-container {\n",
              "  /* jupyter's `normalize.less` sets `[hidden] { display: none; }`\n",
              "     but bootstrap.min.css set `[hidden] { display: none !important; }`\n",
              "     so we also need the `!important` here to be able to override the\n",
              "     default hidden behavior on the sphinx rendered scikit-learn.org.\n",
              "     See: https://github.com/scikit-learn/scikit-learn/issues/21755 */\n",
              "  display: inline-block !important;\n",
              "  position: relative;\n",
              "}\n",
              "\n",
              "#sk-container-id-1 div.sk-text-repr-fallback {\n",
              "  display: none;\n",
              "}\n",
              "\n",
              "div.sk-parallel-item,\n",
              "div.sk-serial,\n",
              "div.sk-item {\n",
              "  /* draw centered vertical line to link estimators */\n",
              "  background-image: linear-gradient(var(--sklearn-color-text-on-default-background), var(--sklearn-color-text-on-default-background));\n",
              "  background-size: 2px 100%;\n",
              "  background-repeat: no-repeat;\n",
              "  background-position: center center;\n",
              "}\n",
              "\n",
              "/* Parallel-specific style estimator block */\n",
              "\n",
              "#sk-container-id-1 div.sk-parallel-item::after {\n",
              "  content: \"\";\n",
              "  width: 100%;\n",
              "  border-bottom: 2px solid var(--sklearn-color-text-on-default-background);\n",
              "  flex-grow: 1;\n",
              "}\n",
              "\n",
              "#sk-container-id-1 div.sk-parallel {\n",
              "  display: flex;\n",
              "  align-items: stretch;\n",
              "  justify-content: center;\n",
              "  background-color: var(--sklearn-color-background);\n",
              "  position: relative;\n",
              "}\n",
              "\n",
              "#sk-container-id-1 div.sk-parallel-item {\n",
              "  display: flex;\n",
              "  flex-direction: column;\n",
              "}\n",
              "\n",
              "#sk-container-id-1 div.sk-parallel-item:first-child::after {\n",
              "  align-self: flex-end;\n",
              "  width: 50%;\n",
              "}\n",
              "\n",
              "#sk-container-id-1 div.sk-parallel-item:last-child::after {\n",
              "  align-self: flex-start;\n",
              "  width: 50%;\n",
              "}\n",
              "\n",
              "#sk-container-id-1 div.sk-parallel-item:only-child::after {\n",
              "  width: 0;\n",
              "}\n",
              "\n",
              "/* Serial-specific style estimator block */\n",
              "\n",
              "#sk-container-id-1 div.sk-serial {\n",
              "  display: flex;\n",
              "  flex-direction: column;\n",
              "  align-items: center;\n",
              "  background-color: var(--sklearn-color-background);\n",
              "  padding-right: 1em;\n",
              "  padding-left: 1em;\n",
              "}\n",
              "\n",
              "\n",
              "/* Toggleable style: style used for estimator/Pipeline/ColumnTransformer box that is\n",
              "clickable and can be expanded/collapsed.\n",
              "- Pipeline and ColumnTransformer use this feature and define the default style\n",
              "- Estimators will overwrite some part of the style using the `sk-estimator` class\n",
              "*/\n",
              "\n",
              "/* Pipeline and ColumnTransformer style (default) */\n",
              "\n",
              "#sk-container-id-1 div.sk-toggleable {\n",
              "  /* Default theme specific background. It is overwritten whether we have a\n",
              "  specific estimator or a Pipeline/ColumnTransformer */\n",
              "  background-color: var(--sklearn-color-background);\n",
              "}\n",
              "\n",
              "/* Toggleable label */\n",
              "#sk-container-id-1 label.sk-toggleable__label {\n",
              "  cursor: pointer;\n",
              "  display: flex;\n",
              "  width: 100%;\n",
              "  margin-bottom: 0;\n",
              "  padding: 0.5em;\n",
              "  box-sizing: border-box;\n",
              "  text-align: center;\n",
              "  align-items: start;\n",
              "  justify-content: space-between;\n",
              "  gap: 0.5em;\n",
              "}\n",
              "\n",
              "#sk-container-id-1 label.sk-toggleable__label .caption {\n",
              "  font-size: 0.6rem;\n",
              "  font-weight: lighter;\n",
              "  color: var(--sklearn-color-text-muted);\n",
              "}\n",
              "\n",
              "#sk-container-id-1 label.sk-toggleable__label-arrow:before {\n",
              "  /* Arrow on the left of the label */\n",
              "  content: \"▸\";\n",
              "  float: left;\n",
              "  margin-right: 0.25em;\n",
              "  color: var(--sklearn-color-icon);\n",
              "}\n",
              "\n",
              "#sk-container-id-1 label.sk-toggleable__label-arrow:hover:before {\n",
              "  color: var(--sklearn-color-text);\n",
              "}\n",
              "\n",
              "/* Toggleable content - dropdown */\n",
              "\n",
              "#sk-container-id-1 div.sk-toggleable__content {\n",
              "  max-height: 0;\n",
              "  max-width: 0;\n",
              "  overflow: hidden;\n",
              "  text-align: left;\n",
              "  /* unfitted */\n",
              "  background-color: var(--sklearn-color-unfitted-level-0);\n",
              "}\n",
              "\n",
              "#sk-container-id-1 div.sk-toggleable__content.fitted {\n",
              "  /* fitted */\n",
              "  background-color: var(--sklearn-color-fitted-level-0);\n",
              "}\n",
              "\n",
              "#sk-container-id-1 div.sk-toggleable__content pre {\n",
              "  margin: 0.2em;\n",
              "  border-radius: 0.25em;\n",
              "  color: var(--sklearn-color-text);\n",
              "  /* unfitted */\n",
              "  background-color: var(--sklearn-color-unfitted-level-0);\n",
              "}\n",
              "\n",
              "#sk-container-id-1 div.sk-toggleable__content.fitted pre {\n",
              "  /* unfitted */\n",
              "  background-color: var(--sklearn-color-fitted-level-0);\n",
              "}\n",
              "\n",
              "#sk-container-id-1 input.sk-toggleable__control:checked~div.sk-toggleable__content {\n",
              "  /* Expand drop-down */\n",
              "  max-height: 200px;\n",
              "  max-width: 100%;\n",
              "  overflow: auto;\n",
              "}\n",
              "\n",
              "#sk-container-id-1 input.sk-toggleable__control:checked~label.sk-toggleable__label-arrow:before {\n",
              "  content: \"▾\";\n",
              "}\n",
              "\n",
              "/* Pipeline/ColumnTransformer-specific style */\n",
              "\n",
              "#sk-container-id-1 div.sk-label input.sk-toggleable__control:checked~label.sk-toggleable__label {\n",
              "  color: var(--sklearn-color-text);\n",
              "  background-color: var(--sklearn-color-unfitted-level-2);\n",
              "}\n",
              "\n",
              "#sk-container-id-1 div.sk-label.fitted input.sk-toggleable__control:checked~label.sk-toggleable__label {\n",
              "  background-color: var(--sklearn-color-fitted-level-2);\n",
              "}\n",
              "\n",
              "/* Estimator-specific style */\n",
              "\n",
              "/* Colorize estimator box */\n",
              "#sk-container-id-1 div.sk-estimator input.sk-toggleable__control:checked~label.sk-toggleable__label {\n",
              "  /* unfitted */\n",
              "  background-color: var(--sklearn-color-unfitted-level-2);\n",
              "}\n",
              "\n",
              "#sk-container-id-1 div.sk-estimator.fitted input.sk-toggleable__control:checked~label.sk-toggleable__label {\n",
              "  /* fitted */\n",
              "  background-color: var(--sklearn-color-fitted-level-2);\n",
              "}\n",
              "\n",
              "#sk-container-id-1 div.sk-label label.sk-toggleable__label,\n",
              "#sk-container-id-1 div.sk-label label {\n",
              "  /* The background is the default theme color */\n",
              "  color: var(--sklearn-color-text-on-default-background);\n",
              "}\n",
              "\n",
              "/* On hover, darken the color of the background */\n",
              "#sk-container-id-1 div.sk-label:hover label.sk-toggleable__label {\n",
              "  color: var(--sklearn-color-text);\n",
              "  background-color: var(--sklearn-color-unfitted-level-2);\n",
              "}\n",
              "\n",
              "/* Label box, darken color on hover, fitted */\n",
              "#sk-container-id-1 div.sk-label.fitted:hover label.sk-toggleable__label.fitted {\n",
              "  color: var(--sklearn-color-text);\n",
              "  background-color: var(--sklearn-color-fitted-level-2);\n",
              "}\n",
              "\n",
              "/* Estimator label */\n",
              "\n",
              "#sk-container-id-1 div.sk-label label {\n",
              "  font-family: monospace;\n",
              "  font-weight: bold;\n",
              "  display: inline-block;\n",
              "  line-height: 1.2em;\n",
              "}\n",
              "\n",
              "#sk-container-id-1 div.sk-label-container {\n",
              "  text-align: center;\n",
              "}\n",
              "\n",
              "/* Estimator-specific */\n",
              "#sk-container-id-1 div.sk-estimator {\n",
              "  font-family: monospace;\n",
              "  border: 1px dotted var(--sklearn-color-border-box);\n",
              "  border-radius: 0.25em;\n",
              "  box-sizing: border-box;\n",
              "  margin-bottom: 0.5em;\n",
              "  /* unfitted */\n",
              "  background-color: var(--sklearn-color-unfitted-level-0);\n",
              "}\n",
              "\n",
              "#sk-container-id-1 div.sk-estimator.fitted {\n",
              "  /* fitted */\n",
              "  background-color: var(--sklearn-color-fitted-level-0);\n",
              "}\n",
              "\n",
              "/* on hover */\n",
              "#sk-container-id-1 div.sk-estimator:hover {\n",
              "  /* unfitted */\n",
              "  background-color: var(--sklearn-color-unfitted-level-2);\n",
              "}\n",
              "\n",
              "#sk-container-id-1 div.sk-estimator.fitted:hover {\n",
              "  /* fitted */\n",
              "  background-color: var(--sklearn-color-fitted-level-2);\n",
              "}\n",
              "\n",
              "/* Specification for estimator info (e.g. \"i\" and \"?\") */\n",
              "\n",
              "/* Common style for \"i\" and \"?\" */\n",
              "\n",
              ".sk-estimator-doc-link,\n",
              "a:link.sk-estimator-doc-link,\n",
              "a:visited.sk-estimator-doc-link {\n",
              "  float: right;\n",
              "  font-size: smaller;\n",
              "  line-height: 1em;\n",
              "  font-family: monospace;\n",
              "  background-color: var(--sklearn-color-background);\n",
              "  border-radius: 1em;\n",
              "  height: 1em;\n",
              "  width: 1em;\n",
              "  text-decoration: none !important;\n",
              "  margin-left: 0.5em;\n",
              "  text-align: center;\n",
              "  /* unfitted */\n",
              "  border: var(--sklearn-color-unfitted-level-1) 1pt solid;\n",
              "  color: var(--sklearn-color-unfitted-level-1);\n",
              "}\n",
              "\n",
              ".sk-estimator-doc-link.fitted,\n",
              "a:link.sk-estimator-doc-link.fitted,\n",
              "a:visited.sk-estimator-doc-link.fitted {\n",
              "  /* fitted */\n",
              "  border: var(--sklearn-color-fitted-level-1) 1pt solid;\n",
              "  color: var(--sklearn-color-fitted-level-1);\n",
              "}\n",
              "\n",
              "/* On hover */\n",
              "div.sk-estimator:hover .sk-estimator-doc-link:hover,\n",
              ".sk-estimator-doc-link:hover,\n",
              "div.sk-label-container:hover .sk-estimator-doc-link:hover,\n",
              ".sk-estimator-doc-link:hover {\n",
              "  /* unfitted */\n",
              "  background-color: var(--sklearn-color-unfitted-level-3);\n",
              "  color: var(--sklearn-color-background);\n",
              "  text-decoration: none;\n",
              "}\n",
              "\n",
              "div.sk-estimator.fitted:hover .sk-estimator-doc-link.fitted:hover,\n",
              ".sk-estimator-doc-link.fitted:hover,\n",
              "div.sk-label-container:hover .sk-estimator-doc-link.fitted:hover,\n",
              ".sk-estimator-doc-link.fitted:hover {\n",
              "  /* fitted */\n",
              "  background-color: var(--sklearn-color-fitted-level-3);\n",
              "  color: var(--sklearn-color-background);\n",
              "  text-decoration: none;\n",
              "}\n",
              "\n",
              "/* Span, style for the box shown on hovering the info icon */\n",
              ".sk-estimator-doc-link span {\n",
              "  display: none;\n",
              "  z-index: 9999;\n",
              "  position: relative;\n",
              "  font-weight: normal;\n",
              "  right: .2ex;\n",
              "  padding: .5ex;\n",
              "  margin: .5ex;\n",
              "  width: min-content;\n",
              "  min-width: 20ex;\n",
              "  max-width: 50ex;\n",
              "  color: var(--sklearn-color-text);\n",
              "  box-shadow: 2pt 2pt 4pt #999;\n",
              "  /* unfitted */\n",
              "  background: var(--sklearn-color-unfitted-level-0);\n",
              "  border: .5pt solid var(--sklearn-color-unfitted-level-3);\n",
              "}\n",
              "\n",
              ".sk-estimator-doc-link.fitted span {\n",
              "  /* fitted */\n",
              "  background: var(--sklearn-color-fitted-level-0);\n",
              "  border: var(--sklearn-color-fitted-level-3);\n",
              "}\n",
              "\n",
              ".sk-estimator-doc-link:hover span {\n",
              "  display: block;\n",
              "}\n",
              "\n",
              "/* \"?\"-specific style due to the `<a>` HTML tag */\n",
              "\n",
              "#sk-container-id-1 a.estimator_doc_link {\n",
              "  float: right;\n",
              "  font-size: 1rem;\n",
              "  line-height: 1em;\n",
              "  font-family: monospace;\n",
              "  background-color: var(--sklearn-color-background);\n",
              "  border-radius: 1rem;\n",
              "  height: 1rem;\n",
              "  width: 1rem;\n",
              "  text-decoration: none;\n",
              "  /* unfitted */\n",
              "  color: var(--sklearn-color-unfitted-level-1);\n",
              "  border: var(--sklearn-color-unfitted-level-1) 1pt solid;\n",
              "}\n",
              "\n",
              "#sk-container-id-1 a.estimator_doc_link.fitted {\n",
              "  /* fitted */\n",
              "  border: var(--sklearn-color-fitted-level-1) 1pt solid;\n",
              "  color: var(--sklearn-color-fitted-level-1);\n",
              "}\n",
              "\n",
              "/* On hover */\n",
              "#sk-container-id-1 a.estimator_doc_link:hover {\n",
              "  /* unfitted */\n",
              "  background-color: var(--sklearn-color-unfitted-level-3);\n",
              "  color: var(--sklearn-color-background);\n",
              "  text-decoration: none;\n",
              "}\n",
              "\n",
              "#sk-container-id-1 a.estimator_doc_link.fitted:hover {\n",
              "  /* fitted */\n",
              "  background-color: var(--sklearn-color-fitted-level-3);\n",
              "}\n",
              "</style><div id=\"sk-container-id-1\" class=\"sk-top-container\"><div class=\"sk-text-repr-fallback\"><pre>DecisionTreeClassifier()</pre><b>In a Jupyter environment, please rerun this cell to show the HTML representation or trust the notebook. <br />On GitHub, the HTML representation is unable to render, please try loading this page with nbviewer.org.</b></div><div class=\"sk-container\" hidden><div class=\"sk-item\"><div class=\"sk-estimator fitted sk-toggleable\"><input class=\"sk-toggleable__control sk-hidden--visually\" id=\"sk-estimator-id-1\" type=\"checkbox\" checked><label for=\"sk-estimator-id-1\" class=\"sk-toggleable__label fitted sk-toggleable__label-arrow\"><div><div>DecisionTreeClassifier</div></div><div><a class=\"sk-estimator-doc-link fitted\" rel=\"noreferrer\" target=\"_blank\" href=\"https://scikit-learn.org/1.6/modules/generated/sklearn.tree.DecisionTreeClassifier.html\">?<span>Documentation for DecisionTreeClassifier</span></a><span class=\"sk-estimator-doc-link fitted\">i<span>Fitted</span></span></div></label><div class=\"sk-toggleable__content fitted\"><pre>DecisionTreeClassifier()</pre></div> </div></div></div></div>"
            ],
            "text/plain": [
              "DecisionTreeClassifier()"
            ]
          },
          "execution_count": 105,
          "metadata": {},
          "output_type": "execute_result"
        }
      ],
      "source": [
        "from sklearn.metrics import accuracy_score, f1_score, precision_score, recall_score\n",
        "from sklearn.tree import DecisionTreeClassifier\n",
        "from sklearn.metrics import classification_report\n",
        "\n",
        "classifier = DecisionTreeClassifier()\n",
        "classifier.fit(X_train, y_train)"
      ]
    },
    {
      "cell_type": "code",
      "execution_count": 106,
      "metadata": {
        "colab": {
          "base_uri": "https://localhost:8080/",
          "height": 0
        },
        "id": "ZJkXbIqTgX4X",
        "outputId": "a5214eed-e7e8-4275-b54e-1898fb872b22"
      },
      "outputs": [
        {
          "name": "stdout",
          "output_type": "stream",
          "text": [
            "Accuacy -> 0.7050\n",
            "F1-score -> 0.6677\n",
            "Precision -> 0.6888\n",
            "Recall -> 0.6628\n",
            "              precision    recall  f1-score   support\n",
            "\n",
            "           0       0.73      0.84      0.78       619\n",
            "           1       0.65      0.49      0.56       381\n",
            "\n",
            "    accuracy                           0.70      1000\n",
            "   macro avg       0.69      0.66      0.67      1000\n",
            "weighted avg       0.70      0.70      0.69      1000\n",
            "\n"
          ]
        }
      ],
      "source": [
        "preds = classifier.predict(X_test)\n",
        "\n",
        "print(f'Accuacy -> {accuracy_score(y_test, preds):0.4f}')\n",
        "print(f\"F1-score -> {f1_score(y_test, preds, average='macro'):0.4f}\")\n",
        "print(f\"Precision -> {precision_score(y_test, preds, average='macro'):0.4f}\")\n",
        "print(f\"Recall -> {recall_score(y_test, preds, average='macro'):0.4f}\")\n",
        "\n",
        "print(classification_report(y_test, preds))"
      ]
    },
    {
      "cell_type": "code",
      "execution_count": 109,
      "metadata": {
        "id": "4jx28by0hZIq"
      },
      "outputs": [],
      "source": [
        "from sklearn.model_selection import train_test_split\n",
        "def classification_procedure(df, feature, n_grams):\n",
        "    (x_train, x_test, y_train, y_test) = train_test_split(df[feature], df['homotransphobic'], test_size=0.2, random_state=17)\n",
        "    vectorizer = sklearn.feature_extraction.text.CountVectorizer(ngram_range = (n_grams, n_grams))\n",
        "    X_train = vectorizer.fit_transform(x_train)\n",
        "    X_test = vectorizer.transform(x_test)\n",
        "\n",
        "    classifier = DecisionTreeClassifier()\n",
        "    classifier.fit(X_train, y_train)\n",
        "\n",
        "    preds = classifier.predict(X_test)\n",
        "\n",
        "    print('MODEL -> '+feature+'-'+str(n_grams))\n",
        "\n",
        "    print(f'Accuacy -> {accuracy_score(y_test, preds):0.4f}')\n",
        "    print(f\"F1-score -> {f1_score(y_test, preds, average='macro'):0.4f}\")\n",
        "    print(f\"Precision -> {precision_score(y_test, preds, average='macro'):0.4f}\")\n",
        "    print(f\"Recall -> {recall_score(y_test, preds, average='macro'):0.4f}\")\n",
        "\n",
        "    print(classification_report(y_test, preds))"
      ]
    },
    {
      "cell_type": "code",
      "execution_count": 110,
      "metadata": {
        "colab": {
          "base_uri": "https://localhost:8080/",
          "height": 0
        },
        "id": "Bz-oUXyti4uo",
        "outputId": "abf38b6f-bb4e-436d-e0bd-d8386e6e41ca"
      },
      "outputs": [
        {
          "name": "stdout",
          "output_type": "stream",
          "text": [
            "MODEL -> cured_text-2\n",
            "Accuacy -> 0.7030\n",
            "F1-score -> 0.6655\n",
            "Precision -> 0.6864\n",
            "Recall -> 0.6607\n",
            "              precision    recall  f1-score   support\n",
            "\n",
            "           0       0.72      0.84      0.78       619\n",
            "           1       0.65      0.48      0.55       381\n",
            "\n",
            "    accuracy                           0.70      1000\n",
            "   macro avg       0.69      0.66      0.67      1000\n",
            "weighted avg       0.70      0.70      0.69      1000\n",
            "\n"
          ]
        }
      ],
      "source": [
        "classification_procedure(df, feature='cured_text', n_grams=2)"
      ]
    },
    {
      "cell_type": "code",
      "execution_count": 111,
      "metadata": {
        "colab": {
          "base_uri": "https://localhost:8080/",
          "height": 0
        },
        "id": "5lbSMNQNjCQj",
        "outputId": "a5e24091-e69c-4c33-a6eb-6980f68bab93"
      },
      "outputs": [
        {
          "name": "stdout",
          "output_type": "stream",
          "text": [
            "MODEL -> cured_text-3\n",
            "Accuacy -> 0.6480\n",
            "F1-score -> 0.4803\n",
            "Precision -> 0.7125\n",
            "Recall -> 0.5436\n",
            "              precision    recall  f1-score   support\n",
            "\n",
            "           0       0.64      0.98      0.78       619\n",
            "           1       0.78      0.10      0.19       381\n",
            "\n",
            "    accuracy                           0.65      1000\n",
            "   macro avg       0.71      0.54      0.48      1000\n",
            "weighted avg       0.70      0.65      0.55      1000\n",
            "\n"
          ]
        }
      ],
      "source": [
        "classification_procedure(df, feature='cured_text', n_grams=3)"
      ]
    },
    {
      "cell_type": "markdown",
      "metadata": {
        "id": "rmwnOL2SH7x2"
      },
      "source": [
        "Ripetere questi passaggi per i task di **EVALITA 2026**, concentrandosi sul pre-processing del dato. La pipeline proposta è molto semplice e non costituisce un modello valido ai fini del progetto.\n",
        "\n",
        "Nella pipeline di pre-processing ci sono diversi aspetti da considerare in base al tipo di dato:\n",
        "\n",
        "    - stopwords\n",
        "    - emoji, emoticons, hashtags\n",
        "    - case-sensitive\n",
        "    - analisi parole frequenti\n",
        "    - analisi della lunghezza"
      ]
    }
  ],
  "metadata": {
    "accelerator": "GPU",
    "colab": {
      "gpuType": "T4",
      "provenance": []
    },
    "kernelspec": {
      "display_name": "spyder-env",
      "language": "python",
      "name": "python3"
    },
    "language_info": {
      "name": "python",
      "version": "3.10.11"
    }
  },
  "nbformat": 4,
  "nbformat_minor": 0
}
