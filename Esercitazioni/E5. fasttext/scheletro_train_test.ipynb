{
  "cells": [
    {
      "cell_type": "code",
      "execution_count": null,
      "metadata": {
        "id": "8ilFTxfgl7Sj"
      },
      "outputs": [],
      "source": [
        "import pandas as pd\n",
        "import sklearn\n",
        "from tqdm import tqdm\n",
        "import numpy as np\n",
        "import nltk\n",
        "from nltk.corpus import stopwords\n",
        "from torch import nn\n",
        "from torch.optim import Adam\n",
        "import torch"
      ]
    },
    {
      "cell_type": "code",
      "source": [
        "from google.colab import drive\n",
        "\n",
        "drive.mount('/content/gdrive')"
      ],
      "metadata": {
        "colab": {
          "base_uri": "https://localhost:8080/"
        },
        "id": "UXBCeCV6Fryo",
        "outputId": "ef607f57-0dd5-4b85-b40a-ae2ca9f9348b"
      },
      "execution_count": null,
      "outputs": [
        {
          "output_type": "stream",
          "name": "stdout",
          "text": [
            "Mounted at /content/gdrive\n"
          ]
        }
      ]
    },
    {
      "cell_type": "code",
      "execution_count": null,
      "metadata": {
        "id": "juAPPaWFmS-y"
      },
      "outputs": [],
      "source": [
        "# Dataset\n",
        "# repository https://github.com/iresiragusa/NLP/tree/main\n",
        "# https://www.kaggle.com/datasets/yufengdev/bbc-fulltext-and-category?select=bbc-text.csv\n",
        "# scarichiamo il dataset e lo carichiamo su COLAB\n",
        "\n",
        "root = \"/content/gdrive/MyDrive/Colab Notebooks/torch/\"\n",
        "df = pd.read_csv(root+\"data/BBC-text/bbc-text.csv\")"
      ]
    },
    {
      "cell_type": "code",
      "execution_count": null,
      "metadata": {
        "colab": {
          "base_uri": "https://localhost:8080/"
        },
        "id": "EBaXhs_hmXfD",
        "outputId": "5261059a-6c9d-4176-a151-2ccb27dadb50"
      },
      "outputs": [
        {
          "output_type": "stream",
          "name": "stdout",
          "text": [
            "n sample -> 2225\n",
            "categories -> {'politics', 'entertainment', 'tech', 'sport', 'business'}[5]\n",
            "category\n",
            "sport            511\n",
            "business         510\n",
            "politics         417\n",
            "tech             401\n",
            "entertainment    386\n",
            "Name: count, dtype: int64\n"
          ]
        }
      ],
      "source": [
        "# il dataset è formato da 2225 sample contenenti aricoli della BBC\n",
        "# suddivisi in 5 categorie in base al loro topic\n",
        "\n",
        "print('n sample -> '+str(len(df)))\n",
        "labels = set(df['category'])\n",
        "print('categories -> '+str(labels)+'['+str(len(labels))+']')\n",
        "print(df['category'].value_counts())\n",
        "\n",
        "# associo ad ogni categoria un indice, così ho delle label numeriche\n",
        "labels_dict = {\n",
        "    'business': 0,\n",
        "    'politics': 1,\n",
        "    'tech': 2,\n",
        "    'sport': 3,\n",
        "    'entertainment': 4\n",
        "}\n",
        "\n",
        "df['labels'] = df.apply(lambda row: labels_dict[row.category], axis = 1)"
      ]
    },
    {
      "cell_type": "code",
      "execution_count": null,
      "metadata": {
        "id": "GPmyopURmgI2"
      },
      "outputs": [],
      "source": [
        "from sklearn.model_selection import train_test_split\n",
        "\n",
        "(x_train, x_test, y_train, y_test) = train_test_split(df['text'], df['labels'], test_size=0.2, random_state=17)\n",
        "\n",
        "(x_train, x_val, y_train, y_val) = train_test_split(x_train, y_train, test_size=0.1, random_state=17)\n",
        "\n",
        "# sarebbe uno split 72, 8, 20 per avere lo stesso test dell'altra volta"
      ]
    },
    {
      "cell_type": "code",
      "execution_count": null,
      "metadata": {
        "colab": {
          "base_uri": "https://localhost:8080/"
        },
        "id": "upjTaC4wdfUy",
        "outputId": "e505ae8e-5ea5-4a98-d5a7-45d6e3f26549"
      },
      "outputs": [
        {
          "output_type": "stream",
          "name": "stdout",
          "text": [
            "1602\n",
            "178\n",
            "445\n"
          ]
        }
      ],
      "source": [
        "print(len(x_train))\n",
        "print(len(x_val))\n",
        "print(len(x_test))"
      ]
    },
    {
      "cell_type": "code",
      "execution_count": null,
      "metadata": {
        "colab": {
          "base_uri": "https://localhost:8080/"
        },
        "id": "y6nwHqTEmuKx",
        "outputId": "16c3eaa9-44af-4bd4-e23e-1ee50fab28df"
      },
      "outputs": [
        {
          "output_type": "stream",
          "name": "stderr",
          "text": [
            "[nltk_data] Downloading package punkt to /root/nltk_data...\n",
            "[nltk_data]   Unzipping tokenizers/punkt.zip.\n",
            "[nltk_data] Downloading package stopwords to /root/nltk_data...\n",
            "[nltk_data]   Unzipping corpora/stopwords.zip.\n"
          ]
        }
      ],
      "source": [
        "nltk.download('punkt')\n",
        "nltk.download('stopwords')\n",
        "\n",
        "class Dataset(torch.utils.data.Dataset):\n",
        "\n",
        "    def __init__(self, x, y, stopwords):\n",
        "\n",
        "        # x e y sono series di pandas\n",
        "        tokens_litt = [nltk.word_tokenize(text, language='english')\n",
        "         for text in list(x)]\n",
        "        text_clean = []\n",
        "\n",
        "        if stopwords:\n",
        "            for sentence in tqdm(tokens_litt, desc='Tokenizing ... '):\n",
        "                text_clean.append(' '.join([w.lower() for w in sentence if\n",
        "                    not w.lower() in nltk.corpus.stopwords.words(\"english\")]))\n",
        "        else:\n",
        "            for sentence in tqdm(tokens_litt, desc='Tokenizing ... '):\n",
        "                text_clean.append(' '.join([w.lower() for w in sentence]))\n",
        "            # ogni token è separato dall'altro con uno spazio\n",
        "\n",
        "        self.texts = text_clean\n",
        "        self.labels = [torch.tensor(label) for label in y]\n",
        "\n",
        "    def classes(self):\n",
        "        return self.labels\n",
        "\n",
        "    def __len__(self):\n",
        "        return len(self.labels)\n",
        "\n",
        "    def __getitem__(self, idx):\n",
        "\n",
        "        batch_texts = self.texts[idx]\n",
        "        batch_labels = np.array(self.labels[idx])\n",
        "\n",
        "        return batch_texts, batch_labels"
      ]
    },
    {
      "cell_type": "code",
      "execution_count": null,
      "metadata": {
        "id": "YwK_BUUzlFJ-"
      },
      "outputs": [],
      "source": [
        "hyperparameters = {\n",
        "    \"epochs\": 5,\n",
        "    \"learning_rate\": 1e-3,\n",
        "    \"batch_size\": 64,\n",
        "    \"dropout\": 0.1,\n",
        "    \"stopwords\": False,\n",
        "    \"layers\": 1,\n",
        "    \"h_dim\": 300,\n",
        "    \"bilstm\": True,\n",
        "    \"patience\": 5,\n",
        "    \"min_delta\": 0.01\n",
        "}"
      ]
    },
    {
      "cell_type": "code",
      "execution_count": null,
      "metadata": {
        "id": "DnC3SzpfpWrZ",
        "colab": {
          "base_uri": "https://localhost:8080/"
        },
        "outputId": "cbed7bf9-4826-40b9-b316-ee22f516135b"
      },
      "outputs": [
        {
          "output_type": "stream",
          "name": "stderr",
          "text": [
            "Tokenizing ... : 100%|██████████| 1602/1602 [00:00<00:00, 20107.54it/s]\n",
            "Tokenizing ... : 100%|██████████| 178/178 [00:00<00:00, 18967.66it/s]\n",
            "Tokenizing ... : 100%|██████████| 445/445 [00:00<00:00, 20878.62it/s]\n"
          ]
        }
      ],
      "source": [
        "#creo i dataset\n",
        "\n",
        "train_dataset = Dataset(x_train, y_train, hyperparameters[\"stopwords\"])\n",
        "val_dataset = Dataset(x_val, y_val, hyperparameters[\"stopwords\"])\n",
        "test_dataset = Dataset(x_test, y_test, hyperparameters[\"stopwords\"])"
      ]
    },
    {
      "cell_type": "code",
      "execution_count": null,
      "metadata": {
        "id": "-KdTmVtrnCp6"
      },
      "outputs": [],
      "source": [
        "# classe della rete\n",
        "\n",
        "class EmbsLSTMClassifierDeep(nn.Module):\n",
        "\n",
        "    def __init__(self, labels=5, lstm_layers=1,\n",
        "                 lstm_hdim=50, bilstm=True, dropout=0.1):\n",
        "        super(EmbsLSTMClassifierDeep, self).__init__()\n",
        "        self.lstm = nn.LSTM(lstm_hdim, lstm_hdim, lstm_layers,\n",
        "            bidirectional=bilstm, batch_first=True)\n",
        "        if bilstm:\n",
        "            lstm_output = lstm_hdim*2\n",
        "        else :\n",
        "            lstm_output = lstm_hdim\n",
        "        self.bilstm = bilstm\n",
        "        self.classifier = nn.Sequential(\n",
        "            nn.Linear(lstm_output, lstm_output),\n",
        "            nn.BatchNorm1d(lstm_output),\n",
        "            nn.Dropout(dropout),\n",
        "            nn.ReLU(),\n",
        "            nn.Linear(lstm_output, labels),\n",
        "            )\n",
        "        # non ho funzione di attivazione, è embedded nella loss\n",
        "        # se devo calcolare l'accuracy, devo applicare una softmax/logsoftmax manualmente\n",
        "\n",
        "    # parametri e output della LSMT -> https://pytorch.org/docs/stable/generated/torch.nn.LSTM.html\n",
        "    def forward(self, input_texts):\n",
        "        _output, (hn, _cn) = self.lstm(input_texts)\n",
        "        if not self.bilstm:\n",
        "            lstm_output = hn[-1,:,:]\n",
        "        else:\n",
        "            lstm_output = torch.cat((hn[-2,:,:], hn[-1,:,:]), dim=1)\n",
        "        final = self.classifier(lstm_output)\n",
        "        return final"
      ]
    },
    {
      "cell_type": "code",
      "execution_count": null,
      "metadata": {
        "id": "In8JtAI6u-FE"
      },
      "outputs": [],
      "source": [
        "class EarlyStopping:\n",
        "    def __init__(self, patience=5, min_delta=0.0):\n",
        "\n",
        "        self.patience = patience\n",
        "        self.min_delta = min_delta              # valore minimo di decrescita della loss di validazione all'epoca corrente\n",
        "                                                # per asserire che c'è un miglioramenti della loss\n",
        "        self.counter = 0                        # contatore delle epoche di pazienza\n",
        "        self.early_stop = False                 # flag di early stop\n",
        "        self.min_validation_loss = torch.inf    # valore corrente ottimo della loss di validazione\n",
        "\n",
        "    def __call__(self, validation_loss):\n",
        "        # chiamata in forma funzionale dell'oggetto di classe EarlySopping\n",
        "\n",
        "        if (validation_loss + self.min_delta) >= self.min_validation_loss:  # la loss di validazione non decresce\n",
        "            self.counter += 1                                               # incrementiamo il contatore delle epoche di pazienza\n",
        "            if self.counter >= self.patience:\n",
        "                self.early_stop = True\n",
        "                print(\"Early stop!\")\n",
        "        else:                                               # c'è un miglioramento della loss:\n",
        "            self.min_validation_loss = validation_loss      # consideriamo la loss corrente\n",
        "                                                            # come nuova loss ottimale\n",
        "            self.counter = 0                                # e azzeriamo il contatore di pazienza\n"
      ]
    },
    {
      "cell_type": "code",
      "execution_count": null,
      "metadata": {
        "id": "HELuTg_mFiTQ"
      },
      "outputs": [],
      "source": [
        "import csv\n",
        "\n",
        "# loading glove embeddings\n",
        "def load_glove():\n",
        "    #glove_path = root+\"wordvectors/glove.6B.300d.txt\"\n",
        "    glove_path = root+\"wordvectors/glove.6B.50d.txt\"\n",
        "    print(\"Loading glove vectors ...\")\n",
        "    with open(glove_path, encoding='utf-8') as f:\n",
        "        reader = csv.reader(f, delimiter=' ', quoting=csv.QUOTE_NONE)\n",
        "        model = {line[0]: np.array(list(map(float, line[1:])))\n",
        "                for line in reader}\n",
        "    print(\"Glove vectors loaded\")\n",
        "    return model\n",
        "\n",
        "# apply embeddings calculation\n",
        "def gen_embeddings_glove(tokens, glove_embeddings):\n",
        "    embeddings = []\n",
        "    for sentence in tokens:\n",
        "        emb = []\n",
        "        for word in sentence:\n",
        "            if word in glove_embeddings:\n",
        "                emb.append(torch.tensor(glove_embeddings.get(word)))\n",
        "        embeddings.append(torch.stack(emb))\n",
        "    return embeddings"
      ]
    },
    {
      "cell_type": "code",
      "execution_count": null,
      "metadata": {
        "id": "ZmkzHey-RSta"
      },
      "outputs": [],
      "source": [
        "# serve per il padding\n",
        "def get_max_len(embeddings):\n",
        "    max_len = 0\n",
        "    for e in embeddings:\n",
        "        if e.shape[0] > max_len: max_len = e.shape[0]\n",
        "    return max_len"
      ]
    },
    {
      "cell_type": "code",
      "execution_count": null,
      "metadata": {
        "id": "t5jS3O-VvHv_"
      },
      "outputs": [],
      "source": [
        "def train_loop(model, dataloader, glove, loss, optimizer, device):\n",
        "    model.train()\n",
        "\n",
        "    epoch_acc = 0\n",
        "    epoch_loss = 0\n",
        "\n",
        "    for batch_texts, batch_labels in tqdm(dataloader, desc='training set'):\n",
        "\n",
        "        optimizer.zero_grad()\n",
        "\n",
        "        # tokenizzazione\n",
        "        tokens = [nltk.word_tokenize(text, language='english') for text in list(batch_texts)]\n",
        "        # embeddings\n",
        "        embeddings = gen_embeddings_glove(tokens, glove)\n",
        "        max_len_batch = get_max_len(embeddings)\n",
        "        # padding\n",
        "        input_embeddings =  torch.stack([torch.nn.functional.pad(x,(0,0,0, max_len_batch-x.shape[0])) for x in embeddings]).float().to(device)\n",
        "        batch_labels = batch_labels.to(device)\n",
        "\n",
        "        output = model(input_embeddings)\n",
        "\n",
        "        # la loss è una CrossEntropyLoss, al suo interno ha\n",
        "        # la logsoftmax + negative log likelihood loss\n",
        "        batch_loss = loss(output, batch_labels)\n",
        "        batch_loss.backward()\n",
        "        optimizer.step()\n",
        "\n",
        "        epoch_loss += batch_loss.item()\n",
        "\n",
        "        # per calcolare l'accuracy devo generare le predizioni\n",
        "        # applicando manualmente la logsoftmax\n",
        "        softmax = nn.LogSoftmax(dim=1)\n",
        "        epoch_acc += (softmax(output).argmax(dim=1) == batch_labels).sum().item()\n",
        "\n",
        "        batch_labels = batch_labels.detach().cpu()\n",
        "        input_embeddings = input_embeddings.detach().cpu()\n",
        "        output = output.detach().cpu()\n",
        "\n",
        "    return epoch_loss/len(dataloader), epoch_acc"
      ]
    },
    {
      "cell_type": "code",
      "execution_count": null,
      "metadata": {
        "id": "atbTc9ex1Q7S"
      },
      "outputs": [],
      "source": [
        "def test_loop(model, dataloader, glove, loss, device):\n",
        "    model.eval()\n",
        "\n",
        "    epoch_acc = 0\n",
        "    epoch_loss = 0\n",
        "\n",
        "    with torch.no_grad():\n",
        "\n",
        "        for batch_texts, batch_labels, in tqdm(dataloader, desc='dev set'):\n",
        "\n",
        "            # tokenizzazione\n",
        "            tokens = [nltk.word_tokenize(text, language='english') for text in list(batch_texts)]\n",
        "            # embeddings\n",
        "            embeddings = gen_embeddings_glove(tokens, glove)\n",
        "            max_len_batch = get_max_len(embeddings)\n",
        "            # padding\n",
        "            input_embeddings =  torch.stack([torch.nn.functional.pad(x, (0,0,0, max_len_batch-x.shape[0])) for x in embeddings]).float().to(device)\n",
        "            batch_labels = batch_labels.to(device)\n",
        "\n",
        "            output = model(input_embeddings)\n",
        "\n",
        "            # la loss è una CrossEntropyLoss, al suo interno ha\n",
        "            # la logsoftmax + negative log likelihood loss\n",
        "            batch_loss = loss(output, batch_labels)\n",
        "            epoch_loss += batch_loss.item()\n",
        "\n",
        "            # per calcolare l'accuracy devo generare le predizioni\n",
        "            # applicando manualmente la logsoftmax\n",
        "            softmax = nn.LogSoftmax(dim=1)\n",
        "            epoch_acc += (softmax(output).argmax(dim=1) == batch_labels).sum().item()\n",
        "\n",
        "            batch_labels = batch_labels.detach().cpu()\n",
        "            input_embeddings = input_embeddings.detach().cpu()\n",
        "            output = output.detach().cpu()\n",
        "\n",
        "    return epoch_loss/len(dataloader), epoch_acc"
      ]
    },
    {
      "cell_type": "code",
      "execution_count": null,
      "metadata": {
        "id": "lK_cnWEHMavf"
      },
      "outputs": [],
      "source": [
        "def train_test(model,\n",
        "               epochs,\n",
        "               optimizer,\n",
        "               device,\n",
        "               train_data,\n",
        "               test_data,\n",
        "               batch_size,\n",
        "               train_loss_fn,\n",
        "               test_loss_fn=None,         # non necessariamente train e test loss devono differire\n",
        "               early_stopping=None,       # posso addstrare senza early stopping\n",
        "               val_data=None,             # e in questo caso non c'è validation set\n",
        "               scheduler=None):           # possibile scheduler per monitorare l'andamento di un iperparametro,\n",
        "                                          # tipicamente il learning rate\n",
        "\n",
        "    train_dataloader = torch.utils.data.DataLoader(train_data, batch_size=batch_size, shuffle=True)\n",
        "    val_dataloader = torch.utils.data.DataLoader(val_data, batch_size=batch_size)\n",
        "    test_dataloader = torch.utils.data.DataLoader(test_data, batch_size=batch_size)\n",
        "\n",
        "    # check sulle funzioni di loss\n",
        "    if test_loss_fn == None:\n",
        "        test_loss_fn = train_loss_fn\n",
        "\n",
        "    # liste dei valori di loss e accuracy epoca per epoca per il plot\n",
        "    train_loss = []\n",
        "    validation_loss = []\n",
        "    test_loss = []\n",
        "\n",
        "    train_acc = []\n",
        "    validation_acc = []\n",
        "    test_acc = []\n",
        "\n",
        "    glove = load_glove()\n",
        "\n",
        "    # Ciclo di addestramento con early stopping\n",
        "    for epoch in tqdm(range(1,epochs+1)):\n",
        "\n",
        "        epoch_train_loss, epoch_train_acc = train_loop(model,\n",
        "                     train_dataloader, glove, train_loss_fn, optimizer, device)\n",
        "        train_loss.append(epoch_train_loss)\n",
        "        train_acc.append(epoch_train_acc/len(train_data))\n",
        "\n",
        "        # validation se è presente la callback di early stopping\n",
        "        if early_stopping != None:\n",
        "                epoch_validate_loss, epoch_validate_acc = test_loop(model, val_dataloader, glove, test_loss_fn, device)\n",
        "                validation_loss.append(epoch_validate_loss)\n",
        "                validation_acc.append(epoch_validate_acc/len(val_data))\n",
        "\n",
        "        # test\n",
        "        epoch_test_loss, epoch_test_acc,= test_loop(model, test_dataloader, glove, test_loss_fn, device)\n",
        "        test_loss.append(epoch_test_loss)\n",
        "        test_acc.append(epoch_test_acc/len(test_data))\n",
        "\n",
        "        val_loss_str = f'Validation loss: {epoch_validate_loss:6.4f} 'if early_stopping != None else ' '\n",
        "        val_acc_str = f'Validation accuracy: {(epoch_validate_acc/len(val_data)):6.4f} ' if early_stopping != None else ' '\n",
        "        print(f\"\\nTrain loss: {epoch_train_loss:6.4f} {val_loss_str} Test loss: {epoch_test_loss:6.4f}\")\n",
        "        print(f\"Train accuracy: {(epoch_train_acc/len(train_data)):6.4f} {val_acc_str}Test accuracy: {(epoch_test_acc/len(test_data)):6.4f}\")\n",
        "\n",
        "        # early stopping\n",
        "        if early_stopping != None:\n",
        "                early_stopping(epoch_validate_loss)\n",
        "                if early_stopping.early_stop:\n",
        "                    break\n",
        "\n",
        "    return train_loss, validation_loss, test_loss,\n",
        "              train_acc, validation_acc, test_acc"
      ]
    },
    {
      "cell_type": "code",
      "execution_count": null,
      "metadata": {
        "id": "YWgCYjxPPD8i",
        "colab": {
          "base_uri": "https://localhost:8080/"
        },
        "outputId": "428586bc-5d00-48b2-a35f-d4820c2bce88"
      },
      "outputs": [
        {
          "output_type": "stream",
          "name": "stdout",
          "text": [
            "Using cuda device\n",
            "EmbsLSTMClassifierDeep(\n",
            "  (lstm): LSTM(50, 50, batch_first=True, bidirectional=True)\n",
            "  (classifier): Sequential(\n",
            "    (0): Linear(in_features=100, out_features=100, bias=True)\n",
            "    (1): BatchNorm1d(100, eps=1e-05, momentum=0.1, affine=True, track_running_stats=True)\n",
            "    (2): Dropout(p=0.1, inplace=False)\n",
            "    (3): ReLU()\n",
            "    (4): Linear(in_features=100, out_features=5, bias=True)\n",
            "  )\n",
            ")\n",
            "Numbero totale dei parametri: 51605\n"
          ]
        }
      ],
      "source": [
        "# Acquisiamo il device su cui effettueremo il training\n",
        "device = torch.device(\"cuda\" if torch.cuda.is_available() else \"cpu\")\n",
        "print(f\"Using {device} device\")\n",
        "\n",
        "model = EmbsLSTMClassifierDeep(len(labels_dict),\n",
        "                               hyperparameters[\"layers\"],\n",
        "                               50,\n",
        "                               #hyperparameters[\"h_dim\"],\n",
        "                               hyperparameters[\"bilstm\"],\n",
        "                               hyperparameters[\"dropout\"]).to(device)\n",
        "print(model)\n",
        "\n",
        "# Calcoliamo il numero totale dei parametri del modello\n",
        "total_params = sum(p.numel() for p in model.parameters())\n",
        "print(f\"Numbero totale dei parametri: {total_params}\")\n",
        "\n",
        "criterion = nn.CrossEntropyLoss()\n",
        "optimizer = Adam(model.parameters(), lr=hyperparameters[\"learning_rate\"])\n",
        "\n",
        "# Creiamo la callback di early stopping da passare al nostro metodo di addestramento\n",
        "early_stopping = EarlyStopping(patience=hyperparameters['patience'],\n",
        "                               min_delta=hyperparameters['min_delta'])\n"
      ]
    },
    {
      "cell_type": "code",
      "execution_count": null,
      "metadata": {
        "id": "bEdv8U-wAL3L",
        "colab": {
          "base_uri": "https://localhost:8080/"
        },
        "outputId": "ddb83010-ee93-4004-ef7d-f2ee08fd6dca",
        "collapsed": true
      },
      "outputs": [
        {
          "output_type": "stream",
          "name": "stdout",
          "text": [
            "Loading glove vectors ...\n",
            "Glove vectors loaded\n"
          ]
        },
        {
          "output_type": "stream",
          "name": "stderr",
          "text": [
            "  0%|          | 0/5 [00:00<?, ?it/s]\n",
            "training set:   0%|          | 0/26 [00:00<?, ?it/s]\u001b[A\n",
            "training set:   4%|▍         | 1/26 [00:00<00:10,  2.31it/s]\u001b[A\n",
            "training set:   8%|▊         | 2/26 [00:00<00:09,  2.43it/s]\u001b[A\n",
            "training set:  12%|█▏        | 3/26 [00:01<00:10,  2.24it/s]\u001b[A\n",
            "training set:  15%|█▌        | 4/26 [00:01<00:09,  2.34it/s]\u001b[A\n",
            "training set:  19%|█▉        | 5/26 [00:02<00:10,  1.98it/s]\u001b[A\n",
            "training set:  23%|██▎       | 6/26 [00:02<00:09,  2.02it/s]\u001b[A\n",
            "training set:  27%|██▋       | 7/26 [00:03<00:09,  1.97it/s]\u001b[A\n",
            "training set:  31%|███       | 8/26 [00:03<00:09,  1.91it/s]\u001b[A\n",
            "training set:  35%|███▍      | 9/26 [00:04<00:11,  1.53it/s]\u001b[A\n",
            "training set:  38%|███▊      | 10/26 [00:05<00:10,  1.55it/s]\u001b[A\n",
            "training set:  42%|████▏     | 11/26 [00:06<00:09,  1.59it/s]\u001b[A\n",
            "training set:  46%|████▌     | 12/26 [00:06<00:07,  1.76it/s]\u001b[A\n",
            "training set:  50%|█████     | 13/26 [00:06<00:06,  2.00it/s]\u001b[A\n",
            "training set:  54%|█████▍    | 14/26 [00:07<00:05,  2.21it/s]\u001b[A\n",
            "training set:  58%|█████▊    | 15/26 [00:07<00:04,  2.32it/s]\u001b[A\n",
            "training set:  62%|██████▏   | 16/26 [00:07<00:04,  2.46it/s]\u001b[A\n",
            "training set:  65%|██████▌   | 17/26 [00:08<00:03,  2.56it/s]\u001b[A\n",
            "training set:  69%|██████▉   | 18/26 [00:08<00:03,  2.58it/s]\u001b[A\n",
            "training set:  73%|███████▎  | 19/26 [00:09<00:02,  2.51it/s]\u001b[A\n",
            "training set:  77%|███████▋  | 20/26 [00:09<00:02,  2.48it/s]\u001b[A\n",
            "training set:  81%|████████  | 21/26 [00:09<00:02,  2.42it/s]\u001b[A\n",
            "training set:  85%|████████▍ | 22/26 [00:10<00:01,  2.54it/s]\u001b[A\n",
            "training set:  88%|████████▊ | 23/26 [00:10<00:01,  2.57it/s]\u001b[A\n",
            "training set:  92%|█████████▏| 24/26 [00:11<00:00,  2.62it/s]\u001b[A\n",
            "training set: 100%|██████████| 26/26 [00:11<00:00,  2.27it/s]\n",
            "\n",
            "dev set:   0%|          | 0/3 [00:00<?, ?it/s]\u001b[A\n",
            "dev set:  33%|███▎      | 1/3 [00:00<00:00,  2.71it/s]\u001b[A\n",
            "dev set:  67%|██████▋   | 2/3 [00:00<00:00,  2.22it/s]\u001b[A\n",
            "dev set: 100%|██████████| 3/3 [00:01<00:00,  2.52it/s]\n",
            "\n",
            "dev set:   0%|          | 0/7 [00:00<?, ?it/s]\u001b[A\n",
            "dev set:  14%|█▍        | 1/7 [00:00<00:02,  2.58it/s]\u001b[A\n",
            "dev set:  29%|██▊       | 2/7 [00:00<00:01,  2.65it/s]\u001b[A\n",
            "dev set:  43%|████▎     | 3/7 [00:01<00:01,  2.72it/s]\u001b[A\n",
            "dev set:  57%|█████▋    | 4/7 [00:01<00:01,  2.45it/s]\u001b[A\n",
            "dev set:  71%|███████▏  | 5/7 [00:01<00:00,  2.61it/s]\u001b[A\n",
            "dev set:  86%|████████▌ | 6/7 [00:02<00:00,  2.69it/s]\u001b[A\n",
            "dev set: 100%|██████████| 7/7 [00:02<00:00,  2.54it/s]\n",
            " 20%|██        | 1/5 [00:15<01:01, 15.42s/it]"
          ]
        },
        {
          "output_type": "stream",
          "name": "stdout",
          "text": [
            "\n",
            "Train loss: 1.1455 Validation loss: 1.3219 Test loss: 1.3277\n",
            "Train accuracy: 0.5961 Validation accuracy: 0.7472 Test accuracy: 0.7393\n"
          ]
        },
        {
          "output_type": "stream",
          "name": "stderr",
          "text": [
            "\n",
            "training set:   0%|          | 0/26 [00:00<?, ?it/s]\u001b[A\n",
            "training set:   4%|▍         | 1/26 [00:00<00:11,  2.25it/s]\u001b[A\n",
            "training set:   8%|▊         | 2/26 [00:00<00:10,  2.35it/s]\u001b[A\n",
            "training set:  12%|█▏        | 3/26 [00:01<00:11,  2.03it/s]\u001b[A\n",
            "training set:  15%|█▌        | 4/26 [00:01<00:11,  1.94it/s]\u001b[A\n",
            "training set:  19%|█▉        | 5/26 [00:02<00:12,  1.65it/s]\u001b[A\n",
            "training set:  23%|██▎       | 6/26 [00:03<00:13,  1.46it/s]\u001b[A\n",
            "training set:  27%|██▋       | 7/26 [00:04<00:12,  1.56it/s]\u001b[A\n",
            "training set:  31%|███       | 8/26 [00:04<00:11,  1.60it/s]\u001b[A\n",
            "training set:  35%|███▍      | 9/26 [00:05<00:09,  1.82it/s]\u001b[A\n",
            "training set:  38%|███▊      | 10/26 [00:05<00:09,  1.65it/s]\u001b[A\n",
            "training set:  42%|████▏     | 11/26 [00:06<00:07,  1.90it/s]\u001b[A\n",
            "training set:  46%|████▌     | 12/26 [00:06<00:06,  2.07it/s]\u001b[A\n",
            "training set:  50%|█████     | 13/26 [00:06<00:05,  2.24it/s]\u001b[A\n",
            "training set:  54%|█████▍    | 14/26 [00:07<00:05,  2.31it/s]\u001b[A\n",
            "training set:  58%|█████▊    | 15/26 [00:07<00:04,  2.38it/s]\u001b[A\n",
            "training set:  62%|██████▏   | 16/26 [00:08<00:04,  2.47it/s]\u001b[A\n",
            "training set:  65%|██████▌   | 17/26 [00:08<00:03,  2.57it/s]\u001b[A\n",
            "training set:  69%|██████▉   | 18/26 [00:08<00:03,  2.51it/s]\u001b[A\n",
            "training set:  73%|███████▎  | 19/26 [00:09<00:02,  2.54it/s]\u001b[A\n",
            "training set:  77%|███████▋  | 20/26 [00:09<00:02,  2.64it/s]\u001b[A\n",
            "training set:  81%|████████  | 21/26 [00:10<00:02,  2.34it/s]\u001b[A\n",
            "training set:  85%|████████▍ | 22/26 [00:11<00:02,  1.67it/s]\u001b[A\n",
            "training set:  88%|████████▊ | 23/26 [00:12<00:02,  1.47it/s]\u001b[A\n",
            "training set:  92%|█████████▏| 24/26 [00:12<00:01,  1.70it/s]\u001b[A\n",
            "training set: 100%|██████████| 26/26 [00:12<00:00,  2.02it/s]\n",
            "\n",
            "dev set:   0%|          | 0/3 [00:00<?, ?it/s]\u001b[A\n",
            "dev set:  33%|███▎      | 1/3 [00:00<00:00,  2.61it/s]\u001b[A\n",
            "dev set:  67%|██████▋   | 2/3 [00:00<00:00,  2.22it/s]\u001b[A\n",
            "dev set: 100%|██████████| 3/3 [00:01<00:00,  2.47it/s]\n",
            "\n",
            "dev set:   0%|          | 0/7 [00:00<?, ?it/s]\u001b[A\n",
            "dev set:  14%|█▍        | 1/7 [00:00<00:02,  2.02it/s]\u001b[A\n",
            "dev set:  29%|██▊       | 2/7 [00:01<00:03,  1.41it/s]\u001b[A\n",
            "dev set:  43%|████▎     | 3/7 [00:02<00:04,  1.04s/it]\u001b[A\n",
            "dev set:  57%|█████▋    | 4/7 [00:04<00:03,  1.30s/it]\u001b[A\n",
            "dev set:  71%|███████▏  | 5/7 [00:05<00:02,  1.14s/it]\u001b[A\n",
            "dev set:  86%|████████▌ | 6/7 [00:05<00:00,  1.12it/s]\u001b[A\n",
            "dev set: 100%|██████████| 7/7 [00:06<00:00,  1.12it/s]\n",
            " 40%|████      | 2/5 [00:35<00:54, 18.33s/it]"
          ]
        },
        {
          "output_type": "stream",
          "name": "stdout",
          "text": [
            "\n",
            "Train loss: 0.6246 Validation loss: 0.5700 Test loss: 0.5943\n",
            "Train accuracy: 0.8127 Validation accuracy: 0.8708 Test accuracy: 0.8157\n"
          ]
        },
        {
          "output_type": "stream",
          "name": "stderr",
          "text": [
            "\n",
            "training set:   0%|          | 0/26 [00:00<?, ?it/s]\u001b[A\n",
            "training set:   4%|▍         | 1/26 [00:00<00:09,  2.70it/s]\u001b[A\n",
            "training set:   8%|▊         | 2/26 [00:00<00:09,  2.41it/s]\u001b[A\n",
            "training set:  12%|█▏        | 3/26 [00:01<00:09,  2.54it/s]\u001b[A\n",
            "training set:  15%|█▌        | 4/26 [00:01<00:09,  2.32it/s]\u001b[A\n",
            "training set:  19%|█▉        | 5/26 [00:02<00:08,  2.34it/s]\u001b[A\n",
            "training set:  23%|██▎       | 6/26 [00:02<00:07,  2.50it/s]\u001b[A\n",
            "training set:  27%|██▋       | 7/26 [00:02<00:07,  2.49it/s]\u001b[A\n",
            "training set:  31%|███       | 8/26 [00:03<00:07,  2.50it/s]\u001b[A\n",
            "training set:  35%|███▍      | 9/26 [00:03<00:06,  2.51it/s]\u001b[A\n",
            "training set:  38%|███▊      | 10/26 [00:03<00:06,  2.59it/s]\u001b[A\n",
            "training set:  42%|████▏     | 11/26 [00:04<00:05,  2.65it/s]\u001b[A\n",
            "training set:  46%|████▌     | 12/26 [00:04<00:05,  2.69it/s]\u001b[A\n",
            "training set:  50%|█████     | 13/26 [00:05<00:04,  2.67it/s]\u001b[A\n",
            "training set:  54%|█████▍    | 14/26 [00:05<00:04,  2.70it/s]\u001b[A\n",
            "training set:  58%|█████▊    | 15/26 [00:05<00:04,  2.66it/s]\u001b[A\n",
            "training set:  62%|██████▏   | 16/26 [00:06<00:04,  2.18it/s]\u001b[A\n",
            "training set:  65%|██████▌   | 17/26 [00:06<00:03,  2.26it/s]\u001b[A\n",
            "training set:  69%|██████▉   | 18/26 [00:07<00:03,  2.38it/s]\u001b[A\n",
            "training set:  73%|███████▎  | 19/26 [00:07<00:03,  2.10it/s]\u001b[A\n",
            "training set:  77%|███████▋  | 20/26 [00:08<00:02,  2.21it/s]\u001b[A\n",
            "training set:  81%|████████  | 21/26 [00:08<00:02,  2.36it/s]\u001b[A\n",
            "training set:  85%|████████▍ | 22/26 [00:09<00:01,  2.30it/s]\u001b[A\n",
            "training set:  88%|████████▊ | 23/26 [00:09<00:01,  2.06it/s]\u001b[A\n",
            "training set:  92%|█████████▏| 24/26 [00:10<00:01,  1.76it/s]\u001b[A\n",
            "training set: 100%|██████████| 26/26 [00:11<00:00,  2.34it/s]\n",
            "\n",
            "dev set:   0%|          | 0/3 [00:00<?, ?it/s]\u001b[A\n",
            "dev set:  33%|███▎      | 1/3 [00:00<00:01,  1.70it/s]\u001b[A\n",
            "dev set:  67%|██████▋   | 2/3 [00:01<00:00,  1.48it/s]\u001b[A\n",
            "dev set: 100%|██████████| 3/3 [00:01<00:00,  1.65it/s]\n",
            "\n",
            "dev set:   0%|          | 0/7 [00:00<?, ?it/s]\u001b[A\n",
            "dev set:  14%|█▍        | 1/7 [00:00<00:02,  2.53it/s]\u001b[A\n",
            "dev set:  29%|██▊       | 2/7 [00:00<00:01,  2.61it/s]\u001b[A\n",
            "dev set:  43%|████▎     | 3/7 [00:01<00:01,  2.67it/s]\u001b[A\n",
            "dev set:  57%|█████▋    | 4/7 [00:01<00:01,  2.34it/s]\u001b[A\n",
            "dev set:  71%|███████▏  | 5/7 [00:01<00:00,  2.50it/s]\u001b[A\n",
            "dev set:  86%|████████▌ | 6/7 [00:02<00:00,  2.63it/s]\u001b[A\n",
            "dev set: 100%|██████████| 7/7 [00:02<00:00,  2.47it/s]\n",
            " 60%|██████    | 3/5 [00:51<00:34, 17.19s/it]"
          ]
        },
        {
          "output_type": "stream",
          "name": "stdout",
          "text": [
            "\n",
            "Train loss: 0.4290 Validation loss: 0.3525 Test loss: 0.3503\n",
            "Train accuracy: 0.8926 Validation accuracy: 0.9157 Test accuracy: 0.8876\n"
          ]
        },
        {
          "output_type": "stream",
          "name": "stderr",
          "text": [
            "\n",
            "training set:   0%|          | 0/26 [00:00<?, ?it/s]\u001b[A\n",
            "training set:   4%|▍         | 1/26 [00:00<00:08,  2.83it/s]\u001b[A\n",
            "training set:   8%|▊         | 2/26 [00:01<00:13,  1.78it/s]\u001b[A\n",
            "training set:  12%|█▏        | 3/26 [00:01<00:13,  1.69it/s]\u001b[A\n",
            "training set:  15%|█▌        | 4/26 [00:02<00:11,  1.99it/s]\u001b[A\n",
            "training set:  19%|█▉        | 5/26 [00:02<00:09,  2.16it/s]\u001b[A\n",
            "training set:  23%|██▎       | 6/26 [00:02<00:08,  2.29it/s]\u001b[A\n",
            "training set:  27%|██▋       | 7/26 [00:03<00:07,  2.53it/s]\u001b[A\n",
            "training set:  31%|███       | 8/26 [00:03<00:07,  2.52it/s]\u001b[A\n",
            "training set:  35%|███▍      | 9/26 [00:03<00:06,  2.52it/s]\u001b[A\n",
            "training set:  38%|███▊      | 10/26 [00:04<00:06,  2.51it/s]\u001b[A\n",
            "training set:  42%|████▏     | 11/26 [00:04<00:05,  2.51it/s]\u001b[A\n",
            "training set:  46%|████▌     | 12/26 [00:05<00:05,  2.49it/s]\u001b[A\n",
            "training set:  50%|█████     | 13/26 [00:05<00:05,  2.56it/s]\u001b[A\n",
            "training set:  54%|█████▍    | 14/26 [00:05<00:04,  2.58it/s]\u001b[A\n",
            "training set:  58%|█████▊    | 15/26 [00:06<00:04,  2.58it/s]\u001b[A\n",
            "training set:  62%|██████▏   | 16/26 [00:06<00:04,  2.49it/s]\u001b[A\n",
            "training set:  65%|██████▌   | 17/26 [00:07<00:03,  2.55it/s]\u001b[A\n",
            "training set:  69%|██████▉   | 18/26 [00:07<00:03,  2.28it/s]\u001b[A\n",
            "training set:  73%|███████▎  | 19/26 [00:08<00:03,  2.14it/s]\u001b[A\n",
            "training set:  77%|███████▋  | 20/26 [00:08<00:02,  2.05it/s]\u001b[A\n",
            "training set:  81%|████████  | 21/26 [00:09<00:02,  1.88it/s]\u001b[A\n",
            "training set:  85%|████████▍ | 22/26 [00:10<00:02,  1.71it/s]\u001b[A\n",
            "training set:  88%|████████▊ | 23/26 [00:10<00:01,  1.71it/s]\u001b[A\n",
            "training set:  92%|█████████▏| 24/26 [00:11<00:01,  1.71it/s]\u001b[A\n",
            "training set: 100%|██████████| 26/26 [00:11<00:00,  2.20it/s]\n",
            "\n",
            "dev set:   0%|          | 0/3 [00:00<?, ?it/s]\u001b[A\n",
            "dev set:  33%|███▎      | 1/3 [00:01<00:02,  1.07s/it]\u001b[A\n",
            "dev set:  67%|██████▋   | 2/3 [00:02<00:01,  1.00s/it]\u001b[A\n",
            "dev set: 100%|██████████| 3/3 [00:02<00:00,  1.19it/s]\n",
            "\n",
            "dev set:   0%|          | 0/7 [00:00<?, ?it/s]\u001b[A\n",
            "dev set:  14%|█▍        | 1/7 [00:00<00:02,  2.13it/s]\u001b[A\n",
            "dev set:  29%|██▊       | 2/7 [00:01<00:02,  1.79it/s]\u001b[A\n",
            "dev set:  43%|████▎     | 3/7 [00:01<00:02,  1.80it/s]\u001b[A\n",
            "dev set:  57%|█████▋    | 4/7 [00:02<00:01,  1.88it/s]\u001b[A\n",
            "dev set:  71%|███████▏  | 5/7 [00:02<00:00,  2.17it/s]\u001b[A\n",
            "dev set:  86%|████████▌ | 6/7 [00:02<00:00,  2.40it/s]\u001b[A\n",
            "dev set: 100%|██████████| 7/7 [00:03<00:00,  2.12it/s]\n",
            " 80%|████████  | 4/5 [01:09<00:17, 17.38s/it]"
          ]
        },
        {
          "output_type": "stream",
          "name": "stdout",
          "text": [
            "\n",
            "Train loss: 0.3048 Validation loss: 0.4146 Test loss: 0.3526\n",
            "Train accuracy: 0.9051 Validation accuracy: 0.8764 Test accuracy: 0.8966\n"
          ]
        },
        {
          "output_type": "stream",
          "name": "stderr",
          "text": [
            "\n",
            "training set:   0%|          | 0/26 [00:00<?, ?it/s]\u001b[A\n",
            "training set:   4%|▍         | 1/26 [00:00<00:09,  2.71it/s]\u001b[A\n",
            "training set:   8%|▊         | 2/26 [00:01<00:12,  1.86it/s]\u001b[A\n",
            "training set:  12%|█▏        | 3/26 [00:01<00:11,  2.08it/s]\u001b[A\n",
            "training set:  15%|█▌        | 4/26 [00:01<00:09,  2.24it/s]\u001b[A\n",
            "training set:  19%|█▉        | 5/26 [00:02<00:09,  2.27it/s]\u001b[A\n",
            "training set:  23%|██▎       | 6/26 [00:02<00:08,  2.37it/s]\u001b[A\n",
            "training set:  27%|██▋       | 7/26 [00:03<00:07,  2.50it/s]\u001b[A\n",
            "training set:  31%|███       | 8/26 [00:03<00:07,  2.49it/s]\u001b[A\n",
            "training set:  35%|███▍      | 9/26 [00:03<00:07,  2.33it/s]\u001b[A\n",
            "training set:  38%|███▊      | 10/26 [00:04<00:08,  1.84it/s]\u001b[A\n",
            "training set:  42%|████▏     | 11/26 [00:05<00:08,  1.71it/s]\u001b[A\n",
            "training set:  46%|████▌     | 12/26 [00:06<00:08,  1.61it/s]\u001b[A\n",
            "training set:  50%|█████     | 13/26 [00:06<00:08,  1.57it/s]\u001b[A\n",
            "training set:  54%|█████▍    | 14/26 [00:07<00:07,  1.57it/s]\u001b[A\n",
            "training set:  58%|█████▊    | 15/26 [00:07<00:06,  1.71it/s]\u001b[A\n",
            "training set:  62%|██████▏   | 16/26 [00:08<00:05,  1.88it/s]\u001b[A\n",
            "training set:  65%|██████▌   | 17/26 [00:08<00:04,  1.98it/s]\u001b[A\n",
            "training set:  69%|██████▉   | 18/26 [00:09<00:03,  2.16it/s]\u001b[A\n",
            "training set:  73%|███████▎  | 19/26 [00:09<00:03,  2.29it/s]\u001b[A\n",
            "training set:  77%|███████▋  | 20/26 [00:09<00:02,  2.42it/s]\u001b[A\n",
            "training set:  81%|████████  | 21/26 [00:10<00:02,  2.50it/s]\u001b[A\n",
            "training set:  85%|████████▍ | 22/26 [00:10<00:01,  2.57it/s]\u001b[A\n",
            "training set:  88%|████████▊ | 23/26 [00:11<00:01,  2.27it/s]\u001b[A\n",
            "training set:  92%|█████████▏| 24/26 [00:11<00:00,  2.27it/s]\u001b[A\n",
            "training set: 100%|██████████| 26/26 [00:11<00:00,  2.17it/s]\n",
            "\n",
            "dev set:   0%|          | 0/3 [00:00<?, ?it/s]\u001b[A\n",
            "dev set:  33%|███▎      | 1/3 [00:00<00:00,  2.48it/s]\u001b[A\n",
            "dev set:  67%|██████▋   | 2/3 [00:00<00:00,  2.17it/s]\u001b[A\n",
            "dev set: 100%|██████████| 3/3 [00:01<00:00,  2.42it/s]\n",
            "\n",
            "dev set:   0%|          | 0/7 [00:00<?, ?it/s]\u001b[A\n",
            "dev set:  14%|█▍        | 1/7 [00:00<00:02,  2.47it/s]\u001b[A\n",
            "dev set:  29%|██▊       | 2/7 [00:00<00:01,  2.63it/s]\u001b[A\n",
            "dev set:  43%|████▎     | 3/7 [00:01<00:01,  2.70it/s]\u001b[A\n",
            "dev set:  57%|█████▋    | 4/7 [00:01<00:01,  2.39it/s]\u001b[A\n",
            "dev set:  71%|███████▏  | 5/7 [00:01<00:00,  2.58it/s]\u001b[A\n",
            "dev set:  86%|████████▌ | 6/7 [00:02<00:00,  2.69it/s]\u001b[A\n",
            "dev set: 100%|██████████| 7/7 [00:02<00:00,  2.49it/s]\n",
            "100%|██████████| 5/5 [01:25<00:00, 17.07s/it]"
          ]
        },
        {
          "output_type": "stream",
          "name": "stdout",
          "text": [
            "\n",
            "Train loss: 0.2742 Validation loss: 0.2397 Test loss: 0.2526\n",
            "Train accuracy: 0.9139 Validation accuracy: 0.9382 Test accuracy: 0.9258\n"
          ]
        },
        {
          "output_type": "stream",
          "name": "stderr",
          "text": [
            "\n"
          ]
        }
      ],
      "source": [
        "# Routine di addestramento\n",
        "train_loss, validation_loss,test_loss, train_acc, validation_acc, test_acc = train_test(model, hyperparameters['epochs'],\n",
        "                                                                                optimizer, device, train_dataset,\n",
        "                                                                                test_dataset, hyperparameters['batch_size'],\n",
        "                                                                                criterion, criterion, early_stopping, val_dataset)"
      ]
    },
    {
      "cell_type": "code",
      "source": [
        "import matplotlib.pyplot as plt\n",
        "\n",
        "plt.plot(train_loss, label='training loss')\n",
        "plt.plot(validation_loss, label='validation loss')\n",
        "plt.plot(test_loss, label='test loss')\n",
        "plt.legend(loc='upper right')\n",
        "plt.ylim(0,4)\n",
        "plt.show()"
      ],
      "metadata": {
        "id": "v3jFVtjAzFqO",
        "colab": {
          "base_uri": "https://localhost:8080/",
          "height": 435
        },
        "outputId": "e976aee0-e3b9-4dbd-a622-2ae47e240249",
        "collapsed": true
      },
      "execution_count": null,
      "outputs": [
        {
          "output_type": "display_data",
          "data": {
            "text/plain": [
              "<Figure size 640x480 with 1 Axes>"
            ],
            "image/png": "[encoded data removed]"
          },
          "metadata": {}
        }
      ]
    },
    {
      "cell_type": "code",
      "execution_count": null,
      "metadata": {
        "id": "9v9uNvAKPPvG",
        "colab": {
          "base_uri": "https://localhost:8080/",
          "height": 435
        },
        "outputId": "d2ae762e-2fcf-4e65-8186-e254b90a0614",
        "collapsed": true
      },
      "outputs": [
        {
          "output_type": "display_data",
          "data": {
            "text/plain": [
              "<Figure size 640x480 with 1 Axes>"
            ],
            "image/png": "[encoded data removed]"
          },
          "metadata": {}
        }
      ],
      "source": [
        "plt.plot(train_acc, label='training accuracy')\n",
        "plt.plot(validation_acc, label='validation accuracy')\n",
        "plt.plot(test_acc, label='test accuracy')\n",
        "plt.legend(loc='lower right')\n",
        "plt.ylim(0,2)\n",
        "plt.show()"
      ]
    },
    {
      "cell_type": "code",
      "source": [
        "# save model\n",
        "\n",
        "import os\n",
        "\n",
        "model_path = root+'models/'\n",
        "\n",
        "def save_model(net, optimizer, current_epoch, train_loss, val_loss, test_loss, path):\n",
        "\n",
        "    # Abbiamo deciso per queste informazioni, ma possiamo caricare qualunque cosa\n",
        "    torch.save({\n",
        "            'epoch': current_epoch,\n",
        "            'model_state_dict': net.state_dict(),\n",
        "            # configurazione di tutti i layer *addestrabili* del modello\n",
        "            'optimizer_state_dict': optimizer.state_dict(),\n",
        "            # configurazione e iperparametri dell'ottimizzatore\n",
        "            'training_loss': train_loss,\n",
        "            'validation_loss': val_loss,\n",
        "            'test_loss': test_loss,\n",
        "            }, path)"
      ],
      "metadata": {
        "id": "h5w-P8K7_Uuq"
      },
      "execution_count": null,
      "outputs": []
    },
    {
      "cell_type": "code",
      "source": [
        "def load_model(path, hyperameters, labels_dict, ModelClass=nn.Module, OptimizerClass=torch.optim.Optimizer, device = None):\n",
        "\n",
        "    # Ricarichiamo il dizionario e restituiamo la tupla delle informazioni\n",
        "    # La rete e l'ottimizzatore devono essere inizializzate prima di caricare\n",
        "    # lo stato salvato\n",
        "\n",
        "    # Inizializziamo il modello con la classe di rete neurale richiesta\n",
        "    model = ModelClass(len(labels_dict),\n",
        "                        hyperparameters[\"layers\"],\n",
        "                        hyperparameters[\"h_dim\"],\n",
        "                        hyperparameters[\"bilstm\"],\n",
        "                        hyperparameters[\"dropout\"])\n",
        "\n",
        "    # Se il device è specificato e non è la CPU, allora muoviamo il modello sul device\n",
        "    if device != None and device != 'cpu':\n",
        "        model.to(device)\n",
        "\n",
        "    # Analogo discorso per l'ottimizzatore\n",
        "    optimizer = OptimizerClass(model.parameters(), lr=hyperparameters['learning_rate'])\n",
        "\n",
        "    # carichiamo il model checkpoint\n",
        "    checkpoint = torch.load(path)\n",
        "\n",
        "    # inizializziamo lo stato del modello e dell'ottimizzatore\n",
        "    model.load_state_dict(checkpoint['model_state_dict'])\n",
        "    optimizer.load_state_dict(checkpoint['optimizer_state_dict'])\n",
        "\n",
        "    # restituiamo tutte le informazioni in una tupla\n",
        "    return (model, optimizer, checkpoint['epoch'], checkpoint['training_loss'],\n",
        "            checkpoint['validation_loss'], checkpoint['test_loss'])"
      ],
      "metadata": {
        "id": "0JjeFD4G_qQd"
      },
      "execution_count": null,
      "outputs": []
    },
    {
      "cell_type": "code",
      "source": [
        "save_model(model, optimizer, len(train_loss), train_loss, validation_loss, test_loss, os.path.join(model_path,'net1.pth'))\n",
        "\n",
        "(mod, _opt, _ep, _tr_loss, _val_loss, _testloss) = load_model(os.path.join(model_path,'net1.pth'), EmbsLSTMClassifierDeep, torch.optim.Adam, device=device)"
      ],
      "metadata": {
        "colab": {
          "base_uri": "https://localhost:8080/"
        },
        "id": "tQNThv5EQZtQ",
        "outputId": "4d09d865-4759-4d2c-933a-896cb8a711e7"
      },
      "execution_count": null,
      "outputs": [
        {
          "output_type": "stream",
          "name": "stderr",
          "text": [
            "<ipython-input-34-05c099d05d20>:18: FutureWarning: You are using `torch.load` with `weights_only=False` (the current default value), which uses the default pickle module implicitly. It is possible to construct malicious pickle data which will execute arbitrary code during unpickling (See https://github.com/pytorch/pytorch/blob/main/SECURITY.md#untrusted-models for more details). In a future release, the default value for `weights_only` will be flipped to `True`. This limits the functions that could be executed during unpickling. Arbitrary objects will no longer be allowed to be loaded via this mode unless they are explicitly allowlisted by the user via `torch.serialization.add_safe_globals`. We recommend you start setting `weights_only=True` for any use case where you don't have full control of the loaded file. Please open an issue on GitHub for any issues related to this experimental feature.\n",
            "  checkpoint = torch.load(path)\n"
          ]
        }
      ]
    },
    {
      "cell_type": "code",
      "source": [
        "def evaluate(model, test_data, glove, device, pred_path):\n",
        "\n",
        "    dataloader = torch.utils.data.DataLoader(test_data, batch_size=1)\n",
        "\n",
        "    model.eval()\n",
        "\n",
        "    acc = 0\n",
        "\n",
        "    with torch.no_grad():\n",
        "\n",
        "        for idx, (batch_texts, batch_labels) in enumerate(tqdm(dataloader, desc='evaluation')):\n",
        "\n",
        "            # tokenizzazione\n",
        "            tokens = [nltk.word_tokenize(text, language='english') for text in list(batch_texts)]\n",
        "            # embeddings\n",
        "            embeddings = gen_embeddings_glove(tokens, glove)\n",
        "            max_len_batch = get_max_len(embeddings)\n",
        "            # padding\n",
        "            input_embeddings =  torch.stack([torch.nn.functional.pad(x,(0,0,0, max_len_batch-x.shape[0])) for x in embeddings]).float().to(device)\n",
        "            batch_labels = batch_labels.to(device)\n",
        "\n",
        "            output = model(input_embeddings)\n",
        "\n",
        "            # per calcolare l'accuracy devo generare le predizioni\n",
        "            # applicando manualmente la logsoftmax\n",
        "            softmax = nn.LogSoftmax(dim=1)\n",
        "            acc += (softmax(output).argmax(dim=1) == batch_labels).sum().item()\n",
        "\n",
        "            batch_labels = batch_labels.detach().cpu()\n",
        "            input_embeddings = input_embeddings.detach().cpu()\n",
        "            output = output.detach().cpu()\n",
        "\n",
        "            with open(pred_path, 'a') as f:\n",
        "                f.write(f'{idx},{batch_labels},{softmax(output).argmax(dim=1)}\\n')\n",
        "\n",
        "\n",
        "    return acc\n",
        "\n",
        "glove = load_glove()\n",
        "predictions_path = os.path.join(root,'predictions/')\n",
        "os.makedirs(predictions_path, exist_ok=True)\n",
        "pred_path = predictions_path+'pred.csv'\n",
        "with open(pred_path, 'w') as f:\n",
        "    f.write('idx,label,pred\\n')\n",
        "\n",
        "acc = evaluate(model, test_dataset, glove, device, pred_path)\n",
        "\n",
        "print(f'Accuracy {acc/len(test_dataset):.3}')"
      ],
      "metadata": {
        "id": "fF6I2rZAAFui",
        "colab": {
          "base_uri": "https://localhost:8080/"
        },
        "outputId": "5cb8a0bf-6ec2-45a3-bbb6-7070d535b49f"
      },
      "execution_count": null,
      "outputs": [
        {
          "output_type": "stream",
          "name": "stdout",
          "text": [
            "Loading glove vectors ...\n",
            "Glove vectors loaded\n"
          ]
        },
        {
          "output_type": "stream",
          "name": "stderr",
          "text": [
            "evaluation: 100%|██████████| 445/445 [00:06<00:00, 63.66it/s]"
          ]
        },
        {
          "output_type": "stream",
          "name": "stdout",
          "text": [
            "Accuracy 0.915\n"
          ]
        },
        {
          "output_type": "stream",
          "name": "stderr",
          "text": [
            "\n"
          ]
        }
      ]
    }
  ],
  "metadata": {
    "accelerator": "GPU",
    "colab": {
      "gpuType": "T4",
      "provenance": []
    },
    "kernelspec": {
      "display_name": "Python 3",
      "name": "python3"
    },
    "language_info": {
      "codemirror_mode": {
        "name": "ipython",
        "version": 3
      },
      "file_extension": ".py",
      "mimetype": "text/x-python",
      "name": "python",
      "nbconvert_exporter": "python",
      "pygments_lexer": "ipython3",
      "version": "3.7.11"
    }
  },
  "nbformat": 4,
  "nbformat_minor": 0
}