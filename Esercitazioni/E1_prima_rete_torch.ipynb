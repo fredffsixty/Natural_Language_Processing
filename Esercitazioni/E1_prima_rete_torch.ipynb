{
  "cells": [
    {
      "cell_type": "markdown",
      "metadata": {
        "id": "J8ev5IgBFdTr"
      },
      "source": [
        "# Introduzione a PyTorch\n",
        "\n",
        "PyTorch fornisce diversi moduli, di cui ``torch.nn`` è quello base per  la creazione dei modelli neurali, mentre i dati sono gestiti tramite ``torch.utils.data.DataSet`` che si occupa di caricare i dati dalle sorgenti e creare i tensori e ``torch.utils.data.DataLoader`` che si occupa di creare i batch e caricarli sul device selezionato per l'addestramento.\n",
        "Esitono poi le librerie ``torchvision``, ``torchtext`` e ``torchaudio`` che forniscono data set specifici e funzioni di gestione per i tre domini di riferimento."
      ]
    },
    {
      "cell_type": "code",
      "execution_count": 1,
      "metadata": {
        "id": "04ftt9RfFXG1"
      },
      "outputs": [],
      "source": [
        "# Importiamo tutte le librerire necessarie\n",
        "import torch\n",
        "from torch import nn\n",
        "from torch.utils.data import DataLoader, Dataset, random_split\n",
        "from sklearn.metrics import accuracy_score, precision_score, recall_score, f1_score\n",
        "from torchvision import datasets\n",
        "from torchvision.transforms import ToTensor\n",
        "import os.path\n",
        "import matplotlib.pyplot as plt\n",
        "from tqdm import trange\n",
        "from tqdm import tqdm"
      ]
    },
    {
      "cell_type": "code",
      "execution_count": 2,
      "metadata": {
        "colab": {
          "base_uri": "https://localhost:8080/"
        },
        "id": "vY-AnIsOFh0s",
        "outputId": "ba3254a9-9ca7-4f07-a451-bc0f2aeda834"
      },
      "outputs": [
        {
          "name": "stdout",
          "output_type": "stream",
          "text": [
            "Drive already mounted at /content/gdrive; to attempt to forcibly remount, call drive.mount(\"/content/gdrive\", force_remount=True).\n"
          ]
        }
      ],
      "source": [
        "# Connettiamoci a Google Drive per salvare i dati\n",
        "from google.colab import drive\n",
        "\n",
        "drive.mount('/content/gdrive')"
      ]
    },
    {
      "cell_type": "markdown",
      "metadata": {
        "id": "jE-E9Es5FlN9"
      },
      "source": [
        "All'interno della cartella ``/content/gdrive`` che è un mountpoint convenzionale, troviamo ``MyDrive`` e ``Shareddrives``. In ``Mydrive`` ritroveremo tutta la struttura di cartelle presenti nel nostro Google Drive, per cui possiamo certamente stabilire una root dei nostri dati e dei nostri notebook, che ciascuno farà puntare ad una cartella di propria scelta.\n",
        "\n",
        "**Nota Bene:** i percorsi sono in stile Linux.\n"
      ]
    },
    {
      "cell_type": "code",
      "execution_count": 3,
      "metadata": {
        "id": "6gMDLCCSFl27"
      },
      "outputs": [],
      "source": [
        "# root dei percorsi\n",
        "root = \"/content/gdrive/MyDrive/ColabNotebooks/torch\"\n",
        "os.makedirs(root, exist_ok='True')\n",
        "# percorso dei dati\n",
        "data_path = os.path.join(root,'data')\n",
        "\n",
        "# lo creiamo la prima volta\n",
        "if not os.path.exists(data_path):\n",
        "    os.mkdir(data_path)\n",
        "\n",
        "# Analogamente per il percorso dei modelli\n",
        "model_path = os.path.join(root,'models')\n",
        "\n",
        "if not os.path.exists(model_path):\n",
        "    os.mkdir(model_path)\n"
      ]
    },
    {
      "cell_type": "markdown",
      "metadata": {
        "id": "qMaBEVRHGIXe"
      },
      "source": [
        "Useremo il database ``FashionMNIST``per il nostro esempio: si tratta di 70000 immagini di dimensione 28x28, a livelli di grigio, che ritraggono capi di abbigliamento e sono associate a delle etichette testuali ch riportano il tipo di capo.\n",
        "\n",
        "Abbiamo a che fare quindi con un problema di classificazione multiclasse di immagini che affronteremo con una rete neurale convoluizonale.\n",
        "\n",
        "Il data set è suddiviso in un training set da 60000 immagini e un test set da 10000 immagini. Eseguiremo il download direttamente tramite ``torch`` che genererà un ``DataSet``."
      ]
    },
    {
      "cell_type": "code",
      "execution_count": 4,
      "metadata": {
        "colab": {
          "base_uri": "https://localhost:8080/"
        },
        "id": "vy-3ji-yGG-7",
        "outputId": "0b562724-92f3-4c16-9238-f27ae252529d"
      },
      "outputs": [
        {
          "name": "stdout",
          "output_type": "stream",
          "text": [
            "Campioni nel training set: 54000        \n",
            "Campioni nel validation set: 6000        \n",
            "Campioni nel test set: 10000\n"
          ]
        }
      ],
      "source": [
        "# flag per forzare il download del data set solo la prima volta\n",
        "download = not os.path.exists(os.path.join(data_path,'FashionMNIST'))\n",
        "\n",
        "# Download del training set da un open data set.\n",
        "training = datasets.FashionMNIST(\n",
        "    root=data_path,\n",
        "    train=True,         # esegue il download dalla cartella/archivio dei dati di train del data set originale\n",
        "    download=download,\n",
        "    transform=ToTensor(),\n",
        ")\n",
        "\n",
        "# Download del training set da un open test set.\n",
        "test_data = datasets.FashionMNIST(\n",
        "    root=data_path,\n",
        "    train=False,\n",
        "    download=download,\n",
        "    transform=ToTensor(),\n",
        ")\n",
        "\n",
        "# eseguiamo lo split 90% - 10% dei dati di train per creare il validation set\n",
        "training_size = int(0.9 * len(training))\n",
        "val_size = int(0.1 * len(training))\n",
        "\n",
        "training_data, val_data = random_split(training, [training_size, val_size])\n",
        "\n",
        "print(f\"Campioni nel training set: {len(training_data)}\\\n",
        "        \\nCampioni nel validation set: {len(val_data)}\\\n",
        "        \\nCampioni nel test set: {len(test_data)}\")"
      ]
    },
    {
      "cell_type": "markdown",
      "metadata": {
        "id": "oknFW9oLGXuU"
      },
      "source": [
        "### Tensori\n",
        "\n",
        "Nel codice precedente abbiamo visto che la trasformazione usata nella creazione dei data set è quella tipica, ovvero la chiamata di ``torchvision.ToTensor()`` che converte un'immagine di dimensioni HxWxC in un tensore di dimensioni CxHxW. Le trasformazioni possono essere anche definite dall'utente attraverso funzioni lambda.\n",
        "\n",
        "I tensori in Pytorch sono implementati in maniera molto simile agli array in ``numpy``: essi hanno diversi tipi dei dati, infatti la classe base ``torch.Tensor`` è il default che ha un ``dtype=torc.float32`` ed è un alias per ``torch.FloatTensor``.\n",
        "Pytorch usa i tensori per implementare tutta l'algebra lineare, le operazioni di campionamento, e quelle che guidano la propagazione dei gradienti durante l'addestramento.\n",
        "\n",
        "I tensori possono essere creati da specifiche operazioni che danno come risultato un tensore, come ``torch.randint()`` che vedremo tra poco e che genera un tensore di numeri interi casuali di data dimensione, oppure esplicitamente con ``torch.tensor()`` che crea un tensore da una struttura di tipo array."
      ]
    },
    {
      "cell_type": "markdown",
      "metadata": {
        "id": "q95Kt9hGGYtI"
      },
      "source": [
        "### Dataset\n",
        "Un ``Dataset`` è in genere implementato come una ``map`` Python, quindi con accesso a indice, ma può essere anche creato come sottoclasse di ``IterableDataset`` come un iteratore.\n",
        "\n",
        "Diamo un'occhiata al nostro data set, ricordandoci che è implementato con accesso ad indice."
      ]
    },
    {
      "cell_type": "code",
      "execution_count": 5,
      "metadata": {
        "colab": {
          "base_uri": "https://localhost:8080/",
          "height": 675
        },
        "id": "2FqjQO9WGVjD",
        "outputId": "7752850b-2cbf-4d84-ff64-d4c1623a8bd5"
      },
      "outputs": [
        {
          "data": {
            "image/png": "[encoded data removed]",
            "text/plain": [
              "<Figure size 800x800 with 9 Axes>"
            ]
          },
          "metadata": {},
          "output_type": "display_data"
        }
      ],
      "source": [
        "labels_map = {\n",
        "    0: \"T-Shirt\",\n",
        "    1: \"Trouser\",\n",
        "    2: \"Pullover\",\n",
        "    3: \"Dress\",\n",
        "    4: \"Coat\",\n",
        "    5: \"Sandal\",\n",
        "    6: \"Shirt\",\n",
        "    7: \"Sneaker\",\n",
        "    8: \"Bag\",\n",
        "    9: \"Ankle Boot\",\n",
        "}\n",
        "figure = plt.figure(figsize=(8, 8))\n",
        "cols, rows = 3, 3\n",
        "for i in range(1, cols * rows + 1):\n",
        "    # Genero un tensore casuale composto da un solo elemento nel range della lunghezza del data set\n",
        "    # e lo converto in numero usando il metodo Tensor.item()\n",
        "    sample_idx = torch.randint(len(training_data), size=(1,)).item()\n",
        "    img, label = training_data[sample_idx]\n",
        "    figure.add_subplot(rows, cols, i)\n",
        "    plt.title(labels_map[label])\n",
        "    plt.axis(\"off\")\n",
        "    plt.imshow(img.squeeze(), cmap=\"gray\")\n",
        "plt.show()"
      ]
    },
    {
      "cell_type": "code",
      "execution_count": 6,
      "metadata": {
        "colab": {
          "base_uri": "https://localhost:8080/"
        },
        "id": "zld9Aal3Gfz-",
        "outputId": "86710f21-3714-46b1-a1de-ca6ef8b80936"
      },
      "outputs": [
        {
          "name": "stdout",
          "output_type": "stream",
          "text": [
            "Using cuda device\n"
          ]
        }
      ],
      "source": [
        "# Acquisiamo il device su cui effettueremo il training\n",
        "device = torch.device(\"cuda\" if torch.cuda.is_available() else \"cpu\")\n",
        "print(f\"Using {device} device\")"
      ]
    },
    {
      "cell_type": "code",
      "execution_count": 7,
      "metadata": {
        "id": "eP0iRHyUGhh9"
      },
      "outputs": [],
      "source": [
        "# Al fine di localizzare la zona di codice su cui intervenire\n",
        "# definiamo un dict che contenga tutti gli iperparametri del modello\n",
        "# potremo variarli quando vorremo agendo solo qui\n",
        "\n",
        "hyperparameters = {\n",
        "    \"learning_rate\": 1e-3,\n",
        "    \"batch_size\": 64,\n",
        "    \"epochs\": 20,\n",
        "    \"patience\": 5,\n",
        "    \"min_delta\": 0.01,\n",
        "    \"momentum\": 0.9,\n",
        "    \"nesterov\": True\n",
        "}"
      ]
    },
    {
      "cell_type": "code",
      "execution_count": 8,
      "metadata": {
        "colab": {
          "base_uri": "https://localhost:8080/"
        },
        "id": "hi9PSyhjGxA3",
        "outputId": "b061d0c1-0495-49a2-df6d-599708df4090"
      },
      "outputs": [
        {
          "name": "stdout",
          "output_type": "stream",
          "text": [
            "Shape di X [N, C, H, W]: torch.Size([64, 1, 28, 28])\n",
            "Shape di y: torch.Size([64]) torch.int64\n"
          ]
        }
      ],
      "source": [
        "# Spostiamo i dati sulla GPU\n",
        "training_data.dataset.data.to(device)\n",
        "val_data.dataset.data.to(device)\n",
        "test_data.data.to(device)\n",
        "\n",
        "# Creiamo i data loaders che saranno gli iteraboili che generano i batch di\n",
        "# addestramento e/o test\n",
        "train_dataloader = DataLoader(training_data,\n",
        "                            batch_size=hyperparameters['batch_size'], # Imposta la dimensione del batch\n",
        "                            shuffle=True,                             # Shuffling dei batch tra un'epoca e l'altra\n",
        "                            num_workers=2,                            # Numero dei sottoprocessi di caricamento dei dati\n",
        "                            prefetch_factor=12,                       # Campioni precaricati da ogni sottoprocesso\n",
        "                            pin_memory=True)                          # Usa la memoria non paginata per muovere i tensori\n",
        "                                                                      # da CPU a GPU\n",
        "val_dataloader = DataLoader(val_data,\n",
        "                            batch_size=hyperparameters['batch_size'],\n",
        "                            shuffle=True,\n",
        "                            num_workers=2,\n",
        "                            prefetch_factor=12,\n",
        "                            pin_memory=True)\n",
        "\n",
        "test_dataloader = DataLoader(test_data,\n",
        "                            batch_size=hyperparameters['batch_size'],\n",
        "                            shuffle=True,\n",
        "                            num_workers=2,\n",
        "                            prefetch_factor=12,\n",
        "                            pin_memory=True)\n",
        "\n",
        "# semplice investigazione della shape dei tensori: usiamo il primo\n",
        "# batch del test dataloader come esempio\n",
        "for X, y in test_dataloader:\n",
        "    print(f\"Shape di X [N, C, H, W]: {X.shape}\")\n",
        "    print(f\"Shape di y: {y.shape} {y.dtype}\")\n",
        "    break"
      ]
    },
    {
      "cell_type": "markdown",
      "metadata": {
        "id": "BmOBkxI7Gewf"
      },
      "source": []
    },
    {
      "cell_type": "code",
      "execution_count": 9,
      "metadata": {
        "colab": {
          "base_uri": "https://localhost:8080/"
        },
        "id": "Bz90lSjBG3l0",
        "outputId": "32b8bbcc-f725-4463-d99d-d4b574f08681"
      },
      "outputs": [
        {
          "name": "stdout",
          "output_type": "stream",
          "text": [
            "NeuralNetwork(\n",
            "  (deep_conv_stack): Sequential(\n",
            "    (0): Conv2d(1, 64, kernel_size=(3, 3), stride=(1, 1))\n",
            "    (1): ReLU()\n",
            "    (2): Conv2d(64, 128, kernel_size=(3, 3), stride=(1, 1))\n",
            "    (3): ReLU()\n",
            "    (4): Conv2d(128, 256, kernel_size=(3, 3), stride=(1, 1))\n",
            "    (5): ReLU()\n",
            "    (6): Conv2d(256, 64, kernel_size=(3, 3), stride=(1, 1))\n",
            "    (7): ReLU()\n",
            "    (8): AvgPool2d(kernel_size=2, stride=2, padding=0)\n",
            "    (9): Conv2d(64, 32, kernel_size=(3, 3), stride=(1, 1))\n",
            "    (10): ReLU()\n",
            "    (11): AvgPool2d(kernel_size=2, stride=2, padding=0)\n",
            "    (12): Flatten(start_dim=1, end_dim=-1)\n",
            "    (13): Linear(in_features=512, out_features=10, bias=True)\n",
            "  )\n",
            ")\n",
            "Numbero totale dei parametri: 540778\n"
          ]
        }
      ],
      "source": [
        "#  Creiamo il modello\n",
        "class NeuralNetwork(nn.Module):\n",
        "    def __init__(self):\n",
        "        super().__init__()\n",
        "\n",
        "        self.deep_conv_stack = nn.Sequential(\n",
        "            nn.Conv2d(1, 64, 3),        # Shape: (N, 1, 28, 28)   --> (N, 64, 26, 26) a causa del kernel 3x3\n",
        "            nn.ReLU(),\n",
        "            nn.Conv2d(64, 128, 3),      # Shape: (N, 64, 26, 26)  --> (N, 128, 24, 24)\n",
        "            nn.ReLU(),\n",
        "            nn.Conv2d(128, 256, 3),     # Shape: (N, 128, 24, 24) --> (N, 256, 22, 22)\n",
        "            nn.ReLU(),\n",
        "            nn.Conv2d(256, 64, 3),      # Shape: (N, 256, 22, 22) --> (N, 64, 20, 20)\n",
        "            nn.ReLU(),\n",
        "            nn.AvgPool2d(2),            # Shape: (N, 256, 20, 20) --> (N, 64, 10, 10) a causa della divisione per due\n",
        "            nn.Conv2d(64, 32, 3),       # Shape: (N, 64, 10, 10)  --> (N, 32, 8, 8)\n",
        "            nn.ReLU(),\n",
        "            nn.AvgPool2d(2),            # Shape: (N, 32, 8, 8)    --> (N, 32, 4, 4)\n",
        "            nn.Flatten(),               # Shape: (N, 32, 4, 4)    --> (N, 512) il flatten moltiplica tutte le dimensioni tra loro\n",
        "            nn.Linear(512, 10)          # Shape: (N, 512)         --> (N, 10) strato denso di calcolo dei logits\n",
        "        )\n",
        "\n",
        "    def forward(self, x):\n",
        "        # Calcolo della rete in avanti\n",
        "        logits = self.deep_conv_stack(x)                # parte profonda della rete che estrae i logits\n",
        "        pred_probab = nn.LogSoftmax(dim=1)(logits)      # uscita esplicita con log-softmax per la predizione delle etichette\n",
        "        return pred_probab\n",
        "\n",
        "# Il metodo to() sposta il modello sul device selezionato\n",
        "model = NeuralNetwork().to(device)\n",
        "print(model)\n",
        "\n",
        "# Calcoliamo il numero totale dei parametri del modello\n",
        "total_params = sum(p.numel() for p in model.parameters())\n",
        "print(f\"Numbero totale dei parametri: {total_params}\")"
      ]
    },
    {
      "cell_type": "code",
      "execution_count": 10,
      "metadata": {
        "id": "1QdXRpAfG9i4"
      },
      "outputs": [],
      "source": [
        "loss_fn = nn.NLLLoss()               # Negative log-likelihood\n",
        "\n",
        "optimizer = torch.optim.SGD(\n",
        "                            model.parameters(),\n",
        "                            lr=hyperparameters['learning_rate'],\n",
        "                            momentum=hyperparameters['momentum'],\n",
        "                            nesterov=hyperparameters['nesterov']\n",
        "                            )"
      ]
    },
    {
      "cell_type": "markdown",
      "metadata": {
        "id": "yUMCmCTaHFME"
      },
      "source": [
        "L'addestramento e il test si effettuano come dei loop sui diversi batch, in cui esplicitamente si comanda il passo di backpropagation e/o di predizione e si stabilisce quando non devono essere calcolati i gradienti.\n",
        "\n",
        "Pytorch non implementa l'early stopping come procedura embedded nella libreria e quindi è sempre necessario implementarlo con codice proprio. Definiremo un'apposita classe ``EarlyStopping`` a questo fine:"
      ]
    },
    {
      "cell_type": "code",
      "execution_count": 11,
      "metadata": {
        "id": "MV068nFLHFyu"
      },
      "outputs": [],
      "source": [
        "class EarlyStopping:\n",
        "    def __init__(self, patience=5, min_delta=0.0):\n",
        "\n",
        "        self.patience = patience\n",
        "        self.min_delta = min_delta              # valore minimo di decrescita della loss di validazione all'epoca corrente\n",
        "                                                # per asserire che c'è un miglioramenti della loss\n",
        "        self.counter = 0                        # contatore delle epoche di pazienza\n",
        "        self.early_stop = False                 # flag di early stop\n",
        "        self.min_validation_loss = torch.inf    # valore corrente ottimo della loss di validazione\n",
        "\n",
        "    def __call__(self, validation_loss):\n",
        "        # chiamata in forma funzionale dell'oggetto di classe EarlySopping\n",
        "\n",
        "        if (validation_loss + self.min_delta) >= self.min_validation_loss:  # la loss di validazione non decresce\n",
        "            self.counter += 1                                               # incrementiamo il contatore delle epoche di pazienza\n",
        "            if self.counter >= self.patience:\n",
        "                self.early_stop = True\n",
        "        else:                                                               # c'è un miglioramento della loss:\n",
        "            self.min_validation_loss = validation_loss                      # consideriamo la loss corrente\n",
        "                                                                            # come nuova loss ottimale\n",
        "            self.counter = 0                                                # e azzeriamo il contatore di pazienza\n"
      ]
    },
    {
      "cell_type": "markdown",
      "metadata": {
        "id": "Hw-7Gk1IHJdk"
      },
      "source": [
        "Definiremo adesso una API di addestramento e test del modello in cui due funzioni implementano, rispettivamente, un'epoca di train e test. Successivamente, definiremo un wrapper che implementa l'addestramento e test lungo un ciclo di epoche in cui si inserirà l'early stopping."
      ]
    },
    {
      "cell_type": "code",
      "execution_count": 31,
      "metadata": {
        "id": "cAWxxr8mHMsh"
      },
      "outputs": [],
      "source": [
        "def train_loop(model, dataloader, loss_fn, optimizer, device, pbar):\n",
        "\n",
        "    num_batches = len(dataloader)\n",
        "    epoch_loss = 0.0\n",
        "\n",
        "    # Impostiamo la modalità di training del modello: è una best practice che serve per il\n",
        "    # dropout e/o batch normalization\n",
        "    model.train()\n",
        "    for _, (X, y) in zip(pbar,dataloader):      # questa iterazione fatta così garantisce l'avanzamento della progress\n",
        "                                                # bar mentre i batch vengono prelevati dal dataloader\n",
        "\n",
        "        # Spostiamo esplicitamente i tensori sul device di computazione\n",
        "        X, y = X.to(device), y.to(device)\n",
        "\n",
        "        # Passo esplicito di addestramento\n",
        "        optimizer.zero_grad()                   # azzeriamo i gradienti dell'iterata precedente\n",
        "\n",
        "        # Calcoliamo la loss ed effettuiamo la predizione del minibatch\n",
        "        logits = model(X)\n",
        "        batch_loss = loss_fn(logits, y)\n",
        "\n",
        "        epoch_loss += batch_loss.item()\n",
        "\n",
        "        batch_loss.backward()             # step di backpropagation\n",
        "\n",
        "        optimizer.step()                  # passo di ottimizzazione e aggiornamento dei parametri\n",
        "\n",
        "\n",
        "    # Ritorniamo la loss media dell'epoca\n",
        "    return epoch_loss/num_batches\n",
        "\n",
        "def eval_loop(model, dataloader, loss_fn, device):\n",
        "\n",
        "    # Impostiamo la modalità di valutazione del modello: è una best practice che serve per il\n",
        "    # dropout e/o batch normalization\n",
        "    model.eval()\n",
        "\n",
        "    size = len(dataloader.dataset)\n",
        "    num_batches = len(dataloader)\n",
        "    test_loss, accuracy = 0.0, 0\n",
        "\n",
        "    y_true = []\n",
        "    y_pred = []\n",
        "\n",
        "    # context manager che disabilita esplicitamente il calcolo dei gradienti in fase di test\n",
        "    with torch.no_grad():\n",
        "        for X, y in dataloader:\n",
        "\n",
        "            # Spostiamo esplicitamente i tensori sul device di computazione\n",
        "            X, y = X.to(device), y.to(device)\n",
        "\n",
        "            pred = model(X)\n",
        "            test_loss += loss_fn(pred, y).item()\n",
        "\n",
        "            # L'accuracy sul batch si calcola creando il tensore di dimensione pari al batch\n",
        "            # per cui i massimi argomenti di ogni predizione sono uguali alla classe predetta\n",
        "            # per il singolo campione, poi convertendo questo tensore di booleani in un vettore\n",
        "            # binario difloat, sommando i valori 1 ed estraendo lo scalare contenuto nel tensore risultato\n",
        "            accuracy += (pred.argmax(1) == y).type(torch.float).sum().item()\n",
        "\n",
        "            y_true.extend(y.cpu().numpy())\n",
        "            y_pred.extend(pred.argmax(1).cpu().numpy())\n",
        "\n",
        "    test_loss /= num_batches\n",
        "    accuracy /= size            # Per quanto detto prima, l'accuracy media va calcolata sulla dimensione del data set\n",
        "\n",
        "    # Calculate precision, recall, and F1-score alla fine per epoca\n",
        "    precision = precision_score(y_true, y_pred, average='macro', zero_division=0)\n",
        "    recall = recall_score(y_true, y_pred, average='macro', zero_division=0)\n",
        "    f1 = f1_score(y_true, y_pred, average='macro', zero_division=0)\n",
        "\n",
        "    return test_loss, accuracy, precision, recall, f1\n",
        "\n",
        "# Ciclo di addestramento completo con test, early stopping e scheduler del learning rate\n",
        "def train_test(model,\n",
        "               epochs,\n",
        "               optimizer,\n",
        "               device,\n",
        "               train_dataloader,\n",
        "               test_dataloader,\n",
        "               loss_fn,\n",
        "               early_stopping=None,       # posso addstrare senza early stopping\n",
        "               val_dataloader=None,       # e in questo caso non c'è validation set\n",
        "               scheduler=None):           # possibile scheduler per monitorare l'andamento di un iperparametro,\n",
        "                                          # tipicamente il learning rate\n",
        "\n",
        "    # liste dei valori di loss e accuracy epoca per epoca per il plot\n",
        "    train_loss, validation_loss, test_loss = [], [], []\n",
        "    accuracy = []\n",
        "    precision, recall, f1 = [], [], []\n",
        "\n",
        "    num_batches = len(train_dataloader)\n",
        "\n",
        "    # Ciclo di addestramento con early stopping\n",
        "    for epoch in range(1,epochs+1):\n",
        "\n",
        "        # Progress bar\n",
        "        pbar = trange(num_batches)\n",
        "        pbar.set_description(desc='Epoch {:4d}'.format(epoch))\n",
        "\n",
        "        epoch_train_loss = train_loop(model, train_dataloader, loss_fn, optimizer, device, pbar)\n",
        "        train_loss.append(epoch_train_loss)\n",
        "\n",
        "        # validation se è presente val_dataloader\n",
        "        if val_dataloader != None:\n",
        "                epoch_validate_loss, _, _, _, _ = eval_loop(model, val_dataloader, loss_fn, device)\n",
        "                validation_loss.append(epoch_validate_loss)\n",
        "\n",
        "        # test\n",
        "        epoch_test_loss, epoch_accuracy, epoch_precision, epoch_recall, epoch_f1 = eval_loop(model, test_dataloader, loss_fn, device)\n",
        "\n",
        "        test_loss.append(epoch_test_loss)\n",
        "        accuracy.append(epoch_accuracy)\n",
        "        precision.append(epoch_precision)\n",
        "        recall.append(epoch_recall)\n",
        "        f1.append(epoch_f1)\n",
        "\n",
        "        val_str = f'Validation loss: {epoch_validate_loss:6.4f}\\n' if val_dataloader != None else ' '\n",
        "\n",
        "        print(f\"Train loss: {epoch_train_loss:6.4f}\\n{val_str}Test loss: {epoch_test_loss:6.4f} Accuracy: {epoch_accuracy:6.2f}\\nPrecision: {epoch_precision:6.2f} Recall: {epoch_recall:6.2f} f1: {epoch_f1:6.2f}\")\n",
        "\n",
        "        # early stopping\n",
        "        if early_stopping != None:\n",
        "            early_stopping(epoch_validate_loss)\n",
        "            if early_stopping.early_stop:\n",
        "                break\n",
        "\n",
        "        # scheduler dell'iperparametro\n",
        "        if scheduler != None:\n",
        "            scheduler.step()\n",
        "\n",
        "    return train_loss, validation_loss, test_loss, accuracy, precision, recall, f1\n"
      ]
    },
    {
      "cell_type": "code",
      "execution_count": 13,
      "metadata": {
        "colab": {
          "base_uri": "https://localhost:8080/"
        },
        "id": "eU9I1ZEQHPSC",
        "outputId": "ed363480-4d9b-4104-8ca0-a1337f137dbc"
      },
      "outputs": [
        {
          "name": "stderr",
          "output_type": "stream",
          "text": [
            "Epoch    1: 100%|██████████| 844/844 [00:16<00:00, 52.42it/s]\n"
          ]
        },
        {
          "name": "stdout",
          "output_type": "stream",
          "text": [
            "Train loss: 1.5516\n",
            "Validation loss: 0.7259\n",
            "Test loss: 0.7499 Accuracy:   0.72\n",
            "Precision:   0.71 Recall:   0.72 f1:   0.70\n"
          ]
        },
        {
          "name": "stderr",
          "output_type": "stream",
          "text": [
            "Epoch    2: 100%|██████████| 844/844 [00:15<00:00, 52.77it/s]\n"
          ]
        },
        {
          "name": "stdout",
          "output_type": "stream",
          "text": [
            "Train loss: 0.6778\n",
            "Validation loss: 0.6161\n",
            "Test loss: 0.6413 Accuracy:   0.77\n",
            "Precision:   0.76 Recall:   0.77 f1:   0.75\n"
          ]
        },
        {
          "name": "stderr",
          "output_type": "stream",
          "text": [
            "Epoch    3: 100%|██████████| 844/844 [00:15<00:00, 54.20it/s]\n"
          ]
        },
        {
          "name": "stdout",
          "output_type": "stream",
          "text": [
            "Train loss: 0.5834\n",
            "Validation loss: 0.5663\n",
            "Test loss: 0.5939 Accuracy:   0.78\n",
            "Precision:   0.79 Recall:   0.78 f1:   0.78\n"
          ]
        },
        {
          "name": "stderr",
          "output_type": "stream",
          "text": [
            "Epoch    4: 100%|██████████| 844/844 [00:16<00:00, 52.52it/s]\n"
          ]
        },
        {
          "name": "stdout",
          "output_type": "stream",
          "text": [
            "Train loss: 0.5298\n",
            "Validation loss: 0.5187\n",
            "Test loss: 0.5434 Accuracy:   0.79\n",
            "Precision:   0.80 Recall:   0.79 f1:   0.79\n"
          ]
        },
        {
          "name": "stderr",
          "output_type": "stream",
          "text": [
            "Epoch    5: 100%|██████████| 844/844 [00:15<00:00, 53.53it/s]\n"
          ]
        },
        {
          "name": "stdout",
          "output_type": "stream",
          "text": [
            "Train loss: 0.4976\n",
            "Validation loss: 0.4818\n",
            "Test loss: 0.5096 Accuracy:   0.82\n",
            "Precision:   0.82 Recall:   0.82 f1:   0.81\n"
          ]
        },
        {
          "name": "stderr",
          "output_type": "stream",
          "text": [
            "Epoch    6: 100%|██████████| 844/844 [00:15<00:00, 53.58it/s]\n"
          ]
        },
        {
          "name": "stdout",
          "output_type": "stream",
          "text": [
            "Train loss: 0.4714\n",
            "Validation loss: 0.4735\n",
            "Test loss: 0.4940 Accuracy:   0.81\n",
            "Precision:   0.83 Recall:   0.81 f1:   0.82\n"
          ]
        },
        {
          "name": "stderr",
          "output_type": "stream",
          "text": [
            "Epoch    7: 100%|██████████| 844/844 [00:15<00:00, 54.79it/s]\n"
          ]
        },
        {
          "name": "stdout",
          "output_type": "stream",
          "text": [
            "Train loss: 0.4512\n",
            "Validation loss: 0.4436\n",
            "Test loss: 0.4609 Accuracy:   0.83\n",
            "Precision:   0.83 Recall:   0.83 f1:   0.83\n"
          ]
        },
        {
          "name": "stderr",
          "output_type": "stream",
          "text": [
            "Epoch    8: 100%|██████████| 844/844 [00:15<00:00, 53.91it/s]\n"
          ]
        },
        {
          "name": "stdout",
          "output_type": "stream",
          "text": [
            "Train loss: 0.4369\n",
            "Validation loss: 0.4375\n",
            "Test loss: 0.4573 Accuracy:   0.83\n",
            "Precision:   0.83 Recall:   0.83 f1:   0.83\n"
          ]
        },
        {
          "name": "stderr",
          "output_type": "stream",
          "text": [
            "Epoch    9: 100%|██████████| 844/844 [00:15<00:00, 55.07it/s]\n"
          ]
        },
        {
          "name": "stdout",
          "output_type": "stream",
          "text": [
            "Train loss: 0.4226\n",
            "Validation loss: 0.4424\n",
            "Test loss: 0.4641 Accuracy:   0.83\n",
            "Precision:   0.84 Recall:   0.83 f1:   0.83\n"
          ]
        },
        {
          "name": "stderr",
          "output_type": "stream",
          "text": [
            "Epoch   10: 100%|██████████| 844/844 [00:15<00:00, 55.32it/s]\n"
          ]
        },
        {
          "name": "stdout",
          "output_type": "stream",
          "text": [
            "Train loss: 0.4119\n",
            "Validation loss: 0.4265\n",
            "Test loss: 0.4424 Accuracy:   0.84\n",
            "Precision:   0.85 Recall:   0.84 f1:   0.84\n"
          ]
        },
        {
          "name": "stderr",
          "output_type": "stream",
          "text": [
            "Epoch   11: 100%|██████████| 844/844 [00:15<00:00, 54.33it/s]\n"
          ]
        },
        {
          "name": "stdout",
          "output_type": "stream",
          "text": [
            "Train loss: 0.4012\n",
            "Validation loss: 0.3957\n",
            "Test loss: 0.4145 Accuracy:   0.85\n",
            "Precision:   0.85 Recall:   0.85 f1:   0.85\n"
          ]
        },
        {
          "name": "stderr",
          "output_type": "stream",
          "text": [
            "Epoch   12: 100%|██████████| 844/844 [00:15<00:00, 54.39it/s]\n"
          ]
        },
        {
          "name": "stdout",
          "output_type": "stream",
          "text": [
            "Train loss: 0.3930\n",
            "Validation loss: 0.4128\n",
            "Test loss: 0.4295 Accuracy:   0.84\n",
            "Precision:   0.85 Recall:   0.84 f1:   0.84\n"
          ]
        },
        {
          "name": "stderr",
          "output_type": "stream",
          "text": [
            "Epoch   13: 100%|██████████| 844/844 [00:15<00:00, 53.41it/s]\n"
          ]
        },
        {
          "name": "stdout",
          "output_type": "stream",
          "text": [
            "Train loss: 0.3868\n",
            "Validation loss: 0.3863\n",
            "Test loss: 0.4021 Accuracy:   0.86\n",
            "Precision:   0.86 Recall:   0.86 f1:   0.85\n"
          ]
        },
        {
          "name": "stderr",
          "output_type": "stream",
          "text": [
            "Epoch   14: 100%|██████████| 844/844 [00:15<00:00, 54.23it/s]\n"
          ]
        },
        {
          "name": "stdout",
          "output_type": "stream",
          "text": [
            "Train loss: 0.3790\n",
            "Validation loss: 0.3861\n",
            "Test loss: 0.4035 Accuracy:   0.86\n",
            "Precision:   0.86 Recall:   0.86 f1:   0.86\n"
          ]
        },
        {
          "name": "stderr",
          "output_type": "stream",
          "text": [
            "Epoch   15: 100%|██████████| 844/844 [00:15<00:00, 54.94it/s]\n"
          ]
        },
        {
          "name": "stdout",
          "output_type": "stream",
          "text": [
            "Train loss: 0.3740\n",
            "Validation loss: 0.3848\n",
            "Test loss: 0.4010 Accuracy:   0.85\n",
            "Precision:   0.86 Recall:   0.85 f1:   0.85\n"
          ]
        },
        {
          "name": "stderr",
          "output_type": "stream",
          "text": [
            "Epoch   16: 100%|██████████| 844/844 [00:15<00:00, 54.86it/s]\n"
          ]
        },
        {
          "name": "stdout",
          "output_type": "stream",
          "text": [
            "Train loss: 0.3684\n",
            "Validation loss: 0.3834\n",
            "Test loss: 0.3962 Accuracy:   0.86\n",
            "Precision:   0.86 Recall:   0.86 f1:   0.86\n"
          ]
        },
        {
          "name": "stderr",
          "output_type": "stream",
          "text": [
            "Epoch   17: 100%|██████████| 844/844 [00:15<00:00, 54.13it/s]\n"
          ]
        },
        {
          "name": "stdout",
          "output_type": "stream",
          "text": [
            "Train loss: 0.3623\n",
            "Validation loss: 0.3744\n",
            "Test loss: 0.3901 Accuracy:   0.86\n",
            "Precision:   0.86 Recall:   0.86 f1:   0.85\n"
          ]
        },
        {
          "name": "stderr",
          "output_type": "stream",
          "text": [
            "Epoch   18: 100%|██████████| 844/844 [00:15<00:00, 54.95it/s]\n"
          ]
        },
        {
          "name": "stdout",
          "output_type": "stream",
          "text": [
            "Train loss: 0.3573\n",
            "Validation loss: 0.3718\n",
            "Test loss: 0.3849 Accuracy:   0.86\n",
            "Precision:   0.86 Recall:   0.86 f1:   0.86\n"
          ]
        },
        {
          "name": "stderr",
          "output_type": "stream",
          "text": [
            "Epoch   19: 100%|██████████| 844/844 [00:15<00:00, 55.00it/s]\n"
          ]
        },
        {
          "name": "stdout",
          "output_type": "stream",
          "text": [
            "Train loss: 0.3523\n",
            "Validation loss: 0.3627\n",
            "Test loss: 0.3736 Accuracy:   0.87\n",
            "Precision:   0.87 Recall:   0.87 f1:   0.86\n"
          ]
        },
        {
          "name": "stderr",
          "output_type": "stream",
          "text": [
            "Epoch   20: 100%|██████████| 844/844 [00:15<00:00, 53.82it/s]\n"
          ]
        },
        {
          "name": "stdout",
          "output_type": "stream",
          "text": [
            "Train loss: 0.3470\n",
            "Validation loss: 0.3519\n",
            "Test loss: 0.3637 Accuracy:   0.87\n",
            "Precision:   0.87 Recall:   0.87 f1:   0.87\n"
          ]
        }
      ],
      "source": [
        "# Creiamo la callback di early stopping da passare al nostro metodo di addestramento\n",
        "early_stopping = EarlyStopping(patience=hyperparameters['patience'], min_delta=hyperparameters['min_delta'])\n",
        "\n",
        "# Routine di addestramento\n",
        "train_loss, validation_loss, test_loss, accuracy, precision, recall, f1 = train_test(model,\n",
        "                                                              hyperparameters['epochs'],\n",
        "                                                              optimizer,\n",
        "                                                              device,\n",
        "                                                              train_dataloader,\n",
        "                                                              test_dataloader,\n",
        "                                                              loss_fn,\n",
        "                                                              early_stopping,\n",
        "                                                              val_dataloader)"
      ]
    },
    {
      "cell_type": "code",
      "execution_count": 14,
      "metadata": {
        "colab": {
          "base_uri": "https://localhost:8080/",
          "height": 435
        },
        "id": "ZU8SuBV0JuUm",
        "outputId": "4e58d15a-590e-4bc6-dba2-0511c15e7e87"
      },
      "outputs": [
        {
          "data": {
            "image/png": "[encoded data removed]",
            "text/plain": [
              "<Figure size 640x480 with 1 Axes>"
            ]
          },
          "metadata": {},
          "output_type": "display_data"
        }
      ],
      "source": [
        "plt.plot(train_loss, label='training loss')\n",
        "plt.plot(validation_loss, label='validation loss')\n",
        "plt.plot(test_loss, label='test loss')\n",
        "plt.legend(loc='lower right')\n",
        "plt.ylim(0,1)\n",
        "plt.show()"
      ]
    },
    {
      "cell_type": "code",
      "execution_count": 15,
      "metadata": {
        "colab": {
          "base_uri": "https://localhost:8080/",
          "height": 435
        },
        "id": "ql6XxsufJvw4",
        "outputId": "e963f03c-885f-4de8-f79d-9e950fe98e04"
      },
      "outputs": [
        {
          "data": {
            "image/png": "[encoded data removed]",
            "text/plain": [
              "<Figure size 640x480 with 1 Axes>"
            ]
          },
          "metadata": {},
          "output_type": "display_data"
        }
      ],
      "source": [
        "plt.plot(accuracy, label='accuracy')\n",
        "plt.plot(precision, label='precision')\n",
        "plt.plot(recall, label='recall')\n",
        "plt.plot(f1, label='f1')\n",
        "plt.legend(loc='lower right')\n",
        "plt.ylim(0,1)\n",
        "plt.show()"
      ]
    },
    {
      "cell_type": "markdown",
      "metadata": {
        "id": "ABaba2z5JzW1"
      },
      "source": [
        "## Salvataggio e caricamento del modello\n",
        "\n",
        "Come già sappiamo, quando l'addestramento si interrompe a causa di un early stoppping ovvero perché è necessario frazionarlo per gestire le risorse limitate della GPU, ma anche semplicemente alla sua fine naturale il modello viene salvato per poterlo successivamente ricaricare a fini di fine tuning o di predizione. Si usa chiamare questa azione _model checkpoint_.\n",
        "\n",
        "Anche questa operazione andrà codificata creando delle semplici API basate sulle primitive di ``Torch`` denominate ``torch.save()`` e ``torch.load()`` le quali salvano un qualunque ``dict`` in forma serializzata utilizzando il modulo nativo ``Python`` denominato ``pickle``.\n",
        "\n",
        "Creeremo due semplici wrapper per le operazioni di salvataggio e caricamento del model checkpoint."
      ]
    },
    {
      "cell_type": "code",
      "execution_count": 16,
      "metadata": {
        "id": "bQZ40N4qJ0CA"
      },
      "outputs": [],
      "source": [
        "def save_model(net, optimizer, current_epoch, train_loss, val_loss, test_loss, accuracy, precision, recall, f1, path):\n",
        "\n",
        "    # Abbiamo deciso per queste informazioni, ma possiamo caricare qualunque cosa\n",
        "    torch.save({\n",
        "            'epoch': current_epoch,\n",
        "            'model_state_dict': net.state_dict(),               # configurazione di tutti i layer *addestrabili* del modello\n",
        "            'optimizer_state_dict': optimizer.state_dict(),     # configurazione e operparametri dell'ottimizzatore\n",
        "            'training_loss': train_loss,\n",
        "            'validation_loss': val_loss,\n",
        "            'test_loss': test_loss,\n",
        "            'accuracy': accuracy,\n",
        "            'precision': precision,\n",
        "            'recall': recall,\n",
        "            'f1': f1\n",
        "            }, path)\n",
        "\n",
        "\n",
        "def load_model(path, ModelClass=nn.Module, OptimizerClass=torch.optim.Optimizer, device = None):\n",
        "\n",
        "    # Ricarichiamo il dizionario e restituiamo la tupla delle informazioni\n",
        "    # La rete e l'ottimizzatore devono essere inizializzate prima di caricare\n",
        "    # lo stato salvato\n",
        "\n",
        "    # Inizializziamo il modello con la classe di rete neurale richiesta\n",
        "    model = ModelClass()\n",
        "\n",
        "    # Se il device è specificato e non è la CPU, allora muoviamo il modello sul device\n",
        "    if device != None and device != 'cpu':\n",
        "        model.to(device)\n",
        "\n",
        "    # Analogo discorso per l'ottimizzatore\n",
        "    optimizer = OptimizerClass(model.parameters(), lr=0.001, momentum=0.9)\n",
        "\n",
        "    # carichiamo il model checkpoint\n",
        "    checkpoint = torch.load(path)\n",
        "\n",
        "    # inizializziamo lo stato del modello e dell'ottimizzatore\n",
        "    model.load_state_dict(checkpoint['model_state_dict'])\n",
        "    optimizer.load_state_dict(checkpoint['optimizer_state_dict'])\n",
        "\n",
        "    # restituiamo tutte le informazioni in una tupla\n",
        "    return (model,\n",
        "            optimizer,\n",
        "            checkpoint['epoch'],\n",
        "            checkpoint['training_loss'],\n",
        "            checkpoint['validation_loss'],\n",
        "            checkpoint['test_loss'],\n",
        "            checkpoint['accuracy'],\n",
        "            checkpoint['precision'],\n",
        "            checkpoint['recall'],\n",
        "            checkpoint['f1']\n",
        "            )\n"
      ]
    },
    {
      "cell_type": "code",
      "execution_count": 18,
      "metadata": {
        "id": "nMfW2FWIJ3Ef"
      },
      "outputs": [],
      "source": [
        "# utilizziamo le API per salvare e ricaricare il modello\n",
        "save_model(model,\n",
        "           optimizer,\n",
        "           len(train_loss),\n",
        "           train_loss,\n",
        "           validation_loss,\n",
        "           test_loss,\n",
        "           accuracy,\n",
        "           precision, recall, f1,\n",
        "           os.path.join(model_path,'first_nn_torch.pth'))\n",
        "\n",
        "(mod, opt, ep, tr_loss, val_loss, ts_loss, acc, prec, rec, ff1) = load_model(os.path.join(model_path,'first_nn_torch.pth'),\n",
        "                                                              NeuralNetwork,\n",
        "                                                              torch.optim.SGD,\n",
        "                                                              device=device)"
      ]
    },
    {
      "cell_type": "code",
      "execution_count": 35,
      "metadata": {
        "id": "MDYql1s5SRzi"
      },
      "outputs": [],
      "source": [
        "(mod, opt, ep, tr_loss, val_loss, ts_loss, acc, prec, rec, ff1) = load_model(os.path.join(model_path,'first_nn_torch.pth'),\n",
        "                                                              NeuralNetwork,\n",
        "                                                              torch.optim.SGD,\n",
        "                                                              device=device)"
      ]
    },
    {
      "cell_type": "code",
      "execution_count": 36,
      "metadata": {
        "colab": {
          "base_uri": "https://localhost:8080/"
        },
        "id": "GF5YSdQRJ9XX",
        "outputId": "cca7993b-ddb0-45f0-bdc5-66f034f07f57"
      },
      "outputs": [
        {
          "name": "stderr",
          "output_type": "stream",
          "text": [
            "Epoch    1: 100%|██████████| 844/844 [00:15<00:00, 54.27it/s]\n"
          ]
        },
        {
          "name": "stdout",
          "output_type": "stream",
          "text": [
            "Train loss: 0.3428\n",
            "Validation loss: 0.3756\n",
            "Test loss: 0.3875 Accuracy:   0.86\n",
            "Precision:   0.86 Recall:   0.86 f1:   0.85\n"
          ]
        },
        {
          "name": "stderr",
          "output_type": "stream",
          "text": [
            "Epoch    2: 100%|██████████| 844/844 [00:16<00:00, 52.18it/s]\n"
          ]
        },
        {
          "name": "stdout",
          "output_type": "stream",
          "text": [
            "Train loss: 0.3353\n",
            "Validation loss: 0.3578\n",
            "Test loss: 0.3688 Accuracy:   0.87\n",
            "Precision:   0.87 Recall:   0.87 f1:   0.87\n"
          ]
        },
        {
          "name": "stderr",
          "output_type": "stream",
          "text": [
            "Epoch    3: 100%|██████████| 844/844 [00:15<00:00, 54.74it/s]\n"
          ]
        },
        {
          "name": "stdout",
          "output_type": "stream",
          "text": [
            "Train loss: 0.3304\n",
            "Validation loss: 0.3505\n",
            "Test loss: 0.3639 Accuracy:   0.87\n",
            "Precision:   0.87 Recall:   0.87 f1:   0.86\n"
          ]
        },
        {
          "name": "stderr",
          "output_type": "stream",
          "text": [
            "Epoch    4: 100%|██████████| 844/844 [00:15<00:00, 55.51it/s]\n"
          ]
        },
        {
          "name": "stdout",
          "output_type": "stream",
          "text": [
            "Train loss: 0.3257\n",
            "Validation loss: 0.3323\n",
            "Test loss: 0.3461 Accuracy:   0.88\n",
            "Precision:   0.88 Recall:   0.88 f1:   0.88\n"
          ]
        },
        {
          "name": "stderr",
          "output_type": "stream",
          "text": [
            "Epoch    5: 100%|██████████| 844/844 [00:15<00:00, 54.81it/s]\n"
          ]
        },
        {
          "name": "stdout",
          "output_type": "stream",
          "text": [
            "Train loss: 0.3214\n",
            "Validation loss: 0.3451\n",
            "Test loss: 0.3567 Accuracy:   0.87\n",
            "Precision:   0.87 Recall:   0.87 f1:   0.87\n"
          ]
        }
      ],
      "source": [
        "# Vogliamo riaddestrare il modello dopo l'early stopping, per cui\n",
        "# inseriamo uno scheduler che faccia decrescere il learning rate ad ogni epoca\n",
        "# come ulteriore regolarizzazione\n",
        "scheduler = torch.optim.lr_scheduler.ExponentialLR(opt, gamma=0.9)\n",
        "\n",
        "# Usiamo lo scheduler al posto dell'ottimizzatore nell'addestramento\n",
        "train_loss, validation_loss, test_loss, accuracy, precision, recall, f1 = train_test(mod, 5, opt, device, train_dataloader, test_dataloader,\n",
        "                                                              loss_fn, scheduler=scheduler, val_dataloader=val_dataloader)"
      ]
    },
    {
      "cell_type": "code",
      "execution_count": 37,
      "metadata": {
        "colab": {
          "base_uri": "https://localhost:8080/",
          "height": 435
        },
        "id": "8UJ8E6oKJ_RF",
        "outputId": "4cf9c392-5aec-4194-d724-d9b562dd34bd"
      },
      "outputs": [
        {
          "data": {
            "image/png": "[encoded data removed]",
            "text/plain": [
              "<Figure size 640x480 with 1 Axes>"
            ]
          },
          "metadata": {},
          "output_type": "display_data"
        }
      ],
      "source": [
        "# concateniamo le liste delle loss relative ai due addestramenti e facciamo il plot\n",
        "tr_loss.extend(train_loss)\n",
        "val_loss.extend(validation_loss)\n",
        "ts_loss.extend(test_loss)\n",
        "\n",
        "plt.plot(tr_loss, label='training loss')\n",
        "plt.plot(val_loss, label='validation loss')\n",
        "plt.plot(ts_loss, label='test loss')\n",
        "plt.legend(loc='lower right')\n",
        "plt.ylim(0,1)\n",
        "plt.show()"
      ]
    },
    {
      "cell_type": "code",
      "execution_count": 38,
      "metadata": {
        "colab": {
          "base_uri": "https://localhost:8080/",
          "height": 435
        },
        "id": "IivF3QloQ4tS",
        "outputId": "1174af04-8e02-4995-9b63-0753bb96c528"
      },
      "outputs": [
        {
          "data": {
            "image/png": "[encoded data removed]",
            "text/plain": [
              "<Figure size 640x480 with 1 Axes>"
            ]
          },
          "metadata": {},
          "output_type": "display_data"
        }
      ],
      "source": [
        "# concateniamo le liste delle metriche relative ai due addestramenti e facciamo il plot\n",
        "acc.extend(accuracy)\n",
        "prec.extend(precision)\n",
        "rec.extend(recall)\n",
        "ff1.extend(f1)\n",
        "\n",
        "plt.plot(acc, label='accuracy')\n",
        "plt.plot(prec, label='precision')\n",
        "plt.plot(rec, label='recall')\n",
        "plt.plot(ff1, label='ff1')\n",
        "plt.legend(loc='lower right')\n",
        "plt.ylim(0,1)\n",
        "plt.show()"
      ]
    }
  ],
  "metadata": {
    "accelerator": "GPU",
    "colab": {
      "gpuType": "T4",
      "provenance": []
    },
    "kernelspec": {
      "display_name": "Python 3",
      "name": "python3"
    },
    "language_info": {
      "name": "python",
      "version": "3.13.7"
    }
  },
  "nbformat": 4,
  "nbformat_minor": 0
}
