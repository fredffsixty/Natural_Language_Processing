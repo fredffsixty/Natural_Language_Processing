{
  "cells": [
    {
      "cell_type": "code",
      "execution_count": 1,
      "metadata": {
        "colab": {
          "base_uri": "https://localhost:8080/"
        },
        "id": "hCjHeKY5RUdk",
        "outputId": "2eaa279e-7a70-46de-989c-c336bce1e4e8"
      },
      "outputs": [
        {
          "name": "stdout",
          "output_type": "stream",
          "text": [
            "Mounted at /content/gdrive\n"
          ]
        }
      ],
      "source": [
        "import pandas as pd\n",
        "import numpy as np\n",
        "from tqdm import tqdm\n",
        "import sklearn\n",
        "import nltk\n",
        "from nltk.corpus import stopwords\n",
        "\n",
        "from google.colab import drive\n",
        "drive.mount('/content/gdrive')"
      ]
    },
    {
      "cell_type": "code",
      "execution_count": 2,
      "metadata": {
        "id": "EOE_gjcISBW8"
      },
      "outputs": [],
      "source": [
        "# Dataset\n",
        "# repository https://github.com/iresiragusa/NLP/tree/main\n",
        "# https://www.kaggle.com/datasets/yufengdev/bbc-fulltext-and-category?select=bbc-text.csv\n",
        "# scarichiamo il dataset e lo carichiamo su COLAB\n",
        "\n",
        "root = '/content/gdrive/MyDrive/Colab Notebooks/torch/'\n",
        "df = pd.read_csv(root+\"data/BBC-text/bbc-text.csv\")"
      ]
    },
    {
      "cell_type": "code",
      "execution_count": 3,
      "metadata": {
        "colab": {
          "base_uri": "https://localhost:8080/",
          "height": 206
        },
        "id": "QfaC1puvSTmm",
        "outputId": "3fa9d4d3-8cc4-4f8c-a764-8acd80d21e39"
      },
      "outputs": [
        {
          "data": {
            "application/vnd.google.colaboratory.intrinsic+json": {
              "summary": "{\n  \"name\": \"df\",\n  \"rows\": 2225,\n  \"fields\": [\n    {\n      \"column\": \"category\",\n      \"properties\": {\n        \"dtype\": \"category\",\n        \"num_unique_values\": 5,\n        \"samples\": [\n          \"business\",\n          \"politics\",\n          \"sport\"\n        ],\n        \"semantic_type\": \"\",\n        \"description\": \"\"\n      }\n    },\n    {\n      \"column\": \"text\",\n      \"properties\": {\n        \"dtype\": \"string\",\n        \"num_unique_values\": 2126,\n        \"samples\": [\n          \"plan to give elderly care control elderly and disabled people would choose how their own budget for personal care was spent and organised under government plans.  ministers say elderly and disabled people themselves  not social workers  should be able to decide on their care and stay in their own homes. they also plan a supremo for adult services in each english area to get different agencies working together. but the government shunned opponents  calls for free long-term care.  there are 1.7m people needing care in england and ministers suggest the number could quadruple by 2050. monday s consultation paper on social care for adults in england is aimed at ending a system which generates dependency. health minister stephen ladyman said:  this document is the antithesis of the nanny state.   it s about taking power away from the state and giving it to individuals and saying that we will help you make these decisions but we are not going to make them for you any more.  the government has already allowed local councils to give people money so they can pay for their services directly but take-up of the scheme has been  disappointing .  ministers say the new plans would make direct payments simpler and try to counter reluctance in some local councils to use the payments. they also want to set up a new  half-way house  where social workers tell people how much money is available for their care and help them choose how to spend that  individual budget . the scheme will be funded on existing budgets set until 2008. but mr ladyman said the plans could deliver savings in some areas  such as freeing up nhs beds and preventing illnesses. he ruled out free personal care in england - which is on offer in scotland and wales  saying it was  unsustainable .  david rogers  from the local government association  said agencies were working together on the kind of innovation proposed by the government. and tony hunter  president of the association of directors of social services  said the plans could improve dignity and well-being for thousands of people. but age concern argued social care was chronically under-funded and older people were being offered choice in principle  but not in practice. its director general  gordon lishman  said:  direct payments will not work if there are no services for people to choose from locally.   the tories say people who pay for three years  long-term care directly or through insurance should be guaranteed free care for the rest of their lives. tory spokesman simon burns said more than 80 000 long term care places had been lost since 1997.  after eight years of persistent change  dogmatic enforcement of regulation  and overbearing government initiatives - we need action  not a vision   said mr burns. the lib dems say they would fund free personal care by a new 50% tax rate on incomes over \\u00a3100 000. health spokesman paul burstow said:  promoting independence sounds good and helping people to live in their own homes is a goal we share.  but the risk is that independence can turn into isolation if the right support and care is not available.\",\n          \"beer giant swallows russian firm brewing giant inbev has agreed to buy alfa-eco s stake in sun interbrew  russia s second-largest brewer  for up to 259.7m euros ($353.3m; \\u00a3183.75m).  alfa-eco  the venture capital arm of russian conglomerate alfa group  has a one-fifth stake in sun interbrew. the deal gives inbev  the world s biggest beermaker  near-total control over the russian brewer. inbev bought out another partner in august 2004. inbev brands include bass  stella artois  hoegaarden and staropramen. it employs 77 000 people  running operations in over 30 countries across the americas  europe and asia pacific.  the leuven-based brewery said it would own 97.3% of the voting shares and 98.8% of the non-voting shares of sun interbrew. the deal is expected to be completed in the first quarter of 2005. inbev was formed in august 2004 when belgium s interbrew bought brazilian brewer ambev. sun interbrew  which employs 8 000 staff  owns breweries in eight russian cities - klin  ivanovo  saransk  kursk  volzhsky  omsk  perm and novocheboksarsk. there are also three breweries in ukraine  in the cities of chernigov  nikolaev and kharkov.\",\n          \"athens memories soar above lows well  it s goodbye to another olympic year and as usual there were plenty of highs and lows in athens.  obviously  there s no getting away from the differing fortunes of kelly holmes and paula radcliffe. but i want to remind you of a few more events that made 2004 another year to remember - or forget - for athletics.      one of my favourite olympic moments was kelly s success in the 800m.  winning that race was the key to her success because if she won that then the 1500m would be a bit of a formality. kelly had been full of  should i  shouldn t i   thoughts about going for the double in athens. i thought why wouldn t you do the 800m  it s your best event  it was such good fun to commentate on her 1500m and it was nice to be able to be part of her athens story.      the victory for the british men s 4x100m relay team was a bit of a surprise but a great climax to the games. i think the four of them - jason gardener  darren campbell  marlon devonish and mark lewis-francis - knew deep down that it was their best chance of a medal. the lads had run poorly in the individual sprints so maybe they did lift their game when they knew something was really at stake.      hicham el guerrouj s olympic double is a much bigger achievement than kelly s on a global scale.  he was the first man since for 80 years to win both the 1500m and 5 000m titles. as soon as he had added the 5 000m crown and i had finished commentating  i jumped up  ran down the stairs  pushed everyone out the way and just gave him a big hug. he is one of the few african runners who has embraced the tradition of the mile and he loves to hear all the roger bannister stories. hicham is someone i enjoy having a bit of time with  even though my french and his english are not very good.      what happened to paula in athens this year is the obvious low on a personal level and for the expectations of the nation as well. there were a set of circumstances around athens that conspired to produce a very dramatic ending which i think has been greatly misunderstood. dropping out of the marathon was the right thing to do but starting in the 10 000m five days later was not wise. that was her heart and not her head reacting. paula had a lot of little things going wrong in her preparation and on the day.  things like niggling injuries  not being able to do all her running sessions and feeling the pressure of the race looming ahead of her. i think she came to the start line in athens physically and emotionally drained. and if even the smallest thing doesn t feel right when you are preparing to race a marathon  10 miles down the road it will hit you like a brick wall. the positive thing to take from paula s olympics it that she will have learned a lot from it and so will a lot of people - including me.      purely as a race  paula s victory in the new york marathon has to go down as one of the most thrilling. it was so nip-and-tuck between her and kenya s susan chepkemei and you don t usually get that kind of excitement in marathons. it was also a real delight for all athletics fans because  to use one of my favourite words  paula showed real  bouncebackability . and it was a bit of a rarity for me too because i genuinely did not have an inkling how the race was going to pan out.      kelly and the 4x100m boys  victories papered over the cracks in the general performance of the british team. we should be concerned that we re not producing enough people who are capable of reaching finals at senior level.  the only individual men s finalist on the track was michael east in the 1500m. i am beginning to look down and wonder where are the new breed  and that s where things begin to look even gloomier for british athletics as we did not win any medals at the world junior championships in italy. dani barnes came fourth in the 1500m and she was the highest finisher for team gb. the thing is if we don t have athletes getting into the finals at junior level then it really doesn t look good for the beijing olympics and beyond.      i tell you what i really enjoyed this year  benita johnson winning the world cross country championships back in march. in the absence of paula  we tend to think of the event as something of an african preserve. so to have an australian come up and deliver such a surprise was something special.      to be honest  i m getting bored with all the drug scandals  especially balco. i just wish the whole thing would come to a head so we can move on.  having said that  i m always pleased when drugs cheats are caught because it shows the sport is standing up to it and not turning a blind eye anymore. and one of the positive things to come out of balco is people are starting to blow the whistle. we need more people to come forward and help the authorities kick out the cheats. as regards the case against greek sprinters kostas kenteris and katerina thanou  well suspicions have been hanging over kenteris for a while. the bottom line is we cannot keep letting drugs damage the sport because if we do then it stops everyone enjoying it.\"\n        ],\n        \"semantic_type\": \"\",\n        \"description\": \"\"\n      }\n    }\n  ]\n}",
              "type": "dataframe",
              "variable_name": "df"
            },
            "text/html": [
              "\n",
              "  <div id=\"df-97522f14-aeba-4dfb-a1b8-f606acd14276\" class=\"colab-df-container\">\n",
              "    <div>\n",
              "<style scoped>\n",
              "    .dataframe tbody tr th:only-of-type {\n",
              "        vertical-align: middle;\n",
              "    }\n",
              "\n",
              "    .dataframe tbody tr th {\n",
              "        vertical-align: top;\n",
              "    }\n",
              "\n",
              "    .dataframe thead th {\n",
              "        text-align: right;\n",
              "    }\n",
              "</style>\n",
              "<table border=\"1\" class=\"dataframe\">\n",
              "  <thead>\n",
              "    <tr style=\"text-align: right;\">\n",
              "      <th></th>\n",
              "      <th>category</th>\n",
              "      <th>text</th>\n",
              "    </tr>\n",
              "  </thead>\n",
              "  <tbody>\n",
              "    <tr>\n",
              "      <th>0</th>\n",
              "      <td>tech</td>\n",
              "      <td>tv future in the hands of viewers with home th...</td>\n",
              "    </tr>\n",
              "    <tr>\n",
              "      <th>1</th>\n",
              "      <td>business</td>\n",
              "      <td>worldcom boss  left books alone  former worldc...</td>\n",
              "    </tr>\n",
              "    <tr>\n",
              "      <th>2</th>\n",
              "      <td>sport</td>\n",
              "      <td>tigers wary of farrell  gamble  leicester say ...</td>\n",
              "    </tr>\n",
              "    <tr>\n",
              "      <th>3</th>\n",
              "      <td>sport</td>\n",
              "      <td>yeading face newcastle in fa cup premiership s...</td>\n",
              "    </tr>\n",
              "    <tr>\n",
              "      <th>4</th>\n",
              "      <td>entertainment</td>\n",
              "      <td>ocean s twelve raids box office ocean s twelve...</td>\n",
              "    </tr>\n",
              "  </tbody>\n",
              "</table>\n",
              "</div>\n",
              "    <div class=\"colab-df-buttons\">\n",
              "\n",
              "  <div class=\"colab-df-container\">\n",
              "    <button class=\"colab-df-convert\" onclick=\"convertToInteractive('df-97522f14-aeba-4dfb-a1b8-f606acd14276')\"\n",
              "            title=\"Convert this dataframe to an interactive table.\"\n",
              "            style=\"display:none;\">\n",
              "\n",
              "  <svg xmlns=\"http://www.w3.org/2000/svg\" height=\"24px\" viewBox=\"0 -960 960 960\">\n",
              "    <path d=\"M120-120v-720h720v720H120Zm60-500h600v-160H180v160Zm220 220h160v-160H400v160Zm0 220h160v-160H400v160ZM180-400h160v-160H180v160Zm440 0h160v-160H620v160ZM180-180h160v-160H180v160Zm440 0h160v-160H620v160Z\"/>\n",
              "  </svg>\n",
              "    </button>\n",
              "\n",
              "  <style>\n",
              "    .colab-df-container {\n",
              "      display:flex;\n",
              "      gap: 12px;\n",
              "    }\n",
              "\n",
              "    .colab-df-convert {\n",
              "      background-color: #E8F0FE;\n",
              "      border: none;\n",
              "      border-radius: 50%;\n",
              "      cursor: pointer;\n",
              "      display: none;\n",
              "      fill: #1967D2;\n",
              "      height: 32px;\n",
              "      padding: 0 0 0 0;\n",
              "      width: 32px;\n",
              "    }\n",
              "\n",
              "    .colab-df-convert:hover {\n",
              "      background-color: #E2EBFA;\n",
              "      box-shadow: 0px 1px 2px rgba(60, 64, 67, 0.3), 0px 1px 3px 1px rgba(60, 64, 67, 0.15);\n",
              "      fill: #174EA6;\n",
              "    }\n",
              "\n",
              "    .colab-df-buttons div {\n",
              "      margin-bottom: 4px;\n",
              "    }\n",
              "\n",
              "    [theme=dark] .colab-df-convert {\n",
              "      background-color: #3B4455;\n",
              "      fill: #D2E3FC;\n",
              "    }\n",
              "\n",
              "    [theme=dark] .colab-df-convert:hover {\n",
              "      background-color: #434B5C;\n",
              "      box-shadow: 0px 1px 3px 1px rgba(0, 0, 0, 0.15);\n",
              "      filter: drop-shadow(0px 1px 2px rgba(0, 0, 0, 0.3));\n",
              "      fill: #FFFFFF;\n",
              "    }\n",
              "  </style>\n",
              "\n",
              "    <script>\n",
              "      const buttonEl =\n",
              "        document.querySelector('#df-97522f14-aeba-4dfb-a1b8-f606acd14276 button.colab-df-convert');\n",
              "      buttonEl.style.display =\n",
              "        google.colab.kernel.accessAllowed ? 'block' : 'none';\n",
              "\n",
              "      async function convertToInteractive(key) {\n",
              "        const element = document.querySelector('#df-97522f14-aeba-4dfb-a1b8-f606acd14276');\n",
              "        const dataTable =\n",
              "          await google.colab.kernel.invokeFunction('convertToInteractive',\n",
              "                                                    [key], {});\n",
              "        if (!dataTable) return;\n",
              "\n",
              "        const docLinkHtml = 'Like what you see? Visit the ' +\n",
              "          '<a target=\"_blank\" href=https://colab.research.google.com/notebooks/data_table.ipynb>data table notebook</a>'\n",
              "          + ' to learn more about interactive tables.';\n",
              "        element.innerHTML = '';\n",
              "        dataTable['output_type'] = 'display_data';\n",
              "        await google.colab.output.renderOutput(dataTable, element);\n",
              "        const docLink = document.createElement('div');\n",
              "        docLink.innerHTML = docLinkHtml;\n",
              "        element.appendChild(docLink);\n",
              "      }\n",
              "    </script>\n",
              "  </div>\n",
              "\n",
              "\n",
              "<div id=\"df-ace78e6a-b44d-4dbf-8b32-e34146bbc99e\">\n",
              "  <button class=\"colab-df-quickchart\" onclick=\"quickchart('df-ace78e6a-b44d-4dbf-8b32-e34146bbc99e')\"\n",
              "            title=\"Suggest charts\"\n",
              "            style=\"display:none;\">\n",
              "\n",
              "<svg xmlns=\"http://www.w3.org/2000/svg\" height=\"24px\"viewBox=\"0 0 24 24\"\n",
              "     width=\"24px\">\n",
              "    <g>\n",
              "        <path d=\"M19 3H5c-1.1 0-2 .9-2 2v14c0 1.1.9 2 2 2h14c1.1 0 2-.9 2-2V5c0-1.1-.9-2-2-2zM9 17H7v-7h2v7zm4 0h-2V7h2v10zm4 0h-2v-4h2v4z\"/>\n",
              "    </g>\n",
              "</svg>\n",
              "  </button>\n",
              "\n",
              "<style>\n",
              "  .colab-df-quickchart {\n",
              "      --bg-color: #E8F0FE;\n",
              "      --fill-color: #1967D2;\n",
              "      --hover-bg-color: #E2EBFA;\n",
              "      --hover-fill-color: #174EA6;\n",
              "      --disabled-fill-color: #AAA;\n",
              "      --disabled-bg-color: #DDD;\n",
              "  }\n",
              "\n",
              "  [theme=dark] .colab-df-quickchart {\n",
              "      --bg-color: #3B4455;\n",
              "      --fill-color: #D2E3FC;\n",
              "      --hover-bg-color: #434B5C;\n",
              "      --hover-fill-color: #FFFFFF;\n",
              "      --disabled-bg-color: #3B4455;\n",
              "      --disabled-fill-color: #666;\n",
              "  }\n",
              "\n",
              "  .colab-df-quickchart {\n",
              "    background-color: var(--bg-color);\n",
              "    border: none;\n",
              "    border-radius: 50%;\n",
              "    cursor: pointer;\n",
              "    display: none;\n",
              "    fill: var(--fill-color);\n",
              "    height: 32px;\n",
              "    padding: 0;\n",
              "    width: 32px;\n",
              "  }\n",
              "\n",
              "  .colab-df-quickchart:hover {\n",
              "    background-color: var(--hover-bg-color);\n",
              "    box-shadow: 0 1px 2px rgba(60, 64, 67, 0.3), 0 1px 3px 1px rgba(60, 64, 67, 0.15);\n",
              "    fill: var(--button-hover-fill-color);\n",
              "  }\n",
              "\n",
              "  .colab-df-quickchart-complete:disabled,\n",
              "  .colab-df-quickchart-complete:disabled:hover {\n",
              "    background-color: var(--disabled-bg-color);\n",
              "    fill: var(--disabled-fill-color);\n",
              "    box-shadow: none;\n",
              "  }\n",
              "\n",
              "  .colab-df-spinner {\n",
              "    border: 2px solid var(--fill-color);\n",
              "    border-color: transparent;\n",
              "    border-bottom-color: var(--fill-color);\n",
              "    animation:\n",
              "      spin 1s steps(1) infinite;\n",
              "  }\n",
              "\n",
              "  @keyframes spin {\n",
              "    0% {\n",
              "      border-color: transparent;\n",
              "      border-bottom-color: var(--fill-color);\n",
              "      border-left-color: var(--fill-color);\n",
              "    }\n",
              "    20% {\n",
              "      border-color: transparent;\n",
              "      border-left-color: var(--fill-color);\n",
              "      border-top-color: var(--fill-color);\n",
              "    }\n",
              "    30% {\n",
              "      border-color: transparent;\n",
              "      border-left-color: var(--fill-color);\n",
              "      border-top-color: var(--fill-color);\n",
              "      border-right-color: var(--fill-color);\n",
              "    }\n",
              "    40% {\n",
              "      border-color: transparent;\n",
              "      border-right-color: var(--fill-color);\n",
              "      border-top-color: var(--fill-color);\n",
              "    }\n",
              "    60% {\n",
              "      border-color: transparent;\n",
              "      border-right-color: var(--fill-color);\n",
              "    }\n",
              "    80% {\n",
              "      border-color: transparent;\n",
              "      border-right-color: var(--fill-color);\n",
              "      border-bottom-color: var(--fill-color);\n",
              "    }\n",
              "    90% {\n",
              "      border-color: transparent;\n",
              "      border-bottom-color: var(--fill-color);\n",
              "    }\n",
              "  }\n",
              "</style>\n",
              "\n",
              "  <script>\n",
              "    async function quickchart(key) {\n",
              "      const quickchartButtonEl =\n",
              "        document.querySelector('#' + key + ' button');\n",
              "      quickchartButtonEl.disabled = true;  // To prevent multiple clicks.\n",
              "      quickchartButtonEl.classList.add('colab-df-spinner');\n",
              "      try {\n",
              "        const charts = await google.colab.kernel.invokeFunction(\n",
              "            'suggestCharts', [key], {});\n",
              "      } catch (error) {\n",
              "        console.error('Error during call to suggestCharts:', error);\n",
              "      }\n",
              "      quickchartButtonEl.classList.remove('colab-df-spinner');\n",
              "      quickchartButtonEl.classList.add('colab-df-quickchart-complete');\n",
              "    }\n",
              "    (() => {\n",
              "      let quickchartButtonEl =\n",
              "        document.querySelector('#df-ace78e6a-b44d-4dbf-8b32-e34146bbc99e button');\n",
              "      quickchartButtonEl.style.display =\n",
              "        google.colab.kernel.accessAllowed ? 'block' : 'none';\n",
              "    })();\n",
              "  </script>\n",
              "</div>\n",
              "\n",
              "    </div>\n",
              "  </div>\n"
            ],
            "text/plain": [
              "        category                                               text\n",
              "0           tech  tv future in the hands of viewers with home th...\n",
              "1       business  worldcom boss  left books alone  former worldc...\n",
              "2          sport  tigers wary of farrell  gamble  leicester say ...\n",
              "3          sport  yeading face newcastle in fa cup premiership s...\n",
              "4  entertainment  ocean s twelve raids box office ocean s twelve..."
            ]
          },
          "execution_count": 3,
          "metadata": {},
          "output_type": "execute_result"
        }
      ],
      "source": [
        "df.head()"
      ]
    },
    {
      "cell_type": "code",
      "execution_count": 4,
      "metadata": {
        "colab": {
          "base_uri": "https://localhost:8080/",
          "height": 719
        },
        "id": "yW__25ubSwbO",
        "outputId": "43913ed9-a8fb-4242-86e7-a5fbe92a887a"
      },
      "outputs": [
        {
          "name": "stdout",
          "output_type": "stream",
          "text": [
            "n sample ->  2225\n",
            "5 {'tech', 'entertainment', 'politics', 'sport', 'business'}\n",
            "category\n",
            "sport            511\n",
            "business         510\n",
            "politics         417\n",
            "tech             401\n",
            "entertainment    386\n",
            "Name: count, dtype: int64\n"
          ]
        },
        {
          "data": {
            "text/plain": [
              "<Axes: xlabel='category'>"
            ]
          },
          "execution_count": 4,
          "metadata": {},
          "output_type": "execute_result"
        },
        {
          "data": {
            "image/png": "[encoded data removed]",
            "text/plain": [
              "<Figure size 640x480 with 1 Axes>"
            ]
          },
          "metadata": {},
          "output_type": "display_data"
        }
      ],
      "source": [
        "# il dataset è formato da 2225 sample contenenti aricoli della BBC\n",
        "# suddivisi in 5 categorie in base al loro topic\n",
        "\n",
        "print('n sample -> ', len(df))\n",
        "labels = set(df['category'])\n",
        "print(len(labels), labels)\n",
        "print(df['category'].value_counts())\n",
        "df.groupby(['category']).size().plot.bar()"
      ]
    },
    {
      "cell_type": "code",
      "execution_count": 5,
      "metadata": {
        "colab": {
          "base_uri": "https://localhost:8080/"
        },
        "id": "xf2wjn3mTfaa",
        "outputId": "76368485-56e6-448d-e66a-2a46d21cf7dd"
      },
      "outputs": [
        {
          "name": "stdout",
          "output_type": "stream",
          "text": [
            "yeading face newcastle in fa cup premiership side newcastle united face a trip to ryman premier league leaders yeading in the fa cup third round.  the game - arguably the highlight of the draw - is a potential money-spinner for non-league yeading  who beat slough in the second round. conference side exeter city  who knocked out doncaster on saturday  will travel to old trafford to meet holders manchester united in january. arsenal were drawn at home to stoke and chelsea will play host to scunthorpe. the only other non-league side in the draw are hinckley united  who held brentford to a goalless draw on sunday. they will meet league one leaders luton if they win their replay against martin allen s team at griffin park.  a number of premiership teams face difficult away games against championship sides on the weekend of 8/9 january. third-placed everton visit plymouth  liverpool travel to burnley  crystal palace go to sunderland  fulham face carling cup semi-finalists watford  bolton meet ipswich  while aston villa were drawn against sheffield united. premiership strugglers norwich  blackburn  west brom are away at west ham  cardiff and preston north end respectively. southampton visit northampton  having already beaten the league two side in the carling cup earlier this season. middlesbrough were drawn away against either swindon or notts county  while spurs entertain brighton at white hart lane.  arsenal v stoke  swindon/notts co v middlesbrough  man utd v exeter  plymouth v everton  leicester v blackpool  derby v wigan  sunderland v crystal palace  wolves v millwall  yeading v newcastle  hull v colchester  tottenham v brighton  reading v stockport/swansea  birmingham v leeds  hartlepool v boston  milton keynes dons v peterborough  oldham v man city  chelsea v scunthorpe  cardiff v blackburn  charlton v rochdale  west ham v norwich  sheff utd v aston villa  preston v west brom  rotherham v yeovil  burnley v liverpool  bournemouth v chester  coventry v crewe  watford v fulham  ipswich v bolton  portsmouth v gillingham  northampton v southampton  qpr v nottm forest  luton v hinckley/brentford  matches to be played on weekend of 8/9 january.\n",
            "sport\n"
          ]
        }
      ],
      "source": [
        "print(df.at[3, 'text'])\n",
        "print(df.at[3, 'category'])"
      ]
    },
    {
      "cell_type": "markdown",
      "metadata": {
        "id": "k_Gi0FcF8DuK"
      },
      "source": [
        "**Tokenization**"
      ]
    },
    {
      "cell_type": "code",
      "execution_count": 6,
      "metadata": {
        "colab": {
          "base_uri": "https://localhost:8080/"
        },
        "id": "7BGzSlWETqI2",
        "outputId": "0e32dd15-6c21-47b4-9816-248f1419b705"
      },
      "outputs": [
        {
          "name": "stderr",
          "output_type": "stream",
          "text": [
            "[nltk_data] Downloading package punkt to /root/nltk_data...\n",
            "[nltk_data]   Unzipping tokenizers/punkt.zip.\n"
          ]
        },
        {
          "data": {
            "text/plain": [
              "True"
            ]
          },
          "execution_count": 6,
          "metadata": {},
          "output_type": "execute_result"
        }
      ],
      "source": [
        "# https://www.nltk.org/\n",
        "\n",
        "nltk.download('punkt') #it contains data for the library (tokenizers and corpora)"
      ]
    },
    {
      "cell_type": "code",
      "execution_count": 7,
      "metadata": {
        "colab": {
          "base_uri": "https://localhost:8080/"
        },
        "id": "0SMU3GmVUOn1",
        "outputId": "5ef0c8e6-ef13-462d-fed5-bfdfbd65a9aa"
      },
      "outputs": [
        {
          "name": "stdout",
          "output_type": "stream",
          "text": [
            "['The', 'quick', 'brown', 'fox', ',', 'jumps', 'over', ':', 'the', 'lazy', 'dog', '.']\n"
          ]
        }
      ],
      "source": [
        "s = 'The quick brown fox, jumps over: the lazy dog.'\n",
        "t = nltk.word_tokenize(s)\n",
        "print(t)"
      ]
    },
    {
      "cell_type": "code",
      "execution_count": 8,
      "metadata": {
        "colab": {
          "base_uri": "https://localhost:8080/"
        },
        "id": "woYD-9t6U4D6",
        "outputId": "73058070-ba31-4751-ccd8-c830c29160d6"
      },
      "outputs": [
        {
          "name": "stdout",
          "output_type": "stream",
          "text": [
            "The quick brown fox, jumps over: the lazy dog.\n",
            "The quick brown fox jumps over the lazy dog \n",
            "['The', 'quick', 'brown', 'fox', 'jumps', 'over', 'the', 'lazy', 'dog']\n"
          ]
        }
      ],
      "source": [
        "import re\n",
        "\n",
        "s = 'The quick brown fox, jumps over: the lazy dog.'\n",
        "print(s)\n",
        "s = re.sub(f'[^\\w]+', ' ', s)\n",
        "print(s)\n",
        "t = nltk.word_tokenize(s)\n",
        "print(t)"
      ]
    },
    {
      "cell_type": "markdown",
      "metadata": {
        "id": "JuuBJnmf8IGC"
      },
      "source": [
        "**Stemming**"
      ]
    },
    {
      "cell_type": "code",
      "execution_count": 9,
      "metadata": {
        "colab": {
          "base_uri": "https://localhost:8080/"
        },
        "id": "3pvoATH7VPmG",
        "outputId": "18b2241e-5cc7-4960-c82d-15f6f1d703d9"
      },
      "outputs": [
        {
          "name": "stdout",
          "output_type": "stream",
          "text": [
            "['the', 'quick', 'brown', 'fox', 'jump', 'over', 'the', 'lazi', 'dog']\n"
          ]
        }
      ],
      "source": [
        "from nltk.stem.snowball import SnowballStemmer\n",
        "stemmer = SnowballStemmer('english')\n",
        "\n",
        "stem = [stemmer.stem(w) for w in t]\n",
        "print(stem)"
      ]
    },
    {
      "cell_type": "markdown",
      "metadata": {
        "id": "VZ9f-E908RwP"
      },
      "source": [
        "**Lemmatization**"
      ]
    },
    {
      "cell_type": "code",
      "execution_count": 10,
      "metadata": {
        "colab": {
          "base_uri": "https://localhost:8080/"
        },
        "id": "wVWOT7BR8Q8l",
        "outputId": "cf2291fa-8eb8-4616-a240-69fed7a0f616"
      },
      "outputs": [
        {
          "name": "stderr",
          "output_type": "stream",
          "text": [
            "[nltk_data] Downloading package wordnet to /root/nltk_data...\n"
          ]
        },
        {
          "name": "stdout",
          "output_type": "stream",
          "text": [
            "dog\n"
          ]
        }
      ],
      "source": [
        "nltk.download('wordnet')\n",
        "from nltk.stem import WordNetLemmatizer\n",
        "wnl = WordNetLemmatizer()\n",
        "print(wnl.lemmatize('dogs'))"
      ]
    },
    {
      "cell_type": "markdown",
      "metadata": {
        "id": "U29H_zPi8NO7"
      },
      "source": [
        "**Stopwords**"
      ]
    },
    {
      "cell_type": "code",
      "execution_count": 11,
      "metadata": {
        "colab": {
          "base_uri": "https://localhost:8080/"
        },
        "id": "N63kPKnJW06N",
        "outputId": "26b106a2-c3d7-4d63-e364-f9b49fe73786"
      },
      "outputs": [
        {
          "name": "stdout",
          "output_type": "stream",
          "text": [
            "there are 179 stopwords\n",
            "\n",
            "['i', 'me', 'my', 'myself', 'we', 'our', 'ours', 'ourselves', 'you', \"you're\", \"you've\", \"you'll\", \"you'd\", 'your', 'yours', 'yourself', 'yourselves', 'he', 'him', 'his', 'himself', 'she', \"she's\", 'her', 'hers', 'herself', 'it', \"it's\", 'its', 'itself', 'they', 'them', 'their', 'theirs', 'themselves', 'what', 'which', 'who', 'whom', 'this', 'that', \"that'll\", 'these', 'those', 'am', 'is', 'are', 'was', 'were', 'be', 'been', 'being', 'have', 'has', 'had', 'having', 'do', 'does', 'did', 'doing', 'a', 'an', 'the', 'and', 'but', 'if', 'or', 'because', 'as', 'until', 'while', 'of', 'at', 'by', 'for', 'with', 'about', 'against', 'between', 'into', 'through', 'during', 'before', 'after', 'above', 'below', 'to', 'from', 'up', 'down', 'in', 'out', 'on', 'off', 'over', 'under', 'again', 'further', 'then', 'once', 'here', 'there', 'when', 'where', 'why', 'how', 'all', 'any', 'both', 'each', 'few', 'more', 'most', 'other', 'some', 'such', 'no', 'nor', 'not', 'only', 'own', 'same', 'so', 'than', 'too', 'very', 's', 't', 'can', 'will', 'just', 'don', \"don't\", 'should', \"should've\", 'now', 'd', 'll', 'm', 'o', 're', 've', 'y', 'ain', 'aren', \"aren't\", 'couldn', \"couldn't\", 'didn', \"didn't\", 'doesn', \"doesn't\", 'hadn', \"hadn't\", 'hasn', \"hasn't\", 'haven', \"haven't\", 'isn', \"isn't\", 'ma', 'mightn', \"mightn't\", 'mustn', \"mustn't\", 'needn', \"needn't\", 'shan', \"shan't\", 'shouldn', \"shouldn't\", 'wasn', \"wasn't\", 'weren', \"weren't\", 'won', \"won't\", 'wouldn', \"wouldn't\"]\n"
          ]
        },
        {
          "name": "stderr",
          "output_type": "stream",
          "text": [
            "[nltk_data] Downloading package stopwords to /root/nltk_data...\n",
            "[nltk_data]   Unzipping corpora/stopwords.zip.\n"
          ]
        }
      ],
      "source": [
        "nltk.download('stopwords')\n",
        "\n",
        "stop = stopwords.words('english')\n",
        "print(f'there are {len(stop)} stopwords\\n')\n",
        "print(stop)"
      ]
    },
    {
      "cell_type": "code",
      "execution_count": 12,
      "metadata": {
        "colab": {
          "base_uri": "https://localhost:8080/"
        },
        "id": "vSqw_Lp0XzDf",
        "outputId": "ed9eb63c-e966-4674-ec3d-d7bdcd76d132"
      },
      "outputs": [
        {
          "name": "stdout",
          "output_type": "stream",
          "text": [
            "['The', 'quick', 'brown', 'fox', 'jumps', 'over', 'the', 'lazy', 'dog']\n",
            "['quick', 'brown', 'fox', 'jumps', 'lazy', 'dog']\n",
            "['The', 'quick', 'brown', 'fox', 'jumps', 'lazy', 'dog']\n",
            "['the', 'quick', 'brown', 'fox', 'jump', 'over', 'the', 'lazi', 'dog']\n"
          ]
        }
      ],
      "source": [
        "# w/o stemming\n",
        "print(t)\n",
        "# lower words\n",
        "filtered_s = [w for w in t if not w.lower() in stop]\n",
        "print(filtered_s)\n",
        "# w/o lower words\n",
        "filtered_s2 = [w for w in t if not w in stop]\n",
        "print(filtered_s2)\n",
        "# stemming\n",
        "filtered_s3 = [stemmer.stem(w) for w in t]\n",
        "print(filtered_s3)"
      ]
    },
    {
      "cell_type": "code",
      "execution_count": 25,
      "metadata": {
        "colab": {
          "base_uri": "https://localhost:8080/"
        },
        "id": "90idtJMXYl_L",
        "outputId": "a1782df3-7300-401f-e9da-47e8aa6a89ad"
      },
      "outputs": [
        {
          "name": "stdout",
          "output_type": "stream",
          "text": [
            "yeading face newcastle in fa cup premiership side newcastle united face a trip to ryman premier league leaders yeading in the fa cup third round.  the game - arguably the highlight of the draw - is a potential money-spinner for non-league yeading  who beat slough in the second round. conference side exeter city  who knocked out doncaster on saturday  will travel to old trafford to meet holders manchester united in january. arsenal were drawn at home to stoke and chelsea will play host to scunthorpe. the only other non-league side in the draw are hinckley united  who held brentford to a goalless draw on sunday. they will meet league one leaders luton if they win their replay against martin allen s team at griffin park.  a number of premiership teams face difficult away games against championship sides on the weekend of 8/9 january. third-placed everton visit plymouth  liverpool travel to burnley  crystal palace go to sunderland  fulham face carling cup semi-finalists watford  bolton meet ipswich  while aston villa were drawn against sheffield united. premiership strugglers norwich  blackburn  west brom are away at west ham  cardiff and preston north end respectively. southampton visit northampton  having already beaten the league two side in the carling cup earlier this season. middlesbrough were drawn away against either swindon or notts county  while spurs entertain brighton at white hart lane.  arsenal v stoke  swindon/notts co v middlesbrough  man utd v exeter  plymouth v everton  leicester v blackpool  derby v wigan  sunderland v crystal palace  wolves v millwall  yeading v newcastle  hull v colchester  tottenham v brighton  reading v stockport/swansea  birmingham v leeds  hartlepool v boston  milton keynes dons v peterborough  oldham v man city  chelsea v scunthorpe  cardiff v blackburn  charlton v rochdale  west ham v norwich  sheff utd v aston villa  preston v west brom  rotherham v yeovil  burnley v liverpool  bournemouth v chester  coventry v crewe  watford v fulham  ipswich v bolton  portsmouth v gillingham  northampton v southampton  qpr v nottm forest  luton v hinckley/brentford  matches to be played on weekend of 8/9 january.\n",
            "['yeading', 'face', 'newcastle', 'in', 'fa', 'cup', 'premiership', 'side', 'newcastle', 'united', 'face', 'a', 'trip', 'to', 'ryman', 'premier', 'league', 'leaders', 'yeading', 'in', 'the', 'fa', 'cup', 'third', 'round', 'the', 'game', 'arguably', 'the', 'highlight', 'of', 'the', 'draw', 'is', 'a', 'potential', 'money', 'spinner', 'for', 'non', 'league', 'yeading', 'who', 'beat', 'slough', 'in', 'the', 'second', 'round', 'conference', 'side', 'exeter', 'city', 'who', 'knocked', 'out', 'doncaster', 'on', 'saturday', 'will', 'travel', 'to', 'old', 'trafford', 'to', 'meet', 'holders', 'manchester', 'united', 'in', 'january', 'arsenal', 'were', 'drawn', 'at', 'home', 'to', 'stoke', 'and', 'chelsea', 'will', 'play', 'host', 'to', 'scunthorpe', 'the', 'only', 'other', 'non', 'league', 'side', 'in', 'the', 'draw', 'are', 'hinckley', 'united', 'who', 'held', 'brentford', 'to', 'a', 'goalless', 'draw', 'on', 'sunday', 'they', 'will', 'meet', 'league', 'one', 'leaders', 'luton', 'if', 'they', 'win', 'their', 'replay', 'against', 'martin', 'allen', 's', 'team', 'at', 'griffin', 'park', 'a', 'number', 'of', 'premiership', 'teams', 'face', 'difficult', 'away', 'games', 'against', 'championship', 'sides', 'on', 'the', 'weekend', 'of', '8', '9', 'january', 'third', 'placed', 'everton', 'visit', 'plymouth', 'liverpool', 'travel', 'to', 'burnley', 'crystal', 'palace', 'go', 'to', 'sunderland', 'fulham', 'face', 'carling', 'cup', 'semi', 'finalists', 'watford', 'bolton', 'meet', 'ipswich', 'while', 'aston', 'villa', 'were', 'drawn', 'against', 'sheffield', 'united', 'premiership', 'strugglers', 'norwich', 'blackburn', 'west', 'brom', 'are', 'away', 'at', 'west', 'ham', 'cardiff', 'and', 'preston', 'north', 'end', 'respectively', 'southampton', 'visit', 'northampton', 'having', 'already', 'beaten', 'the', 'league', 'two', 'side', 'in', 'the', 'carling', 'cup', 'earlier', 'this', 'season', 'middlesbrough', 'were', 'drawn', 'away', 'against', 'either', 'swindon', 'or', 'notts', 'county', 'while', 'spurs', 'entertain', 'brighton', 'at', 'white', 'hart', 'lane', 'arsenal', 'v', 'stoke', 'swindon', 'notts', 'co', 'v', 'middlesbrough', 'man', 'utd', 'v', 'exeter', 'plymouth', 'v', 'everton', 'leicester', 'v', 'blackpool', 'derby', 'v', 'wigan', 'sunderland', 'v', 'crystal', 'palace', 'wolves', 'v', 'millwall', 'yeading', 'v', 'newcastle', 'hull', 'v', 'colchester', 'tottenham', 'v', 'brighton', 'reading', 'v', 'stockport', 'swansea', 'birmingham', 'v', 'leeds', 'hartlepool', 'v', 'boston', 'milton', 'keynes', 'dons', 'v', 'peterborough', 'oldham', 'v', 'man', 'city', 'chelsea', 'v', 'scunthorpe', 'cardiff', 'v', 'blackburn', 'charlton', 'v', 'rochdale', 'west', 'ham', 'v', 'norwich', 'sheff', 'utd', 'v', 'aston', 'villa', 'preston', 'v', 'west', 'brom', 'rotherham', 'v', 'yeovil', 'burnley', 'v', 'liverpool', 'bournemouth', 'v', 'chester', 'coventry', 'v', 'crewe', 'watford', 'v', 'fulham', 'ipswich', 'v', 'bolton', 'portsmouth', 'v', 'gillingham', 'northampton', 'v', 'southampton', 'qpr', 'v', 'nottm', 'forest', 'luton', 'v', 'hinckley', 'brentford', 'matches', 'to', 'be', 'played', 'on', 'weekend', 'of', '8', '9', 'january']\n",
            "['yeading', 'face', 'newcastle', 'fa', 'cup', 'premiership', 'side', 'newcastle', 'united', 'face', 'trip', 'ryman', 'premier', 'league', 'leaders', 'yeading', 'fa', 'cup', 'third', 'round', 'game', 'arguably', 'highlight', 'draw', 'potential', 'money', 'spinner', 'non', 'league', 'yeading', 'beat', 'slough', 'second', 'round', 'conference', 'side', 'exeter', 'city', 'knocked', 'doncaster', 'saturday', 'travel', 'old', 'trafford', 'meet', 'holders', 'manchester', 'united', 'january', 'arsenal', 'drawn', 'home', 'stoke', 'chelsea', 'play', 'host', 'scunthorpe', 'non', 'league', 'side', 'draw', 'hinckley', 'united', 'held', 'brentford', 'goalless', 'draw', 'sunday', 'meet', 'league', 'one', 'leaders', 'luton', 'win', 'replay', 'martin', 'allen', 'team', 'griffin', 'park', 'number', 'premiership', 'teams', 'face', 'difficult', 'away', 'games', 'championship', 'sides', 'weekend', '8', '9', 'january', 'third', 'placed', 'everton', 'visit', 'plymouth', 'liverpool', 'travel', 'burnley', 'crystal', 'palace', 'go', 'sunderland', 'fulham', 'face', 'carling', 'cup', 'semi', 'finalists', 'watford', 'bolton', 'meet', 'ipswich', 'aston', 'villa', 'drawn', 'sheffield', 'united', 'premiership', 'strugglers', 'norwich', 'blackburn', 'west', 'brom', 'away', 'west', 'ham', 'cardiff', 'preston', 'north', 'end', 'respectively', 'southampton', 'visit', 'northampton', 'already', 'beaten', 'league', 'two', 'side', 'carling', 'cup', 'earlier', 'season', 'middlesbrough', 'drawn', 'away', 'either', 'swindon', 'notts', 'county', 'spurs', 'entertain', 'brighton', 'white', 'hart', 'lane', 'arsenal', 'v', 'stoke', 'swindon', 'notts', 'co', 'v', 'middlesbrough', 'man', 'utd', 'v', 'exeter', 'plymouth', 'v', 'everton', 'leicester', 'v', 'blackpool', 'derby', 'v', 'wigan', 'sunderland', 'v', 'crystal', 'palace', 'wolves', 'v', 'millwall', 'yeading', 'v', 'newcastle', 'hull', 'v', 'colchester', 'tottenham', 'v', 'brighton', 'reading', 'v', 'stockport', 'swansea', 'birmingham', 'v', 'leeds', 'hartlepool', 'v', 'boston', 'milton', 'keynes', 'dons', 'v', 'peterborough', 'oldham', 'v', 'man', 'city', 'chelsea', 'v', 'scunthorpe', 'cardiff', 'v', 'blackburn', 'charlton', 'v', 'rochdale', 'west', 'ham', 'v', 'norwich', 'sheff', 'utd', 'v', 'aston', 'villa', 'preston', 'v', 'west', 'brom', 'rotherham', 'v', 'yeovil', 'burnley', 'v', 'liverpool', 'bournemouth', 'v', 'chester', 'coventry', 'v', 'crewe', 'watford', 'v', 'fulham', 'ipswich', 'v', 'bolton', 'portsmouth', 'v', 'gillingham', 'northampton', 'v', 'southampton', 'qpr', 'v', 'nottm', 'forest', 'luton', 'v', 'hinckley', 'brentford', 'matches', 'played', 'weekend', '8', '9', 'january']\n",
            "['yead', 'face', 'newcastl', 'fa', 'cup', 'premiership', 'side', 'newcastl', 'unit', 'face', 'trip', 'ryman', 'premier', 'leagu', 'leader', 'yead', 'fa', 'cup', 'third', 'round', 'game', 'arguabl', 'highlight', 'draw', 'potenti', 'money', 'spinner', 'non', 'leagu', 'yead', 'beat', 'slough', 'second', 'round', 'confer', 'side', 'exet', 'citi', 'knock', 'doncast', 'saturday', 'travel', 'old', 'trafford', 'meet', 'holder', 'manchest', 'unit', 'januari', 'arsenal', 'drawn', 'home', 'stoke', 'chelsea', 'play', 'host', 'scunthorp', 'non', 'leagu', 'side', 'draw', 'hinckley', 'unit', 'held', 'brentford', 'goalless', 'draw', 'sunday', 'meet', 'leagu', 'one', 'leader', 'luton', 'win', 'replay', 'martin', 'allen', 'team', 'griffin', 'park', 'number', 'premiership', 'team', 'face', 'difficult', 'away', 'game', 'championship', 'side', 'weekend', '8', '9', 'januari', 'third', 'place', 'everton', 'visit', 'plymouth', 'liverpool', 'travel', 'burnley', 'crystal', 'palac', 'go', 'sunderland', 'fulham', 'face', 'carl', 'cup', 'semi', 'finalist', 'watford', 'bolton', 'meet', 'ipswich', 'aston', 'villa', 'drawn', 'sheffield', 'unit', 'premiership', 'struggler', 'norwich', 'blackburn', 'west', 'brom', 'away', 'west', 'ham', 'cardiff', 'preston', 'north', 'end', 'respect', 'southampton', 'visit', 'northampton', 'alreadi', 'beaten', 'leagu', 'two', 'side', 'carl', 'cup', 'earlier', 'season', 'middlesbrough', 'drawn', 'away', 'either', 'swindon', 'nott', 'counti', 'spur', 'entertain', 'brighton', 'white', 'hart', 'lane', 'arsenal', 'v', 'stoke', 'swindon', 'nott', 'co', 'v', 'middlesbrough', 'man', 'utd', 'v', 'exet', 'plymouth', 'v', 'everton', 'leicest', 'v', 'blackpool', 'derbi', 'v', 'wigan', 'sunderland', 'v', 'crystal', 'palac', 'wolv', 'v', 'millwal', 'yead', 'v', 'newcastl', 'hull', 'v', 'colchest', 'tottenham', 'v', 'brighton', 'read', 'v', 'stockport', 'swansea', 'birmingham', 'v', 'leed', 'hartlepool', 'v', 'boston', 'milton', 'keyn', 'don', 'v', 'peterborough', 'oldham', 'v', 'man', 'citi', 'chelsea', 'v', 'scunthorp', 'cardiff', 'v', 'blackburn', 'charlton', 'v', 'rochdal', 'west', 'ham', 'v', 'norwich', 'sheff', 'utd', 'v', 'aston', 'villa', 'preston', 'v', 'west', 'brom', 'rotherham', 'v', 'yeovil', 'burnley', 'v', 'liverpool', 'bournemouth', 'v', 'chester', 'coventri', 'v', 'crew', 'watford', 'v', 'fulham', 'ipswich', 'v', 'bolton', 'portsmouth', 'v', 'gillingham', 'northampton', 'v', 'southampton', 'qpr', 'v', 'nottm', 'forest', 'luton', 'v', 'hinckley', 'brentford', 'match', 'play', 'weekend', '8', '9', 'januari']\n"
          ]
        }
      ],
      "source": [
        "# tokenization over dataset\n",
        "df['tokenized'] = df['text'].apply(lambda x: nltk.word_tokenize(re.sub(f'[^\\w]+', ' ', x)))\n",
        "# removing stopwords over dataset\n",
        "df['filtered'] = df['tokenized'].apply(lambda x: [w for w in x if not w.lower() in stop])\n",
        "# stemming over dataset\n",
        "df['stemmed'] = df['filtered'].apply(lambda x: [stemmer.stem(w) for w in x])\n",
        "\n",
        "print(df.at[3, 'text'])\n",
        "print(df.at[3, 'tokenized'])\n",
        "print(df.at[3, 'filtered'])\n",
        "print(df.at[3, 'stemmed'])"
      ]
    },
    {
      "cell_type": "markdown",
      "metadata": {
        "id": "lUzb3dXPGfmi"
      },
      "source": [
        "**N-grams**"
      ]
    },
    {
      "cell_type": "code",
      "execution_count": 26,
      "metadata": {
        "colab": {
          "base_uri": "https://localhost:8080/"
        },
        "id": "Lw9V859TZQHK",
        "outputId": "e6e4fb96-ee09-470d-ad3d-833db2cc7da7"
      },
      "outputs": [
        {
          "name": "stdout",
          "output_type": "stream",
          "text": [
            "['yead', 'face', 'newcastl', 'fa', 'cup', 'premiership', 'side', 'newcastl', 'unit', 'face', 'trip', 'ryman', 'premier', 'leagu', 'leader', 'yead', 'fa', 'cup', 'third', 'round', 'game', 'arguabl', 'highlight', 'draw', 'potenti', 'money', 'spinner', 'non', 'leagu', 'yead', 'beat', 'slough', 'second', 'round', 'confer', 'side', 'exet', 'citi', 'knock', 'doncast', 'saturday', 'travel', 'old', 'trafford', 'meet', 'holder', 'manchest', 'unit', 'januari', 'arsenal', 'drawn', 'home', 'stoke', 'chelsea', 'play', 'host', 'scunthorp', 'non', 'leagu', 'side', 'draw', 'hinckley', 'unit', 'held', 'brentford', 'goalless', 'draw', 'sunday', 'meet', 'leagu', 'one', 'leader', 'luton', 'win', 'replay', 'martin', 'allen', 'team', 'griffin', 'park', 'number', 'premiership', 'team', 'face', 'difficult', 'away', 'game', 'championship', 'side', 'weekend', '8', '9', 'januari', 'third', 'place', 'everton', 'visit', 'plymouth', 'liverpool', 'travel', 'burnley', 'crystal', 'palac', 'go', 'sunderland', 'fulham', 'face', 'carl', 'cup', 'semi', 'finalist', 'watford', 'bolton', 'meet', 'ipswich', 'aston', 'villa', 'drawn', 'sheffield', 'unit', 'premiership', 'struggler', 'norwich', 'blackburn', 'west', 'brom', 'away', 'west', 'ham', 'cardiff', 'preston', 'north', 'end', 'respect', 'southampton', 'visit', 'northampton', 'alreadi', 'beaten', 'leagu', 'two', 'side', 'carl', 'cup', 'earlier', 'season', 'middlesbrough', 'drawn', 'away', 'either', 'swindon', 'nott', 'counti', 'spur', 'entertain', 'brighton', 'white', 'hart', 'lane', 'arsenal', 'v', 'stoke', 'swindon', 'nott', 'co', 'v', 'middlesbrough', 'man', 'utd', 'v', 'exet', 'plymouth', 'v', 'everton', 'leicest', 'v', 'blackpool', 'derbi', 'v', 'wigan', 'sunderland', 'v', 'crystal', 'palac', 'wolv', 'v', 'millwal', 'yead', 'v', 'newcastl', 'hull', 'v', 'colchest', 'tottenham', 'v', 'brighton', 'read', 'v', 'stockport', 'swansea', 'birmingham', 'v', 'leed', 'hartlepool', 'v', 'boston', 'milton', 'keyn', 'don', 'v', 'peterborough', 'oldham', 'v', 'man', 'citi', 'chelsea', 'v', 'scunthorp', 'cardiff', 'v', 'blackburn', 'charlton', 'v', 'rochdal', 'west', 'ham', 'v', 'norwich', 'sheff', 'utd', 'v', 'aston', 'villa', 'preston', 'v', 'west', 'brom', 'rotherham', 'v', 'yeovil', 'burnley', 'v', 'liverpool', 'bournemouth', 'v', 'chester', 'coventri', 'v', 'crew', 'watford', 'v', 'fulham', 'ipswich', 'v', 'bolton', 'portsmouth', 'v', 'gillingham', 'northampton', 'v', 'southampton', 'qpr', 'v', 'nottm', 'forest', 'luton', 'v', 'hinckley', 'brentford', 'match', 'play', 'weekend', '8', '9', 'januari']\n",
            "[('yead', 'face', 'newcastl'), ('face', 'newcastl', 'fa'), ('newcastl', 'fa', 'cup'), ('fa', 'cup', 'premiership'), ('cup', 'premiership', 'side'), ('premiership', 'side', 'newcastl'), ('side', 'newcastl', 'unit'), ('newcastl', 'unit', 'face'), ('unit', 'face', 'trip'), ('face', 'trip', 'ryman'), ('trip', 'ryman', 'premier'), ('ryman', 'premier', 'leagu'), ('premier', 'leagu', 'leader'), ('leagu', 'leader', 'yead'), ('leader', 'yead', 'fa'), ('yead', 'fa', 'cup'), ('fa', 'cup', 'third'), ('cup', 'third', 'round'), ('third', 'round', 'game'), ('round', 'game', 'arguabl'), ('game', 'arguabl', 'highlight'), ('arguabl', 'highlight', 'draw'), ('highlight', 'draw', 'potenti'), ('draw', 'potenti', 'money'), ('potenti', 'money', 'spinner'), ('money', 'spinner', 'non'), ('spinner', 'non', 'leagu'), ('non', 'leagu', 'yead'), ('leagu', 'yead', 'beat'), ('yead', 'beat', 'slough'), ('beat', 'slough', 'second'), ('slough', 'second', 'round'), ('second', 'round', 'confer'), ('round', 'confer', 'side'), ('confer', 'side', 'exet'), ('side', 'exet', 'citi'), ('exet', 'citi', 'knock'), ('citi', 'knock', 'doncast'), ('knock', 'doncast', 'saturday'), ('doncast', 'saturday', 'travel'), ('saturday', 'travel', 'old'), ('travel', 'old', 'trafford'), ('old', 'trafford', 'meet'), ('trafford', 'meet', 'holder'), ('meet', 'holder', 'manchest'), ('holder', 'manchest', 'unit'), ('manchest', 'unit', 'januari'), ('unit', 'januari', 'arsenal'), ('januari', 'arsenal', 'drawn'), ('arsenal', 'drawn', 'home'), ('drawn', 'home', 'stoke'), ('home', 'stoke', 'chelsea'), ('stoke', 'chelsea', 'play'), ('chelsea', 'play', 'host'), ('play', 'host', 'scunthorp'), ('host', 'scunthorp', 'non'), ('scunthorp', 'non', 'leagu'), ('non', 'leagu', 'side'), ('leagu', 'side', 'draw'), ('side', 'draw', 'hinckley'), ('draw', 'hinckley', 'unit'), ('hinckley', 'unit', 'held'), ('unit', 'held', 'brentford'), ('held', 'brentford', 'goalless'), ('brentford', 'goalless', 'draw'), ('goalless', 'draw', 'sunday'), ('draw', 'sunday', 'meet'), ('sunday', 'meet', 'leagu'), ('meet', 'leagu', 'one'), ('leagu', 'one', 'leader'), ('one', 'leader', 'luton'), ('leader', 'luton', 'win'), ('luton', 'win', 'replay'), ('win', 'replay', 'martin'), ('replay', 'martin', 'allen'), ('martin', 'allen', 'team'), ('allen', 'team', 'griffin'), ('team', 'griffin', 'park'), ('griffin', 'park', 'number'), ('park', 'number', 'premiership'), ('number', 'premiership', 'team'), ('premiership', 'team', 'face'), ('team', 'face', 'difficult'), ('face', 'difficult', 'away'), ('difficult', 'away', 'game'), ('away', 'game', 'championship'), ('game', 'championship', 'side'), ('championship', 'side', 'weekend'), ('side', 'weekend', '8'), ('weekend', '8', '9'), ('8', '9', 'januari'), ('9', 'januari', 'third'), ('januari', 'third', 'place'), ('third', 'place', 'everton'), ('place', 'everton', 'visit'), ('everton', 'visit', 'plymouth'), ('visit', 'plymouth', 'liverpool'), ('plymouth', 'liverpool', 'travel'), ('liverpool', 'travel', 'burnley'), ('travel', 'burnley', 'crystal'), ('burnley', 'crystal', 'palac'), ('crystal', 'palac', 'go'), ('palac', 'go', 'sunderland'), ('go', 'sunderland', 'fulham'), ('sunderland', 'fulham', 'face'), ('fulham', 'face', 'carl'), ('face', 'carl', 'cup'), ('carl', 'cup', 'semi'), ('cup', 'semi', 'finalist'), ('semi', 'finalist', 'watford'), ('finalist', 'watford', 'bolton'), ('watford', 'bolton', 'meet'), ('bolton', 'meet', 'ipswich'), ('meet', 'ipswich', 'aston'), ('ipswich', 'aston', 'villa'), ('aston', 'villa', 'drawn'), ('villa', 'drawn', 'sheffield'), ('drawn', 'sheffield', 'unit'), ('sheffield', 'unit', 'premiership'), ('unit', 'premiership', 'struggler'), ('premiership', 'struggler', 'norwich'), ('struggler', 'norwich', 'blackburn'), ('norwich', 'blackburn', 'west'), ('blackburn', 'west', 'brom'), ('west', 'brom', 'away'), ('brom', 'away', 'west'), ('away', 'west', 'ham'), ('west', 'ham', 'cardiff'), ('ham', 'cardiff', 'preston'), ('cardiff', 'preston', 'north'), ('preston', 'north', 'end'), ('north', 'end', 'respect'), ('end', 'respect', 'southampton'), ('respect', 'southampton', 'visit'), ('southampton', 'visit', 'northampton'), ('visit', 'northampton', 'alreadi'), ('northampton', 'alreadi', 'beaten'), ('alreadi', 'beaten', 'leagu'), ('beaten', 'leagu', 'two'), ('leagu', 'two', 'side'), ('two', 'side', 'carl'), ('side', 'carl', 'cup'), ('carl', 'cup', 'earlier'), ('cup', 'earlier', 'season'), ('earlier', 'season', 'middlesbrough'), ('season', 'middlesbrough', 'drawn'), ('middlesbrough', 'drawn', 'away'), ('drawn', 'away', 'either'), ('away', 'either', 'swindon'), ('either', 'swindon', 'nott'), ('swindon', 'nott', 'counti'), ('nott', 'counti', 'spur'), ('counti', 'spur', 'entertain'), ('spur', 'entertain', 'brighton'), ('entertain', 'brighton', 'white'), ('brighton', 'white', 'hart'), ('white', 'hart', 'lane'), ('hart', 'lane', 'arsenal'), ('lane', 'arsenal', 'v'), ('arsenal', 'v', 'stoke'), ('v', 'stoke', 'swindon'), ('stoke', 'swindon', 'nott'), ('swindon', 'nott', 'co'), ('nott', 'co', 'v'), ('co', 'v', 'middlesbrough'), ('v', 'middlesbrough', 'man'), ('middlesbrough', 'man', 'utd'), ('man', 'utd', 'v'), ('utd', 'v', 'exet'), ('v', 'exet', 'plymouth'), ('exet', 'plymouth', 'v'), ('plymouth', 'v', 'everton'), ('v', 'everton', 'leicest'), ('everton', 'leicest', 'v'), ('leicest', 'v', 'blackpool'), ('v', 'blackpool', 'derbi'), ('blackpool', 'derbi', 'v'), ('derbi', 'v', 'wigan'), ('v', 'wigan', 'sunderland'), ('wigan', 'sunderland', 'v'), ('sunderland', 'v', 'crystal'), ('v', 'crystal', 'palac'), ('crystal', 'palac', 'wolv'), ('palac', 'wolv', 'v'), ('wolv', 'v', 'millwal'), ('v', 'millwal', 'yead'), ('millwal', 'yead', 'v'), ('yead', 'v', 'newcastl'), ('v', 'newcastl', 'hull'), ('newcastl', 'hull', 'v'), ('hull', 'v', 'colchest'), ('v', 'colchest', 'tottenham'), ('colchest', 'tottenham', 'v'), ('tottenham', 'v', 'brighton'), ('v', 'brighton', 'read'), ('brighton', 'read', 'v'), ('read', 'v', 'stockport'), ('v', 'stockport', 'swansea'), ('stockport', 'swansea', 'birmingham'), ('swansea', 'birmingham', 'v'), ('birmingham', 'v', 'leed'), ('v', 'leed', 'hartlepool'), ('leed', 'hartlepool', 'v'), ('hartlepool', 'v', 'boston'), ('v', 'boston', 'milton'), ('boston', 'milton', 'keyn'), ('milton', 'keyn', 'don'), ('keyn', 'don', 'v'), ('don', 'v', 'peterborough'), ('v', 'peterborough', 'oldham'), ('peterborough', 'oldham', 'v'), ('oldham', 'v', 'man'), ('v', 'man', 'citi'), ('man', 'citi', 'chelsea'), ('citi', 'chelsea', 'v'), ('chelsea', 'v', 'scunthorp'), ('v', 'scunthorp', 'cardiff'), ('scunthorp', 'cardiff', 'v'), ('cardiff', 'v', 'blackburn'), ('v', 'blackburn', 'charlton'), ('blackburn', 'charlton', 'v'), ('charlton', 'v', 'rochdal'), ('v', 'rochdal', 'west'), ('rochdal', 'west', 'ham'), ('west', 'ham', 'v'), ('ham', 'v', 'norwich'), ('v', 'norwich', 'sheff'), ('norwich', 'sheff', 'utd'), ('sheff', 'utd', 'v'), ('utd', 'v', 'aston'), ('v', 'aston', 'villa'), ('aston', 'villa', 'preston'), ('villa', 'preston', 'v'), ('preston', 'v', 'west'), ('v', 'west', 'brom'), ('west', 'brom', 'rotherham'), ('brom', 'rotherham', 'v'), ('rotherham', 'v', 'yeovil'), ('v', 'yeovil', 'burnley'), ('yeovil', 'burnley', 'v'), ('burnley', 'v', 'liverpool'), ('v', 'liverpool', 'bournemouth'), ('liverpool', 'bournemouth', 'v'), ('bournemouth', 'v', 'chester'), ('v', 'chester', 'coventri'), ('chester', 'coventri', 'v'), ('coventri', 'v', 'crew'), ('v', 'crew', 'watford'), ('crew', 'watford', 'v'), ('watford', 'v', 'fulham'), ('v', 'fulham', 'ipswich'), ('fulham', 'ipswich', 'v'), ('ipswich', 'v', 'bolton'), ('v', 'bolton', 'portsmouth'), ('bolton', 'portsmouth', 'v'), ('portsmouth', 'v', 'gillingham'), ('v', 'gillingham', 'northampton'), ('gillingham', 'northampton', 'v'), ('northampton', 'v', 'southampton'), ('v', 'southampton', 'qpr'), ('southampton', 'qpr', 'v'), ('qpr', 'v', 'nottm'), ('v', 'nottm', 'forest'), ('nottm', 'forest', 'luton'), ('forest', 'luton', 'v'), ('luton', 'v', 'hinckley'), ('v', 'hinckley', 'brentford'), ('hinckley', 'brentford', 'match'), ('brentford', 'match', 'play'), ('match', 'play', 'weekend'), ('play', 'weekend', '8'), ('weekend', '8', '9'), ('8', '9', 'januari')]\n"
          ]
        }
      ],
      "source": [
        "print(df.at[3, 'stemmed'])\n",
        "\n",
        "# generate bigrams/trigrams\n",
        "ngrams = list(nltk.ngrams(df.at[3, 'stemmed'], 3))\n",
        "\n",
        "print(ngrams)"
      ]
    },
    {
      "cell_type": "code",
      "execution_count": 23,
      "metadata": {
        "colab": {
          "base_uri": "https://localhost:8080/"
        },
        "id": "WuEGwsCdbXNW",
        "outputId": "b7aab90f-2c57-479b-b1f4-4f37195b4f96"
      },
      "outputs": [
        {
          "name": "stdout",
          "output_type": "stream",
          "text": [
            "['yeading', 'face', 'newcastle', 'in', 'fa', 'cup', 'premiership', 'side', 'newcastle', 'united', 'face', 'a', 'trip', 'to', 'ryman', 'premier', 'league', 'leaders', 'yeading', 'in', 'the', 'fa', 'cup', 'third', 'round', 'the', 'game', 'arguably', 'the', 'highlight', 'of', 'the', 'draw', 'is', 'a', 'potential', 'money', 'spinner', 'for', 'non', 'league', 'yeading', 'who', 'beat', 'slough', 'in', 'the', 'second', 'round', 'conference', 'side', 'exeter', 'city', 'who', 'knocked', 'out', 'doncaster', 'on', 'saturday', 'will', 'travel', 'to', 'old', 'trafford', 'to', 'meet', 'holders', 'manchester', 'united', 'in', 'january', 'arsenal', 'were', 'drawn', 'at', 'home', 'to', 'stoke', 'and', 'chelsea', 'will', 'play', 'host', 'to', 'scunthorpe', 'the', 'only', 'other', 'non', 'league', 'side', 'in', 'the', 'draw', 'are', 'hinckley', 'united', 'who', 'held', 'brentford', 'to', 'a', 'goalless', 'draw', 'on', 'sunday', 'they', 'will', 'meet', 'league', 'one', 'leaders', 'luton', 'if', 'they', 'win', 'their', 'replay', 'against', 'martin', 'allen', 's', 'team', 'at', 'griffin', 'park', 'a', 'number', 'of', 'premiership', 'teams', 'face', 'difficult', 'away', 'games', 'against', 'championship', 'sides', 'on', 'the', 'weekend', 'of', '8', '9', 'january', 'third', 'placed', 'everton', 'visit', 'plymouth', 'liverpool', 'travel', 'to', 'burnley', 'crystal', 'palace', 'go', 'to', 'sunderland', 'fulham', 'face', 'carling', 'cup', 'semi', 'finalists', 'watford', 'bolton', 'meet', 'ipswich', 'while', 'aston', 'villa', 'were', 'drawn', 'against', 'sheffield', 'united', 'premiership', 'strugglers', 'norwich', 'blackburn', 'west', 'brom', 'are', 'away', 'at', 'west', 'ham', 'cardiff', 'and', 'preston', 'north', 'end', 'respectively', 'southampton', 'visit', 'northampton', 'having', 'already', 'beaten', 'the', 'league', 'two', 'side', 'in', 'the', 'carling', 'cup', 'earlier', 'this', 'season', 'middlesbrough', 'were', 'drawn', 'away', 'against', 'either', 'swindon', 'or', 'notts', 'county', 'while', 'spurs', 'entertain', 'brighton', 'at', 'white', 'hart', 'lane', 'arsenal', 'v', 'stoke', 'swindon', 'notts', 'co', 'v', 'middlesbrough', 'man', 'utd', 'v', 'exeter', 'plymouth', 'v', 'everton', 'leicester', 'v', 'blackpool', 'derby', 'v', 'wigan', 'sunderland', 'v', 'crystal', 'palace', 'wolves', 'v', 'millwall', 'yeading', 'v', 'newcastle', 'hull', 'v', 'colchester', 'tottenham', 'v', 'brighton', 'reading', 'v', 'stockport', 'swansea', 'birmingham', 'v', 'leeds', 'hartlepool', 'v', 'boston', 'milton', 'keynes', 'dons', 'v', 'peterborough', 'oldham', 'v', 'man', 'city', 'chelsea', 'v', 'scunthorpe', 'cardiff', 'v', 'blackburn', 'charlton', 'v', 'rochdale', 'west', 'ham', 'v', 'norwich', 'sheff', 'utd', 'v', 'aston', 'villa', 'preston', 'v', 'west', 'brom', 'rotherham', 'v', 'yeovil', 'burnley', 'v', 'liverpool', 'bournemouth', 'v', 'chester', 'coventry', 'v', 'crewe', 'watford', 'v', 'fulham', 'ipswich', 'v', 'bolton', 'portsmouth', 'v', 'gillingham', 'northampton', 'v', 'southampton', 'qpr', 'v', 'nottm', 'forest', 'luton', 'v', 'hinckley', 'brentford', 'matches', 'to', 'be', 'played', 'on', 'weekend', 'of', '8', '9', 'january']\n",
            "yeading face newcastle in fa cup premiership side newcastle united face a trip to ryman premier league leaders yeading in the fa cup third round the game arguably the highlight of the draw is a potential money spinner for non league yeading who beat slough in the second round conference side exeter city who knocked out doncaster on saturday will travel to old trafford to meet holders manchester united in january arsenal were drawn at home to stoke and chelsea will play host to scunthorpe the only other non league side in the draw are hinckley united who held brentford to a goalless draw on sunday they will meet league one leaders luton if they win their replay against martin allen s team at griffin park a number of premiership teams face difficult away games against championship sides on the weekend of 8 9 january third placed everton visit plymouth liverpool travel to burnley crystal palace go to sunderland fulham face carling cup semi finalists watford bolton meet ipswich while aston villa were drawn against sheffield united premiership strugglers norwich blackburn west brom are away at west ham cardiff and preston north end respectively southampton visit northampton having already beaten the league two side in the carling cup earlier this season middlesbrough were drawn away against either swindon or notts county while spurs entertain brighton at white hart lane arsenal v stoke swindon notts co v middlesbrough man utd v exeter plymouth v everton leicester v blackpool derby v wigan sunderland v crystal palace wolves v millwall yeading v newcastle hull v colchester tottenham v brighton reading v stockport swansea birmingham v leeds hartlepool v boston milton keynes dons v peterborough oldham v man city chelsea v scunthorpe cardiff v blackburn charlton v rochdale west ham v norwich sheff utd v aston villa preston v west brom rotherham v yeovil burnley v liverpool bournemouth v chester coventry v crewe watford v fulham ipswich v bolton portsmouth v gillingham northampton v southampton qpr v nottm forest luton v hinckley brentford matches to be played on weekend of 8 9 january\n",
            "['yeading', 'face', 'newcastle', 'fa', 'cup', 'premiership', 'side', 'newcastle', 'united', 'face', 'trip', 'ryman', 'premier', 'league', 'leaders', 'yeading', 'fa', 'cup', 'third', 'round', 'game', 'arguably', 'highlight', 'draw', 'potential', 'money', 'spinner', 'non', 'league', 'yeading', 'beat', 'slough', 'second', 'round', 'conference', 'side', 'exeter', 'city', 'knocked', 'doncaster', 'saturday', 'travel', 'old', 'trafford', 'meet', 'holders', 'manchester', 'united', 'january', 'arsenal', 'drawn', 'home', 'stoke', 'chelsea', 'play', 'host', 'scunthorpe', 'non', 'league', 'side', 'draw', 'hinckley', 'united', 'held', 'brentford', 'goalless', 'draw', 'sunday', 'meet', 'league', 'one', 'leaders', 'luton', 'win', 'replay', 'martin', 'allen', 'team', 'griffin', 'park', 'number', 'premiership', 'teams', 'face', 'difficult', 'away', 'games', 'championship', 'sides', 'weekend', '8', '9', 'january', 'third', 'placed', 'everton', 'visit', 'plymouth', 'liverpool', 'travel', 'burnley', 'crystal', 'palace', 'go', 'sunderland', 'fulham', 'face', 'carling', 'cup', 'semi', 'finalists', 'watford', 'bolton', 'meet', 'ipswich', 'aston', 'villa', 'drawn', 'sheffield', 'united', 'premiership', 'strugglers', 'norwich', 'blackburn', 'west', 'brom', 'away', 'west', 'ham', 'cardiff', 'preston', 'north', 'end', 'respectively', 'southampton', 'visit', 'northampton', 'already', 'beaten', 'league', 'two', 'side', 'carling', 'cup', 'earlier', 'season', 'middlesbrough', 'drawn', 'away', 'either', 'swindon', 'notts', 'county', 'spurs', 'entertain', 'brighton', 'white', 'hart', 'lane', 'arsenal', 'v', 'stoke', 'swindon', 'notts', 'co', 'v', 'middlesbrough', 'man', 'utd', 'v', 'exeter', 'plymouth', 'v', 'everton', 'leicester', 'v', 'blackpool', 'derby', 'v', 'wigan', 'sunderland', 'v', 'crystal', 'palace', 'wolves', 'v', 'millwall', 'yeading', 'v', 'newcastle', 'hull', 'v', 'colchester', 'tottenham', 'v', 'brighton', 'reading', 'v', 'stockport', 'swansea', 'birmingham', 'v', 'leeds', 'hartlepool', 'v', 'boston', 'milton', 'keynes', 'dons', 'v', 'peterborough', 'oldham', 'v', 'man', 'city', 'chelsea', 'v', 'scunthorpe', 'cardiff', 'v', 'blackburn', 'charlton', 'v', 'rochdale', 'west', 'ham', 'v', 'norwich', 'sheff', 'utd', 'v', 'aston', 'villa', 'preston', 'v', 'west', 'brom', 'rotherham', 'v', 'yeovil', 'burnley', 'v', 'liverpool', 'bournemouth', 'v', 'chester', 'coventry', 'v', 'crewe', 'watford', 'v', 'fulham', 'ipswich', 'v', 'bolton', 'portsmouth', 'v', 'gillingham', 'northampton', 'v', 'southampton', 'qpr', 'v', 'nottm', 'forest', 'luton', 'v', 'hinckley', 'brentford', 'matches', 'played', 'weekend', '8', '9', 'january']\n",
            "yeading face newcastle fa cup premiership side newcastle united face trip ryman premier league leaders yeading fa cup third round game arguably highlight draw potential money spinner non league yeading beat slough second round conference side exeter city knocked doncaster saturday travel old trafford meet holders manchester united january arsenal drawn home stoke chelsea play host scunthorpe non league side draw hinckley united held brentford goalless draw sunday meet league one leaders luton win replay martin allen team griffin park number premiership teams face difficult away games championship sides weekend 8 9 january third placed everton visit plymouth liverpool travel burnley crystal palace go sunderland fulham face carling cup semi finalists watford bolton meet ipswich aston villa drawn sheffield united premiership strugglers norwich blackburn west brom away west ham cardiff preston north end respectively southampton visit northampton already beaten league two side carling cup earlier season middlesbrough drawn away either swindon notts county spurs entertain brighton white hart lane arsenal v stoke swindon notts co v middlesbrough man utd v exeter plymouth v everton leicester v blackpool derby v wigan sunderland v crystal palace wolves v millwall yeading v newcastle hull v colchester tottenham v brighton reading v stockport swansea birmingham v leeds hartlepool v boston milton keynes dons v peterborough oldham v man city chelsea v scunthorpe cardiff v blackburn charlton v rochdale west ham v norwich sheff utd v aston villa preston v west brom rotherham v yeovil burnley v liverpool bournemouth v chester coventry v crewe watford v fulham ipswich v bolton portsmouth v gillingham northampton v southampton qpr v nottm forest luton v hinckley brentford matches played weekend 8 9 january\n",
            "['yead', 'face', 'newcastl', 'fa', 'cup', 'premiership', 'side', 'newcastl', 'unit', 'face', 'trip', 'ryman', 'premier', 'leagu', 'leader', 'yead', 'fa', 'cup', 'third', 'round', 'game', 'arguabl', 'highlight', 'draw', 'potenti', 'money', 'spinner', 'non', 'leagu', 'yead', 'beat', 'slough', 'second', 'round', 'confer', 'side', 'exet', 'citi', 'knock', 'doncast', 'saturday', 'travel', 'old', 'trafford', 'meet', 'holder', 'manchest', 'unit', 'januari', 'arsenal', 'drawn', 'home', 'stoke', 'chelsea', 'play', 'host', 'scunthorp', 'non', 'leagu', 'side', 'draw', 'hinckley', 'unit', 'held', 'brentford', 'goalless', 'draw', 'sunday', 'meet', 'leagu', 'one', 'leader', 'luton', 'win', 'replay', 'martin', 'allen', 'team', 'griffin', 'park', 'number', 'premiership', 'team', 'face', 'difficult', 'away', 'game', 'championship', 'side', 'weekend', '8', '9', 'januari', 'third', 'place', 'everton', 'visit', 'plymouth', 'liverpool', 'travel', 'burnley', 'crystal', 'palac', 'go', 'sunderland', 'fulham', 'face', 'carl', 'cup', 'semi', 'finalist', 'watford', 'bolton', 'meet', 'ipswich', 'aston', 'villa', 'drawn', 'sheffield', 'unit', 'premiership', 'struggler', 'norwich', 'blackburn', 'west', 'brom', 'away', 'west', 'ham', 'cardiff', 'preston', 'north', 'end', 'respect', 'southampton', 'visit', 'northampton', 'alreadi', 'beaten', 'leagu', 'two', 'side', 'carl', 'cup', 'earlier', 'season', 'middlesbrough', 'drawn', 'away', 'either', 'swindon', 'nott', 'counti', 'spur', 'entertain', 'brighton', 'white', 'hart', 'lane', 'arsenal', 'v', 'stoke', 'swindon', 'nott', 'co', 'v', 'middlesbrough', 'man', 'utd', 'v', 'exet', 'plymouth', 'v', 'everton', 'leicest', 'v', 'blackpool', 'derbi', 'v', 'wigan', 'sunderland', 'v', 'crystal', 'palac', 'wolv', 'v', 'millwal', 'yead', 'v', 'newcastl', 'hull', 'v', 'colchest', 'tottenham', 'v', 'brighton', 'read', 'v', 'stockport', 'swansea', 'birmingham', 'v', 'leed', 'hartlepool', 'v', 'boston', 'milton', 'keyn', 'don', 'v', 'peterborough', 'oldham', 'v', 'man', 'citi', 'chelsea', 'v', 'scunthorp', 'cardiff', 'v', 'blackburn', 'charlton', 'v', 'rochdal', 'west', 'ham', 'v', 'norwich', 'sheff', 'utd', 'v', 'aston', 'villa', 'preston', 'v', 'west', 'brom', 'rotherham', 'v', 'yeovil', 'burnley', 'v', 'liverpool', 'bournemouth', 'v', 'chester', 'coventri', 'v', 'crew', 'watford', 'v', 'fulham', 'ipswich', 'v', 'bolton', 'portsmouth', 'v', 'gillingham', 'northampton', 'v', 'southampton', 'qpr', 'v', 'nottm', 'forest', 'luton', 'v', 'hinckley', 'brentford', 'match', 'play', 'weekend', '8', '9', 'januari']\n",
            "yead face newcastl fa cup premiership side newcastl unit face trip ryman premier leagu leader yead fa cup third round game arguabl highlight draw potenti money spinner non leagu yead beat slough second round confer side exet citi knock doncast saturday travel old trafford meet holder manchest unit januari arsenal drawn home stoke chelsea play host scunthorp non leagu side draw hinckley unit held brentford goalless draw sunday meet leagu one leader luton win replay martin allen team griffin park number premiership team face difficult away game championship side weekend 8 9 januari third place everton visit plymouth liverpool travel burnley crystal palac go sunderland fulham face carl cup semi finalist watford bolton meet ipswich aston villa drawn sheffield unit premiership struggler norwich blackburn west brom away west ham cardiff preston north end respect southampton visit northampton alreadi beaten leagu two side carl cup earlier season middlesbrough drawn away either swindon nott counti spur entertain brighton white hart lane arsenal v stoke swindon nott co v middlesbrough man utd v exet plymouth v everton leicest v blackpool derbi v wigan sunderland v crystal palac wolv v millwal yead v newcastl hull v colchest tottenham v brighton read v stockport swansea birmingham v leed hartlepool v boston milton keyn don v peterborough oldham v man citi chelsea v scunthorp cardiff v blackburn charlton v rochdal west ham v norwich sheff utd v aston villa preston v west brom rotherham v yeovil burnley v liverpool bournemouth v chester coventri v crew watford v fulham ipswich v bolton portsmouth v gillingham northampton v southampton qpr v nottm forest luton v hinckley brentford match play weekend 8 9 januari\n"
          ]
        }
      ],
      "source": [
        "# nel dataframe i nostri input devono essere dei testi e non delle liste\n",
        "# concateniamo quindi gli elementi delle liste con la funzione join in modo da avere solo stringe\n",
        "\n",
        "df['tokenized_text'] = df['tokenized'].apply(lambda x: \" \".join(x))\n",
        "df['filtered_text'] = df['filtered'].apply(lambda x: \" \".join(x))\n",
        "df['cured_text'] = df['stemmed'].apply(lambda x: \" \".join(x))\n",
        "\n",
        "print(df.at[3, 'tokenized'])\n",
        "print(df.at[3, 'tokenized_text'])\n",
        "\n",
        "print(df.at[3, 'filtered'])\n",
        "print(df.at[3, 'filtered_text'])\n",
        "\n",
        "print(df.at[3, 'stemmed'])\n",
        "print(df.at[3, 'cured_text'])"
      ]
    },
    {
      "cell_type": "code",
      "execution_count": 24,
      "metadata": {
        "colab": {
          "base_uri": "https://localhost:8080/",
          "height": 397
        },
        "id": "_K2jqCxqcTH0",
        "outputId": "6e60285d-09dd-4201-f5df-aacba86cf5ee"
      },
      "outputs": [
        {
          "data": {
            "application/vnd.google.colaboratory.intrinsic+json": {
              "summary": "{\n  \"name\": \"df\",\n  \"rows\": 2225,\n  \"fields\": [\n    {\n      \"column\": \"category\",\n      \"properties\": {\n        \"dtype\": \"category\",\n        \"num_unique_values\": 5,\n        \"samples\": [\n          \"business\",\n          \"politics\",\n          \"sport\"\n        ],\n        \"semantic_type\": \"\",\n        \"description\": \"\"\n      }\n    },\n    {\n      \"column\": \"text\",\n      \"properties\": {\n        \"dtype\": \"string\",\n        \"num_unique_values\": 2126,\n        \"samples\": [\n          \"plan to give elderly care control elderly and disabled people would choose how their own budget for personal care was spent and organised under government plans.  ministers say elderly and disabled people themselves  not social workers  should be able to decide on their care and stay in their own homes. they also plan a supremo for adult services in each english area to get different agencies working together. but the government shunned opponents  calls for free long-term care.  there are 1.7m people needing care in england and ministers suggest the number could quadruple by 2050. monday s consultation paper on social care for adults in england is aimed at ending a system which generates dependency. health minister stephen ladyman said:  this document is the antithesis of the nanny state.   it s about taking power away from the state and giving it to individuals and saying that we will help you make these decisions but we are not going to make them for you any more.  the government has already allowed local councils to give people money so they can pay for their services directly but take-up of the scheme has been  disappointing .  ministers say the new plans would make direct payments simpler and try to counter reluctance in some local councils to use the payments. they also want to set up a new  half-way house  where social workers tell people how much money is available for their care and help them choose how to spend that  individual budget . the scheme will be funded on existing budgets set until 2008. but mr ladyman said the plans could deliver savings in some areas  such as freeing up nhs beds and preventing illnesses. he ruled out free personal care in england - which is on offer in scotland and wales  saying it was  unsustainable .  david rogers  from the local government association  said agencies were working together on the kind of innovation proposed by the government. and tony hunter  president of the association of directors of social services  said the plans could improve dignity and well-being for thousands of people. but age concern argued social care was chronically under-funded and older people were being offered choice in principle  but not in practice. its director general  gordon lishman  said:  direct payments will not work if there are no services for people to choose from locally.   the tories say people who pay for three years  long-term care directly or through insurance should be guaranteed free care for the rest of their lives. tory spokesman simon burns said more than 80 000 long term care places had been lost since 1997.  after eight years of persistent change  dogmatic enforcement of regulation  and overbearing government initiatives - we need action  not a vision   said mr burns. the lib dems say they would fund free personal care by a new 50% tax rate on incomes over \\u00a3100 000. health spokesman paul burstow said:  promoting independence sounds good and helping people to live in their own homes is a goal we share.  but the risk is that independence can turn into isolation if the right support and care is not available.\",\n          \"beer giant swallows russian firm brewing giant inbev has agreed to buy alfa-eco s stake in sun interbrew  russia s second-largest brewer  for up to 259.7m euros ($353.3m; \\u00a3183.75m).  alfa-eco  the venture capital arm of russian conglomerate alfa group  has a one-fifth stake in sun interbrew. the deal gives inbev  the world s biggest beermaker  near-total control over the russian brewer. inbev bought out another partner in august 2004. inbev brands include bass  stella artois  hoegaarden and staropramen. it employs 77 000 people  running operations in over 30 countries across the americas  europe and asia pacific.  the leuven-based brewery said it would own 97.3% of the voting shares and 98.8% of the non-voting shares of sun interbrew. the deal is expected to be completed in the first quarter of 2005. inbev was formed in august 2004 when belgium s interbrew bought brazilian brewer ambev. sun interbrew  which employs 8 000 staff  owns breweries in eight russian cities - klin  ivanovo  saransk  kursk  volzhsky  omsk  perm and novocheboksarsk. there are also three breweries in ukraine  in the cities of chernigov  nikolaev and kharkov.\",\n          \"athens memories soar above lows well  it s goodbye to another olympic year and as usual there were plenty of highs and lows in athens.  obviously  there s no getting away from the differing fortunes of kelly holmes and paula radcliffe. but i want to remind you of a few more events that made 2004 another year to remember - or forget - for athletics.      one of my favourite olympic moments was kelly s success in the 800m.  winning that race was the key to her success because if she won that then the 1500m would be a bit of a formality. kelly had been full of  should i  shouldn t i   thoughts about going for the double in athens. i thought why wouldn t you do the 800m  it s your best event  it was such good fun to commentate on her 1500m and it was nice to be able to be part of her athens story.      the victory for the british men s 4x100m relay team was a bit of a surprise but a great climax to the games. i think the four of them - jason gardener  darren campbell  marlon devonish and mark lewis-francis - knew deep down that it was their best chance of a medal. the lads had run poorly in the individual sprints so maybe they did lift their game when they knew something was really at stake.      hicham el guerrouj s olympic double is a much bigger achievement than kelly s on a global scale.  he was the first man since for 80 years to win both the 1500m and 5 000m titles. as soon as he had added the 5 000m crown and i had finished commentating  i jumped up  ran down the stairs  pushed everyone out the way and just gave him a big hug. he is one of the few african runners who has embraced the tradition of the mile and he loves to hear all the roger bannister stories. hicham is someone i enjoy having a bit of time with  even though my french and his english are not very good.      what happened to paula in athens this year is the obvious low on a personal level and for the expectations of the nation as well. there were a set of circumstances around athens that conspired to produce a very dramatic ending which i think has been greatly misunderstood. dropping out of the marathon was the right thing to do but starting in the 10 000m five days later was not wise. that was her heart and not her head reacting. paula had a lot of little things going wrong in her preparation and on the day.  things like niggling injuries  not being able to do all her running sessions and feeling the pressure of the race looming ahead of her. i think she came to the start line in athens physically and emotionally drained. and if even the smallest thing doesn t feel right when you are preparing to race a marathon  10 miles down the road it will hit you like a brick wall. the positive thing to take from paula s olympics it that she will have learned a lot from it and so will a lot of people - including me.      purely as a race  paula s victory in the new york marathon has to go down as one of the most thrilling. it was so nip-and-tuck between her and kenya s susan chepkemei and you don t usually get that kind of excitement in marathons. it was also a real delight for all athletics fans because  to use one of my favourite words  paula showed real  bouncebackability . and it was a bit of a rarity for me too because i genuinely did not have an inkling how the race was going to pan out.      kelly and the 4x100m boys  victories papered over the cracks in the general performance of the british team. we should be concerned that we re not producing enough people who are capable of reaching finals at senior level.  the only individual men s finalist on the track was michael east in the 1500m. i am beginning to look down and wonder where are the new breed  and that s where things begin to look even gloomier for british athletics as we did not win any medals at the world junior championships in italy. dani barnes came fourth in the 1500m and she was the highest finisher for team gb. the thing is if we don t have athletes getting into the finals at junior level then it really doesn t look good for the beijing olympics and beyond.      i tell you what i really enjoyed this year  benita johnson winning the world cross country championships back in march. in the absence of paula  we tend to think of the event as something of an african preserve. so to have an australian come up and deliver such a surprise was something special.      to be honest  i m getting bored with all the drug scandals  especially balco. i just wish the whole thing would come to a head so we can move on.  having said that  i m always pleased when drugs cheats are caught because it shows the sport is standing up to it and not turning a blind eye anymore. and one of the positive things to come out of balco is people are starting to blow the whistle. we need more people to come forward and help the authorities kick out the cheats. as regards the case against greek sprinters kostas kenteris and katerina thanou  well suspicions have been hanging over kenteris for a while. the bottom line is we cannot keep letting drugs damage the sport because if we do then it stops everyone enjoying it.\"\n        ],\n        \"semantic_type\": \"\",\n        \"description\": \"\"\n      }\n    },\n    {\n      \"column\": \"tokenized\",\n      \"properties\": {\n        \"dtype\": \"object\",\n        \"semantic_type\": \"\",\n        \"description\": \"\"\n      }\n    },\n    {\n      \"column\": \"filtered\",\n      \"properties\": {\n        \"dtype\": \"object\",\n        \"semantic_type\": \"\",\n        \"description\": \"\"\n      }\n    },\n    {\n      \"column\": \"stemmed\",\n      \"properties\": {\n        \"dtype\": \"object\",\n        \"semantic_type\": \"\",\n        \"description\": \"\"\n      }\n    },\n    {\n      \"column\": \"cured_text\",\n      \"properties\": {\n        \"dtype\": \"string\",\n        \"num_unique_values\": 2117,\n        \"samples\": [\n          \"dutch bank lay 2 850 staff abn amro netherland largest bank cut 2 850 job result fall profit cut amount 3 bank workforc result one charg 790m euro 1 1bn 1 100 job go invest bank 1 200 550 go human resourc respect abn amro third larg european bank announc cutback past month follow deutsch bank credit suiss group profit hit fall mortgag lend unit state bank largest singl market follow recent interest rate rise abn amro oper netherland unit kingdom hardest hit job also lost us account 46 profit first half 2004 across oper america asia pacif region restructur design improv effici reduc administr cost increas focus client servic bank said cours 10 rise net incom year oper profit set fall fall us revenu abn amro current 100 000 staff get profit growth come year lower cost shed job make total sens ivo geijsen analyst bank oyen van eeghen told bloomberg europ lead bank seem set period retrench deutsch bank said earlier month would reduc german workforc 1 920 mani 300 job lost credit suiss first boston\",\n          \"euro firm miss optim 90 larg compani around world high optimist econom prospect survey 1 300 boss suggest biggest worri terror threat regul low cost competit wild up down oil price one except firm western europ uk lack confid year slow growth busi advis pricewaterhousecoop pwc conduct survey two year ago near 30 boss gloomi prospect global busi leader say face two prong regulatori assault string corpor scandal unit state enron worldcom sarban oxley act forc compani much transpar paperwork cost lot time money across europ meanwhil stock exchang list compani current process move new complex account standard call ifr hack red tape hard avoid mani chief execut around world appear decid deal low cost competitor alreadi 28 boss poll survey say move part busi low wage countri anoth 11 plan futur possibl result worri low cost competit slight fallen last year 54 compani call signific threat one biggest threat pwc global chief execut samuel dipiazza said grow number compani also concern move outsourc work cheaper countri could hurt reput home market harm qualiti servic provid custom accord frank brown global advisori leader pwc trend larg compani global oper one clear upsid one risk one region exampl middl east kill busi anymor surpris survey suggest rapid declin us dollar seen huge threat anymor unlik even year ago cite third largest problem mr dipiazza said interview chief execut suggest compani adjust new realiti euro buy 1 30 other success hedg posit lock favour exchang rate survey pricewaterhousecoop interview 1 324 chief execut throughout world last three month 2004\",\n          \"burren award egyptian contract british energi firm burren energi award two potenti lucrat oil explor contract egypt compani success bid two contract grant govern own oil firm cover onshor offshor area gulf suez burren energi alreadi presenc egypt award explor contract last year firm float 2003 recent announc deal buy 26 indian firm hindustan oil explor 13 8m deal give burren energi access indian oil gas industri latest contract expand burren energi global explor product portfolio also hold contract turkmenistan republ congo asset signific increas explor portfolio egypt continu investig opportun region said chief execut finian sullivan\"\n        ],\n        \"semantic_type\": \"\",\n        \"description\": \"\"\n      }\n    },\n    {\n      \"column\": \"tokenized_text\",\n      \"properties\": {\n        \"dtype\": \"string\",\n        \"num_unique_values\": 2122,\n        \"samples\": [\n          \"ultimate game award for doom 3 sci fi shooter doom 3 has blasted away the competition at a major games ceremony the golden joystick awards it was the only title to win twice winning ultimate game of the year and best pc game at the awards presented by little britain star matt lucas the much anticipated sci fi horror doom 3 shot straight to the top of the uk games charts on its release in august other winners included grand theft auto san andreas which took the most wanted for christmas prize only released last week it was closely followed by halo 2 and half life 2 which are expected to be big hits when they are unleashed later this month but they missed out on the prize for the most wanted game of 2005 which went to the nintendo title the legend of zelda the original doom released in 1994 heralded a new era in computer games and introduced 3d graphics it helped to establish the concept of the first person shooter doom 3 was developed over four years and is thought to have cost around 15m 8 3m the top honour for the best online game of the year went to battlefield vietnam the chronicles of riddick escape from butcher bay was handed the unsung hero game of 2004 its release was somewhat eclipsed by doom 3 which was released on the same week it was however very well received by gamers and was praised for its storyline which differed from the film released around the same time electronic arts was named top publisher of the year taking the crown from nintendo which won in 2003 the annual awards are voted for by more than 200 000 readers of computer and video games magazines games awards like this have grown in importance over the last six years the uk market for games grew by 100 and was worth a record 1 152m in 2003 according to a recent report by analysts screen digest\",\n          \"bollywood dvd fraudster is jailed a major distributor of pirated dvds of bollywood films has been sent to prison for three years jayanti amarishi buhecha from cambridge was found guilty of two trademark offences last month and sentenced at harrow crown court london on tuesday buhecha who made 26 000 per month from his illegal trade was called one of the biggest bollywood pirates in the uk by the sentencing judge the british phonographic industry bpi worked for two years on the case an operation was launched against buhecha in 2002 after complaints were received about his activities the judge in the case which lasted seven days said that a heavy penalty was called for because of the enormous damage buhecha caused to legitimate business fake dvds were manufactured in pakistan and malaysia and sold on wholesale to shops by buhecha who traded in conterfeit dvds in 2002 and 2003 in december 2002 he was stopped in his car by trading standards officers who uncovered 1 000 pirated dvds and faked inlay cards printed with registered trademarks despite being arrested and bailed buhecha was caught a second time at the end of 2003 his home and a lock up in cambridge were found to contain 18 000 counterfeit dvds and further faked inlay cards buhecha was previously a legitimate distributor of bollywood films but was suspended and sued by his employers for dealing in illegal copies of bollywood classic mohabbatein legitimate bollywood film distributors have hailed the conviction as a major boost bollywood music and film suffers piracy at the rate of 40 which is more than that suffered by mainstream productions the bpi welcomed the news of the prison sentence but warned there are plenty of other active counterfeiters of bollywood films the organisation s anti piracy director david martin said the problem simply will not disappear with buhecha others and more will take his place so it s vital that keep up our efforts in this field\",\n          \"freeze on anti spam campaign a campaign by lycos europe to target spam related websites appears to have been put on hold earlier this week the company released a screensaver that bombarded the sites with data to try to bump up the running costs of the websites but the site hosting the screensaver now displays a pink graphic and the words stay tuned no one at lycos was available for comment on latest developments in its controversial anti spam campaign lycos europe s make love not spam campaign was intended as a way for users to fight back against the mountain of junk mail flooding inboxes people were encouraged to download the screensaver which when their pc was idle would then send lots of data to sites that peddle the goods and services mentioned in spam messages lycos said the idea was to get the spam sites running at 95 capacity and generate big bandwidth bills for the spammers behind the sites but the plan has proved controversial monitoring firm netcraft analysed response times for some of the sites targeted by the screensaver and found that a number were completely knocked offline the downing of the sites could dent lycos claims that what it is doing does not amount to a distributed denial of service attack in such attacks thousands of computers bombard sites with data in an attempt to overwhelm them laws in many countries do not explicitly outlaw such attacks but many nations are re drafting computer use laws to make them specific offences lycos europe now appears to have put the plan on hold the site hosting the screensaver currently shows a holding page with the words stay tuned the numerical internet address of the site has also changed this is likely to be in response to spammers who have reportedly redirected traffic from their sites back to the lycos screensaver site the campaign has come under fire from some corners of the web many discussion groups have said that it set a dangerous precedent and could incite vigilantism attacking a spammer s website is like poking a grizzly bear sleeping in your back garden with a pointy stick said graham cluley senior technology consultant for sophos not only is this screensaver similar in its approach to a potentially illegal distributed denial of service attack but it also is in danger of turning innocent computer users into vigilantes who may not be prepared for whatever retaliation the spammers care to dream up\"\n        ],\n        \"semantic_type\": \"\",\n        \"description\": \"\"\n      }\n    },\n    {\n      \"column\": \"filtered_text\",\n      \"properties\": {\n        \"dtype\": \"string\",\n        \"num_unique_values\": 2119,\n        \"samples\": [\n          \"beastie boys win sampling battle us rappers beastie boys long running battle use sample song pass mic punk rappers used three notes music flautist james newton choir track 1992 although group paid licence fee sample mr newton said copyright infringed us court appeal upheld original decision group pay additional fee license underlying composition beastie boys michael diamond adam horowitz adam yauch considered one early pioneers sampling music sampling standard practice among musicians involves taking segment one track using different song three judge panel court held 2003 band abided copyright protections paying licence fee sample mr newton recording finding upheld lower court dismissal case favour beastie boys hold beastie boys use brief segment composition consisting three notes separated half step background c note sufficient sustain claim infringement newton copyright chief judge mary schroeder wrote opinion mr newton critically acclaimed jazz classical flutist composer performer university professor mr newton beastie boys available comment\",\n          \"dutch bank lay 2 850 staff abn amro netherlands largest bank cut 2 850 jobs result falling profits cuts amounting 3 bank workforce result one charge 790m euros 1 1bn 1 100 jobs go investment banking 1 200 550 go human resources respectively abn amro third large european bank announce cutbacks past month following deutsche bank credit suisse group profitability hit fall mortgage lending united states bank largest single market following recent interest rate rises abn amro operations netherlands united kingdom hardest hit jobs also lost us accounted 46 profit first half 2004 across operations americas asia pacific regions restructuring designed improve efficiency reducing administrative costs increasing focus client service bank said course 10 rise net income year operating profits set fall fall us revenues abn amro currently 100 000 staff get profit growth coming years lower costs shedding jobs makes total sense ivo geijsen analyst bank oyens van eeghen told bloomberg europe leading banks seem set period retrenchment deutsche bank said earlier month would reduce german workforce 1 920 many 300 jobs lost credit suisse first boston\",\n          \"guantanamo man suing government british terror suspect held guantanamo bay 33 months plans sue government reported martin mubanga claimed observer mi6 officer played key role consigning us camp cuba following arrest zambia mr mubanga 32 wembley london said brutally interrogated daubed urine camp home secretary said would launching investigation media reports well informed mr mubanga dual british zambian nationality one four britons released us camp january said sent interrogated british man said mi6 shortly arrest zambia march 2002 mr mubanga said afghanistan pakistan study islam said unable return uk lost british passport travelling zambian passport instead mr mubanga said mi6 agent told passport found cave afghanistan along documents listing jewish groups new york suggested al qaeda reconnaissance mission mr mubanga said man american female defence official tried recruit agent refused within three weeks told would sent guantanamo bay lawyer louise christian said hoping issue proceedings misfeasance officials colluded americans effectively kidnapping taking guantanamo menzies campbell liberal democrats foreign affairs spokesman said vital establish whether ministers approved mr mubanga transfer guantanamo foreign office spokesman said could comment activities british intelligence security agencies home secretary charles clarke told bbc one breakfast frost organising specific investigation mr mubanga first four detainees freed last month give media interview told observer worst moment told would released last march confined told would many years claimed stripped clothes mattress forced remain empty metal box naked except boxer shorts said interrogator used mop daub urine chained hand foot mr mubanga insists feel bitter said lost three years life muslim added authorities wanted break strengthened made even quite sure yet person us government denied claims saying condemned prohibited torture statement said department defense doubt mr mubanga properly detained enemy combatant laws war detained prevent fighting us allies war terror fair trials abroad director stephen jakobi said similarities mr mubanga account guantanamo detainees said pattern real problem concentration camp conditions guantanamo charles clarke really pretending made mr mubanga three freed british detainees released without charge uk police return cuba\"\n        ],\n        \"semantic_type\": \"\",\n        \"description\": \"\"\n      }\n    }\n  ]\n}",
              "type": "dataframe",
              "variable_name": "df"
            },
            "text/html": [
              "\n",
              "  <div id=\"df-aea7e538-10d9-4613-a9a7-d55b9caa11df\" class=\"colab-df-container\">\n",
              "    <div>\n",
              "<style scoped>\n",
              "    .dataframe tbody tr th:only-of-type {\n",
              "        vertical-align: middle;\n",
              "    }\n",
              "\n",
              "    .dataframe tbody tr th {\n",
              "        vertical-align: top;\n",
              "    }\n",
              "\n",
              "    .dataframe thead th {\n",
              "        text-align: right;\n",
              "    }\n",
              "</style>\n",
              "<table border=\"1\" class=\"dataframe\">\n",
              "  <thead>\n",
              "    <tr style=\"text-align: right;\">\n",
              "      <th></th>\n",
              "      <th>category</th>\n",
              "      <th>text</th>\n",
              "      <th>tokenized</th>\n",
              "      <th>filtered</th>\n",
              "      <th>stemmed</th>\n",
              "      <th>cured_text</th>\n",
              "      <th>tokenized_text</th>\n",
              "      <th>filtered_text</th>\n",
              "    </tr>\n",
              "  </thead>\n",
              "  <tbody>\n",
              "    <tr>\n",
              "      <th>0</th>\n",
              "      <td>tech</td>\n",
              "      <td>tv future in the hands of viewers with home th...</td>\n",
              "      <td>[tv, future, in, the, hands, of, viewers, with...</td>\n",
              "      <td>[tv, future, hands, viewers, home, theatre, sy...</td>\n",
              "      <td>[tv, futur, hand, viewer, home, theatr, system...</td>\n",
              "      <td>tv futur hand viewer home theatr system plasma...</td>\n",
              "      <td>tv future in the hands of viewers with home th...</td>\n",
              "      <td>tv future hands viewers home theatre systems p...</td>\n",
              "    </tr>\n",
              "    <tr>\n",
              "      <th>1</th>\n",
              "      <td>business</td>\n",
              "      <td>worldcom boss  left books alone  former worldc...</td>\n",
              "      <td>[worldcom, boss, left, books, alone, former, w...</td>\n",
              "      <td>[worldcom, boss, left, books, alone, former, w...</td>\n",
              "      <td>[worldcom, boss, left, book, alon, former, wor...</td>\n",
              "      <td>worldcom boss left book alon former worldcom b...</td>\n",
              "      <td>worldcom boss left books alone former worldcom...</td>\n",
              "      <td>worldcom boss left books alone former worldcom...</td>\n",
              "    </tr>\n",
              "    <tr>\n",
              "      <th>2</th>\n",
              "      <td>sport</td>\n",
              "      <td>tigers wary of farrell  gamble  leicester say ...</td>\n",
              "      <td>[tigers, wary, of, farrell, gamble, leicester,...</td>\n",
              "      <td>[tigers, wary, farrell, gamble, leicester, say...</td>\n",
              "      <td>[tiger, wari, farrel, gambl, leicest, say, rus...</td>\n",
              "      <td>tiger wari farrel gambl leicest say rush make ...</td>\n",
              "      <td>tigers wary of farrell gamble leicester say th...</td>\n",
              "      <td>tigers wary farrell gamble leicester say rushe...</td>\n",
              "    </tr>\n",
              "    <tr>\n",
              "      <th>3</th>\n",
              "      <td>sport</td>\n",
              "      <td>yeading face newcastle in fa cup premiership s...</td>\n",
              "      <td>[yeading, face, newcastle, in, fa, cup, premie...</td>\n",
              "      <td>[yeading, face, newcastle, fa, cup, premiershi...</td>\n",
              "      <td>[yead, face, newcastl, fa, cup, premiership, s...</td>\n",
              "      <td>yead face newcastl fa cup premiership side new...</td>\n",
              "      <td>yeading face newcastle in fa cup premiership s...</td>\n",
              "      <td>yeading face newcastle fa cup premiership side...</td>\n",
              "    </tr>\n",
              "    <tr>\n",
              "      <th>4</th>\n",
              "      <td>entertainment</td>\n",
              "      <td>ocean s twelve raids box office ocean s twelve...</td>\n",
              "      <td>[ocean, s, twelve, raids, box, office, ocean, ...</td>\n",
              "      <td>[ocean, twelve, raids, box, office, ocean, twe...</td>\n",
              "      <td>[ocean, twelv, raid, box, offic, ocean, twelv,...</td>\n",
              "      <td>ocean twelv raid box offic ocean twelv crime c...</td>\n",
              "      <td>ocean s twelve raids box office ocean s twelve...</td>\n",
              "      <td>ocean twelve raids box office ocean twelve cri...</td>\n",
              "    </tr>\n",
              "  </tbody>\n",
              "</table>\n",
              "</div>\n",
              "    <div class=\"colab-df-buttons\">\n",
              "\n",
              "  <div class=\"colab-df-container\">\n",
              "    <button class=\"colab-df-convert\" onclick=\"convertToInteractive('df-aea7e538-10d9-4613-a9a7-d55b9caa11df')\"\n",
              "            title=\"Convert this dataframe to an interactive table.\"\n",
              "            style=\"display:none;\">\n",
              "\n",
              "  <svg xmlns=\"http://www.w3.org/2000/svg\" height=\"24px\" viewBox=\"0 -960 960 960\">\n",
              "    <path d=\"M120-120v-720h720v720H120Zm60-500h600v-160H180v160Zm220 220h160v-160H400v160Zm0 220h160v-160H400v160ZM180-400h160v-160H180v160Zm440 0h160v-160H620v160ZM180-180h160v-160H180v160Zm440 0h160v-160H620v160Z\"/>\n",
              "  </svg>\n",
              "    </button>\n",
              "\n",
              "  <style>\n",
              "    .colab-df-container {\n",
              "      display:flex;\n",
              "      gap: 12px;\n",
              "    }\n",
              "\n",
              "    .colab-df-convert {\n",
              "      background-color: #E8F0FE;\n",
              "      border: none;\n",
              "      border-radius: 50%;\n",
              "      cursor: pointer;\n",
              "      display: none;\n",
              "      fill: #1967D2;\n",
              "      height: 32px;\n",
              "      padding: 0 0 0 0;\n",
              "      width: 32px;\n",
              "    }\n",
              "\n",
              "    .colab-df-convert:hover {\n",
              "      background-color: #E2EBFA;\n",
              "      box-shadow: 0px 1px 2px rgba(60, 64, 67, 0.3), 0px 1px 3px 1px rgba(60, 64, 67, 0.15);\n",
              "      fill: #174EA6;\n",
              "    }\n",
              "\n",
              "    .colab-df-buttons div {\n",
              "      margin-bottom: 4px;\n",
              "    }\n",
              "\n",
              "    [theme=dark] .colab-df-convert {\n",
              "      background-color: #3B4455;\n",
              "      fill: #D2E3FC;\n",
              "    }\n",
              "\n",
              "    [theme=dark] .colab-df-convert:hover {\n",
              "      background-color: #434B5C;\n",
              "      box-shadow: 0px 1px 3px 1px rgba(0, 0, 0, 0.15);\n",
              "      filter: drop-shadow(0px 1px 2px rgba(0, 0, 0, 0.3));\n",
              "      fill: #FFFFFF;\n",
              "    }\n",
              "  </style>\n",
              "\n",
              "    <script>\n",
              "      const buttonEl =\n",
              "        document.querySelector('#df-aea7e538-10d9-4613-a9a7-d55b9caa11df button.colab-df-convert');\n",
              "      buttonEl.style.display =\n",
              "        google.colab.kernel.accessAllowed ? 'block' : 'none';\n",
              "\n",
              "      async function convertToInteractive(key) {\n",
              "        const element = document.querySelector('#df-aea7e538-10d9-4613-a9a7-d55b9caa11df');\n",
              "        const dataTable =\n",
              "          await google.colab.kernel.invokeFunction('convertToInteractive',\n",
              "                                                    [key], {});\n",
              "        if (!dataTable) return;\n",
              "\n",
              "        const docLinkHtml = 'Like what you see? Visit the ' +\n",
              "          '<a target=\"_blank\" href=https://colab.research.google.com/notebooks/data_table.ipynb>data table notebook</a>'\n",
              "          + ' to learn more about interactive tables.';\n",
              "        element.innerHTML = '';\n",
              "        dataTable['output_type'] = 'display_data';\n",
              "        await google.colab.output.renderOutput(dataTable, element);\n",
              "        const docLink = document.createElement('div');\n",
              "        docLink.innerHTML = docLinkHtml;\n",
              "        element.appendChild(docLink);\n",
              "      }\n",
              "    </script>\n",
              "  </div>\n",
              "\n",
              "\n",
              "<div id=\"df-baf56838-f940-4081-9434-56b37c6044d9\">\n",
              "  <button class=\"colab-df-quickchart\" onclick=\"quickchart('df-baf56838-f940-4081-9434-56b37c6044d9')\"\n",
              "            title=\"Suggest charts\"\n",
              "            style=\"display:none;\">\n",
              "\n",
              "<svg xmlns=\"http://www.w3.org/2000/svg\" height=\"24px\"viewBox=\"0 0 24 24\"\n",
              "     width=\"24px\">\n",
              "    <g>\n",
              "        <path d=\"M19 3H5c-1.1 0-2 .9-2 2v14c0 1.1.9 2 2 2h14c1.1 0 2-.9 2-2V5c0-1.1-.9-2-2-2zM9 17H7v-7h2v7zm4 0h-2V7h2v10zm4 0h-2v-4h2v4z\"/>\n",
              "    </g>\n",
              "</svg>\n",
              "  </button>\n",
              "\n",
              "<style>\n",
              "  .colab-df-quickchart {\n",
              "      --bg-color: #E8F0FE;\n",
              "      --fill-color: #1967D2;\n",
              "      --hover-bg-color: #E2EBFA;\n",
              "      --hover-fill-color: #174EA6;\n",
              "      --disabled-fill-color: #AAA;\n",
              "      --disabled-bg-color: #DDD;\n",
              "  }\n",
              "\n",
              "  [theme=dark] .colab-df-quickchart {\n",
              "      --bg-color: #3B4455;\n",
              "      --fill-color: #D2E3FC;\n",
              "      --hover-bg-color: #434B5C;\n",
              "      --hover-fill-color: #FFFFFF;\n",
              "      --disabled-bg-color: #3B4455;\n",
              "      --disabled-fill-color: #666;\n",
              "  }\n",
              "\n",
              "  .colab-df-quickchart {\n",
              "    background-color: var(--bg-color);\n",
              "    border: none;\n",
              "    border-radius: 50%;\n",
              "    cursor: pointer;\n",
              "    display: none;\n",
              "    fill: var(--fill-color);\n",
              "    height: 32px;\n",
              "    padding: 0;\n",
              "    width: 32px;\n",
              "  }\n",
              "\n",
              "  .colab-df-quickchart:hover {\n",
              "    background-color: var(--hover-bg-color);\n",
              "    box-shadow: 0 1px 2px rgba(60, 64, 67, 0.3), 0 1px 3px 1px rgba(60, 64, 67, 0.15);\n",
              "    fill: var(--button-hover-fill-color);\n",
              "  }\n",
              "\n",
              "  .colab-df-quickchart-complete:disabled,\n",
              "  .colab-df-quickchart-complete:disabled:hover {\n",
              "    background-color: var(--disabled-bg-color);\n",
              "    fill: var(--disabled-fill-color);\n",
              "    box-shadow: none;\n",
              "  }\n",
              "\n",
              "  .colab-df-spinner {\n",
              "    border: 2px solid var(--fill-color);\n",
              "    border-color: transparent;\n",
              "    border-bottom-color: var(--fill-color);\n",
              "    animation:\n",
              "      spin 1s steps(1) infinite;\n",
              "  }\n",
              "\n",
              "  @keyframes spin {\n",
              "    0% {\n",
              "      border-color: transparent;\n",
              "      border-bottom-color: var(--fill-color);\n",
              "      border-left-color: var(--fill-color);\n",
              "    }\n",
              "    20% {\n",
              "      border-color: transparent;\n",
              "      border-left-color: var(--fill-color);\n",
              "      border-top-color: var(--fill-color);\n",
              "    }\n",
              "    30% {\n",
              "      border-color: transparent;\n",
              "      border-left-color: var(--fill-color);\n",
              "      border-top-color: var(--fill-color);\n",
              "      border-right-color: var(--fill-color);\n",
              "    }\n",
              "    40% {\n",
              "      border-color: transparent;\n",
              "      border-right-color: var(--fill-color);\n",
              "      border-top-color: var(--fill-color);\n",
              "    }\n",
              "    60% {\n",
              "      border-color: transparent;\n",
              "      border-right-color: var(--fill-color);\n",
              "    }\n",
              "    80% {\n",
              "      border-color: transparent;\n",
              "      border-right-color: var(--fill-color);\n",
              "      border-bottom-color: var(--fill-color);\n",
              "    }\n",
              "    90% {\n",
              "      border-color: transparent;\n",
              "      border-bottom-color: var(--fill-color);\n",
              "    }\n",
              "  }\n",
              "</style>\n",
              "\n",
              "  <script>\n",
              "    async function quickchart(key) {\n",
              "      const quickchartButtonEl =\n",
              "        document.querySelector('#' + key + ' button');\n",
              "      quickchartButtonEl.disabled = true;  // To prevent multiple clicks.\n",
              "      quickchartButtonEl.classList.add('colab-df-spinner');\n",
              "      try {\n",
              "        const charts = await google.colab.kernel.invokeFunction(\n",
              "            'suggestCharts', [key], {});\n",
              "      } catch (error) {\n",
              "        console.error('Error during call to suggestCharts:', error);\n",
              "      }\n",
              "      quickchartButtonEl.classList.remove('colab-df-spinner');\n",
              "      quickchartButtonEl.classList.add('colab-df-quickchart-complete');\n",
              "    }\n",
              "    (() => {\n",
              "      let quickchartButtonEl =\n",
              "        document.querySelector('#df-baf56838-f940-4081-9434-56b37c6044d9 button');\n",
              "      quickchartButtonEl.style.display =\n",
              "        google.colab.kernel.accessAllowed ? 'block' : 'none';\n",
              "    })();\n",
              "  </script>\n",
              "</div>\n",
              "\n",
              "    </div>\n",
              "  </div>\n"
            ],
            "text/plain": [
              "        category                                               text  \\\n",
              "0           tech  tv future in the hands of viewers with home th...   \n",
              "1       business  worldcom boss  left books alone  former worldc...   \n",
              "2          sport  tigers wary of farrell  gamble  leicester say ...   \n",
              "3          sport  yeading face newcastle in fa cup premiership s...   \n",
              "4  entertainment  ocean s twelve raids box office ocean s twelve...   \n",
              "\n",
              "                                           tokenized  \\\n",
              "0  [tv, future, in, the, hands, of, viewers, with...   \n",
              "1  [worldcom, boss, left, books, alone, former, w...   \n",
              "2  [tigers, wary, of, farrell, gamble, leicester,...   \n",
              "3  [yeading, face, newcastle, in, fa, cup, premie...   \n",
              "4  [ocean, s, twelve, raids, box, office, ocean, ...   \n",
              "\n",
              "                                            filtered  \\\n",
              "0  [tv, future, hands, viewers, home, theatre, sy...   \n",
              "1  [worldcom, boss, left, books, alone, former, w...   \n",
              "2  [tigers, wary, farrell, gamble, leicester, say...   \n",
              "3  [yeading, face, newcastle, fa, cup, premiershi...   \n",
              "4  [ocean, twelve, raids, box, office, ocean, twe...   \n",
              "\n",
              "                                             stemmed  \\\n",
              "0  [tv, futur, hand, viewer, home, theatr, system...   \n",
              "1  [worldcom, boss, left, book, alon, former, wor...   \n",
              "2  [tiger, wari, farrel, gambl, leicest, say, rus...   \n",
              "3  [yead, face, newcastl, fa, cup, premiership, s...   \n",
              "4  [ocean, twelv, raid, box, offic, ocean, twelv,...   \n",
              "\n",
              "                                          cured_text  \\\n",
              "0  tv futur hand viewer home theatr system plasma...   \n",
              "1  worldcom boss left book alon former worldcom b...   \n",
              "2  tiger wari farrel gambl leicest say rush make ...   \n",
              "3  yead face newcastl fa cup premiership side new...   \n",
              "4  ocean twelv raid box offic ocean twelv crime c...   \n",
              "\n",
              "                                      tokenized_text  \\\n",
              "0  tv future in the hands of viewers with home th...   \n",
              "1  worldcom boss left books alone former worldcom...   \n",
              "2  tigers wary of farrell gamble leicester say th...   \n",
              "3  yeading face newcastle in fa cup premiership s...   \n",
              "4  ocean s twelve raids box office ocean s twelve...   \n",
              "\n",
              "                                       filtered_text  \n",
              "0  tv future hands viewers home theatre systems p...  \n",
              "1  worldcom boss left books alone former worldcom...  \n",
              "2  tigers wary farrell gamble leicester say rushe...  \n",
              "3  yeading face newcastle fa cup premiership side...  \n",
              "4  ocean twelve raids box office ocean twelve cri...  "
            ]
          },
          "execution_count": 24,
          "metadata": {},
          "output_type": "execute_result"
        }
      ],
      "source": [
        "df.head()"
      ]
    },
    {
      "cell_type": "code",
      "execution_count": 27,
      "metadata": {
        "colab": {
          "base_uri": "https://localhost:8080/"
        },
        "id": "n-IPMMVDciL2",
        "outputId": "b2690dc3-e673-442d-d24d-a01fc591526d"
      },
      "outputs": [
        {
          "name": "stdout",
          "output_type": "stream",
          "text": [
            "1780 1780\n",
            "445 445\n"
          ]
        }
      ],
      "source": [
        "(x_train, x_test, y_train, y_test) = sklearn.model_selection.train_test_split(df['cured_text'], df['category'], test_size = 0.2, random_state = 17)\n",
        "\n",
        "print(len(x_train), len(y_train))\n",
        "print(len(x_test), len(y_test))"
      ]
    },
    {
      "cell_type": "code",
      "execution_count": 18,
      "metadata": {
        "id": "IE2ru3TEdV5_"
      },
      "outputs": [],
      "source": [
        "# oltre ad usare NLTK, possiamo usare CountVectorizer di sklearn per generare i\n",
        "# ngrams ma questo metodo implementa anche una vettorizzazione, che ci serve\n",
        "# per la successiva fase di classificazione\n",
        "\n",
        "# https://scikit-learn.org/stable/modules/generated/sklearn.feature_extraction.text.CountVectorizer.html\n",
        "\n",
        "vectorizer = sklearn.feature_extraction.text.CountVectorizer(ngram_range=(2,2))\n",
        "X_train = vectorizer.fit_transform(x_train)\n",
        "X_test = vectorizer.transform(x_test)"
      ]
    },
    {
      "cell_type": "code",
      "execution_count": 19,
      "metadata": {
        "colab": {
          "base_uri": "https://localhost:8080/"
        },
        "id": "UTpUsiy6elaE",
        "outputId": "1bca5e9f-4f8d-4ba6-ac26-b7ee4c67abd3"
      },
      "outputs": [
        {
          "name": "stdout",
          "output_type": "stream",
          "text": [
            "(1780, 266531)\n",
            "(445, 266531)\n"
          ]
        }
      ],
      "source": [
        "print(X_train.shape)\n",
        "print(X_test.shape)\n",
        "\n",
        "# la seconda dimensione è la grandezza del vocabolario/feature"
      ]
    },
    {
      "cell_type": "code",
      "execution_count": 28,
      "metadata": {
        "colab": {
          "base_uri": "https://localhost:8080/"
        },
        "id": "v9uRu2TnfUL1",
        "outputId": "7682335e-55aa-4618-8a06-56183e0194bc"
      },
      "outputs": [
        {
          "name": "stdout",
          "output_type": "stream",
          "text": [
            "['00 59' '00 earli' '00 qualifi' ... 'zvonareva struggl'\n",
            " 'zvonareva wimbledon' 'zvyagintsev return']\n",
            "[[0 0 0 ... 0 0 0]]\n"
          ]
        }
      ],
      "source": [
        "# overview delle feature/elementi del vocabolario, tutti gli n-gramns generati a partire dal training set\n",
        "print(vectorizer.get_feature_names_out())\n",
        "#versione vettoriale del primo sample\n",
        "print(X_train[0].toarray())\n",
        "# è un vettore riga in \"one-hot encoding\" ma ho le frequenze"
      ]
    },
    {
      "cell_type": "code",
      "execution_count": 21,
      "metadata": {
        "colab": {
          "base_uri": "https://localhost:8080/"
        },
        "collapsed": true,
        "id": "QqrqqMQwfCF7",
        "outputId": "aef9738b-f203-4dc2-8131-e81a1cf0dc60"
      },
      "outputs": [
        {
          "name": "stdout",
          "output_type": "stream",
          "text": [
            "  (0, 217298)\t2\n",
            "  (0, 116470)\t2\n",
            "  (0, 37953)\t1\n",
            "  (0, 102842)\t1\n",
            "  (0, 22073)\t1\n",
            "  (0, 96317)\t1\n",
            "  (0, 226801)\t2\n",
            "  (0, 201071)\t1\n",
            "  (0, 37885)\t2\n",
            "  (0, 22071)\t1\n",
            "  (0, 90973)\t1\n",
            "  (0, 54734)\t1\n",
            "  (0, 205608)\t3\n",
            "  (0, 97640)\t1\n",
            "  (0, 244979)\t1\n",
            "  (0, 222927)\t1\n",
            "  (0, 203750)\t1\n",
            "  (0, 88346)\t1\n",
            "  (0, 127875)\t1\n",
            "  (0, 223956)\t1\n",
            "  (0, 23872)\t1\n",
            "  (0, 217264)\t1\n",
            "  (0, 29454)\t1\n",
            "  (0, 123972)\t1\n",
            "  (0, 97321)\t1\n",
            "  :\t:\n",
            "  (0, 2757)\t1\n",
            "  (0, 217051)\t1\n",
            "  (0, 95832)\t1\n",
            "  (0, 229366)\t1\n",
            "  (0, 220025)\t1\n",
            "  (0, 42292)\t1\n",
            "  (0, 207887)\t1\n",
            "  (0, 160898)\t1\n",
            "  (0, 246850)\t1\n",
            "  (0, 241138)\t1\n",
            "  (0, 5479)\t1\n",
            "  (0, 217475)\t1\n",
            "  (0, 216971)\t1\n",
            "  (0, 2809)\t1\n",
            "  (0, 2841)\t1\n",
            "  (0, 211501)\t1\n",
            "  (0, 97088)\t1\n",
            "  (0, 153336)\t1\n",
            "  (0, 125614)\t1\n",
            "  (0, 250681)\t1\n",
            "  (0, 238189)\t1\n",
            "  (0, 30093)\t1\n",
            "  (0, 242234)\t1\n",
            "  (0, 12939)\t1\n",
            "  (0, 41709)\t1\n"
          ]
        }
      ],
      "source": [
        "for element in X_train[0]:\n",
        "    print(element)"
      ]
    },
    {
      "cell_type": "code",
      "execution_count": 29,
      "metadata": {
        "colab": {
          "base_uri": "https://localhost:8080/",
          "height": 80
        },
        "id": "U12bPAeYf1_P",
        "outputId": "e2041e1a-4359-46c9-a555-5db810631127"
      },
      "outputs": [
        {
          "data": {
            "text/html": [
              "<style>#sk-container-id-2 {\n",
              "  /* Definition of color scheme common for light and dark mode */\n",
              "  --sklearn-color-text: black;\n",
              "  --sklearn-color-line: gray;\n",
              "  /* Definition of color scheme for unfitted estimators */\n",
              "  --sklearn-color-unfitted-level-0: #fff5e6;\n",
              "  --sklearn-color-unfitted-level-1: #f6e4d2;\n",
              "  --sklearn-color-unfitted-level-2: #ffe0b3;\n",
              "  --sklearn-color-unfitted-level-3: chocolate;\n",
              "  /* Definition of color scheme for fitted estimators */\n",
              "  --sklearn-color-fitted-level-0: #f0f8ff;\n",
              "  --sklearn-color-fitted-level-1: #d4ebff;\n",
              "  --sklearn-color-fitted-level-2: #b3dbfd;\n",
              "  --sklearn-color-fitted-level-3: cornflowerblue;\n",
              "\n",
              "  /* Specific color for light theme */\n",
              "  --sklearn-color-text-on-default-background: var(--sg-text-color, var(--theme-code-foreground, var(--jp-content-font-color1, black)));\n",
              "  --sklearn-color-background: var(--sg-background-color, var(--theme-background, var(--jp-layout-color0, white)));\n",
              "  --sklearn-color-border-box: var(--sg-text-color, var(--theme-code-foreground, var(--jp-content-font-color1, black)));\n",
              "  --sklearn-color-icon: #696969;\n",
              "\n",
              "  @media (prefers-color-scheme: dark) {\n",
              "    /* Redefinition of color scheme for dark theme */\n",
              "    --sklearn-color-text-on-default-background: var(--sg-text-color, var(--theme-code-foreground, var(--jp-content-font-color1, white)));\n",
              "    --sklearn-color-background: var(--sg-background-color, var(--theme-background, var(--jp-layout-color0, #111)));\n",
              "    --sklearn-color-border-box: var(--sg-text-color, var(--theme-code-foreground, var(--jp-content-font-color1, white)));\n",
              "    --sklearn-color-icon: #878787;\n",
              "  }\n",
              "}\n",
              "\n",
              "#sk-container-id-2 {\n",
              "  color: var(--sklearn-color-text);\n",
              "}\n",
              "\n",
              "#sk-container-id-2 pre {\n",
              "  padding: 0;\n",
              "}\n",
              "\n",
              "#sk-container-id-2 input.sk-hidden--visually {\n",
              "  border: 0;\n",
              "  clip: rect(1px 1px 1px 1px);\n",
              "  clip: rect(1px, 1px, 1px, 1px);\n",
              "  height: 1px;\n",
              "  margin: -1px;\n",
              "  overflow: hidden;\n",
              "  padding: 0;\n",
              "  position: absolute;\n",
              "  width: 1px;\n",
              "}\n",
              "\n",
              "#sk-container-id-2 div.sk-dashed-wrapped {\n",
              "  border: 1px dashed var(--sklearn-color-line);\n",
              "  margin: 0 0.4em 0.5em 0.4em;\n",
              "  box-sizing: border-box;\n",
              "  padding-bottom: 0.4em;\n",
              "  background-color: var(--sklearn-color-background);\n",
              "}\n",
              "\n",
              "#sk-container-id-2 div.sk-container {\n",
              "  /* jupyter's `normalize.less` sets `[hidden] { display: none; }`\n",
              "     but bootstrap.min.css set `[hidden] { display: none !important; }`\n",
              "     so we also need the `!important` here to be able to override the\n",
              "     default hidden behavior on the sphinx rendered scikit-learn.org.\n",
              "     See: https://github.com/scikit-learn/scikit-learn/issues/21755 */\n",
              "  display: inline-block !important;\n",
              "  position: relative;\n",
              "}\n",
              "\n",
              "#sk-container-id-2 div.sk-text-repr-fallback {\n",
              "  display: none;\n",
              "}\n",
              "\n",
              "div.sk-parallel-item,\n",
              "div.sk-serial,\n",
              "div.sk-item {\n",
              "  /* draw centered vertical line to link estimators */\n",
              "  background-image: linear-gradient(var(--sklearn-color-text-on-default-background), var(--sklearn-color-text-on-default-background));\n",
              "  background-size: 2px 100%;\n",
              "  background-repeat: no-repeat;\n",
              "  background-position: center center;\n",
              "}\n",
              "\n",
              "/* Parallel-specific style estimator block */\n",
              "\n",
              "#sk-container-id-2 div.sk-parallel-item::after {\n",
              "  content: \"\";\n",
              "  width: 100%;\n",
              "  border-bottom: 2px solid var(--sklearn-color-text-on-default-background);\n",
              "  flex-grow: 1;\n",
              "}\n",
              "\n",
              "#sk-container-id-2 div.sk-parallel {\n",
              "  display: flex;\n",
              "  align-items: stretch;\n",
              "  justify-content: center;\n",
              "  background-color: var(--sklearn-color-background);\n",
              "  position: relative;\n",
              "}\n",
              "\n",
              "#sk-container-id-2 div.sk-parallel-item {\n",
              "  display: flex;\n",
              "  flex-direction: column;\n",
              "}\n",
              "\n",
              "#sk-container-id-2 div.sk-parallel-item:first-child::after {\n",
              "  align-self: flex-end;\n",
              "  width: 50%;\n",
              "}\n",
              "\n",
              "#sk-container-id-2 div.sk-parallel-item:last-child::after {\n",
              "  align-self: flex-start;\n",
              "  width: 50%;\n",
              "}\n",
              "\n",
              "#sk-container-id-2 div.sk-parallel-item:only-child::after {\n",
              "  width: 0;\n",
              "}\n",
              "\n",
              "/* Serial-specific style estimator block */\n",
              "\n",
              "#sk-container-id-2 div.sk-serial {\n",
              "  display: flex;\n",
              "  flex-direction: column;\n",
              "  align-items: center;\n",
              "  background-color: var(--sklearn-color-background);\n",
              "  padding-right: 1em;\n",
              "  padding-left: 1em;\n",
              "}\n",
              "\n",
              "\n",
              "/* Toggleable style: style used for estimator/Pipeline/ColumnTransformer box that is\n",
              "clickable and can be expanded/collapsed.\n",
              "- Pipeline and ColumnTransformer use this feature and define the default style\n",
              "- Estimators will overwrite some part of the style using the `sk-estimator` class\n",
              "*/\n",
              "\n",
              "/* Pipeline and ColumnTransformer style (default) */\n",
              "\n",
              "#sk-container-id-2 div.sk-toggleable {\n",
              "  /* Default theme specific background. It is overwritten whether we have a\n",
              "  specific estimator or a Pipeline/ColumnTransformer */\n",
              "  background-color: var(--sklearn-color-background);\n",
              "}\n",
              "\n",
              "/* Toggleable label */\n",
              "#sk-container-id-2 label.sk-toggleable__label {\n",
              "  cursor: pointer;\n",
              "  display: block;\n",
              "  width: 100%;\n",
              "  margin-bottom: 0;\n",
              "  padding: 0.5em;\n",
              "  box-sizing: border-box;\n",
              "  text-align: center;\n",
              "}\n",
              "\n",
              "#sk-container-id-2 label.sk-toggleable__label-arrow:before {\n",
              "  /* Arrow on the left of the label */\n",
              "  content: \"▸\";\n",
              "  float: left;\n",
              "  margin-right: 0.25em;\n",
              "  color: var(--sklearn-color-icon);\n",
              "}\n",
              "\n",
              "#sk-container-id-2 label.sk-toggleable__label-arrow:hover:before {\n",
              "  color: var(--sklearn-color-text);\n",
              "}\n",
              "\n",
              "/* Toggleable content - dropdown */\n",
              "\n",
              "#sk-container-id-2 div.sk-toggleable__content {\n",
              "  max-height: 0;\n",
              "  max-width: 0;\n",
              "  overflow: hidden;\n",
              "  text-align: left;\n",
              "  /* unfitted */\n",
              "  background-color: var(--sklearn-color-unfitted-level-0);\n",
              "}\n",
              "\n",
              "#sk-container-id-2 div.sk-toggleable__content.fitted {\n",
              "  /* fitted */\n",
              "  background-color: var(--sklearn-color-fitted-level-0);\n",
              "}\n",
              "\n",
              "#sk-container-id-2 div.sk-toggleable__content pre {\n",
              "  margin: 0.2em;\n",
              "  border-radius: 0.25em;\n",
              "  color: var(--sklearn-color-text);\n",
              "  /* unfitted */\n",
              "  background-color: var(--sklearn-color-unfitted-level-0);\n",
              "}\n",
              "\n",
              "#sk-container-id-2 div.sk-toggleable__content.fitted pre {\n",
              "  /* unfitted */\n",
              "  background-color: var(--sklearn-color-fitted-level-0);\n",
              "}\n",
              "\n",
              "#sk-container-id-2 input.sk-toggleable__control:checked~div.sk-toggleable__content {\n",
              "  /* Expand drop-down */\n",
              "  max-height: 200px;\n",
              "  max-width: 100%;\n",
              "  overflow: auto;\n",
              "}\n",
              "\n",
              "#sk-container-id-2 input.sk-toggleable__control:checked~label.sk-toggleable__label-arrow:before {\n",
              "  content: \"▾\";\n",
              "}\n",
              "\n",
              "/* Pipeline/ColumnTransformer-specific style */\n",
              "\n",
              "#sk-container-id-2 div.sk-label input.sk-toggleable__control:checked~label.sk-toggleable__label {\n",
              "  color: var(--sklearn-color-text);\n",
              "  background-color: var(--sklearn-color-unfitted-level-2);\n",
              "}\n",
              "\n",
              "#sk-container-id-2 div.sk-label.fitted input.sk-toggleable__control:checked~label.sk-toggleable__label {\n",
              "  background-color: var(--sklearn-color-fitted-level-2);\n",
              "}\n",
              "\n",
              "/* Estimator-specific style */\n",
              "\n",
              "/* Colorize estimator box */\n",
              "#sk-container-id-2 div.sk-estimator input.sk-toggleable__control:checked~label.sk-toggleable__label {\n",
              "  /* unfitted */\n",
              "  background-color: var(--sklearn-color-unfitted-level-2);\n",
              "}\n",
              "\n",
              "#sk-container-id-2 div.sk-estimator.fitted input.sk-toggleable__control:checked~label.sk-toggleable__label {\n",
              "  /* fitted */\n",
              "  background-color: var(--sklearn-color-fitted-level-2);\n",
              "}\n",
              "\n",
              "#sk-container-id-2 div.sk-label label.sk-toggleable__label,\n",
              "#sk-container-id-2 div.sk-label label {\n",
              "  /* The background is the default theme color */\n",
              "  color: var(--sklearn-color-text-on-default-background);\n",
              "}\n",
              "\n",
              "/* On hover, darken the color of the background */\n",
              "#sk-container-id-2 div.sk-label:hover label.sk-toggleable__label {\n",
              "  color: var(--sklearn-color-text);\n",
              "  background-color: var(--sklearn-color-unfitted-level-2);\n",
              "}\n",
              "\n",
              "/* Label box, darken color on hover, fitted */\n",
              "#sk-container-id-2 div.sk-label.fitted:hover label.sk-toggleable__label.fitted {\n",
              "  color: var(--sklearn-color-text);\n",
              "  background-color: var(--sklearn-color-fitted-level-2);\n",
              "}\n",
              "\n",
              "/* Estimator label */\n",
              "\n",
              "#sk-container-id-2 div.sk-label label {\n",
              "  font-family: monospace;\n",
              "  font-weight: bold;\n",
              "  display: inline-block;\n",
              "  line-height: 1.2em;\n",
              "}\n",
              "\n",
              "#sk-container-id-2 div.sk-label-container {\n",
              "  text-align: center;\n",
              "}\n",
              "\n",
              "/* Estimator-specific */\n",
              "#sk-container-id-2 div.sk-estimator {\n",
              "  font-family: monospace;\n",
              "  border: 1px dotted var(--sklearn-color-border-box);\n",
              "  border-radius: 0.25em;\n",
              "  box-sizing: border-box;\n",
              "  margin-bottom: 0.5em;\n",
              "  /* unfitted */\n",
              "  background-color: var(--sklearn-color-unfitted-level-0);\n",
              "}\n",
              "\n",
              "#sk-container-id-2 div.sk-estimator.fitted {\n",
              "  /* fitted */\n",
              "  background-color: var(--sklearn-color-fitted-level-0);\n",
              "}\n",
              "\n",
              "/* on hover */\n",
              "#sk-container-id-2 div.sk-estimator:hover {\n",
              "  /* unfitted */\n",
              "  background-color: var(--sklearn-color-unfitted-level-2);\n",
              "}\n",
              "\n",
              "#sk-container-id-2 div.sk-estimator.fitted:hover {\n",
              "  /* fitted */\n",
              "  background-color: var(--sklearn-color-fitted-level-2);\n",
              "}\n",
              "\n",
              "/* Specification for estimator info (e.g. \"i\" and \"?\") */\n",
              "\n",
              "/* Common style for \"i\" and \"?\" */\n",
              "\n",
              ".sk-estimator-doc-link,\n",
              "a:link.sk-estimator-doc-link,\n",
              "a:visited.sk-estimator-doc-link {\n",
              "  float: right;\n",
              "  font-size: smaller;\n",
              "  line-height: 1em;\n",
              "  font-family: monospace;\n",
              "  background-color: var(--sklearn-color-background);\n",
              "  border-radius: 1em;\n",
              "  height: 1em;\n",
              "  width: 1em;\n",
              "  text-decoration: none !important;\n",
              "  margin-left: 1ex;\n",
              "  /* unfitted */\n",
              "  border: var(--sklearn-color-unfitted-level-1) 1pt solid;\n",
              "  color: var(--sklearn-color-unfitted-level-1);\n",
              "}\n",
              "\n",
              ".sk-estimator-doc-link.fitted,\n",
              "a:link.sk-estimator-doc-link.fitted,\n",
              "a:visited.sk-estimator-doc-link.fitted {\n",
              "  /* fitted */\n",
              "  border: var(--sklearn-color-fitted-level-1) 1pt solid;\n",
              "  color: var(--sklearn-color-fitted-level-1);\n",
              "}\n",
              "\n",
              "/* On hover */\n",
              "div.sk-estimator:hover .sk-estimator-doc-link:hover,\n",
              ".sk-estimator-doc-link:hover,\n",
              "div.sk-label-container:hover .sk-estimator-doc-link:hover,\n",
              ".sk-estimator-doc-link:hover {\n",
              "  /* unfitted */\n",
              "  background-color: var(--sklearn-color-unfitted-level-3);\n",
              "  color: var(--sklearn-color-background);\n",
              "  text-decoration: none;\n",
              "}\n",
              "\n",
              "div.sk-estimator.fitted:hover .sk-estimator-doc-link.fitted:hover,\n",
              ".sk-estimator-doc-link.fitted:hover,\n",
              "div.sk-label-container:hover .sk-estimator-doc-link.fitted:hover,\n",
              ".sk-estimator-doc-link.fitted:hover {\n",
              "  /* fitted */\n",
              "  background-color: var(--sklearn-color-fitted-level-3);\n",
              "  color: var(--sklearn-color-background);\n",
              "  text-decoration: none;\n",
              "}\n",
              "\n",
              "/* Span, style for the box shown on hovering the info icon */\n",
              ".sk-estimator-doc-link span {\n",
              "  display: none;\n",
              "  z-index: 9999;\n",
              "  position: relative;\n",
              "  font-weight: normal;\n",
              "  right: .2ex;\n",
              "  padding: .5ex;\n",
              "  margin: .5ex;\n",
              "  width: min-content;\n",
              "  min-width: 20ex;\n",
              "  max-width: 50ex;\n",
              "  color: var(--sklearn-color-text);\n",
              "  box-shadow: 2pt 2pt 4pt #999;\n",
              "  /* unfitted */\n",
              "  background: var(--sklearn-color-unfitted-level-0);\n",
              "  border: .5pt solid var(--sklearn-color-unfitted-level-3);\n",
              "}\n",
              "\n",
              ".sk-estimator-doc-link.fitted span {\n",
              "  /* fitted */\n",
              "  background: var(--sklearn-color-fitted-level-0);\n",
              "  border: var(--sklearn-color-fitted-level-3);\n",
              "}\n",
              "\n",
              ".sk-estimator-doc-link:hover span {\n",
              "  display: block;\n",
              "}\n",
              "\n",
              "/* \"?\"-specific style due to the `<a>` HTML tag */\n",
              "\n",
              "#sk-container-id-2 a.estimator_doc_link {\n",
              "  float: right;\n",
              "  font-size: 1rem;\n",
              "  line-height: 1em;\n",
              "  font-family: monospace;\n",
              "  background-color: var(--sklearn-color-background);\n",
              "  border-radius: 1rem;\n",
              "  height: 1rem;\n",
              "  width: 1rem;\n",
              "  text-decoration: none;\n",
              "  /* unfitted */\n",
              "  color: var(--sklearn-color-unfitted-level-1);\n",
              "  border: var(--sklearn-color-unfitted-level-1) 1pt solid;\n",
              "}\n",
              "\n",
              "#sk-container-id-2 a.estimator_doc_link.fitted {\n",
              "  /* fitted */\n",
              "  border: var(--sklearn-color-fitted-level-1) 1pt solid;\n",
              "  color: var(--sklearn-color-fitted-level-1);\n",
              "}\n",
              "\n",
              "/* On hover */\n",
              "#sk-container-id-2 a.estimator_doc_link:hover {\n",
              "  /* unfitted */\n",
              "  background-color: var(--sklearn-color-unfitted-level-3);\n",
              "  color: var(--sklearn-color-background);\n",
              "  text-decoration: none;\n",
              "}\n",
              "\n",
              "#sk-container-id-2 a.estimator_doc_link.fitted:hover {\n",
              "  /* fitted */\n",
              "  background-color: var(--sklearn-color-fitted-level-3);\n",
              "}\n",
              "</style><div id=\"sk-container-id-2\" class=\"sk-top-container\"><div class=\"sk-text-repr-fallback\"><pre>DecisionTreeClassifier()</pre><b>In a Jupyter environment, please rerun this cell to show the HTML representation or trust the notebook. <br />On GitHub, the HTML representation is unable to render, please try loading this page with nbviewer.org.</b></div><div class=\"sk-container\" hidden><div class=\"sk-item\"><div class=\"sk-estimator fitted sk-toggleable\"><input class=\"sk-toggleable__control sk-hidden--visually\" id=\"sk-estimator-id-2\" type=\"checkbox\" checked><label for=\"sk-estimator-id-2\" class=\"sk-toggleable__label fitted sk-toggleable__label-arrow fitted\">&nbsp;&nbsp;DecisionTreeClassifier<a class=\"sk-estimator-doc-link fitted\" rel=\"noreferrer\" target=\"_blank\" href=\"https://scikit-learn.org/1.5/modules/generated/sklearn.tree.DecisionTreeClassifier.html\">?<span>Documentation for DecisionTreeClassifier</span></a><span class=\"sk-estimator-doc-link fitted\">i<span>Fitted</span></span></label><div class=\"sk-toggleable__content fitted\"><pre>DecisionTreeClassifier()</pre></div> </div></div></div></div>"
            ],
            "text/plain": [
              "DecisionTreeClassifier()"
            ]
          },
          "execution_count": 29,
          "metadata": {},
          "output_type": "execute_result"
        }
      ],
      "source": [
        "from sklearn.metrics import accuracy_score, f1_score, precision_score, recall_score\n",
        "from sklearn.tree import DecisionTreeClassifier\n",
        "from sklearn.metrics import classification_report\n",
        "\n",
        "classifier = DecisionTreeClassifier()\n",
        "classifier.fit(X_train, y_train)"
      ]
    },
    {
      "cell_type": "code",
      "execution_count": 30,
      "metadata": {
        "colab": {
          "base_uri": "https://localhost:8080/"
        },
        "id": "ZJkXbIqTgX4X",
        "outputId": "8203ded4-677b-4e77-fb02-f1ccae70bfcc"
      },
      "outputs": [
        {
          "name": "stdout",
          "output_type": "stream",
          "text": [
            "Accuacy -> 0.7820\n",
            "F1-score -> 0.7854\n",
            "Precision -> 0.8062\n",
            "Recall -> 0.7826\n",
            "               precision    recall  f1-score   support\n",
            "\n",
            "     business       0.79      0.79      0.79       107\n",
            "entertainment       0.54      0.81      0.65        74\n",
            "     politics       0.99      0.77      0.86        90\n",
            "        sport       0.84      0.76      0.80        93\n",
            "         tech       0.88      0.78      0.82        81\n",
            "\n",
            "     accuracy                           0.78       445\n",
            "    macro avg       0.81      0.78      0.79       445\n",
            " weighted avg       0.81      0.78      0.79       445\n",
            "\n"
          ]
        }
      ],
      "source": [
        "preds = classifier.predict(X_test)\n",
        "\n",
        "print(f'Accuacy -> {accuracy_score(y_test, preds):0.4f}')\n",
        "print(f\"F1-score -> {f1_score(y_test, preds, average='macro'):0.4f}\")\n",
        "print(f\"Precision -> {precision_score(y_test, preds, average='macro'):0.4f}\")\n",
        "print(f\"Recall -> {recall_score(y_test, preds, average='macro'):0.4f}\")\n",
        "\n",
        "print(classification_report(y_test, preds))"
      ]
    },
    {
      "cell_type": "code",
      "execution_count": 31,
      "metadata": {
        "id": "4jx28by0hZIq"
      },
      "outputs": [],
      "source": [
        "from sklearn.model_selection import train_test_split\n",
        "def classification_procedure(df, feature, n_grams):\n",
        "    (x_train, x_test, y_train, y_test) = train_test_split(df[feature], df['category'], test_size=0.2, random_state=17)\n",
        "    vectorizer = sklearn.feature_extraction.text.CountVectorizer(ngram_range = (n_grams, n_grams))\n",
        "    X_train = vectorizer.fit_transform(x_train)\n",
        "    X_test = vectorizer.transform(x_test)\n",
        "\n",
        "    classifier = DecisionTreeClassifier()\n",
        "    classifier.fit(X_train, y_train)\n",
        "\n",
        "    preds = classifier.predict(X_test)\n",
        "\n",
        "    print('MODEL -> '+feature+'-'+str(n_grams))\n",
        "\n",
        "    print(f'Accuacy -> {accuracy_score(y_test, preds):0.4f}')\n",
        "    print(f\"F1-score -> {f1_score(y_test, preds, average='macro'):0.4f}\")\n",
        "    print(f\"Precision -> {precision_score(y_test, preds, average='macro'):0.4f}\")\n",
        "    print(f\"Recall -> {recall_score(y_test, preds, average='macro'):0.4f}\")\n",
        "\n",
        "    print(classification_report(y_test, preds))"
      ]
    },
    {
      "cell_type": "code",
      "execution_count": 32,
      "metadata": {
        "colab": {
          "base_uri": "https://localhost:8080/"
        },
        "id": "Bz-oUXyti4uo",
        "outputId": "35bb07fc-d0d0-449d-9dcf-2def06a8d704"
      },
      "outputs": [
        {
          "name": "stdout",
          "output_type": "stream",
          "text": [
            "MODEL -> cured_text-2\n",
            "Accuacy -> 0.7775\n",
            "F1-score -> 0.7811\n",
            "Precision -> 0.8010\n",
            "Recall -> 0.7780\n",
            "               precision    recall  f1-score   support\n",
            "\n",
            "     business       0.79      0.78      0.78       107\n",
            "entertainment       0.53      0.78      0.63        74\n",
            "     politics       0.97      0.76      0.85        90\n",
            "        sport       0.84      0.78      0.81        93\n",
            "         tech       0.88      0.79      0.83        81\n",
            "\n",
            "     accuracy                           0.78       445\n",
            "    macro avg       0.80      0.78      0.78       445\n",
            " weighted avg       0.81      0.78      0.79       445\n",
            "\n"
          ]
        }
      ],
      "source": [
        "classification_procedure(df, feature='cured_text', n_grams=2)"
      ]
    },
    {
      "cell_type": "code",
      "execution_count": 33,
      "metadata": {
        "colab": {
          "base_uri": "https://localhost:8080/"
        },
        "id": "5lbSMNQNjCQj",
        "outputId": "d05a5e4d-4d4e-4015-a59d-35aa87bfd388"
      },
      "outputs": [
        {
          "name": "stdout",
          "output_type": "stream",
          "text": [
            "MODEL -> cured_text-3\n",
            "Accuacy -> 0.6921\n",
            "F1-score -> 0.7040\n",
            "Precision -> 0.8492\n",
            "Recall -> 0.6722\n",
            "               precision    recall  f1-score   support\n",
            "\n",
            "     business       0.46      0.98      0.62       107\n",
            "entertainment       0.97      0.42      0.58        74\n",
            "     politics       0.95      0.63      0.76        90\n",
            "        sport       0.92      0.62      0.74        93\n",
            "         tech       0.95      0.70      0.81        81\n",
            "\n",
            "     accuracy                           0.69       445\n",
            "    macro avg       0.85      0.67      0.70       445\n",
            " weighted avg       0.83      0.69      0.70       445\n",
            "\n"
          ]
        }
      ],
      "source": [
        "classification_procedure(df, feature='cured_text', n_grams=3)"
      ]
    },
    {
      "cell_type": "markdown",
      "metadata": {
        "id": "rmwnOL2SH7x2"
      },
      "source": [
        "Ripetere questi passaggi anche col il dataset [med_transcripts.csv](https://github.com/iresiragusa/NLP/blob/main/datasets/med_transcripts.csv)\n",
        "\n",
        "Multiclass dataset of medical transcriptions divided in 40 medical specialities.\n",
        "\n",
        "    Text to classify -> transcription\n",
        "    Labels -> medical_specialty\n",
        "\n",
        "**!! Dataset sbilanciato** come possiamo modificare il dataset?\n",
        "\n",
        "    - undersampling\n",
        "    - top n labels\n",
        "    - stratified sampling\n",
        "    - remove samples from numerous classes"
      ]
    }
  ],
  "metadata": {
    "accelerator": "GPU",
    "colab": {
      "gpuType": "T4",
      "provenance": []
    },
    "kernelspec": {
      "display_name": "Python 3",
      "name": "python3"
    },
    "language_info": {
      "name": "python",
      "version": "3.10.11"
    }
  },
  "nbformat": 4,
  "nbformat_minor": 0
}
