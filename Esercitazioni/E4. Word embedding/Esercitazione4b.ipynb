{
  "cells": [
    {
      "cell_type": "code",
      "execution_count": 1,
      "metadata": {
        "id": "8ilFTxfgl7Sj"
      },
      "outputs": [],
      "source": [
        "import pandas as pd\n",
        "import sklearn\n",
        "from tqdm import tqdm\n",
        "import numpy as np\n",
        "import nltk\n",
        "from nltk.corpus import stopwords\n",
        "from torch import nn\n",
        "from torch.optim import Adam\n",
        "import torch"
      ]
    },
    {
      "cell_type": "code",
      "source": [
        "from google.colab import drive\n",
        "\n",
        "drive.mount('/content/gdrive')"
      ],
      "metadata": {
        "colab": {
          "base_uri": "https://localhost:8080/"
        },
        "id": "UXBCeCV6Fryo",
        "outputId": "e3c897eb-db6c-4472-b794-46f585a31c02"
      },
      "execution_count": 2,
      "outputs": [
        {
          "output_type": "stream",
          "name": "stdout",
          "text": [
            "Mounted at /content/gdrive\n"
          ]
        }
      ]
    },
    {
      "cell_type": "code",
      "execution_count": 3,
      "metadata": {
        "colab": {
          "base_uri": "https://localhost:8080/",
          "height": 206
        },
        "id": "juAPPaWFmS-y",
        "outputId": "6225e2dd-8247-445d-afc3-62fdfbcb15c0"
      },
      "outputs": [
        {
          "output_type": "execute_result",
          "data": {
            "text/plain": [
              "        category                                               text\n",
              "0           tech  tv future in the hands of viewers with home th...\n",
              "1       business  worldcom boss  left books alone  former worldc...\n",
              "2          sport  tigers wary of farrell  gamble  leicester say ...\n",
              "3          sport  yeading face newcastle in fa cup premiership s...\n",
              "4  entertainment  ocean s twelve raids box office ocean s twelve..."
            ],
            "text/html": [
              "\n",
              "  <div id=\"df-e18c56f9-a85f-4114-b1d5-b582f54b22a5\" class=\"colab-df-container\">\n",
              "    <div>\n",
              "<style scoped>\n",
              "    .dataframe tbody tr th:only-of-type {\n",
              "        vertical-align: middle;\n",
              "    }\n",
              "\n",
              "    .dataframe tbody tr th {\n",
              "        vertical-align: top;\n",
              "    }\n",
              "\n",
              "    .dataframe thead th {\n",
              "        text-align: right;\n",
              "    }\n",
              "</style>\n",
              "<table border=\"1\" class=\"dataframe\">\n",
              "  <thead>\n",
              "    <tr style=\"text-align: right;\">\n",
              "      <th></th>\n",
              "      <th>category</th>\n",
              "      <th>text</th>\n",
              "    </tr>\n",
              "  </thead>\n",
              "  <tbody>\n",
              "    <tr>\n",
              "      <th>0</th>\n",
              "      <td>tech</td>\n",
              "      <td>tv future in the hands of viewers with home th...</td>\n",
              "    </tr>\n",
              "    <tr>\n",
              "      <th>1</th>\n",
              "      <td>business</td>\n",
              "      <td>worldcom boss  left books alone  former worldc...</td>\n",
              "    </tr>\n",
              "    <tr>\n",
              "      <th>2</th>\n",
              "      <td>sport</td>\n",
              "      <td>tigers wary of farrell  gamble  leicester say ...</td>\n",
              "    </tr>\n",
              "    <tr>\n",
              "      <th>3</th>\n",
              "      <td>sport</td>\n",
              "      <td>yeading face newcastle in fa cup premiership s...</td>\n",
              "    </tr>\n",
              "    <tr>\n",
              "      <th>4</th>\n",
              "      <td>entertainment</td>\n",
              "      <td>ocean s twelve raids box office ocean s twelve...</td>\n",
              "    </tr>\n",
              "  </tbody>\n",
              "</table>\n",
              "</div>\n",
              "    <div class=\"colab-df-buttons\">\n",
              "\n",
              "  <div class=\"colab-df-container\">\n",
              "    <button class=\"colab-df-convert\" onclick=\"convertToInteractive('df-e18c56f9-a85f-4114-b1d5-b582f54b22a5')\"\n",
              "            title=\"Convert this dataframe to an interactive table.\"\n",
              "            style=\"display:none;\">\n",
              "\n",
              "  <svg xmlns=\"http://www.w3.org/2000/svg\" height=\"24px\" viewBox=\"0 -960 960 960\">\n",
              "    <path d=\"M120-120v-720h720v720H120Zm60-500h600v-160H180v160Zm220 220h160v-160H400v160Zm0 220h160v-160H400v160ZM180-400h160v-160H180v160Zm440 0h160v-160H620v160ZM180-180h160v-160H180v160Zm440 0h160v-160H620v160Z\"/>\n",
              "  </svg>\n",
              "    </button>\n",
              "\n",
              "  <style>\n",
              "    .colab-df-container {\n",
              "      display:flex;\n",
              "      gap: 12px;\n",
              "    }\n",
              "\n",
              "    .colab-df-convert {\n",
              "      background-color: #E8F0FE;\n",
              "      border: none;\n",
              "      border-radius: 50%;\n",
              "      cursor: pointer;\n",
              "      display: none;\n",
              "      fill: #1967D2;\n",
              "      height: 32px;\n",
              "      padding: 0 0 0 0;\n",
              "      width: 32px;\n",
              "    }\n",
              "\n",
              "    .colab-df-convert:hover {\n",
              "      background-color: #E2EBFA;\n",
              "      box-shadow: 0px 1px 2px rgba(60, 64, 67, 0.3), 0px 1px 3px 1px rgba(60, 64, 67, 0.15);\n",
              "      fill: #174EA6;\n",
              "    }\n",
              "\n",
              "    .colab-df-buttons div {\n",
              "      margin-bottom: 4px;\n",
              "    }\n",
              "\n",
              "    [theme=dark] .colab-df-convert {\n",
              "      background-color: #3B4455;\n",
              "      fill: #D2E3FC;\n",
              "    }\n",
              "\n",
              "    [theme=dark] .colab-df-convert:hover {\n",
              "      background-color: #434B5C;\n",
              "      box-shadow: 0px 1px 3px 1px rgba(0, 0, 0, 0.15);\n",
              "      filter: drop-shadow(0px 1px 2px rgba(0, 0, 0, 0.3));\n",
              "      fill: #FFFFFF;\n",
              "    }\n",
              "  </style>\n",
              "\n",
              "    <script>\n",
              "      const buttonEl =\n",
              "        document.querySelector('#df-e18c56f9-a85f-4114-b1d5-b582f54b22a5 button.colab-df-convert');\n",
              "      buttonEl.style.display =\n",
              "        google.colab.kernel.accessAllowed ? 'block' : 'none';\n",
              "\n",
              "      async function convertToInteractive(key) {\n",
              "        const element = document.querySelector('#df-e18c56f9-a85f-4114-b1d5-b582f54b22a5');\n",
              "        const dataTable =\n",
              "          await google.colab.kernel.invokeFunction('convertToInteractive',\n",
              "                                                    [key], {});\n",
              "        if (!dataTable) return;\n",
              "\n",
              "        const docLinkHtml = 'Like what you see? Visit the ' +\n",
              "          '<a target=\"_blank\" href=https://colab.research.google.com/notebooks/data_table.ipynb>data table notebook</a>'\n",
              "          + ' to learn more about interactive tables.';\n",
              "        element.innerHTML = '';\n",
              "        dataTable['output_type'] = 'display_data';\n",
              "        await google.colab.output.renderOutput(dataTable, element);\n",
              "        const docLink = document.createElement('div');\n",
              "        docLink.innerHTML = docLinkHtml;\n",
              "        element.appendChild(docLink);\n",
              "      }\n",
              "    </script>\n",
              "  </div>\n",
              "\n",
              "\n",
              "<div id=\"df-c3d72562-4f38-467f-ba98-9309431e65cc\">\n",
              "  <button class=\"colab-df-quickchart\" onclick=\"quickchart('df-c3d72562-4f38-467f-ba98-9309431e65cc')\"\n",
              "            title=\"Suggest charts\"\n",
              "            style=\"display:none;\">\n",
              "\n",
              "<svg xmlns=\"http://www.w3.org/2000/svg\" height=\"24px\"viewBox=\"0 0 24 24\"\n",
              "     width=\"24px\">\n",
              "    <g>\n",
              "        <path d=\"M19 3H5c-1.1 0-2 .9-2 2v14c0 1.1.9 2 2 2h14c1.1 0 2-.9 2-2V5c0-1.1-.9-2-2-2zM9 17H7v-7h2v7zm4 0h-2V7h2v10zm4 0h-2v-4h2v4z\"/>\n",
              "    </g>\n",
              "</svg>\n",
              "  </button>\n",
              "\n",
              "<style>\n",
              "  .colab-df-quickchart {\n",
              "      --bg-color: #E8F0FE;\n",
              "      --fill-color: #1967D2;\n",
              "      --hover-bg-color: #E2EBFA;\n",
              "      --hover-fill-color: #174EA6;\n",
              "      --disabled-fill-color: #AAA;\n",
              "      --disabled-bg-color: #DDD;\n",
              "  }\n",
              "\n",
              "  [theme=dark] .colab-df-quickchart {\n",
              "      --bg-color: #3B4455;\n",
              "      --fill-color: #D2E3FC;\n",
              "      --hover-bg-color: #434B5C;\n",
              "      --hover-fill-color: #FFFFFF;\n",
              "      --disabled-bg-color: #3B4455;\n",
              "      --disabled-fill-color: #666;\n",
              "  }\n",
              "\n",
              "  .colab-df-quickchart {\n",
              "    background-color: var(--bg-color);\n",
              "    border: none;\n",
              "    border-radius: 50%;\n",
              "    cursor: pointer;\n",
              "    display: none;\n",
              "    fill: var(--fill-color);\n",
              "    height: 32px;\n",
              "    padding: 0;\n",
              "    width: 32px;\n",
              "  }\n",
              "\n",
              "  .colab-df-quickchart:hover {\n",
              "    background-color: var(--hover-bg-color);\n",
              "    box-shadow: 0 1px 2px rgba(60, 64, 67, 0.3), 0 1px 3px 1px rgba(60, 64, 67, 0.15);\n",
              "    fill: var(--button-hover-fill-color);\n",
              "  }\n",
              "\n",
              "  .colab-df-quickchart-complete:disabled,\n",
              "  .colab-df-quickchart-complete:disabled:hover {\n",
              "    background-color: var(--disabled-bg-color);\n",
              "    fill: var(--disabled-fill-color);\n",
              "    box-shadow: none;\n",
              "  }\n",
              "\n",
              "  .colab-df-spinner {\n",
              "    border: 2px solid var(--fill-color);\n",
              "    border-color: transparent;\n",
              "    border-bottom-color: var(--fill-color);\n",
              "    animation:\n",
              "      spin 1s steps(1) infinite;\n",
              "  }\n",
              "\n",
              "  @keyframes spin {\n",
              "    0% {\n",
              "      border-color: transparent;\n",
              "      border-bottom-color: var(--fill-color);\n",
              "      border-left-color: var(--fill-color);\n",
              "    }\n",
              "    20% {\n",
              "      border-color: transparent;\n",
              "      border-left-color: var(--fill-color);\n",
              "      border-top-color: var(--fill-color);\n",
              "    }\n",
              "    30% {\n",
              "      border-color: transparent;\n",
              "      border-left-color: var(--fill-color);\n",
              "      border-top-color: var(--fill-color);\n",
              "      border-right-color: var(--fill-color);\n",
              "    }\n",
              "    40% {\n",
              "      border-color: transparent;\n",
              "      border-right-color: var(--fill-color);\n",
              "      border-top-color: var(--fill-color);\n",
              "    }\n",
              "    60% {\n",
              "      border-color: transparent;\n",
              "      border-right-color: var(--fill-color);\n",
              "    }\n",
              "    80% {\n",
              "      border-color: transparent;\n",
              "      border-right-color: var(--fill-color);\n",
              "      border-bottom-color: var(--fill-color);\n",
              "    }\n",
              "    90% {\n",
              "      border-color: transparent;\n",
              "      border-bottom-color: var(--fill-color);\n",
              "    }\n",
              "  }\n",
              "</style>\n",
              "\n",
              "  <script>\n",
              "    async function quickchart(key) {\n",
              "      const quickchartButtonEl =\n",
              "        document.querySelector('#' + key + ' button');\n",
              "      quickchartButtonEl.disabled = true;  // To prevent multiple clicks.\n",
              "      quickchartButtonEl.classList.add('colab-df-spinner');\n",
              "      try {\n",
              "        const charts = await google.colab.kernel.invokeFunction(\n",
              "            'suggestCharts', [key], {});\n",
              "      } catch (error) {\n",
              "        console.error('Error during call to suggestCharts:', error);\n",
              "      }\n",
              "      quickchartButtonEl.classList.remove('colab-df-spinner');\n",
              "      quickchartButtonEl.classList.add('colab-df-quickchart-complete');\n",
              "    }\n",
              "    (() => {\n",
              "      let quickchartButtonEl =\n",
              "        document.querySelector('#df-c3d72562-4f38-467f-ba98-9309431e65cc button');\n",
              "      quickchartButtonEl.style.display =\n",
              "        google.colab.kernel.accessAllowed ? 'block' : 'none';\n",
              "    })();\n",
              "  </script>\n",
              "</div>\n",
              "\n",
              "    </div>\n",
              "  </div>\n"
            ],
            "application/vnd.google.colaboratory.intrinsic+json": {
              "type": "dataframe",
              "variable_name": "df",
              "summary": "{\n  \"name\": \"df\",\n  \"rows\": 2225,\n  \"fields\": [\n    {\n      \"column\": \"category\",\n      \"properties\": {\n        \"dtype\": \"category\",\n        \"num_unique_values\": 5,\n        \"samples\": [\n          \"business\",\n          \"politics\",\n          \"sport\"\n        ],\n        \"semantic_type\": \"\",\n        \"description\": \"\"\n      }\n    },\n    {\n      \"column\": \"text\",\n      \"properties\": {\n        \"dtype\": \"string\",\n        \"num_unique_values\": 2126,\n        \"samples\": [\n          \"plan to give elderly care control elderly and disabled people would choose how their own budget for personal care was spent and organised under government plans.  ministers say elderly and disabled people themselves  not social workers  should be able to decide on their care and stay in their own homes. they also plan a supremo for adult services in each english area to get different agencies working together. but the government shunned opponents  calls for free long-term care.  there are 1.7m people needing care in england and ministers suggest the number could quadruple by 2050. monday s consultation paper on social care for adults in england is aimed at ending a system which generates dependency. health minister stephen ladyman said:  this document is the antithesis of the nanny state.   it s about taking power away from the state and giving it to individuals and saying that we will help you make these decisions but we are not going to make them for you any more.  the government has already allowed local councils to give people money so they can pay for their services directly but take-up of the scheme has been  disappointing .  ministers say the new plans would make direct payments simpler and try to counter reluctance in some local councils to use the payments. they also want to set up a new  half-way house  where social workers tell people how much money is available for their care and help them choose how to spend that  individual budget . the scheme will be funded on existing budgets set until 2008. but mr ladyman said the plans could deliver savings in some areas  such as freeing up nhs beds and preventing illnesses. he ruled out free personal care in england - which is on offer in scotland and wales  saying it was  unsustainable .  david rogers  from the local government association  said agencies were working together on the kind of innovation proposed by the government. and tony hunter  president of the association of directors of social services  said the plans could improve dignity and well-being for thousands of people. but age concern argued social care was chronically under-funded and older people were being offered choice in principle  but not in practice. its director general  gordon lishman  said:  direct payments will not work if there are no services for people to choose from locally.   the tories say people who pay for three years  long-term care directly or through insurance should be guaranteed free care for the rest of their lives. tory spokesman simon burns said more than 80 000 long term care places had been lost since 1997.  after eight years of persistent change  dogmatic enforcement of regulation  and overbearing government initiatives - we need action  not a vision   said mr burns. the lib dems say they would fund free personal care by a new 50% tax rate on incomes over \\u00a3100 000. health spokesman paul burstow said:  promoting independence sounds good and helping people to live in their own homes is a goal we share.  but the risk is that independence can turn into isolation if the right support and care is not available.\",\n          \"beer giant swallows russian firm brewing giant inbev has agreed to buy alfa-eco s stake in sun interbrew  russia s second-largest brewer  for up to 259.7m euros ($353.3m; \\u00a3183.75m).  alfa-eco  the venture capital arm of russian conglomerate alfa group  has a one-fifth stake in sun interbrew. the deal gives inbev  the world s biggest beermaker  near-total control over the russian brewer. inbev bought out another partner in august 2004. inbev brands include bass  stella artois  hoegaarden and staropramen. it employs 77 000 people  running operations in over 30 countries across the americas  europe and asia pacific.  the leuven-based brewery said it would own 97.3% of the voting shares and 98.8% of the non-voting shares of sun interbrew. the deal is expected to be completed in the first quarter of 2005. inbev was formed in august 2004 when belgium s interbrew bought brazilian brewer ambev. sun interbrew  which employs 8 000 staff  owns breweries in eight russian cities - klin  ivanovo  saransk  kursk  volzhsky  omsk  perm and novocheboksarsk. there are also three breweries in ukraine  in the cities of chernigov  nikolaev and kharkov.\",\n          \"athens memories soar above lows well  it s goodbye to another olympic year and as usual there were plenty of highs and lows in athens.  obviously  there s no getting away from the differing fortunes of kelly holmes and paula radcliffe. but i want to remind you of a few more events that made 2004 another year to remember - or forget - for athletics.      one of my favourite olympic moments was kelly s success in the 800m.  winning that race was the key to her success because if she won that then the 1500m would be a bit of a formality. kelly had been full of  should i  shouldn t i   thoughts about going for the double in athens. i thought why wouldn t you do the 800m  it s your best event  it was such good fun to commentate on her 1500m and it was nice to be able to be part of her athens story.      the victory for the british men s 4x100m relay team was a bit of a surprise but a great climax to the games. i think the four of them - jason gardener  darren campbell  marlon devonish and mark lewis-francis - knew deep down that it was their best chance of a medal. the lads had run poorly in the individual sprints so maybe they did lift their game when they knew something was really at stake.      hicham el guerrouj s olympic double is a much bigger achievement than kelly s on a global scale.  he was the first man since for 80 years to win both the 1500m and 5 000m titles. as soon as he had added the 5 000m crown and i had finished commentating  i jumped up  ran down the stairs  pushed everyone out the way and just gave him a big hug. he is one of the few african runners who has embraced the tradition of the mile and he loves to hear all the roger bannister stories. hicham is someone i enjoy having a bit of time with  even though my french and his english are not very good.      what happened to paula in athens this year is the obvious low on a personal level and for the expectations of the nation as well. there were a set of circumstances around athens that conspired to produce a very dramatic ending which i think has been greatly misunderstood. dropping out of the marathon was the right thing to do but starting in the 10 000m five days later was not wise. that was her heart and not her head reacting. paula had a lot of little things going wrong in her preparation and on the day.  things like niggling injuries  not being able to do all her running sessions and feeling the pressure of the race looming ahead of her. i think she came to the start line in athens physically and emotionally drained. and if even the smallest thing doesn t feel right when you are preparing to race a marathon  10 miles down the road it will hit you like a brick wall. the positive thing to take from paula s olympics it that she will have learned a lot from it and so will a lot of people - including me.      purely as a race  paula s victory in the new york marathon has to go down as one of the most thrilling. it was so nip-and-tuck between her and kenya s susan chepkemei and you don t usually get that kind of excitement in marathons. it was also a real delight for all athletics fans because  to use one of my favourite words  paula showed real  bouncebackability . and it was a bit of a rarity for me too because i genuinely did not have an inkling how the race was going to pan out.      kelly and the 4x100m boys  victories papered over the cracks in the general performance of the british team. we should be concerned that we re not producing enough people who are capable of reaching finals at senior level.  the only individual men s finalist on the track was michael east in the 1500m. i am beginning to look down and wonder where are the new breed  and that s where things begin to look even gloomier for british athletics as we did not win any medals at the world junior championships in italy. dani barnes came fourth in the 1500m and she was the highest finisher for team gb. the thing is if we don t have athletes getting into the finals at junior level then it really doesn t look good for the beijing olympics and beyond.      i tell you what i really enjoyed this year  benita johnson winning the world cross country championships back in march. in the absence of paula  we tend to think of the event as something of an african preserve. so to have an australian come up and deliver such a surprise was something special.      to be honest  i m getting bored with all the drug scandals  especially balco. i just wish the whole thing would come to a head so we can move on.  having said that  i m always pleased when drugs cheats are caught because it shows the sport is standing up to it and not turning a blind eye anymore. and one of the positive things to come out of balco is people are starting to blow the whistle. we need more people to come forward and help the authorities kick out the cheats. as regards the case against greek sprinters kostas kenteris and katerina thanou  well suspicions have been hanging over kenteris for a while. the bottom line is we cannot keep letting drugs damage the sport because if we do then it stops everyone enjoying it.\"\n        ],\n        \"semantic_type\": \"\",\n        \"description\": \"\"\n      }\n    }\n  ]\n}"
            }
          },
          "metadata": {},
          "execution_count": 3
        }
      ],
      "source": [
        "# Dataset\n",
        "# repository https://github.com/iresiragusa/NLP/tree/main\n",
        "# https://www.kaggle.com/datasets/yufengdev/bbc-fulltext-and-category?select=bbc-text.csv\n",
        "# scarichiamo il dataset e lo carichiamo su COLAB\n",
        "\n",
        "root = \"/content/gdrive/MyDrive/Colab Notebooks/torch/\"\n",
        "df = pd.read_csv(root+\"data/BBC-text/bbc-text.csv\")\n",
        "df.head()"
      ]
    },
    {
      "cell_type": "code",
      "execution_count": 6,
      "metadata": {
        "colab": {
          "base_uri": "https://localhost:8080/"
        },
        "id": "EBaXhs_hmXfD",
        "outputId": "c5f7090f-e41a-4e75-e7b5-ac4ae80b2925"
      },
      "outputs": [
        {
          "output_type": "stream",
          "name": "stdout",
          "text": [
            "n sample -> 2225\n",
            "categories -> {'entertainment', 'business', 'sport', 'tech', 'politics'}[5]\n",
            "category\n",
            "sport            511\n",
            "business         510\n",
            "politics         417\n",
            "tech             401\n",
            "entertainment    386\n",
            "Name: count, dtype: int64\n"
          ]
        }
      ],
      "source": [
        "# il dataset è formato da 2225 sample contenenti aricoli della BBC\n",
        "# suddivisi in 5 categorie in base al loro topic\n",
        "\n",
        "print('n sample -> '+str(len(df)))\n",
        "labels = set(df['category'])\n",
        "print('categories -> '+str(labels)+'['+str(len(labels))+']')\n",
        "print(df['category'].value_counts())\n",
        "#df.groupby(['category']).size().plot.bar()"
      ]
    },
    {
      "cell_type": "code",
      "execution_count": 7,
      "metadata": {
        "id": "M57lBcrOgpXT",
        "colab": {
          "base_uri": "https://localhost:8080/",
          "height": 459
        },
        "outputId": "9834d6d8-0408-4140-dc24-14394af788a8"
      },
      "outputs": [
        {
          "output_type": "execute_result",
          "data": {
            "text/plain": [
              "0       2\n",
              "1       0\n",
              "2       3\n",
              "3       3\n",
              "4       4\n",
              "       ..\n",
              "2220    0\n",
              "2221    1\n",
              "2222    4\n",
              "2223    1\n",
              "2224    3\n",
              "Name: labels, Length: 2225, dtype: int64"
            ],
            "text/html": [
              "<div>\n",
              "<style scoped>\n",
              "    .dataframe tbody tr th:only-of-type {\n",
              "        vertical-align: middle;\n",
              "    }\n",
              "\n",
              "    .dataframe tbody tr th {\n",
              "        vertical-align: top;\n",
              "    }\n",
              "\n",
              "    .dataframe thead th {\n",
              "        text-align: right;\n",
              "    }\n",
              "</style>\n",
              "<table border=\"1\" class=\"dataframe\">\n",
              "  <thead>\n",
              "    <tr style=\"text-align: right;\">\n",
              "      <th></th>\n",
              "      <th>labels</th>\n",
              "    </tr>\n",
              "  </thead>\n",
              "  <tbody>\n",
              "    <tr>\n",
              "      <th>0</th>\n",
              "      <td>2</td>\n",
              "    </tr>\n",
              "    <tr>\n",
              "      <th>1</th>\n",
              "      <td>0</td>\n",
              "    </tr>\n",
              "    <tr>\n",
              "      <th>2</th>\n",
              "      <td>3</td>\n",
              "    </tr>\n",
              "    <tr>\n",
              "      <th>3</th>\n",
              "      <td>3</td>\n",
              "    </tr>\n",
              "    <tr>\n",
              "      <th>4</th>\n",
              "      <td>4</td>\n",
              "    </tr>\n",
              "    <tr>\n",
              "      <th>...</th>\n",
              "      <td>...</td>\n",
              "    </tr>\n",
              "    <tr>\n",
              "      <th>2220</th>\n",
              "      <td>0</td>\n",
              "    </tr>\n",
              "    <tr>\n",
              "      <th>2221</th>\n",
              "      <td>1</td>\n",
              "    </tr>\n",
              "    <tr>\n",
              "      <th>2222</th>\n",
              "      <td>4</td>\n",
              "    </tr>\n",
              "    <tr>\n",
              "      <th>2223</th>\n",
              "      <td>1</td>\n",
              "    </tr>\n",
              "    <tr>\n",
              "      <th>2224</th>\n",
              "      <td>3</td>\n",
              "    </tr>\n",
              "  </tbody>\n",
              "</table>\n",
              "<p>2225 rows × 1 columns</p>\n",
              "</div><br><label><b>dtype:</b> int64</label>"
            ]
          },
          "metadata": {},
          "execution_count": 7
        }
      ],
      "source": [
        "# associo ad ogni categoria un indice, così ho delle label numeriche\n",
        "labels_dict = {\n",
        "    'business': 0,\n",
        "    'politics': 1,\n",
        "    'tech': 2,\n",
        "    'sport': 3,\n",
        "    'entertainment': 4\n",
        "}\n",
        "\n",
        "df['labels'] = df.apply(lambda row: labels_dict[row.category], axis = 1)\n",
        "\n",
        "df['labels']"
      ]
    },
    {
      "cell_type": "code",
      "execution_count": 8,
      "metadata": {
        "id": "GPmyopURmgI2"
      },
      "outputs": [],
      "source": [
        "from sklearn.model_selection import train_test_split\n",
        "\n",
        "(x_train, x_test, y_train, y_test) = train_test_split(\n",
        "    df['text'], df['labels'], test_size=0.2, random_state=17)\n",
        "\n",
        "(x_train, x_val, y_train, y_val) = train_test_split(\n",
        "    x_train, y_train, test_size=0.1, random_state=17)\n",
        "\n",
        "# sarebbe uno split 72, 8, 20 per avere lo stesso test dell'altra volta"
      ]
    },
    {
      "cell_type": "code",
      "execution_count": 9,
      "metadata": {
        "colab": {
          "base_uri": "https://localhost:8080/"
        },
        "id": "upjTaC4wdfUy",
        "outputId": "a56a1b66-b7fb-4011-eb07-56b7443e9eab"
      },
      "outputs": [
        {
          "output_type": "stream",
          "name": "stdout",
          "text": [
            "1602\n",
            "178\n",
            "445\n"
          ]
        }
      ],
      "source": [
        "print(len(x_train))\n",
        "print(len(x_val))\n",
        "print(len(x_test))"
      ]
    },
    {
      "cell_type": "code",
      "execution_count": 20,
      "metadata": {
        "colab": {
          "base_uri": "https://localhost:8080/"
        },
        "id": "y6nwHqTEmuKx",
        "outputId": "810a1f08-b83a-48ee-896f-aa719c416d0a"
      },
      "outputs": [
        {
          "output_type": "stream",
          "name": "stderr",
          "text": [
            "[nltk_data] Downloading package punkt to /root/nltk_data...\n",
            "[nltk_data]   Package punkt is already up-to-date!\n",
            "[nltk_data] Downloading package stopwords to /root/nltk_data...\n",
            "[nltk_data]   Package stopwords is already up-to-date!\n"
          ]
        }
      ],
      "source": [
        "nltk.download('punkt')\n",
        "nltk.download('stopwords')\n",
        "\n",
        "class Dataset(torch.utils.data.Dataset):\n",
        "\n",
        "    def __init__(self, x, y, stopwords):\n",
        "\n",
        "        # x e y sono series di pandas\n",
        "        tokens_litt = [nltk.word_tokenize(text, language='english') for text in list(x)]\n",
        "        text_clean = []\n",
        "\n",
        "        if stopwords:\n",
        "            for sentence in tqdm(tokens_litt, desc='Tokenizing ... '):\n",
        "                text_clean.append(' '.join([w.lower() for w in sentence if not w.lower() in nltk.corpus.stopwords.words(\"english\")]))\n",
        "        else:\n",
        "            for sentence in tqdm(tokens_litt, desc='Tokenizing ... '):\n",
        "                text_clean.append(' '.join([w.lower() for w in sentence]))\n",
        "            # ogni token è separato dall'altro con uno spazio\n",
        "\n",
        "        self.texts = text_clean\n",
        "        self.labels = [torch.tensor(label) for label in y]\n",
        "\n",
        "    def classes(self):\n",
        "        return self.labels\n",
        "\n",
        "    def __len__(self):\n",
        "        return len(self.labels)\n",
        "\n",
        "    def __getitem__(self, idx):\n",
        "\n",
        "        batch_texts = self.texts[idx]\n",
        "        batch_labels = np.array(self.labels[idx])\n",
        "\n",
        "        return batch_texts, batch_labels"
      ]
    },
    {
      "cell_type": "code",
      "execution_count": 21,
      "metadata": {
        "id": "YwK_BUUzlFJ-"
      },
      "outputs": [],
      "source": [
        "hyperparameters = {\n",
        "    \"epochs\": 5,\n",
        "    \"learning_rate\": 1e-3,\n",
        "    \"batch_size\": 64,\n",
        "    \"dropout\": 0.1,\n",
        "    \"stopwords\": False,\n",
        "    \"layers\": 1,\n",
        "    \"h_dim\": 300,\n",
        "    \"bilstm\": True,\n",
        "    \"patience\": 5,\n",
        "    \"min_delta\": 0.01\n",
        "}"
      ]
    },
    {
      "cell_type": "code",
      "execution_count": 22,
      "metadata": {
        "colab": {
          "base_uri": "https://localhost:8080/"
        },
        "id": "DnC3SzpfpWrZ",
        "outputId": "c3fda83f-4a0b-4faf-e148-5895b99e8405"
      },
      "outputs": [
        {
          "output_type": "stream",
          "name": "stderr",
          "text": [
            "Tokenizing ... : 100%|██████████| 1602/1602 [00:00<00:00, 21672.77it/s]\n",
            "Tokenizing ... : 100%|██████████| 178/178 [00:00<00:00, 15677.99it/s]\n",
            "Tokenizing ... : 100%|██████████| 445/445 [00:00<00:00, 13147.27it/s]\n"
          ]
        }
      ],
      "source": [
        "#creo i dataset\n",
        "\n",
        "train_dataset = Dataset(x_train, y_train, hyperparameters[\"stopwords\"])\n",
        "val_dataset = Dataset(x_val, y_val, hyperparameters[\"stopwords\"])\n",
        "test_dataset = Dataset(x_test, y_test, hyperparameters[\"stopwords\"])"
      ]
    },
    {
      "cell_type": "code",
      "source": [
        "train_dataloader = torch.utils.data.DataLoader(train_dataset, batch_size=32, shuffle= True)\n",
        "for x,y in train_dataloader:\n",
        "#for x,y in train_dataset:\n",
        "    print(x)\n",
        "    print(y)\n",
        "    break"
      ],
      "metadata": {
        "colab": {
          "base_uri": "https://localhost:8080/"
        },
        "id": "JoJFjO3YFqL0",
        "outputId": "80855f52-3719-4ea1-a51a-6325db522696"
      },
      "execution_count": 23,
      "outputs": [
        {
          "output_type": "stream",
          "name": "stdout",
          "text": [
            "('parmalat boasts doubled profits parmalat the italian food group at the centre of one of europe s most painful corporate scandals has reported a doubling in profit . its pre-tax earnings in the fourth quarter were 77m euros ( £53m ; $ 100m ) up from 38m in the same period of 2003. less welcome was the news that the firm had been fined 11m euros for having violated takeover rules five years ago . the firm sought bankruptcy protection in december 2003 after disclosing a 4bn-euro hole in its accounts . overall the company s debt is close to 12bn euros and is falling only slowly . its brands well-known in italy and overseas have continued to perform strongly however and have barely lost revenue since the scandal broke . but a crucial factor for the company s future is the legal unwinding of its intensely complex financial position . on tuesday the company s administrator turnaround expert enrico bondi sued morgan stanley its former banker to return 136m euros relating to a 2003 bond deal . that brought to 49 the number of banks that mr bondi has sued a mass of legal action that could bring in as much as 3bn euros . the company has also sued former auditors and financial advisors for damages . and criminal cases against the company s former management are proceeding separately .', 'france starts digital terrestrial france has become the last big european country to launch a digital terrestrial tv ( dtt ) service . initially more than a third of the population will be able to receive 14 free-to-air channels . despite the long wait for a french dtt roll-out the new platform s backers hope to emulate the success of its uk free-to-air counterpart freeview . recent figures from the uk s regulator ofcom showed freeview was more popular than the sky digital satellite service . in the three months to september 2004 almost five times as many people signed up to the uk s free-to-air dtt service compared with sky . almost 60 % of uk households have gone digital on at least one television set through cable satellite or freeview . the french dtt platform is known as tnt which stands for tv numerique terrestre or digital terrestrial television . but it is being branded as television numerique pour tous or digital television for all . tnt is a joint venture between public broadcaster france televisions and a handful of cable and satellite operators . digital terrestrial tv will launch as a free-to-air platform to start with adding pay-tv channels later . thirty-five contenders have bid for an additional eight frequencies on top of the 14 already allocated . a couple of years ago dtt had a bad image said olivier gerolami chief operating officer of tnt . but everyone s impressed with dtt in the uk italy and germany and they realise it is a very good idea . france is the poorest market in europe in terms of free-to-air national channels so it has the potential to be one of the biggest dtt markets mr gerolami added in remarks quoted by the us entertainment industry paper variety . tnt aims to reach 35 % of france s population at launch from 17 transmission sites . the transmission area will initially include paris lille lyon and toulouse . eventually there will be 115 sites reaching over 80 % of homes . digital terrestrial set-top boxes are available from as little as 70 euros ( £50 ) . a recent survey by mediametrie found that 70 % of people interviewed were aware of dtt and 25 % were planning to buy a digital receiver . consumer electronics companies such as nokia sagem sony and thomson are gearing up for production . the conseil superieur de l audiovisuel ( csa ) the french broadcasting regulator said : following the recent success of freeview in the uk some manufacturers are optimistic about sales prospects . media analysts believe that initially the majority of viewers will buy inexpensive set-top boxes that are unable to support interactive services . the csa said the current aim of reaching 85 % of the population by 2007 was achievable but the future of the remaining tv viewers required action by the public sector . for the most part they are people living in mountainous or border areas which will remain beyond the reach of digital terrestrial tv for years . up to 15 pay-tv channels will launch on dtt between september 2005 and march 2006. leading pay-tv operators canal plus and tps have submitted bids to market bouquets of channels . free-to-air services will be broadcast in mpeg-2 format . but pay-tv operators will be allowed to broadcast in mpeg-4 - a much better compression technology - which will potentially allow for high-definition ( hd ) subscription services in the future . tnt expects between 700 000 and one million dtt set-top boxes to be sold in 2005. it is difficult to tell how quickly it will take off said mr gerolami but we re optimistic that it will revolutionise television in france . other analysts were less optimistic predicting consumers would now be less likely to sign up for pay-tv subscriptions . we think free dtt could put brakes on the underlying growth of pay-tv in france said henri de bodinat vice-president of the arthur d. little consultancy .', 'gallery unveils interactive tree a christmas tree that can receive text messages has been unveiled at london s tate britain art gallery . the spruce has an antenna which can receive bluetooth texts sent by visitors to the tate . the messages will be unwrapped by sculptor richard wentworth who is responsible for decorating the tree with broken plates and light bulbs . it is the 17th year that the gallery has invited an artist to dress their christmas tree . artists who have decorated the tate tree in previous years include tracey emin in 2002. the plain green norway spruce is displayed in the gallery s foyer . its light bulb adornments are dimmed ordinary domestic ones joined together with string . the plates decorating the branches will be auctioned off for the children s charity artworks . wentworth worked as an assistant to sculptor henry moore in the late 1960s . his reputation as a sculptor grew in the 1980s while he has been one of the most influential teachers during the last two decades . wentworth is also known for his photography of mundane everyday subjects such as a cigarette packet jammed under the wonky leg of a table .', 'blair says uk tsunami aid to soar tony blair has predicted the british government will eventually give hundreds of millions of pounds in aid to countries hit by the tsunami . the prime minister was speaking publicly for the first time since returning from his holiday in egypt . mr blair insisted he had been intimately involved in all decisions at all times despite being abroad . he was speaking before the uk joins a three-minute silence at noon across the eu for the estimated 150 000 dead . the foreign office says 41 britons are now confirmed to have died in the tsunami which struck south asia on boxing day with 158 others missing . asked about criticism that he did not cut short his holiday mr blair told bbc radio 4 s today programme : i don t think this is a situation in which the british people need me to articulate what they feel . i think they feel - as we all do - shock horror and absolute solidarity with those people who have lost their lives . the important thing was action and not words he said adding that of the £50m given by the government so far only six or seven million had been spent . it would become easier in the coming weeks to assess just how much money would have to be put in . my estimate is we will need to spend from government several hundred million pounds . so we will far and away more than match the generosity of the british people he said . asked whether he had not returned to work immediately because he was under doctors orders to rest mr blair said there was also a story he had been away for plastic surgery . as you can see unfortunately i am still looking the same as i always did he joked . the prime minister took personal charge of the uk s response on tuesday chairing a meeting of the emergency committee of ministers that has convened daily since boxing day . he also spoke on the telephone to us president george bush and the presidents of sri lanka and indonesia . chancellor gordon brown earlier backed a plan to freeze the foreign debts of all the affected nations . mr brown who was not at the downing street meeting says he has been in intensive talks with other g8 finance ministers . germany proposed a freeze last week and canada has begun its own moratorium . the chancellor said the plan would initially save the most affected countries about $ 3bn ( £1.58bn ) in repayments . tory leader michael howard also backed the proposals but said ministers had been playing catch-up with public donations . foreign secretary jack straw is to visit thailand and indonesia this week . during his trip mr straw will represent the g8 at the international conference called in jakarta indonesia on thursday . on friday he will visit the thai beach resort of phuket where british families are still searching for relatives . international development secretary hilary benn will also visit aceh in indonesia as well as sri lanka . the british public has now pledged £76m in aid with emergency supplies from the british government starting to arrive in the region on three raf flights in a joint operation with scandinavian countries . two ships - the royal fleet auxiliary ship diligence and frigate hms chatham - have arrived in the disaster area . a second royal fleet auxiliary vessel the bayleaf is also being sent . uk charities have also begun chartering planes to deliver aid . - a bbc news special : asia remembered including the three-minutes silence will be shown on bbc one and bbc news 24 from 1130 to 1215 gmt on wednesday .', 'uk directors guild nominees named martin scorsese and clint eastwood are among the nominees for the top prize at the directors guild of great britain awards now in their second year . the oscar rivals will compete for the international film prize at the ceremony to be held at the curzon mayfair cinema in london on 20 march . other nominees include bill condon for kinsey and michel gondry for eternal sunshine of the spotless mind . mike leigh s vera drake is among the nominees for best british film . the awards will see eastwood and scorsese once again competing for the directing prize following last weekend s oscars . clint eastwood won best director for million dollar baby beating scorsese who was nominated for a fifth time for the howard hughes biopic the aviator . mike leigh will compete for the british film prize with shane meadows for dead man s shoes roger michell for enduring love and my summer of love director pawel pawlikowski . nominees for best foreign film include spain s pedro almodovar for bad education and hong kong director wong kar-wai for 2046. in the tv categories comedy series early doors and the alan clark diaries will compete for the best directing award for a 30-minute television show while the directors of shameless hustle and bodies are all nominated for the 60-minute television prize . the directors of omagh and sex traffic are among the nominees for a television movie or mini-series . american beauty s sam mendes will receive a lifetime achievement award for his work in film and theatre while theatre director simon mcburney will be given an award for outstanding directorial achievement .', 'lasting influence of legend charles ray charles who has won a string of posthumous grammy awards belonged to a pioneering generation of artists that had a huge influence on the course of rock and pop music . his sound encompassed so many styles - blues gospel jazz rock n roll even country - and had a real impact on the nascent uk beat and r & b scenes . compared in stature to elvis presley by some commentators charles songs cast their spell on such 1960s stalwarts as joe cocker steve winwood eric burdon and van morrison . his influence has extended to contemporary artists such as norah jones with whom he recently recorded a duet . if james brown was the godfather of soul then ray charles was indisputably one of its founding fathers . along with sam cooke he was instrumental in bringing together the gospel fervour of the deep south baptist church with the devil s music of r & b to pave the way for a new generation of soul artists . without charles it is hard to imagine the tear-stained atlantic r & b sound of aretha franklin otis redding or wilson pickett . he was also a talented jazz composer arranger and band leader playing at the newport jazz festival and carnegie hall and recording with noted jazz musicians such as milt jackson and david fathead newman . unfortunately he also shared another trait common among many jazz artists of the era - that of heroin addiction which led to him being arrested in 1965. his string of 1950s atlantic r & b successes included songs that would be covered by the first-generation rock n roll greats including i ve got a woman ( roy orbison elvis presley ) and hallelujah i love her so ( eddie cochran ) . after the exuberance of his 1959 signature song what d i say charles turned towards a more pop-oriented style recording hoagy carmichael s sentimental string ballad georgia on my mind and the upbeat hit the road jack . he also won acclaim in the country arena with his interpretations of hank williams standards such as your cheating heart and you win again . more than 40 years after its release his 1962 abc album modern sounds in country and western music is still regarded as a classic . his version of don gibson s i can t stop loving you topped the pop and r & b charts in the us . in 1972 he made a rare foray into protest songs with his album a message from the people . on it he took a stand on poverty and civil rights - echoing similar recordings of the era from progeny such as stevie wonder james brown curtis mayfield and marvin gaye . more than 20 years later he would embrace contemporary production with his 1993 album my world which featured hip-hop beats - although charles claimed at the time not to know what hip-hop was . among the tributes that poured in from all sections of the music world when charles died aged 73 in june 2004 was one from his friend the producer quincy jones who described him as a brother in every sense of the word . there will never be another musician who did as much to break down the perceived walls of musical genres as much as ray charles did he said . former manfred mann singer paul jones who sang on 1960s hits such as come tomorrow and sha la la said charles was one of his heroes . i m quite sure my own writing was influenced by him he told bbc news online . i would put money on the proposition that ray charles will have an influence on music forever .', 'sport betting rules in spotlight a group of mps and peers has called for a tightening of regulations controlling betting on sport . the parliamentary group on betting and gaming held a substantial inquiry into betting last year . it followed fears that a massive increase in betting on sport such as that done using the internet and mobile phones has led to more cheating . the all-party group recommended 15 ways to protect punters and improve the integrity of sports betting . they include a proposal for raising the maximum jail sentence for gambling cheats above the current two years . lord condon head of the international cricket council s anti-corruption unit who originally made the call for longer prison sentences said the two-year penalty was derisory . you could get a bigger sentence for failing to pay your hotel bill criminally than you could for corruption in major sports . symbolically a higher penalty perhaps as the bill passes through the two houses might be appropriate . the report recommended the governing bodies of sports have a say in the type of bets offered to punters and for bookmakers to set up audit trails - something the new betting exchanges already do - to allow suspicious betting patterns to be traced . lord faulkner of worcester who chaired the inquiry said : whilst we accept that the greater part of sports betting is neither corrupt nor unfair to punters the evidence convinces us that the growth of betting exchanges - because of the facility they provide to bet against a result - has increased the potential for corruption . it is important that the government works with sporting administrators to review the difficulties faced by governing bodies in convicting the guilty and penalising them appropriately . the panel s aim was to try to define what constitutes cheating assess how much might be going on and suggest what the government might do to put it right . as well as the growth of internet and mobile phone betting there has been the creation of betting exchanges which allow punters to fix odds between themselves . betting exchanges allow punters to back ( to win ) but also lay ( to lose ) a horse . this means they can control their odds at winning by placing their money both ways .', 'uk pledges £1bn to vaccine effort uk chancellor gordon brown has offered £960m ( $ 1.8bn ) over 15 years to an international scheme aiming to boost vaccination and immunisation schemes . in a speech he called for action to reach the 2000 millennium declaration goals of halving global poverty and tackling child mortality rates . mr brown has just returned from a tour of african nations . the £1bn commitment is part of a five-point plan on debt relief trade aid education and health . the chancellor was speaking at an event jointly organised by the uk s department for international development and the un development programme on wednesday . mr brown welcomed news that the bill gates foundation and norway are joining up to put an extra £0.53bn ( $ 1bn ) into the global alliance for vaccines and immunisation ( gavi ) . britain france gavi and the gates foundation have drawn up proposals to apply the principles of the international finance facility ( iff ) to the area of immunisation . that could see donors making long-term legally binding financial commitments which can then be used as collateral for raising extra funds from international capital markets . as well as pledging £960m over 15 years to the immunisation iff britain urged other donors to contribute . if gavi could increase its funding for immunisation by an extra £4bn ( $ 7.4bn ) over 10 years then an extra five million lives could have been saved by 2015 and five million thereafter mr brown argued . campaign groups including friends of the earth the world development movement and war on want said uk government policy on free trade was a major barrier to fighting poverty . war on want s john hilary said : compassionate rhetoric can not disguise the reality of the government s neo-liberal policies . as long as mr blair and mr brown continue to push free trade and privatisation on developing countries more and more people will be pushed deeper into poverty not lifted out of it .', 'kenyon denies robben barca return chelsea chief executive peter kenyon has played down reports that arjen robben will return for the champions league match against barcelona . he s been responding well to treatment and started running on friday but we ll have to wait and see he told bbc five live s sportsweek . we re looking to getting him back as soon as possible but he ll be back when it s right for him and for us . there s no plans at the moment around the barcelona game . his comments contradict those of chiropractor jean pierre meersseman who treated the dutchman after he fractured his foot at the start of february . robben had been expected to be out for six weeks but meersseman hinted that the winger could be fit for the vital stamford bridge game on 8 march . i hope he can be back and i will try to help him make that happen meersseman told the mail on sunday . i put everything right with arjen s foot the last time i saw him 12 days ago . it was an obvious correction and easy to perform . i know he was pleased with what i did and now that he is running again . i am due to see him one more time again in the next few days . meersseman is the medical co-ordinator at italian side ac milan .', 'imf cuts german growth estimate the international monetary fund is to cut its 2005 growth forecast for the german economy from 1.8 % to 0.8 % the financial times deutschland reported . the imf will also reduce its growth estimate for the 12-member eurozone economy from 2.2 % to 1.6 % the newspaper reported . the german economy has been faltering with unemployment levels rising to a seventy-year high of 5.2 million . its sluggish performance continues to hamper the entire eurozone . the imf s draft world economic outlook - due to be published in april - would point to a marked deterioration in germany s economy the ft report said . in september the imf had said that german growth for the current year would be 1.8 % . the imf has also revised eurozone forecasts the paper said taking into account high oil prices the strength of the euro and weak demand in many of the world s leading economies . europe s economic difficulties have been highlighted by the organisation for economic co-operation and development which argued in a report published on tuesday that the continent could only achieve us living standards by freeing up its labour markets . the eurozone does not look like it has a self-sustaining recovery james carrick an economist with abn amro told the newspaper . it is too dependant on the rest of the world .', 'queen recruit singer for new tour the remaining members of rock band queen are to go on tour next year with former free and bad company singer paul rodgers taking freddie mercury s place . guitarist brian may has said he expects to be on the road with rodgers and drummer roger taylor from april . may said : suddenly the queen phoenix is rising again from the ashes and will take precedence over ... our lives . queen have played with many different singers since mercury s death in 1991 but have reportedly not toured . may performed with rodgers at a concert to celebrate the 50th anniversary of the fender stratocaster guitar in london in september . we were both so amazed at the chemistry that was going on in [ free hit ] all right now that suddenly it seems blindingly obvious that there was something happening here may wrote on his website . they teamed up again for a concert to mark their induction into the uk music hall of fame and were joined by taylor . the show went so incredibly well from our point of view and we got so many rave reactions from out there we decided almost then and there that we would look at a tour together may wrote . queen went to number one in 2000 with a version of we will rock you sung by boy band 5ive and they have also played with robbie williams will young and bob geldof . queen bassist john deacon has currently retired from the stage . rodgers was singer with early 1970s rockers free who had a global hit with all right now before forming bad company a successful supergroup with members of king crimson and mott the hoople . he has also been in the firm with led zeppelin s jimmy page and the law with the small faces and the who drummer kenny jones .', 'bryan twins keep us hopes alive the united states kept the davis cup final alive with victory in saturday s doubles rubber leaving spain 2-1 ahead going into the final day . masters cup champions mike and bob bryan thrashed juan carlos ferrero and tommy robredo 6-0 6-3 6-2 in front of a partisan crowd in seville . victory would have given spain the title but they were outclassed . in sunday s reverse singles carlos moya takes on andy roddick before rafael nadal faces mardy fish . it feels good but it s not going to be as good if we don t win two tomorrow said mike bryan . it feels good to give those guys another shot and spain has to go to sleep on that . bob bryan added : i m really confident in andy winning that first match and then anything can happen . spain coach jordi arrese chose to rest 18-year-old nadal in the doubles after his epic singles win over roddick on friday . he was replaced by former world number one ferrero but the spanish pair were out of their depth against one of the world s best doubles teams . the 26-year-old bryan twins have won all four of their davis cup matches this year . and they quickly silenced the huge crowd at the olympic stadium racing through the opening set to love . the spaniards then twice surrendered breaks of serve at the start of the second before the bryans broke to go 5-3 ahead and served out . when robredo dropped serve in the opening game of the third set the match was all but over and the unflappable bryan brothers powered on to an impressive win . ferrero who was upset to be dropped for friday s singles hinted at further dissatisfaction after the defeat . it was a difficult game against the best doubles players he said . they have everything calculated and we had very little to do . i was a bit surprised that i was named to play the doubles match because i hardly play doubles . arrese said : juan carlos hasn t played at all badly . he played the right way but the bryans are great doubles players .', 'career honour for actor dicaprio actor leonardo dicaprio s exceptional career has been honoured at the santa barbara international film festival . the star was presented with the award by martin scorsese who directed him in oscar-nominated movie the aviator . it s a lifetime achievement award which is completely and utterly surreal given i m only 30 years old dicaprio said . but what has it been almost 17 years now . i ve done quite a few films . a retrospective of his movies was shown . what s really exciting for me is that this is what i really love doing he added . it s what i want to do for the rest of my life . dicaprio began his movie career in horror film critters 3 before moving onto roles in the basketball diaries romeo and juliet titanic and gangs of new york . the achievement award was created to commemorate the california festival s 20th anniversary and coincided with dicaprio s portrayal of millionaire howard hughes in the aviator . veteran actress jane russell who starred in hughes 1943 film the outlaw said was impressed by dicaprio s quest for authenticity when he previously discussed the role with her . i was very happy that ( dicaprio ) came and cared to come up and find out what ( hughes ) was really like she said . the aviator has taken pole position in this year s oscars race with 11 nominations including nominations for best film best actor for dicaprio and best director for scorsese .', 'godzilla gets hollywood fame star movie monster godzilla has received a star on hollywood s walk of fame honouring both his 50th birthday and the launch of his 28th film . an actor dressed as the giant creature breathed smoke over photographers on monday as godzilla received the 2 271st star on hollywood boulevard . godzilla should thank you for this historical and monumental star said final wars producer shogo tomiyama . but unfortunately he can not speak english he added . hollywood s honorary mayor johnny grant said : i do hereby proclaim this godzilla day in hollywood . he s loose he s wild and i m getting the hell out of here he added . the premiere of godzilla : final wars at grauman s chinese theatre followed the ceremony on hollywood boulevard . the monster was joined by co-stars including japanese pop star and actor masahiro matsuoka . director ryuhei kitamura said it may not be godzilla s final outing as it has been billed . that s what the producers say . but the producer s a liar he said . [ godzilla s ] been working for the last 50 years . so i think godzilla just deserves a vacation . and producer shogo tomiyama added : so long as godzilla can fascinate people i believe he will be resurrected by new generations of filmmakers in the future . godzilla first appeared in 1954 as a prehistoric lizard woken by atomic bomb tests .', 'the gaming world in 2005 if you have finished doom 3 half life 2 and halo 2 don t worry . there s a host of gaming gems set for release in 2005. world of warcraft the us reception to this game from developers blizzard has been hugely enthusiastic with the title topping its competitors in the area of life-eating high-fantasy massively multiplayer role-player gaming . solid diverse accessible and visually striking it may well open up the genre like never before . if nothing else it will develop a vast and loyal community . released 25 february on pc . ico 2 ( working title ) ico remains a benchmark for ps2 gaming a title that took players into a uniquely atmospheric and artistic world of adventure . the ( spiritual ) sequel has visuals that echo those of the original but promises to expand the ico world with hero wanda taking on a series of giants . the other known working title is wanda and colossus . release date to be confirmed on ps2 . the legend of zelda the charismatic cel imagery has been scrapped in favour of a dark detailed aesthetic ( realism isn t quite the right word ) that connects more with ocarina of time . link resumes his more teenage incarnation too though enemies elements and moves look familiar from the impressive trailer that has been released . horseback adventuring across a vast land is promised . release date to be confirmed on gamecube . advance wars ds the uk nintendo ds launch line-up is still to be confirmed at time of writing but titles that exploit its two-screen and touch capacity like warioware touched ! and sega s feel the magic are making a strong impression in other territories . personally i can t wait for the latest advance wars the franchise that has been the icing on the cake of nintendo handheld gaming during the past few years . release date to be confirmed on ds . s.t.a.l.k.e.r . following in the high-spec footsteps of far cry and half-life 2 this looks like the key upcoming pc first-person shooter ( with role-playing elements ) . the fact that it is inspired in part by andrei tarkovsky s enigmatic 1979 masterpiece stalker and set in 2012 in the disaster zone a world of decay and mutation makes it all the more intriguing . released 1 march on pc . metal gear solid : snake eater more hideo kojima serious stealth featuring action in the soviet-controlled jungle in 1964. the game see snake having to survive on his wits in the jungle including eating wildlife . once again expect cinematic cut scenes and polished production values . released march on ps2 . dead or alive ultimate tecmo s team ninja are back with retooled and revamped versions of dead or alive 1 and 2. here s the big big deal though - they re playable over xbox live . released 11 march on xbox . knights of the old republic ii looks set to build on the acclaimed original star wars role playing game with new characters new force powers and a new set of moral decisions despite a different developer . released 11 february on xbox and pc .', 'labour mps fears over squabbling if there is one thing certain to stiffen the spines of labour mps it is the prospect of losing their seats at a general election . and it was largely that fear that led to tony blair and gordon brown being read the riot act during a meeting of the parliamentary labour party . the views expressed by both backbenchers and labour peers over the claimed squabbling between the two men starkly demonstrated the widely-held view within the labour party that the two most powerful figures in the government are jeopardising the next election . as one hugely-disgruntled backbencher said before the meeting : it is time they realised it s not just my seat they are threatening but if they go on like this they could put the election in doubt . it is a sentiment that is now running throughout the labour benches with mps eager to underline the message to their leaders to stop the squabbling and get on with the job at hand . as paul flynn said : what has deeply upset the party is in this time of all times when we wanted to come together we wanted to lead on the global issues to change politics for the next decade the whole thing was wrecked by a piece of childishness by the two main people in the party two people we greatly respect . stephen pound echoed the message saying : we know that the one thing that could entirely jeopardise what we are trying to achieve not for the labour party but for this country is the appearance of division . we remember the 1980s . they backed the suggestion that unless the squabbling stopped the people briefing on behalf of the two men would be named and shamed . the dressing down appears to have done the trick with mr brown joining his alleged rival alan milburn - who the prime minister put in charge of election planning in mr brown s stead - and deputy prime minister john prescott at an election poster launch . but the effect of all this is to have achieved two things . firstly nobody is attempting to suggest any more that the stories of the rift between the chancellor and the prime minister are fictions created by the media and authors . even mr prescott admitted that had he still been a backbencher he would have been giving mr blair and mr brown the same message . secondly it has also underlined the view that the election campaign has to all intents and purposes kicked off . but whether the telling off and the subsequent change in behaviour by the two men will do any good - or can even be sustained through the campaign - remains to be seen . even as the mps were expressing their fears it emerged that while mr brown is in africa for a week the prime minister is to deliver a keynote speech on election themes for a third term . and he is expected to repeat his recent insistence that the next manifesto will be new labour through and through . similarly some were pointing out that the chancellor during the election poster launch once again refused to deny the claim that he told the prime minister he could never trust anything he said . none the less what some believe now is that the effect of the warnings from the backbenchers will actually be to silence the brown camp effectively strengthening the prime minister s hand . for example will those brownite briefers suggest their man is unhappy at the prime minister s timing or subject matter as may have been the case in the past what all seem agreed on however is that this sniping simply can not be allowed to go on through the election campaign . mind you we have heard similar pledges before .', 'no uk premiere for rings musical the producers behind the lord of the rings musical have abandoned plans to premiere the show in london because no suitable theatre was available . the £11.5m show will make its debut in toronto in march 2006 after it was found that all three west end theatres with sufficient capacity were booked . the musical is not expected in london before december 2006. producer kevin wallace said it would be worth waiting for . it will be like nothing they have ever seen before . i know there will be a lot of disappointed british tolkien fans who hoped to see the show in london but we couldn t get a london theatre in time added the british producer . the world premiere of the stage musical co-produced by canadian theatrical impresarios david and ed mirvish will take place at toronto s princess of wales theatre next year . toronto really wanted this premiere . the tolkien books and films are hugely popular in canada said mr wallace shortly after signing the deal in canada . we hope the anticipation and excitement over here will create an even bigger buzz by the time we open in london . auditions begin in canada on thursday but up to five british actors may join the cast under a deal struck with canadian actors equity . the music for the show is being written by bollywood composer ar rahman who was behind andrew lloyd webber s west end musical bollywood dreams and in conjuction with the finnish group varttina . there will be no singing and dancing hobbits . the music will be in a very traditional mould and draw on ethnic traditions assured mr wallace . the musical s british director is matthew warchus best known for staging the worldwide stage hit art . the production will be a hybrid of text physical theatre music and spectacle never previously seen on this scale he said . only in the theatre are we actually plunged into the events as they happen . the environment surrounds us and we are in middle earth . new zealander peter jackson took 10 years to bring jrr tolkien s fantasy trilogy to the big screen winning academy awards for best film and best director for the final film the return of the king in 2004 .', 'martinez sees off vinci challenge veteran spaniard conchita martinez came from a set down to beat italian roberta vinci at the qatar open in doha . the 1994 wimbledon champion won 5-7 6-0 6-2 to earn a second round meeting with french open champion anastasia myskina . fifth seed patty schnyder also had a battle as she needed three sets to beat china s na li 7-5 3-6 7-5. slovakian daniela hantuchova beat bulgarian magdaleena maleeva 4-6 6-4 6-3 to set up a second round clash with russian elena bovina . the veteran martinez found herself in trouble early on against vinci with the italian clinching the set thanks to breaks in the third and 11th games . but vinci s game fell to pieces after that and martinez swept her aside with some crisp cross-court returns and deft volleys . in the day s other matches japan s ai sugiyama defeated australian samantha stosur 6-2 6-3 while australian nicole pratt beat tunisian selima sfar 7-5 6-2 and will next face compatriot alicia molik .', 'scissor sisters triumph at brits us band scissor sisters led the winners at the uk music industry s brit awards walking off with three prizes . the flamboyant act scored a hat-trick in the international categories winning the best group best album and best newcomer awards . glasgow group franz ferdinand won two prizes as did keane and joss stone who was voted best urban act by digital tv viewers . robbie williams angels was named the best song of the past 25 years . scissor sisters frontwoman ana matronic collected the best international album prize from singer siouxsie sioux . she told the audience : if you told us a year ago we would be getting these awards today we would have called you crazy . you guys made our dream come true . the band - whose self-titled lp was 2004 s biggest-selling album - thanked all the members of the sisterhood adding : we wouldn t be here without you . the us band who opened the show with take your mama won the best international act and newcomer awards as well as best international album . franz ferdinand who were shortlisted in five categories won best rock act and best british group an award they dedicated to late dj john peel . but they missed out on best british live act which went to muse . keane won best british album and breakthrough act . will young won the best single prize for your game . mcfly won the best pop act prize and gwen stefani picked up the best international female artist award . eminem won the male prize . best british male artist winner mike skinner - aka the streets - does not usually attend award ceremonies but the birmingham hip-hop artist performed his hit dry your eyes at the ceremony . however he did not collect his prize . a bandmate informed the crowd skinner was in the toilet . after beating amy winehouse jamelia natasha bedingfield and pj harvey to the best british female prize joss stone said : i don t know what to say . i don t like doing this at all . i d like to thank my family for being really supportive and everybody that made my record with me . i don t even know what to do right now . thank you all you guys for voting for me i feel sick right now . viewers of digital music tv channel mtv base voted stone the winner in the best urban act category . little britain comedy duo matt lucas and david walliams presented the best song prize to robbie williams dressed as his former take that colleagues gary barlow and howard donald leading him to quip he was always the talented man of the band . williams track beat songs by will young queen kate bush and joy division in a vote by bbc radio 2 listeners to mark 25 years of the uk music industry ceremony . it is his 15th brit award having already received 10 solo awards and four with take that . he told the audience : i m just amazed that my career keeps going . keane frontman tom chaplin thanked fans for enduring rubbish gigs after they won the british breakthrough act prize . he added : a lot of people don t think it s cool that we ve had the guts to be ourselves but it s a vital part of who we are as a band and receiving this is recognition of that . natasha bedingfield - in the running for best british female and best pop act - performed with her brother daniel for the first time at wednesday s event . the chart-topping siblings duetted on the chaka khan hit ain t nobody . meanwhile joss stone performed right to be wrong backed by a gospel choir while lemar and jamelia performed the robert palmer track addicted to love . bob geldof won a prize for his outstanding contribution to music . of the 15 brit awards for achievements in 2004 10 were won by artists tipped in the bbc news website s sound of 2004 list of artists to watch published at the start of last year . scissor sisters franz ferdinand keane joss stone and mcfly were all in the sound of 2004 top 10. the other five brits winners were already established before sound of 2004 was compiled . the ceremony will be televised on itv1 on thursday . i m speechless . best song of the last 25 years yeah right . i very much doubt that angels was even the best song of the week that it came out . like every track robbie has released as a single it s a blatant but poor facsimile of something that someone else has done better before . give us a break ... ! ! ! best song in 25 years you must be joking . its good if you like that sort of thing but really ! listened to angels on radio 1 this morning when i was driving into work . had not heard it for a while . i love robs voice the lyrics and tune . perfection ! as usual the public have short memories when it comes to voting for the greatest . there must be more than a dozen songs in the last 25 years that deserve this award more . it s not exactly groundbreaking . presumably the age range that could be bothered to vote is is pretty low ... i m actually embarrassed to be british if that is the best song we have produced in the last 25 years ! ! what about the specials - ghost town the buzzcocks - ever fallen in love with someone ... happy mondays - kinky afro mcalmont & butler - yes joy division - love will tear us apart ... angels is middle-of-the-road rubbish . angels is a awful piece of sentimental claptrap . it s musically and lyrically inept ; and fantastically overrated a bit like mr williams himself . this result isn t very surprising though the brits has a long history of celebrating rubbish music ! best of the last 25 years maybe . cunning to make the timescale not include stairway to heaven or bohemian rhapsody but it does kind of make it a bit of a hollow award really . not much competition in the last 25 years after all . it s alright for a pop song - but the best song of the last 25 years there is no way on earth that song should have been voted the best of the last 25 years .... it s a travesty . rubbish ! who voted it for it to be included in any list i am a regular listener to radio 2 but i don t recall the invitation to vote for this bland slushy rubbish which might appeal to the masses who wouldn t know a good song if it jumped up and bit them on the nose but is certainly not the best song of the last 25 years . how depressing and just when we thought manufactured pop was on the way out - where on earth did this dreadful list appear from while i am biassed in that i thought love will tear us apart should have won in all seriousness i think that the best song of the last 25 years should not include songs less than 5 years old as that would exclude songs which are popular because of novelty . then again well done robbie good show . you ve got to be kidding . angels is a great song but not the best song of the last 25 years . only the best song to be up for nomination at the brits . i think angels is a great song and deserved to be in the run up for this award but i don t think its the best song from the past 25 years ! right enough it is better than some of the others in this catergory for example what was will young doing being nominated in the first place - he is alright but the song isn t that good ! i m happy for robbie himself though ! best song in the last 25 years what a joke ! think of all the great rock and pop songs released in the 80s and pretty much all of them are better than angels . phil collins doesn t deserve awards for all the good songs he wrote angels is an overrated song that got tiresome even before you had finished listening to it . soppy rubbish at best . hopefully manufactured rubbish will die down soon and let the real artists who worked hard for there glory receive awards . so boringly obvious and typical of the bland nature of mainstream music in britain today for me it s proof that music and democracy just don t mix . still at least it wasn t will young ... oh it s all just a bit of fun . people take these awards too seriously ! robbie has millions of loyal fans while even non-fans know the words to angels . him winning obviously reflects who votes in these awards . personally i wanted will young to win but that was not really due to his musical talent ! i hate the song all it brings back is memories of school discos and no-one to slow-dance with ! i agree about angels . i never get fed up hearing it . whenever the song comes on the radio i turn the radio up smile and sing along ( very badly that is why the radio has to be turned up to drown my voice out ) . the song makes me calm and serene and happy . well done robbie . i think that although robbie williams is a good performer that angels isn t really that good a song . it certainly isn t anywhere near as good as love will tear us apart by joy division or wuthering heights by kate bush . angels is a fantastic song . all credit to robbie williams and guy chambers . it s a song that will be played forever and bridges all age groups . robbie did in no way deserve that mantle . whenever we have these awards it is always artists from the past five years that seem to win the best of the best ... we forget about the late 80s and early 90s for example . they weren t cool at the time but because they are cool again now shows that the songs have greater longevity than people think . yes angels is the best song since the past 25 years because it touches the soul as it carries a lot of meaning . i ve always disliked angels intensely . i believe it to be symbolic of the general capacity of british pre-teens teens and middle aged women to accept low quality/ low aspirational music as classic songwriting . it s orrible . it seems obvious to me that people who like robbie are people who don t particularly like music all that much . folks without collections ; folks who have never engaged in that madness one experiences when falling under the spell of pop music . angels adds nothing - it is merely an irritating distraction - a wasp that refuses to go away on a summer s afternoon picnic . what a dreadful result . if you voted for it - you should feel ashamed of yourself - you probably only know a dozen songs or so don t you - so where do get off applying this uninformed filter and casting this ridiculous vote . booo hisss angels best song you are kidding right last five years i might be willing to accept but 25 no way . did whoever voted for this actually have any music knowledge prior to say 1995 really quite insulting to the british music industry of the past quarter of a century . no surprise about robbie williams considering the list . where on earth did the nominations list come from compiled by an eleven year-old girl perhaps i mean will young come on . what a load of crap best song in the last 25 years - i don t think so ! ! what about all the real artists out there over the last 25 years - the list is endless but robbie williams doesn t even come close . what a joke . that song has become such a bane to me that i have developed a pavlovian response to the word angels where i thrash around and scream no no no no no until someone tells me the radio s off . why a half-baked cheesy ditty like angels which has become the anthem for millions of romantic sops ( think how many times it was sung on pop idol for example and by whom ) should be voted the best song of the past 25 years is beyond me . if this is the song against which all others are judged then musicians may as well give up . why do we reward mediocrity so highly in this country the initial list was very weak anyway but angels the best song of the last 25 years ! ! ! ! i think not i didn t realize radio 2 had so many listeners under the age of 10 ! ! people have such short memories ! a great song yes but the best of the last 25 years not a chance . i think the person as opposed to the song has been voted for here . the great british public at work again . it s a mediocre sentimental and safe song . granted it s not too bad either . but can it stand up against anything by the smiths ( in particular how soon is now ) or anything from the stone roses first album nope . no because i m not female and i m not 10 ! ok i like robbie and angels is a decent song . but it is no way the best song of the past 25 years ! the shortlist wasn t great but him winning it is a joke ! predictable and laughable . the success of angels at this years brits reflects poorly on the state of british music over the last 25 years . the british public are brainwashed by the corporate pulp that is presneted to them as cutting edge music and true talent is being sadly missed . whilst angels is a popular song it is not even the best song in robbie s repertoire never mind best song of the last 25 years . i am a huge robbie fan and love that song . but i think there are a lot more outstanding songs / music out there that influenced music today unfortunately they were left out of the list . have radio 2 listeners even heard of joy division a band who through two albums have had a bigger impact on music and continue to do so over the last 25 years than robbie williams ever will . no doubt about it . there s not a song done by anyone with more emotion and feeling . some people will adopt their slightly snobby stances but angels has hit home with a far larger audience than any other song . it should have been joy division.those guys have played an influential part in shaping modern day music while angels remains yet another pop song . i sincerely do not believe that in 25 years from now the most influential artists will argue that robbie williams inspired their art in the way that the byrds the beatles and nick drake have done for music today . yes ! ! i think its a brilliantly written song with different meanings to different people . there were other great songs in the category ... but somebody had to win ! robbie was a deserved winner . i am astounded that such a second-rate record has beaten such a line up of amazing songs ! it s a terrible song voted for by the masses who don t have the brains to appreciate innovative and exciting music . the best song of the past 25 years really come on this is surely a joke no i think i need a long lie down ... it just goes to show that the british public do not have a clue about good quality music when they pick robbie williams over the beautifully talented kate bush and joy division . i suppose it s confirmed one thing - the british public are consistently dull : - & lt ; ( no offence robbie but pleeease ! there must be a thousand better songs than a formulated cheesy pop song for kids . no one agrees with this and quite frankly it is an embarassment to the integrity of british music and a further nail in the coffin ! i think robbie deserves it he has been the most iconic of any stars we have had in britain since john lennon and is an idol to millions worldwide . anybody who says he doesn t deserve it is jealous of his success . the only real challenger was queen but hey another one bites the dust ! ! obviously all the karaoke singers in the uk voted for it . if this is the best song of the last 25 years then the british music industry is in trouble . sure robbie is talented and produces excellent material but this is not the best record . a sad day for music it s not the type of music i normally like but even as a diehard rock fan i recognise that it is a good song and appelas to most people . that s why it has been voted best song of the last 25 years . it s a good all-rounder . just like robbie . best song in 25 years since 1980 i m confused . angels isn t a bad song . it s a nice catchy formulaic anthem that ticks all the boxes . but this is not great music . if anything it s regressive . bland even . i suppose it s just more evidence of how redundant the brit awards have become . granted angels is a good song however it really wasn t up against any other proper competition . the queen s song was lackluster and apart from kate bush the other choices were pathetic ! also why weren t the stones there david bowie etc there are so many greater songs than angels ... i wonder if it was simply the fact that robbie wasn t getting more awards so they had to make one up for him ! best song of the last 25 years what a ridiculuous concept and an even more ridiculous winner . sigh . on the upside at least it wasn t bohemian rhapsody for which we should all be thankful . angels is without doubt a great song but i really don t think it deserves the title of best song in 25 years.perhaps the vote had more to do with teenage opinion on robbies goodlooks than the actual song ! ! ! don t get me wrong i m not disputing his looks but there are more deserved winners . it would have been a travesty had angels not won . without angels robbie williams may well not be where he is now and britain would have been deprived of one of its most charismatic and talented performing artists . it has to be seen performed live with 125 000 people singing along to be fully appreciated . well done rob . i find it hard to believe that angels is the best we have to show for the past 25 years ! i m rapidly redifining best in my own head now to mean most gratuitously played at weddings and funerals because people think it has deep meaning . what about britpop blur oasis suede pulp ... not only making fantastic songs but also making changes doing something different . why must best always come down to most commercially popular i ve nothing against robbie i actually like his music but how can this possibly be the best song from the last 25year the brits has proved to be nothing more than a bargaining tool between the pop moguls to boost band profiles and record sales . the same goes with the scissor sisters i think this is a superb record and thoroughly deserves the newcomer award but the album comes no where near u2 s new record neither are they in the same league . once again there have been some baffling discisions made they are not for artisic reasons but for profit . no surprise really it s voted for by the general public . since when did they have taste in music personally i find angels by robbie williams to be one of the most irritating songs i have ever heard ! it absolutely deserved to win . it is a song that has united the generations and will continue to be played for many years to come . it s an absolute joke however most of the original 25 were very poor choices as well . all in all a pretty pointless exercise ! the song is overplayed and oversentimental . out of the rather poor five choices that were left it should have gone to either joy division or queen . i suppose we should be thankful that it didn t end up in the hands of will young though . although it has nostalgia value there is no way it deserved to win . everybody knows the words to bohemian rhapsody nothing compares 2 u etc . much better songs and more timeless . give it to someone with real talent . although angels is a good song i think that anyone with the slightest musical taste will realise that this is not the best song of the last 25 years . this is just another example of record company manipulation to keep an artist in the public eye . why not give him an award for the greatest pair of trousers if that s all it means !', 'sluggish economy hits german jobs the number of people out of work in europe s largest economy has risen for the tenth straight month as growth remains stubbornly slow . german unemployment rose 7 000 in november to 4.464 million people or 10.8 % of the workforce . the seasonally adjusted rise showed a smaller rise than expected as government measures to encourage job creation began to take effect . but officials said stagnant growth was still stifling the job market . there are clear signs of a revival in domestic demand said frank-juergen weise head of the federal labour agency in a statement . but growth of 0.1 % ... in the third quarter is still insufficient to deliver positive momentum to the labour market . high oil prices and the soaring euro - which damages the competitiveness of exporters - were also having a negative effect he said . the brunt of the unemployment is still being felt in the eastern part of germany where the rate is 18.8 % . with unemployment stuck above 4 million for years the government of chancellor gerhard schroeder has put job creation at the top of the agenda . a controversial package of measures to shake up incentives to get back to work paid for by cutting some cherished benefits has sparked anger among some german workers . strikes in a number of industries notably among the country s iconic carmakers have demonstrated the displeasure - as well as fears about further job losses as outsourcing takes hold . among the new initiatives are the so-called one-euro jobs which top up unemployment benefit . the scheme s formal launch is january but hirings for these positions are already taking place and affecting the unemployment statistics economists said . the deterioration of the labour market does not come as a surprise said isabelle kronawitter at hypovereinsbank . job creation measures probably prevented a stronger increase in the seasonally adjusted numbers .', 'dollar hits new low versus euro the us dollar has continued its record-breaking slide and has tumbled to a new low against the euro . investors are betting that the european central bank ( ecb ) will not do anything to weaken the euro while the us is thought to favour a declining dollar . the us is struggling with a ballooning trade deficit and analysts said one of the easiest ways to fund it was by allowing a depreciation of the dollar . they have predicted that the dollar is likely to fall even further . the us currency was trading at $ 1.364 per euro at 1800 gmt on monday . this compares with $ 1.354 to the euro in late trading in new york on friday which was then a record low . the dollar has weakened sharply since september when it traded about $ 1.20 against the euro . it has lost 7 % this year while against the japanese yen it is down 3.2 % . traders said that thin trading levels had amplified monday s move . it s not going to take much to push [ the dollar ] one way or the other said grant wilson of mellon bank . liquidity - a measure of the number of parties willing to trade in the market - was about half that of a normal working day traders said .', 'abortion not a poll issue - blair tony blair does not believe abortion should be an election issue arguing it is a matter for individual conscience . the prime minister s spokesman set out mr blair s view after the top catholic in england and wales backed michael howard s stance on abortions . the tory leader supports a reduction in the legal limit from 24 weeks to 20 and has said current rules are tantamount to abortion on demand . the prime minister has made it clear he has no plans to the change the law . mr blair s spokesman said : the catholic church has a well-known position on this issue and it was one of many issues the cardinal mentioned and therefore it should be seen in that context . his words came as cardinal cormac murphy o connor the archbishop of westminster backed mr howard s stance and distanced himself from labour . in a statement he said abortion was a very key issue saying : the policy supported by mr howard is one that we would commend on the way to a full abandonment of abortion . cardinal o connor claimed labour had developed the notion that it was the natural party of catholics but he said : we are not going to suggest people support one particular party . the family planning association says a reduction would particularly affect young women who often seek help later . more than 180 000 women in england and wales had terminations last year of which fewer than 1 % were carried out between 22 and 24 weeks . in the cosmopolitan interview mr howard said : i believe abortion should be available to everyone but the law should be changed . in the past i voted for a restriction to 22 weeks and i would be prepared to go down to 20. all three main parties say the issue is one for each mp s conscience rather than one where there is a party-wide policy . mr howard stressed his views were his personal views . shadow home secretary david davis said he understood mr howard had been signalling that a conservative government would allow a commons vote on the issue . mr blair and liberal democrat leader charles kennedy also gave their views during interviews conducted as part of the magazine s high heeled vote campaign . mr blair who last year denied he planned to join his wife and four children in the catholic faith despite regularly taking communion said abortion was a difficult issue . however much i dislike the idea of abortion you should not criminalise a woman who in very difficult circumstances makes that choice . obviously there is a time beyond which you can t have an abortion and we have no plans to change that although the debate will continue . mr kennedy said he had previously voted for a 22-week limit but medical advances mean i don t know what i would do now . the roman catholic archbishop of cardiff the most reverend peter smith told bbc radio 4 s today programme that the church merely wanted people to reflect on issues in light of the gospel before voting . anne weyman chief executive of the family planning association asked : what is the benefit to women or to the potential child of forcing a woman to have a baby anti-abortion group the pro-life alliance congratulated mr howard on his new stance but said it did not go far enough .', 'more movies head to sony s psp movies open water and saw are among those to be made available for sony s psp games console . film studio lions gate entertainment has announced an initial list of 12 movies that will be on the umd format used by the handheld . the typical buyer of the machine [ is ] the core demographic to whom our films generally appeal said steve beeks president of lions gate . already available in japan the psp is released in the us on 24 march . spider-man 2 on umd will be given to the first million customers in the us . the punisher and house of the dead along with older titles such as total recall and rambo : first blood will be in the umd format with disks costing between $ 20 ( £10.40 ) to $ 30 ( £15.60 ) for new titles and $ 10 ( £5.20 ) to $ 20 for older films . when we first saw the machine and started talking to sony we immediately decided it was going to be a winner both from the gaming perspective and from the perspective of people watching movies on the go mr beeks said . the disks which are smaller than dvds only work in sony s psp and can hold up to 1.8gb of data . we actually believe people who buy the umd would not have bought it on dvd he said . there are people who will want umd because of the portability . maybe they re already taking the games with them out of the house and they re bigger gamers than they are movie watchers . four movies have already been announced for psp . they are : xxx hellboy resident evil : apocalypse and once upon a time in mexico .', 'text message record smashed again uk mobile owners continue to break records with their text messaging with latest figures showing that 26 billion texts were sent in total in 2004. the figures collected by the mobile data association ( mda ) showed that 2.4 billion were fired off in december alone the highest monthly total ever . that was 26 % more than in december 2003. the records even surpassed the mda s own predictions it said . every day 78 million messages are sent and there are no signs of a slow down . before december s bumper text record the previous highest monthly total was in october 2004 when 2.3 billion were sent . text messaging is set to smash more records in 2005 too said the mda with forecasts suggesting a total of 30 billion for the year . even though mobiles are becoming increasingly sophisticated with much more multimedia applications texting is still one of the most useful functions of mobiles . people are using sms to do much more too . booking cinema tickets text voting and news or sports text alerts are growing popular . mobile owners have also given the chance to donate to the disasters emergency committee s ( dec ) asian tsunami fund by texting donate to a simple short code number . looking further ahead in the year the mda s chairman mike short has predicted that more people will go online through their mobiles estimating 15 billion wap page impressions . handsets with gprs capability - an always on net connection - will rise to 75 % while 3g mobile ownership growing to five million by the end of 2005. these third generation mobiles offer a high-speed connection which means more data like video can be received on the phone . globally mobile phone sales passed 167 million in the third quarter of 2004 according to a recent report from analysts gartner . that was 26 % more than the previous year . it is predicted that there would be two billion handsets in use worldwide by the end of 2005 .', 'progress on new internet domains by early 2005 the net could have two new domain names . the .post and .travel net domains have been given preliminary approval by the net s administrative body . the names are just two of a total of 10 proposed domains that are being considered by the internet corporation for assigned names and numbers icann . the other proposed names include a domain for pornography asia mobile phones an anti-spam domain and one for the catalan language and culture . the .post domain is backed by the universal postal union that wants to use it as the online marker for every type of postal service and to help co-ordinate the e-commerce efforts of national post offices . the .travel domain would be used by hotels travel firms airlines tourism offices and would help such organisations distinguish themselves online . it is backed by a new york-based trade group called the travel partnership . icann said its early decision on the two domains was in response to the detailed technical and commercial information the organisations behind the names had submitted . despite this initial approval icann cautioned that there was no guarantee that the domains would actually go into service . at the same time icann is considering proposals for another eight domains . one that may not win approval is a proposal to set up a .xxx domain for pornographic websites . a similar proposal has been made many times in the past . but icann has been reluctant to approve it because of the difficulty of making pornographers sign up and use it . in 2000 icann approved seven other new domains that have had varying degrees of success . three of the new so-called top level domains were for specific industries or organisations such as .museum and .aero . others such as .info and .biz were intended to be more generic . in total there are in excess of 200 domain names and the majority of these are for nations . but domains that end in the .com suffix are by far the most numerous .', 'comeback show for friends star friends actress lisa kudrow is to play the lead role in a new series about a one-time sitcom star according to the hollywood reporter . thirteen episodes of comeback have been commissioned by cable channel hbo home of hits such as sex and the city . kudrow who played phoebe in friends co-wrote the pilot episode and will also act as executive producer . hbo has been looking for its next big comedy hit since sex and the city drew to a close in the us in february . comeback is the first 30-minute comedy series that the channel has picked up since the sex and the city drew to the end of its six-year-run . friends ended its 10-year run on the nbc network in may and attentions have turned to which projects its six individual stars would pursue . matt leblanc is starring in a friends spin-off sitcom charting joey s fortunes in los angeles as he pursues his acting career . jennifer aniston who was rachel in the long-running show has enjoyed a series of successful film appearances with further projects in the pipeline . courteney cox arquette ( monica ) has been working on a drama project along with husband david arquette for hbo called the rise and fall of taylor kennedy . matthew perry who played chandler has appeared on the west end stage and has a film the beginning of wisdom currently in production . and david schwimmer ( ross ) directed during his time on friends and has also worked on joey .', 'mirza shocks kuznetsova sania mirza continued her remarkable rise with victory over us open champion svetlana kuznetsova at the dubai championships on tuesday . the 18-year-old indian who is already a huge star in her home country won 6-4 6-2 in front of a delirious crowd . it was mirza s sixth straight victory following her first wta tournament win in hyderabad last month . earlier daniela hantuchova built on her improving form with a 7-6 6-2 win over sixth seed alicia molik . mirza needed attention to an ankle injury after the second game against kuznetsova . she quickly slipped 4-0 down but staged a dramatic comeback that thrilled the large indian contingent in the crowd . i really didn t expect that after my ankle turn said mirza . i played a great match and i think ( the crowd ) did it again . i knew that i had to play an all-round game and that s what happened . i did everything well but i wasn t missing the ball - i don t know how that happened . mirza plays silvia farina elia or jelena jankovic next . hantuchova has risen from 31 in the world at the turn of the year to number 22 having reached the quarter-finals and semi-finals at her last two events . it was such a tough first-round match and i am glad to come through said hantuchova . she was serving so well . i just decided to hang in there and keep fighting . the slovakian will meet elena likhovtseva in the second round after the russian struggled past tunisian wild card selima sfar 2-6 6-2 7-6. likhovtseva needed nine match points before seeing off sfar who got a point penalty for swearing in the third set . seventh seed nathalie dechy and elena bovina were among other first-round winners on tuesday .', 'greene sets sights on world title maurice greene aims to wipe out the pain of losing his olympic 100m title in athens by winning a fourth world championship crown this summer . he had to settle for bronze in greece behind fellow american justin gatlin and francis obikwelu of portugal . it really hurts to look at that medal . it was my mistake . i lost because of the things i did said greene who races in birmingham on friday . it s never going to happen again . my goal - i m going to win the worlds . greene crossed the line just 0.02 seconds behind gatlin who won in 9.87 seconds in one of the closest and fastest sprints of all time . but greene believes he lost the race and his title in the semi-finals . in my semi-final race i should have won the race but i was conserving energy . that s when francis obikwelu came up and i took third because i didn t know he was there . i believe that s what put me in lane seven in the final and while i was in lane seven i couldn t feel anything in the race . i just felt like i was running all alone . i believe if i was in the middle of the race i would have been able to react to people that came ahead of me . greene was also denied olympic gold in the 4x100m men s relay when he could not catch britain s mark lewis-francis on the final leg . the kansas star is set to go head-to-head with lewis-francis again at friday s norwich union grand prix . the pair contest the 60m the distance over which greene currently holds the world record of 6.39 seconds . he then has another indoor meeting in france before resuming training for the outdoor season and the task of recapturing his world title in helsinki in august . greene believes gatlin will again prove the biggest threat to his ambitions in finland . but he also admits he faces more than one rival for the world crown . there s always someone else coming . i think when i was coming up i would say there was me and ato ( boldon ) in the young crowd greene said . now you ve got about five or six young guys coming up at the same time .', 'blair labour s longest-serving pm tony blair has become the labour party s longest-serving prime minister . the 51-year-old premier has marked his 2 838th day in the post overtaking the combined length of harold wilson s two terms during the 1960s and 1970s . if mr blair wins the next election and fulfils his promise to serve a full third term he will surpass margaret thatcher s 11 years by the end of 2008. in 1997 mr blair became the youngest premier of the 20th century when he came to power at the age of 43. the last prime minister to be installed at a younger age was lord liverpool who was a year his junior in 1812. mr blair s other political firsts include becoming the first labour leader to win two successive full terms in power after the 2001 labour landslide . and the birth of the blairs fourth child leo on 20 may 2000 was the first child born to a serving prime minister in more than 150 years . the last downing street dad was lord john russell in 1848. labour won a huge majority of 167 over the conservatives in 2001 but mr blair has since been criticised by many in his own party . the war in iraq and reforms of the health service and education system have provoked dissent from backbenchers . gordon brown chancellor of the exchequer under mr blair became britain s longest-serving chancellor of modern times in 2004. former labour leader lord kinnock said the chancellor would be best placed to take over from mr blair . when asked about the future leadership of the party he told itv wales waterfront programme : that contest is a long way away and it will occur only when the prime minister tony blair decides he s subscribed all he can and then wants to go . i think that the main contender will be gordon brown who is a man of virtually unmatched capability and now great experience . both mr brown and mr blair rose to prominence when lord kinnock led labour between 1983 and 1992 .', 'indy buys into india paper irish publishing group independent news & media is buying up a 26 % stake in indian newspaper company jagran in a deal worth 25m euros ( $ 34.1m ) . jagran publishes india s top-selling daily newspaper the hindi-language dainik jagran which has been in circulation for 62 years . news of the deal came as the group announced that its results would meet market forecasts . the company reported strong revenue growth across all its major markets . group advertising revenues were up over 10 % year-on-year the group said with overall circulation revenues are expected to increase almost 10 % year-on-year . this was helped by the positive impact of compact newspaper editions in ireland and the uk it said . 2004 has proven to be an important year for independent news & media said chief executive sir anthony o reilly . our simple aim at independent is to be the low cost producer in every region in which we operate . i am confident that we will show a meaningful increase in earnings for 2005. meanwhile the group made no comment about the future of the independent newspaper despite recent speculation that sir anthony had held talks with potential buyers over a stake in the daily publication . he has consistently denied suggestions that the independent and the independent on sunday are up for sale . buy it is understood that the recent success of the smaller edition of the independent which has pushed circulation up by 20 % to 260 000 has prompted interest from industry rivals with daily mail & general trust tipped as the most likely suitor . the loss-making newspaper is not expected to reach break-even until 2006 .', 'london hope over chepkemei london marathon organisers are hoping that banned athlete susan chepkemei will still take part in this year s race on 17 april . chepkemei was suspended from all competition until the end of the year by athletics kenya after failing to report to a national training camp . we are watching it closely said london race director david bedford . there is a long way to go before the race and we are hoping the situation will be satisfactorily resolved . the camp in embu was to prepare for the iaaf world cross country championships later this month . chepkemei however took part and finished third in last sunday s world best 10k race in puerto rico . the 29-year-old has finished second to paula radcliffe in the 2002 and 2003 london races as well as in november s new york city marathon .', 'boothroyd calls for lords speaker betty boothroyd has said the house of lords needs its own speaker and that peers should lead the way on reforming the upper chamber . baroness boothroyd who was the first woman to be commons speaker said she believed tony blair initiated reforms without a clear outcome in mind . now we have to take care of it ourselves and make the best of it she told the bbc s breakfast with frost . in 1999 labour removed all but 92 of the lords 750 hereditary peers . that was billed as the first stage of reform of the institution . the lord chancellor hinted further reforms could be unveiled in the next labour manifesto . i think we need to look very carefully at the relationship between the lords and the commons lord falconer told bbc1 s breakfast with frost . how it interacts with the commons is a very very important issue . we need to address the issue in the manifesto but you will have to wait for when the manifesto comes . the lord chancellor currently has the role of house of lords speaker . he is also head of the judiciary and a member of the cabinet as constitutional affairs secretary . lady boothroyd said she believed it was unacceptable for the lord chancellor to have the role of speaker . i would really like to see a speaker of the house of lords she said . i don t go for the idea of somebody - a lord chancellor - who is head of the judiciary a senior cabinet minister and speaker of the lords . i want somebody there who is going to look after that house and do a job there .')\n",
            "tensor([0, 2, 4, 1, 4, 4, 1, 1, 3, 0, 4, 3, 4, 4, 2, 1, 4, 3, 4, 0, 0, 1, 2, 2,\n",
            "        2, 4, 3, 3, 1, 0, 3, 1])\n"
          ]
        }
      ]
    },
    {
      "cell_type": "code",
      "execution_count": 25,
      "metadata": {
        "colab": {
          "base_uri": "https://localhost:8080/"
        },
        "id": "gNLtFMArj4V-",
        "outputId": "cee21c03-1348-44b3-c5f5-9f6d7abfe08a"
      },
      "outputs": [
        {
          "output_type": "stream",
          "name": "stdout",
          "text": [
            "halo fans  hope for sequel xbox video game halo 2 has been released in the us on 9 november  with a uk release two days later. why is the game among the most anticipated of all time   halo is considered by many video game pundits to be one of the finest examples of interactive entertainment ever produced and more than 1.5 million people worldwide have pre-ordered the sequel. a science fiction epic  halo centred the action on a human cyborg  controlled by the player  who had to save his crew from an alien horde after a crash landing on a strange and exotic world contained on the interior surface of a giant ring in space. remembrance of things past it was not - but as a slice of schlock science fiction inspired by works such as larry niven s ringworld and the film starship troopers  it fit the bill perfectly. halo stood out from a crowd of similar titles - it was graphically impressive  had tremendous audio  using dolby digital  a decent storyline  instant playability and impressive physics.  but what marked halo as a classic were the thousands of details which brought a feeling of polish and the enormously-high production values not usually associated with video gaming.  produced by bungie software  renowned for their innovation in gaming  it caused a stir among the gaming fraternity when the developer was bought by microsoft and became an xbox exclusive. claude errera  editor of fansite halo.bungie.org  said:  bungie got everything right. they were really careful to make sure everything worked the way it was supposed to.  nothing distracts you when you were playing. there was nothing in halo that had not been done before but everything in there was as good as it could be.  he added:  graphically it was superior to everything else out there.   it also had a depth to it that made it stand out.  halo was unusually immersive  sucking the player into the action and blurring the interface between screen and controller. it also capitalised on the growing popularity of lan gaming in the pc world - for the first time it became easy to link multiple game consoles together  allowing up to 16 players to battle against each other at the same time.  the game instantly cultivated an online following  which continues today with a score of halo fan websites following every aspect of the sequel  halo 2. errera spends three to fours hours a day of his own time maintaining the hugely popular website  which attracts 600 000 page views a day from halo fans eager for the latest news.  when the xbox launched on november 15 2001 in the us  halo was one of the launch titles and had an immediate impact on critics and consumers.  halo is the most important launch game for any console ever   wrote the influential edge magazine in its review  giving it a rare 10 out of 10 mark. the game had its critics and while it is not a one-off original as a game  it brought many original touches and flourishes to the genre which have defined all other first person shooters since.  the first time i played it i just stood there watching the spent shells fall out of my gun   said errera  remarking on the level of detail in the game.  the game also inspired thousands of people to write their own fiction based on the storyline and produce downloadable video clips of the many weird and wonderful things that can be done in the game.  it blew me away the first time someone managed to climb to the top of halo   said errera  referring to a fan who had created a video of master chief scaling the landscape of the graphical world. video clips of the more outrageous stunts that are possible thanks to the game s amazing physics engine are incredibly popular and some have attained a cult following. speculation about the sequel has seen every titbit analysed and poured over with all the intent of a forensic scientist examining a body. when early screenshots of the game were released some people wrote essay-length articles highlighting everything from the texture of graphics to clues about the story line. errera said expectations of the sequel among fans were sky high.  it does not feel like a game release any more. somebody told me this was the biggest single release of any product in microsoft s history.  we re all just hoping that bungie has got it right again.   halo 2 is out on 9 november in the us and 11 november in the uk\n",
            "<class 'str'>\n",
            "('halo fans hope for sequel xbox video game halo 2 has been released in the us on 9 november with a uk release two days later . why is the game among the most anticipated of all time halo is considered by many video game pundits to be one of the finest examples of interactive entertainment ever produced and more than 1.5 million people worldwide have pre-ordered the sequel . a science fiction epic halo centred the action on a human cyborg controlled by the player who had to save his crew from an alien horde after a crash landing on a strange and exotic world contained on the interior surface of a giant ring in space . remembrance of things past it was not - but as a slice of schlock science fiction inspired by works such as larry niven s ringworld and the film starship troopers it fit the bill perfectly . halo stood out from a crowd of similar titles - it was graphically impressive had tremendous audio using dolby digital a decent storyline instant playability and impressive physics . but what marked halo as a classic were the thousands of details which brought a feeling of polish and the enormously-high production values not usually associated with video gaming . produced by bungie software renowned for their innovation in gaming it caused a stir among the gaming fraternity when the developer was bought by microsoft and became an xbox exclusive . claude errera editor of fansite halo.bungie.org said : bungie got everything right . they were really careful to make sure everything worked the way it was supposed to . nothing distracts you when you were playing . there was nothing in halo that had not been done before but everything in there was as good as it could be . he added : graphically it was superior to everything else out there . it also had a depth to it that made it stand out . halo was unusually immersive sucking the player into the action and blurring the interface between screen and controller . it also capitalised on the growing popularity of lan gaming in the pc world - for the first time it became easy to link multiple game consoles together allowing up to 16 players to battle against each other at the same time . the game instantly cultivated an online following which continues today with a score of halo fan websites following every aspect of the sequel halo 2. errera spends three to fours hours a day of his own time maintaining the hugely popular website which attracts 600 000 page views a day from halo fans eager for the latest news . when the xbox launched on november 15 2001 in the us halo was one of the launch titles and had an immediate impact on critics and consumers . halo is the most important launch game for any console ever wrote the influential edge magazine in its review giving it a rare 10 out of 10 mark . the game had its critics and while it is not a one-off original as a game it brought many original touches and flourishes to the genre which have defined all other first person shooters since . the first time i played it i just stood there watching the spent shells fall out of my gun said errera remarking on the level of detail in the game . the game also inspired thousands of people to write their own fiction based on the storyline and produce downloadable video clips of the many weird and wonderful things that can be done in the game . it blew me away the first time someone managed to climb to the top of halo said errera referring to a fan who had created a video of master chief scaling the landscape of the graphical world . video clips of the more outrageous stunts that are possible thanks to the game s amazing physics engine are incredibly popular and some have attained a cult following . speculation about the sequel has seen every titbit analysed and poured over with all the intent of a forensic scientist examining a body . when early screenshots of the game were released some people wrote essay-length articles highlighting everything from the texture of graphics to clues about the story line . errera said expectations of the sequel among fans were sky high . it does not feel like a game release any more . somebody told me this was the biggest single release of any product in microsoft s history . we re all just hoping that bungie has got it right again . halo 2 is out on 9 november in the us and 11 november in the uk', array(2))\n",
            "<class 'tuple'>\n"
          ]
        }
      ],
      "source": [
        "# ho solo i testi\n",
        "print(list(x_train)[0])\n",
        "print(type(list(x_train)[0]))\n",
        "\n",
        "# ho una tupla test+label\n",
        "print(train_dataset[0])\n",
        "print(type(train_dataset[0]))"
      ]
    },
    {
      "cell_type": "code",
      "execution_count": 27,
      "metadata": {
        "id": "-KdTmVtrnCp6"
      },
      "outputs": [],
      "source": [
        "class EmbsLSTMClassifierDeep(nn.Module):\n",
        "\n",
        "    def __init__(self, labels, lstm_layers, lstm_hdim, bilstm, dropout):\n",
        "        super(EmbsLSTMClassifierDeep, self).__init__()\n",
        "        self.lstm = nn.LSTM(lstm_hdim, lstm_hdim, lstm_layers,\n",
        "            bidirectional=bilstm, batch_first=True)\n",
        "        if bilstm:\n",
        "            lstm_output = lstm_hdim*2\n",
        "        else :\n",
        "            lstm_output = lstm_hdim\n",
        "        self.bilstm = bilstm\n",
        "        self.classifier = nn.Sequential(\n",
        "            nn.Linear(lstm_output, lstm_output),\n",
        "            nn.BatchNorm1d(lstm_output),\n",
        "            nn.Dropout(dropout),\n",
        "            nn.ReLU(),\n",
        "            nn.Linear(lstm_output, labels),\n",
        "            )\n",
        "        # non ho funzione di attivazione, è embedded nella loss\n",
        "        # se devo calcolare l'accuracy, devo applicare una softmax/logsoftmax manualmente\n",
        "\n",
        "    # parametri e output della LSMT -> https://pytorch.org/docs/stable/generated/torch.nn.LSTM.html\n",
        "    def forward(self, input_texts):\n",
        "        _output, (hn, _cn) = self.lstm(input_texts)\n",
        "        if not self.bilstm:\n",
        "            lstm_output = hn[-1,:,:]\n",
        "        else:\n",
        "            lstm_output = torch.cat((hn[-2,:,:], hn[-1,:,:]), dim=1)\n",
        "        final = self.classifier(lstm_output)\n",
        "        return final"
      ]
    },
    {
      "cell_type": "code",
      "execution_count": 28,
      "metadata": {
        "id": "In8JtAI6u-FE"
      },
      "outputs": [],
      "source": [
        "class EarlyStopping:\n",
        "    def __init__(self, patience=5, min_delta=0.0):\n",
        "\n",
        "        self.patience = patience\n",
        "        self.min_delta = min_delta              # valore minimo di decrescita della loss di validazione all'epoca corrente\n",
        "                                                # per asserire che c'è un miglioramenti della loss\n",
        "        self.counter = 0                        # contatore delle epoche di pazienza\n",
        "        self.early_stop = False                 # flag di early stop\n",
        "        self.min_validation_loss = torch.inf    # valore corrente ottimo della loss di validazione\n",
        "\n",
        "    def __call__(self, validation_loss):\n",
        "        # chiamata in forma funzionale dell'oggetto di classe EarlySopping\n",
        "\n",
        "        if (validation_loss + self.min_delta) >= self.min_validation_loss:  # la loss di validazione non decresce\n",
        "            self.counter += 1                                               # incrementiamo il contatore delle epoche di pazienza\n",
        "            if self.counter >= self.patience:\n",
        "                self.early_stop = True\n",
        "                print(\"Early stop!\")\n",
        "        else:                                               # c'è un miglioramento della loss:\n",
        "            self.min_validation_loss = validation_loss      # consideriamo la loss corrente\n",
        "                                                            # come nuova loss ottimale\n",
        "            self.counter = 0                                # e azzeriamo il contatore di pazienza\n"
      ]
    },
    {
      "cell_type": "code",
      "execution_count": 29,
      "metadata": {
        "id": "HELuTg_mFiTQ"
      },
      "outputs": [],
      "source": [
        "import csv\n",
        "\n",
        "def load_glove():\n",
        "    glove_path = root+\"wordvectors/glove.6B.300d.txt\"\n",
        "    print(\"Loading glove vectors ...\")\n",
        "    with open(glove_path, encoding='utf-8') as f:\n",
        "        reader = csv.reader(f, delimiter=' ', quoting=csv.QUOTE_NONE)\n",
        "        model = {line[0]: np.array(list(map(float, line[1:])))\n",
        "                for line in reader}\n",
        "    print(\"Glove vectors loaded\")\n",
        "    return model"
      ]
    },
    {
      "cell_type": "code",
      "execution_count": 30,
      "metadata": {
        "id": "ZmkzHey-RSta"
      },
      "outputs": [],
      "source": [
        "def gen_embeddings_glove(tokens, glove_embeddings):\n",
        "    embeddings = []\n",
        "    for sentence in tokens:\n",
        "        emb = []\n",
        "        for word in sentence:\n",
        "            if word in glove_embeddings:\n",
        "                emb.append(torch.tensor(glove_embeddings.get(word)))\n",
        "        embeddings.append(torch.stack(emb))\n",
        "    return embeddings\n",
        "\n",
        "# serve per il padding\n",
        "def get_max_len(embeddings):\n",
        "    max_len = 0\n",
        "    for e in embeddings:\n",
        "        if e.shape[0] > max_len: max_len = e.shape[0]\n",
        "    return max_len"
      ]
    },
    {
      "cell_type": "code",
      "execution_count": 31,
      "metadata": {
        "id": "t5jS3O-VvHv_"
      },
      "outputs": [],
      "source": [
        "def train_loop(model, dataloader, glove, loss, optimizer, device):\n",
        "    model.train()\n",
        "\n",
        "    epoch_acc = 0\n",
        "    epoch_loss = 0\n",
        "\n",
        "    for batch_texts, batch_labels in tqdm(dataloader, desc='training set'):\n",
        "\n",
        "        optimizer.zero_grad()\n",
        "\n",
        "        tokens = [nltk.word_tokenize(text, language='english') for text in list(batch_texts)]\n",
        "        embeddings = gen_embeddings_glove(tokens, glove)\n",
        "        max_len_batch = get_max_len(embeddings)\n",
        "        input_embeddings =  torch.stack([torch.nn.functional.pad(x,(0,0,0, max_len_batch-x.shape[0])) for x in embeddings]).float().to(device)\n",
        "        batch_labels = batch_labels.to(device)\n",
        "        output = model(input_embeddings)\n",
        "\n",
        "        # la loss è una CrossEntropyLoss, al suo interno ha la logsoftmax + negative log likelihood loss\n",
        "        batch_loss = loss(output, batch_labels)\n",
        "        batch_loss.backward()\n",
        "        optimizer.step()\n",
        "\n",
        "        epoch_loss += batch_loss.item()\n",
        "\n",
        "        # per calcolare l'accuracy devo generare le predizioni applicando manualmente la logsoftmax\n",
        "        softmax = nn.LogSoftmax(dim=1)\n",
        "        epoch_acc += (softmax(output).argmax(dim=1) == batch_labels).sum().item()\n",
        "\n",
        "        batch_labels = batch_labels.detach().cpu()\n",
        "        input_embeddings = input_embeddings.detach().cpu()\n",
        "        output = output.detach().cpu()\n",
        "\n",
        "    return epoch_loss/len(dataloader), epoch_acc"
      ]
    },
    {
      "cell_type": "code",
      "execution_count": 32,
      "metadata": {
        "id": "atbTc9ex1Q7S"
      },
      "outputs": [],
      "source": [
        "def test_loop(model, dataloader, glove, loss, device):\n",
        "    model.eval()\n",
        "\n",
        "    epoch_acc = 0\n",
        "    epoch_loss = 0\n",
        "\n",
        "    with torch.no_grad():\n",
        "\n",
        "        for batch_texts, batch_labels, in tqdm(dataloader, desc='dev set'):\n",
        "\n",
        "            tokens = [nltk.word_tokenize(text, language='english') for text in list(batch_texts)]\n",
        "            embeddings = gen_embeddings_glove(tokens, glove)\n",
        "            max_len_batch = get_max_len(embeddings)\n",
        "            input_embeddings =  torch.stack([torch.nn.functional.pad(x, (0,0,0, max_len_batch-x.shape[0])) for x in embeddings]).float().to(device)\n",
        "            batch_labels = batch_labels.to(device)\n",
        "            output = model(input_embeddings)\n",
        "\n",
        "            # la loss è una CrossEntropyLoss, al suo interno ha la logsoftmax + negative log likelihood loss\n",
        "            batch_loss = loss(output, batch_labels)\n",
        "            epoch_loss += batch_loss.item()\n",
        "\n",
        "            # per calcolare l'accuracy devo generare le predizioni applicando manualmente la logsoftmax\n",
        "            softmax = nn.LogSoftmax(dim=1)\n",
        "            epoch_acc += (softmax(output).argmax(dim=1) == batch_labels).sum().item()\n",
        "\n",
        "            batch_labels = batch_labels.detach().cpu()\n",
        "            input_embeddings = input_embeddings.detach().cpu()\n",
        "            output = output.detach().cpu()\n",
        "\n",
        "    return epoch_loss/len(dataloader), epoch_acc"
      ]
    },
    {
      "cell_type": "code",
      "execution_count": 33,
      "metadata": {
        "id": "lK_cnWEHMavf"
      },
      "outputs": [],
      "source": [
        "def train_test(model,\n",
        "               epochs,\n",
        "               optimizer,\n",
        "               device,\n",
        "               train_data,\n",
        "               test_data,\n",
        "               batch_size,\n",
        "               train_loss_fn,\n",
        "               test_loss_fn=None,         # non necessariamente train e test loss devono differire\n",
        "               early_stopping=None,       # posso addstrare senza early stopping\n",
        "               val_data=None,             # e in questo caso non c'è validation set\n",
        "               scheduler=None):           # possibile scheduler per monitorare l'andamento di un iperparametro,\n",
        "                                          # tipicamente il learning rate\n",
        "\n",
        "    train_dataloader = torch.utils.data.DataLoader(train_data, batch_size=batch_size, shuffle=True)\n",
        "    val_dataloader = torch.utils.data.DataLoader(val_data, batch_size=batch_size)\n",
        "    test_dataloader = torch.utils.data.DataLoader(test_data, batch_size=batch_size)\n",
        "\n",
        "    # check sulle funzioni di loss\n",
        "    if test_loss_fn == None:\n",
        "        test_loss_fn = train_loss_fn\n",
        "\n",
        "    # liste dei valori di loss e accuracy epoca per epoca per il plot\n",
        "    train_loss = []\n",
        "    validation_loss = []\n",
        "    test_loss = []\n",
        "\n",
        "    train_acc = []\n",
        "    validation_acc = []\n",
        "    test_acc = []\n",
        "\n",
        "    glove = load_glove()\n",
        "\n",
        "    # Ciclo di addestramento con early stopping\n",
        "    for epoch in tqdm(range(1,epochs+1)):\n",
        "\n",
        "        epoch_train_loss, epoch_train_acc = train_loop(model,\n",
        "                    train_dataloader, glove, train_loss_fn, optimizer, device)\n",
        "        train_loss.append(epoch_train_loss)\n",
        "        train_acc.append(epoch_train_acc/len(train_data))\n",
        "\n",
        "        # validation se è presente la callback di early stopping\n",
        "        if early_stopping != None:\n",
        "                epoch_validate_loss, epoch_validate_acc = test_loop(model,\n",
        "                                val_dataloader, glove, test_loss_fn, device)\n",
        "                validation_loss.append(epoch_validate_loss)\n",
        "                validation_acc.append(epoch_validate_acc/len(val_data))\n",
        "\n",
        "        # test\n",
        "        epoch_test_loss, epoch_test_acc,= test_loop(model,\n",
        "                                test_dataloader, glove, test_loss_fn, device)\n",
        "        test_loss.append(epoch_test_loss)\n",
        "        test_acc.append(epoch_test_acc/len(test_data))\n",
        "\n",
        "        val_loss_str = f'Validation loss: {epoch_validate_loss:6.4f} ' if early_stopping != None else ' '\n",
        "        val_acc_str = f'Validation accuracy: {(epoch_validate_acc/len(val_data)):6.4f} ' if early_stopping != None else ' '\n",
        "        print(f\"\\nTrain loss: {epoch_train_loss:6.4f} {val_loss_str}Test loss: {epoch_test_loss:6.4f}\")\n",
        "        print(f\"Train accuracy: {(epoch_train_acc/len(train_data)):6.4f} {val_acc_str}Test accuracy: {(epoch_test_acc/len(test_data)):6.4f}\")\n",
        "\n",
        "        # early stopping\n",
        "        if early_stopping != None:\n",
        "                early_stopping(epoch_validate_loss)\n",
        "                if early_stopping.early_stop:\n",
        "                    break\n",
        "\n",
        "    return train_loss, validation_loss, test_loss, train_acc, validation_acc, test_acc"
      ]
    },
    {
      "cell_type": "code",
      "execution_count": 34,
      "metadata": {
        "colab": {
          "base_uri": "https://localhost:8080/"
        },
        "id": "YWgCYjxPPD8i",
        "outputId": "7482b532-49aa-4e52-fdbd-69042e18604e"
      },
      "outputs": [
        {
          "output_type": "stream",
          "name": "stdout",
          "text": [
            "Using cuda device\n",
            "EmbsLSTMClassifierDeep(\n",
            "  (lstm): LSTM(300, 300, batch_first=True, bidirectional=True)\n",
            "  (classifier): Sequential(\n",
            "    (0): Linear(in_features=600, out_features=600, bias=True)\n",
            "    (1): BatchNorm1d(600, eps=1e-05, momentum=0.1, affine=True, track_running_stats=True)\n",
            "    (2): Dropout(p=0.1, inplace=False)\n",
            "    (3): ReLU()\n",
            "    (4): Linear(in_features=600, out_features=5, bias=True)\n",
            "  )\n",
            ")\n",
            "Numbero totale dei parametri: 1809605\n"
          ]
        }
      ],
      "source": [
        "# Acquisiamo il device su cui effettueremo il training\n",
        "device = torch.device(\"cuda\" if torch.cuda.is_available() else \"cpu\")\n",
        "print(f\"Using {device} device\")\n",
        "\n",
        "model = EmbsLSTMClassifierDeep(len(labels_dict),\n",
        "                               hyperparameters[\"layers\"],\n",
        "                               hyperparameters[\"h_dim\"],\n",
        "                               hyperparameters[\"bilstm\"],\n",
        "                               hyperparameters[\"dropout\"]).to(device)\n",
        "print(model)\n",
        "\n",
        "# Calcoliamo il numero totale dei parametri del modello\n",
        "total_params = sum(p.numel() for p in model.parameters())\n",
        "print(f\"Numbero totale dei parametri: {total_params}\")\n",
        "\n",
        "criterion = nn.CrossEntropyLoss()\n",
        "optimizer = Adam(model.parameters(), lr=hyperparameters[\"learning_rate\"])\n",
        "\n",
        "# Creiamo la callback di early stopping da passare al nostro metodo di addestramento\n",
        "early_stopping = EarlyStopping(patience=hyperparameters['patience'],\n",
        "                               min_delta=hyperparameters['min_delta'])\n"
      ]
    },
    {
      "cell_type": "code",
      "execution_count": 35,
      "metadata": {
        "id": "bEdv8U-wAL3L",
        "colab": {
          "base_uri": "https://localhost:8080/"
        },
        "outputId": "565fa9b6-964f-4a34-ebc2-f6148aeec7ef"
      },
      "outputs": [
        {
          "output_type": "stream",
          "name": "stdout",
          "text": [
            "Loading glove vectors ...\n",
            "Glove vectors loaded\n"
          ]
        },
        {
          "output_type": "stream",
          "name": "stderr",
          "text": [
            "  0%|          | 0/5 [00:00<?, ?it/s]\n",
            "training set:   0%|          | 0/26 [00:00<?, ?it/s]\u001b[A\n",
            "training set:   4%|▍         | 1/26 [00:01<00:41,  1.67s/it]\u001b[A\n",
            "training set:   8%|▊         | 2/26 [00:02<00:32,  1.34s/it]\u001b[A\n",
            "training set:  12%|█▏        | 3/26 [00:03<00:24,  1.07s/it]\u001b[A\n",
            "training set:  15%|█▌        | 4/26 [00:04<00:20,  1.06it/s]\u001b[A\n",
            "training set:  19%|█▉        | 5/26 [00:05<00:19,  1.09it/s]\u001b[A\n",
            "training set:  23%|██▎       | 6/26 [00:06<00:18,  1.08it/s]\u001b[A\n",
            "training set:  27%|██▋       | 7/26 [00:09<00:34,  1.82s/it]\u001b[A\n",
            "training set:  31%|███       | 8/26 [00:10<00:26,  1.49s/it]\u001b[A\n",
            "training set:  35%|███▍      | 9/26 [00:11<00:21,  1.26s/it]\u001b[A\n",
            "training set:  38%|███▊      | 10/26 [00:13<00:22,  1.40s/it]\u001b[A\n",
            "training set:  42%|████▏     | 11/26 [00:13<00:17,  1.19s/it]\u001b[A\n",
            "training set:  46%|████▌     | 12/26 [00:14<00:14,  1.02s/it]\u001b[A\n",
            "training set:  50%|█████     | 13/26 [00:15<00:11,  1.10it/s]\u001b[A\n",
            "training set:  54%|█████▍    | 14/26 [00:15<00:10,  1.19it/s]\u001b[A\n",
            "training set:  58%|█████▊    | 15/26 [00:16<00:08,  1.30it/s]\u001b[A\n",
            "training set:  62%|██████▏   | 16/26 [00:18<00:11,  1.11s/it]\u001b[A\n",
            "training set:  65%|██████▌   | 17/26 [00:19<00:11,  1.24s/it]\u001b[A\n",
            "training set:  69%|██████▉   | 18/26 [00:20<00:08,  1.11s/it]\u001b[A\n",
            "training set:  73%|███████▎  | 19/26 [00:21<00:07,  1.09s/it]\u001b[A\n",
            "training set:  77%|███████▋  | 20/26 [00:22<00:06,  1.07s/it]\u001b[A\n",
            "training set:  81%|████████  | 21/26 [00:23<00:04,  1.03it/s]\u001b[A\n",
            "training set:  85%|████████▍ | 22/26 [00:23<00:03,  1.17it/s]\u001b[A\n",
            "training set:  88%|████████▊ | 23/26 [00:24<00:02,  1.18it/s]\u001b[A\n",
            "training set:  92%|█████████▏| 24/26 [00:25<00:01,  1.10it/s]\u001b[A\n",
            "training set: 100%|██████████| 26/26 [00:26<00:00,  1.02s/it]\n",
            "\n",
            "dev set:   0%|          | 0/3 [00:00<?, ?it/s]\u001b[A\n",
            "dev set:  33%|███▎      | 1/3 [00:00<00:01,  1.25it/s]\u001b[A\n",
            "dev set:  67%|██████▋   | 2/3 [00:01<00:01,  1.01s/it]\u001b[A\n",
            "dev set: 100%|██████████| 3/3 [00:02<00:00,  1.18it/s]\n",
            "\n",
            "dev set:   0%|          | 0/7 [00:00<?, ?it/s]\u001b[A\n",
            "dev set:  14%|█▍        | 1/7 [00:00<00:03,  1.61it/s]\u001b[A\n",
            "dev set:  29%|██▊       | 2/7 [00:01<00:02,  1.80it/s]\u001b[A\n",
            "dev set:  43%|████▎     | 3/7 [00:01<00:02,  1.83it/s]\u001b[A\n",
            "dev set:  57%|█████▋    | 4/7 [00:02<00:02,  1.33it/s]\u001b[A\n",
            "dev set:  71%|███████▏  | 5/7 [00:03<00:01,  1.56it/s]\u001b[A\n",
            "dev set:  86%|████████▌ | 6/7 [00:04<00:00,  1.42it/s]\u001b[A\n",
            "dev set: 100%|██████████| 7/7 [00:05<00:00,  1.20it/s]\n",
            " 20%|██        | 1/5 [00:35<02:20, 35.04s/it]"
          ]
        },
        {
          "output_type": "stream",
          "name": "stdout",
          "text": [
            "\n",
            "Train loss: 0.5264 Validation loss: 0.5638 Test loss: 0.5874\n",
            "Train accuracy: 0.8171 Validation accuracy: 0.7921 Test accuracy: 0.7596\n"
          ]
        },
        {
          "output_type": "stream",
          "name": "stderr",
          "text": [
            "\n",
            "training set:   0%|          | 0/26 [00:00<?, ?it/s]\u001b[A\n",
            "training set:   4%|▍         | 1/26 [00:00<00:23,  1.06it/s]\u001b[A\n",
            "training set:   8%|▊         | 2/26 [00:01<00:19,  1.21it/s]\u001b[A\n",
            "training set:  12%|█▏        | 3/26 [00:02<00:17,  1.31it/s]\u001b[A\n",
            "training set:  15%|█▌        | 4/26 [00:03<00:17,  1.28it/s]\u001b[A\n",
            "training set:  19%|█▉        | 5/26 [00:04<00:18,  1.11it/s]\u001b[A\n",
            "training set:  23%|██▎       | 6/26 [00:04<00:16,  1.23it/s]\u001b[A\n",
            "training set:  27%|██▋       | 7/26 [00:05<00:14,  1.28it/s]\u001b[A\n",
            "training set:  31%|███       | 8/26 [00:08<00:26,  1.45s/it]\u001b[A\n",
            "training set:  35%|███▍      | 9/26 [00:09<00:22,  1.30s/it]\u001b[A\n",
            "training set:  38%|███▊      | 10/26 [00:10<00:18,  1.14s/it]\u001b[A\n",
            "training set:  42%|████▏     | 11/26 [00:11<00:15,  1.02s/it]\u001b[A\n",
            "training set:  46%|████▌     | 12/26 [00:11<00:13,  1.01it/s]\u001b[A\n",
            "training set:  50%|█████     | 13/26 [00:12<00:12,  1.03it/s]\u001b[A\n",
            "training set:  54%|█████▍    | 14/26 [00:13<00:11,  1.04it/s]\u001b[A\n",
            "training set:  58%|█████▊    | 15/26 [00:16<00:15,  1.40s/it]\u001b[A\n",
            "training set:  62%|██████▏   | 16/26 [00:17<00:12,  1.26s/it]\u001b[A\n",
            "training set:  65%|██████▌   | 17/26 [00:17<00:09,  1.09s/it]\u001b[A\n",
            "training set:  69%|██████▉   | 18/26 [00:18<00:08,  1.02s/it]\u001b[A\n",
            "training set:  73%|███████▎  | 19/26 [00:19<00:06,  1.06it/s]\u001b[A\n",
            "training set:  77%|███████▋  | 20/26 [00:20<00:05,  1.14it/s]\u001b[A\n",
            "training set:  81%|████████  | 21/26 [00:21<00:05,  1.05s/it]\u001b[A\n",
            "training set:  85%|████████▍ | 22/26 [00:22<00:04,  1.03s/it]\u001b[A\n",
            "training set:  88%|████████▊ | 23/26 [00:23<00:02,  1.07it/s]\u001b[A\n",
            "training set:  92%|█████████▏| 24/26 [00:24<00:01,  1.11it/s]\u001b[A\n",
            "training set: 100%|██████████| 26/26 [00:26<00:00,  1.01s/it]\n",
            "\n",
            "dev set:   0%|          | 0/3 [00:00<?, ?it/s]\u001b[A\n",
            "dev set:  33%|███▎      | 1/3 [00:00<00:01,  1.18it/s]\u001b[A\n",
            "dev set:  67%|██████▋   | 2/3 [00:02<00:01,  1.37s/it]\u001b[A\n",
            "dev set: 100%|██████████| 3/3 [00:03<00:00,  1.06s/it]\n",
            "\n",
            "dev set:   0%|          | 0/7 [00:00<?, ?it/s]\u001b[A\n",
            "dev set:  14%|█▍        | 1/7 [00:00<00:03,  1.63it/s]\u001b[A\n",
            "dev set:  29%|██▊       | 2/7 [00:01<00:02,  1.79it/s]\u001b[A\n",
            "dev set:  43%|████▎     | 3/7 [00:01<00:02,  1.83it/s]\u001b[A\n",
            "dev set:  57%|█████▋    | 4/7 [00:02<00:02,  1.32it/s]\u001b[A\n",
            "dev set:  71%|███████▏  | 5/7 [00:03<00:01,  1.55it/s]\u001b[A\n",
            "dev set:  86%|████████▌ | 6/7 [00:03<00:00,  1.66it/s]\u001b[A\n",
            "dev set: 100%|██████████| 7/7 [00:05<00:00,  1.36it/s]\n",
            " 40%|████      | 2/5 [01:09<01:44, 34.72s/it]"
          ]
        },
        {
          "output_type": "stream",
          "name": "stdout",
          "text": [
            "\n",
            "Train loss: 0.1947 Validation loss: 0.2756 Test loss: 0.3238\n",
            "Train accuracy: 0.9388 Validation accuracy: 0.9101 Test accuracy: 0.8989\n"
          ]
        },
        {
          "output_type": "stream",
          "name": "stderr",
          "text": [
            "\n",
            "training set:   0%|          | 0/26 [00:00<?, ?it/s]\u001b[A\n",
            "training set:   4%|▍         | 1/26 [00:02<00:59,  2.38s/it]\u001b[A\n",
            "training set:   8%|▊         | 2/26 [00:03<00:33,  1.38s/it]\u001b[A\n",
            "training set:  12%|█▏        | 3/26 [00:03<00:23,  1.03s/it]\u001b[A\n",
            "training set:  15%|█▌        | 4/26 [00:04<00:19,  1.14it/s]\u001b[A\n",
            "training set:  19%|█▉        | 5/26 [00:05<00:18,  1.15it/s]\u001b[A\n",
            "training set:  23%|██▎       | 6/26 [00:07<00:25,  1.25s/it]\u001b[A\n",
            "training set:  27%|██▋       | 7/26 [00:08<00:23,  1.22s/it]\u001b[A\n",
            "training set:  31%|███       | 8/26 [00:09<00:23,  1.29s/it]\u001b[A\n",
            "training set:  35%|███▍      | 9/26 [00:10<00:18,  1.10s/it]\u001b[A\n",
            "training set:  38%|███▊      | 10/26 [00:11<00:15,  1.05it/s]\u001b[A\n",
            "training set:  42%|████▏     | 11/26 [00:11<00:12,  1.17it/s]\u001b[A\n",
            "training set:  46%|████▌     | 12/26 [00:12<00:11,  1.23it/s]\u001b[A\n",
            "training set:  50%|█████     | 13/26 [00:13<00:10,  1.18it/s]\u001b[A\n",
            "training set:  54%|█████▍    | 14/26 [00:14<00:10,  1.18it/s]\u001b[A\n",
            "training set:  58%|█████▊    | 15/26 [00:14<00:09,  1.20it/s]\u001b[A\n",
            "training set:  62%|██████▏   | 16/26 [00:15<00:08,  1.20it/s]\u001b[A\n",
            "training set:  65%|██████▌   | 17/26 [00:16<00:07,  1.19it/s]\u001b[A\n",
            "training set:  69%|██████▉   | 18/26 [00:17<00:07,  1.08it/s]\u001b[A\n",
            "training set:  73%|███████▎  | 19/26 [00:18<00:06,  1.05it/s]\u001b[A\n",
            "training set:  77%|███████▋  | 20/26 [00:19<00:05,  1.11it/s]\u001b[A\n",
            "training set:  81%|████████  | 21/26 [00:20<00:04,  1.08it/s]\u001b[A\n",
            "training set:  85%|████████▍ | 22/26 [00:22<00:05,  1.37s/it]\u001b[A\n",
            "training set:  88%|████████▊ | 23/26 [00:23<00:03,  1.23s/it]\u001b[A\n",
            "training set:  92%|█████████▏| 24/26 [00:24<00:02,  1.06s/it]\u001b[A\n",
            "training set: 100%|██████████| 26/26 [00:25<00:00,  1.02it/s]\n",
            "\n",
            "dev set:   0%|          | 0/3 [00:00<?, ?it/s]\u001b[A\n",
            "dev set:  33%|███▎      | 1/3 [00:00<00:01,  1.37it/s]\u001b[A\n",
            "dev set:  67%|██████▋   | 2/3 [00:01<00:00,  1.06it/s]\u001b[A\n",
            "dev set: 100%|██████████| 3/3 [00:02<00:00,  1.26it/s]\n",
            "\n",
            "dev set:   0%|          | 0/7 [00:00<?, ?it/s]\u001b[A\n",
            "dev set:  14%|█▍        | 1/7 [00:00<00:03,  1.62it/s]\u001b[A\n",
            "dev set:  29%|██▊       | 2/7 [00:01<00:02,  1.77it/s]\u001b[A\n",
            "dev set:  43%|████▎     | 3/7 [00:01<00:02,  1.82it/s]\u001b[A\n",
            "dev set:  57%|█████▋    | 4/7 [00:02<00:02,  1.33it/s]\u001b[A\n",
            "dev set:  71%|███████▏  | 5/7 [00:03<00:01,  1.52it/s]\u001b[A\n",
            "dev set:  86%|████████▌ | 6/7 [00:03<00:00,  1.59it/s]\u001b[A\n",
            "dev set: 100%|██████████| 7/7 [00:05<00:00,  1.28it/s]\n",
            " 60%|██████    | 3/5 [01:43<01:08, 34.15s/it]"
          ]
        },
        {
          "output_type": "stream",
          "name": "stdout",
          "text": [
            "\n",
            "Train loss: 0.1444 Validation loss: 0.2946 Test loss: 0.2974\n",
            "Train accuracy: 0.9488 Validation accuracy: 0.8989 Test accuracy: 0.9034\n"
          ]
        },
        {
          "output_type": "stream",
          "name": "stderr",
          "text": [
            "\n",
            "training set:   0%|          | 0/26 [00:00<?, ?it/s]\u001b[A\n",
            "training set:   4%|▍         | 1/26 [00:03<01:24,  3.37s/it]\u001b[A\n",
            "training set:   8%|▊         | 2/26 [00:04<00:42,  1.76s/it]\u001b[A\n",
            "training set:  12%|█▏        | 3/26 [00:04<00:28,  1.25s/it]\u001b[A\n",
            "training set:  15%|█▌        | 4/26 [00:06<00:29,  1.32s/it]\u001b[A\n",
            "training set:  19%|█▉        | 5/26 [00:08<00:33,  1.61s/it]\u001b[A\n",
            "training set:  23%|██▎       | 6/26 [00:09<00:26,  1.34s/it]\u001b[A\n",
            "training set:  27%|██▋       | 7/26 [00:09<00:21,  1.12s/it]\u001b[A\n",
            "training set:  31%|███       | 8/26 [00:10<00:17,  1.01it/s]\u001b[A\n",
            "training set:  35%|███▍      | 9/26 [00:11<00:15,  1.07it/s]\u001b[A\n",
            "training set:  38%|███▊      | 10/26 [00:12<00:14,  1.12it/s]\u001b[A\n",
            "training set:  42%|████▏     | 11/26 [00:13<00:14,  1.03it/s]\u001b[A\n",
            "training set:  46%|████▌     | 12/26 [00:14<00:16,  1.14s/it]\u001b[A\n",
            "training set:  50%|█████     | 13/26 [00:15<00:14,  1.15s/it]\u001b[A\n",
            "training set:  54%|█████▍    | 14/26 [00:16<00:12,  1.05s/it]\u001b[A\n",
            "training set:  58%|█████▊    | 15/26 [00:17<00:11,  1.01s/it]\u001b[A\n",
            "training set:  62%|██████▏   | 16/26 [00:18<00:10,  1.01s/it]\u001b[A\n",
            "training set:  65%|██████▌   | 17/26 [00:19<00:08,  1.06it/s]\u001b[A\n",
            "training set:  69%|██████▉   | 18/26 [00:20<00:07,  1.11it/s]\u001b[A\n",
            "training set:  73%|███████▎  | 19/26 [00:21<00:06,  1.09it/s]\u001b[A\n",
            "training set:  77%|███████▋  | 20/26 [00:21<00:05,  1.14it/s]\u001b[A\n",
            "training set:  81%|████████  | 21/26 [00:22<00:04,  1.16it/s]\u001b[A\n",
            "training set:  85%|████████▍ | 22/26 [00:23<00:03,  1.19it/s]\u001b[A\n",
            "training set:  88%|████████▊ | 23/26 [00:24<00:02,  1.26it/s]\u001b[A\n",
            "training set:  92%|█████████▏| 24/26 [00:26<00:02,  1.12s/it]\u001b[A\n",
            "training set: 100%|██████████| 26/26 [00:27<00:00,  1.06s/it]\n",
            "\n",
            "dev set:   0%|          | 0/3 [00:00<?, ?it/s]\u001b[A\n",
            "dev set:  33%|███▎      | 1/3 [00:01<00:02,  1.08s/it]\u001b[A\n",
            "dev set:  67%|██████▋   | 2/3 [00:02<00:01,  1.35s/it]\u001b[A\n",
            "dev set: 100%|██████████| 3/3 [00:03<00:00,  1.07s/it]\n",
            "\n",
            "dev set:   0%|          | 0/7 [00:00<?, ?it/s]\u001b[A\n",
            "dev set:  14%|█▍        | 1/7 [00:00<00:03,  1.61it/s]\u001b[A\n",
            "dev set:  29%|██▊       | 2/7 [00:01<00:02,  1.77it/s]\u001b[A\n",
            "dev set:  43%|████▎     | 3/7 [00:01<00:02,  1.81it/s]\u001b[A\n",
            "dev set:  57%|█████▋    | 4/7 [00:02<00:02,  1.32it/s]\u001b[A\n",
            "dev set:  71%|███████▏  | 5/7 [00:03<00:01,  1.51it/s]\u001b[A\n",
            "dev set:  86%|████████▌ | 6/7 [00:03<00:00,  1.63it/s]\u001b[A\n",
            "dev set: 100%|██████████| 7/7 [00:05<00:00,  1.34it/s]\n",
            " 80%|████████  | 4/5 [02:19<00:34, 34.88s/it]"
          ]
        },
        {
          "output_type": "stream",
          "name": "stdout",
          "text": [
            "\n",
            "Train loss: 0.0949 Validation loss: 0.3006 Test loss: 0.3438\n",
            "Train accuracy: 0.9788 Validation accuracy: 0.9045 Test accuracy: 0.8876\n"
          ]
        },
        {
          "output_type": "stream",
          "name": "stderr",
          "text": [
            "\n",
            "training set:   0%|          | 0/26 [00:00<?, ?it/s]\u001b[A\n",
            "training set:   4%|▍         | 1/26 [00:00<00:15,  1.57it/s]\u001b[A\n",
            "training set:   8%|▊         | 2/26 [00:01<00:15,  1.51it/s]\u001b[A\n",
            "training set:  12%|█▏        | 3/26 [00:02<00:16,  1.39it/s]\u001b[A\n",
            "training set:  15%|█▌        | 4/26 [00:02<00:15,  1.40it/s]\u001b[A\n",
            "training set:  19%|█▉        | 5/26 [00:04<00:25,  1.23s/it]\u001b[A\n",
            "training set:  23%|██▎       | 6/26 [00:06<00:24,  1.25s/it]\u001b[A\n",
            "training set:  27%|██▋       | 7/26 [00:07<00:22,  1.19s/it]\u001b[A\n",
            "training set:  31%|███       | 8/26 [00:08<00:19,  1.07s/it]\u001b[A\n",
            "training set:  35%|███▍      | 9/26 [00:08<00:16,  1.04it/s]\u001b[A\n",
            "training set:  38%|███▊      | 10/26 [00:09<00:14,  1.13it/s]\u001b[A\n",
            "training set:  42%|████▏     | 11/26 [00:10<00:12,  1.23it/s]\u001b[A\n",
            "training set:  46%|████▌     | 12/26 [00:11<00:12,  1.10it/s]\u001b[A\n",
            "training set:  50%|█████     | 13/26 [00:12<00:11,  1.14it/s]\u001b[A\n",
            "training set:  54%|█████▍    | 14/26 [00:12<00:09,  1.21it/s]\u001b[A\n",
            "training set:  58%|█████▊    | 15/26 [00:13<00:08,  1.25it/s]\u001b[A\n",
            "training set:  62%|██████▏   | 16/26 [00:14<00:08,  1.16it/s]\u001b[A\n",
            "training set:  65%|██████▌   | 17/26 [00:15<00:07,  1.13it/s]\u001b[A\n",
            "training set:  69%|██████▉   | 18/26 [00:18<00:11,  1.42s/it]\u001b[A\n",
            "training set:  73%|███████▎  | 19/26 [00:19<00:08,  1.24s/it]\u001b[A\n",
            "training set:  77%|███████▋  | 20/26 [00:19<00:06,  1.14s/it]\u001b[A\n",
            "training set:  81%|████████  | 21/26 [00:20<00:05,  1.06s/it]\u001b[A\n",
            "training set:  85%|████████▍ | 22/26 [00:21<00:04,  1.01s/it]\u001b[A\n",
            "training set:  88%|████████▊ | 23/26 [00:23<00:03,  1.28s/it]\u001b[A\n",
            "training set:  92%|█████████▏| 24/26 [00:25<00:02,  1.34s/it]\u001b[A\n",
            "training set: 100%|██████████| 26/26 [00:25<00:00,  1.01it/s]\n",
            "\n",
            "dev set:   0%|          | 0/3 [00:00<?, ?it/s]\u001b[A\n",
            "dev set:  33%|███▎      | 1/3 [00:00<00:01,  1.26it/s]\u001b[A\n",
            "dev set:  67%|██████▋   | 2/3 [00:01<00:01,  1.03s/it]\u001b[A\n",
            "dev set: 100%|██████████| 3/3 [00:02<00:00,  1.20it/s]\n",
            "\n",
            "dev set:   0%|          | 0/7 [00:00<?, ?it/s]\u001b[A\n",
            "dev set:  14%|█▍        | 1/7 [00:00<00:03,  1.59it/s]\u001b[A\n",
            "dev set:  29%|██▊       | 2/7 [00:01<00:02,  1.77it/s]\u001b[A\n",
            "dev set:  43%|████▎     | 3/7 [00:01<00:02,  1.80it/s]\u001b[A\n",
            "dev set:  57%|█████▋    | 4/7 [00:02<00:02,  1.24it/s]\u001b[A\n",
            "dev set:  71%|███████▏  | 5/7 [00:03<00:01,  1.30it/s]\u001b[A\n",
            "dev set:  86%|████████▌ | 6/7 [00:04<00:00,  1.35it/s]\u001b[A\n",
            "dev set: 100%|██████████| 7/7 [00:06<00:00,  1.14it/s]\n",
            "100%|██████████| 5/5 [02:53<00:00, 34.69s/it]"
          ]
        },
        {
          "output_type": "stream",
          "name": "stdout",
          "text": [
            "\n",
            "Train loss: 0.1014 Validation loss: 0.2757 Test loss: 0.3141\n",
            "Train accuracy: 0.9844 Validation accuracy: 0.9157 Test accuracy: 0.9191\n"
          ]
        },
        {
          "output_type": "stream",
          "name": "stderr",
          "text": [
            "\n"
          ]
        }
      ],
      "source": [
        "# Routine di addestramento\n",
        "train_loss, validation_loss,test_loss, train_acc, validation_acc, test_acc = train_test(model,\n",
        "                                                hyperparameters['epochs'],\n",
        "                                                optimizer,\n",
        "                                                device,\n",
        "                                                train_dataset,\n",
        "                                                test_dataset,\n",
        "                                                hyperparameters['batch_size'],\n",
        "                                                criterion,\n",
        "                                                criterion,\n",
        "                                                early_stopping,\n",
        "                                                val_dataset)"
      ]
    },
    {
      "cell_type": "code",
      "source": [
        "import matplotlib.pyplot as plt\n",
        "\n",
        "plt.plot(train_loss, label='training loss')\n",
        "plt.plot(validation_loss, label='validation loss')\n",
        "plt.plot(test_loss, label='test loss')\n",
        "plt.legend(loc='lower right')\n",
        "plt.ylim(0,4)\n",
        "plt.show()"
      ],
      "metadata": {
        "colab": {
          "base_uri": "https://localhost:8080/",
          "height": 435
        },
        "id": "v3jFVtjAzFqO",
        "outputId": "b21d1db4-b7c1-4a83-f278-1c56f2224345"
      },
      "execution_count": 36,
      "outputs": [
        {
          "output_type": "display_data",
          "data": {
            "text/plain": [
              "<Figure size 640x480 with 1 Axes>"
            ],
            "image/png": "[encoded data removed]"
          },
          "metadata": {}
        }
      ]
    },
    {
      "cell_type": "code",
      "execution_count": 37,
      "metadata": {
        "id": "9v9uNvAKPPvG",
        "colab": {
          "base_uri": "https://localhost:8080/",
          "height": 435
        },
        "outputId": "2393c6f8-c3f5-451a-ec9a-c3799f2c6ba1"
      },
      "outputs": [
        {
          "output_type": "display_data",
          "data": {
            "text/plain": [
              "<Figure size 640x480 with 1 Axes>"
            ],
            "image/png": "[encoded data removed]"
          },
          "metadata": {}
        }
      ],
      "source": [
        "plt.plot(train_acc, label='training accuracy')\n",
        "plt.plot(validation_acc, label='validation accuracy')\n",
        "plt.plot(test_acc, label='test accuracy')\n",
        "plt.legend(loc='lower right')\n",
        "plt.ylim(0,2)\n",
        "plt.show()"
      ]
    }
  ],
  "metadata": {
    "accelerator": "GPU",
    "colab": {
      "gpuType": "T4",
      "provenance": []
    },
    "kernelspec": {
      "display_name": "Python 3",
      "name": "python3"
    },
    "language_info": {
      "codemirror_mode": {
        "name": "ipython",
        "version": 3
      },
      "file_extension": ".py",
      "mimetype": "text/x-python",
      "name": "python",
      "nbconvert_exporter": "python",
      "pygments_lexer": "ipython3",
      "version": "3.7.11"
    }
  },
  "nbformat": 4,
  "nbformat_minor": 0
}