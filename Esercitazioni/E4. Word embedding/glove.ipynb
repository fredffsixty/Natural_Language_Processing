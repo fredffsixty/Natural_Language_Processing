{
  "cells": [
    {
      "cell_type": "markdown",
      "metadata": {
        "id": "view-in-github",
        "colab_type": "text"
      },
      "source": [
        "<a href=\"https://colab.research.google.com/github/fredffsixty/Natural_Language_Processing/blob/main/Esercitazioni/E4.%20Word%20embedding/glove.ipynb\" target=\"_parent\"><img src=\"https://colab.research.google.com/assets/colab-badge.svg\" alt=\"Open In Colab\"/></a>"
      ]
    },
    {
      "cell_type": "code",
      "execution_count": null,
      "metadata": {
        "id": "8ilFTxfgl7Sj"
      },
      "outputs": [],
      "source": [
        "import pandas as pd\n",
        "import sklearn\n",
        "from tqdm import tqdm\n",
        "import numpy as np\n",
        "import nltk\n",
        "from nltk.corpus import stopwords\n",
        "from torch import nn\n",
        "from torch.optim import Adam\n",
        "import torch"
      ]
    },
    {
      "cell_type": "code",
      "source": [
        "from google.colab import drive\n",
        "\n",
        "drive.mount('/content/gdrive')"
      ],
      "metadata": {
        "colab": {
          "base_uri": "https://localhost:8080/"
        },
        "id": "UXBCeCV6Fryo",
        "outputId": "b97254b3-ae37-4c2d-a866-20b6d2ccf5bc"
      },
      "execution_count": null,
      "outputs": [
        {
          "output_type": "stream",
          "name": "stdout",
          "text": [
            "Drive already mounted at /content/gdrive; to attempt to forcibly remount, call drive.mount(\"/content/gdrive\", force_remount=True).\n"
          ]
        }
      ]
    },
    {
      "cell_type": "code",
      "execution_count": null,
      "metadata": {
        "colab": {
          "base_uri": "https://localhost:8080/",
          "height": 206
        },
        "id": "juAPPaWFmS-y",
        "outputId": "811208fa-2cb4-4f44-b0ed-61124cb7a684"
      },
      "outputs": [
        {
          "output_type": "execute_result",
          "data": {
            "text/plain": [
              "        category                                               text\n",
              "0           tech  tv future in the hands of viewers with home th...\n",
              "1       business  worldcom boss  left books alone  former worldc...\n",
              "2          sport  tigers wary of farrell  gamble  leicester say ...\n",
              "3          sport  yeading face newcastle in fa cup premiership s...\n",
              "4  entertainment  ocean s twelve raids box office ocean s twelve..."
            ],
            "text/html": [
              "\n",
              "  <div id=\"df-62cc33cf-b2a8-4164-b1ed-41cfaf7685ab\" class=\"colab-df-container\">\n",
              "    <div>\n",
              "<style scoped>\n",
              "    .dataframe tbody tr th:only-of-type {\n",
              "        vertical-align: middle;\n",
              "    }\n",
              "\n",
              "    .dataframe tbody tr th {\n",
              "        vertical-align: top;\n",
              "    }\n",
              "\n",
              "    .dataframe thead th {\n",
              "        text-align: right;\n",
              "    }\n",
              "</style>\n",
              "<table border=\"1\" class=\"dataframe\">\n",
              "  <thead>\n",
              "    <tr style=\"text-align: right;\">\n",
              "      <th></th>\n",
              "      <th>category</th>\n",
              "      <th>text</th>\n",
              "    </tr>\n",
              "  </thead>\n",
              "  <tbody>\n",
              "    <tr>\n",
              "      <th>0</th>\n",
              "      <td>tech</td>\n",
              "      <td>tv future in the hands of viewers with home th...</td>\n",
              "    </tr>\n",
              "    <tr>\n",
              "      <th>1</th>\n",
              "      <td>business</td>\n",
              "      <td>worldcom boss  left books alone  former worldc...</td>\n",
              "    </tr>\n",
              "    <tr>\n",
              "      <th>2</th>\n",
              "      <td>sport</td>\n",
              "      <td>tigers wary of farrell  gamble  leicester say ...</td>\n",
              "    </tr>\n",
              "    <tr>\n",
              "      <th>3</th>\n",
              "      <td>sport</td>\n",
              "      <td>yeading face newcastle in fa cup premiership s...</td>\n",
              "    </tr>\n",
              "    <tr>\n",
              "      <th>4</th>\n",
              "      <td>entertainment</td>\n",
              "      <td>ocean s twelve raids box office ocean s twelve...</td>\n",
              "    </tr>\n",
              "  </tbody>\n",
              "</table>\n",
              "</div>\n",
              "    <div class=\"colab-df-buttons\">\n",
              "\n",
              "  <div class=\"colab-df-container\">\n",
              "    <button class=\"colab-df-convert\" onclick=\"convertToInteractive('df-62cc33cf-b2a8-4164-b1ed-41cfaf7685ab')\"\n",
              "            title=\"Convert this dataframe to an interactive table.\"\n",
              "            style=\"display:none;\">\n",
              "\n",
              "  <svg xmlns=\"http://www.w3.org/2000/svg\" height=\"24px\" viewBox=\"0 -960 960 960\">\n",
              "    <path d=\"M120-120v-720h720v720H120Zm60-500h600v-160H180v160Zm220 220h160v-160H400v160Zm0 220h160v-160H400v160ZM180-400h160v-160H180v160Zm440 0h160v-160H620v160ZM180-180h160v-160H180v160Zm440 0h160v-160H620v160Z\"/>\n",
              "  </svg>\n",
              "    </button>\n",
              "\n",
              "  <style>\n",
              "    .colab-df-container {\n",
              "      display:flex;\n",
              "      gap: 12px;\n",
              "    }\n",
              "\n",
              "    .colab-df-convert {\n",
              "      background-color: #E8F0FE;\n",
              "      border: none;\n",
              "      border-radius: 50%;\n",
              "      cursor: pointer;\n",
              "      display: none;\n",
              "      fill: #1967D2;\n",
              "      height: 32px;\n",
              "      padding: 0 0 0 0;\n",
              "      width: 32px;\n",
              "    }\n",
              "\n",
              "    .colab-df-convert:hover {\n",
              "      background-color: #E2EBFA;\n",
              "      box-shadow: 0px 1px 2px rgba(60, 64, 67, 0.3), 0px 1px 3px 1px rgba(60, 64, 67, 0.15);\n",
              "      fill: #174EA6;\n",
              "    }\n",
              "\n",
              "    .colab-df-buttons div {\n",
              "      margin-bottom: 4px;\n",
              "    }\n",
              "\n",
              "    [theme=dark] .colab-df-convert {\n",
              "      background-color: #3B4455;\n",
              "      fill: #D2E3FC;\n",
              "    }\n",
              "\n",
              "    [theme=dark] .colab-df-convert:hover {\n",
              "      background-color: #434B5C;\n",
              "      box-shadow: 0px 1px 3px 1px rgba(0, 0, 0, 0.15);\n",
              "      filter: drop-shadow(0px 1px 2px rgba(0, 0, 0, 0.3));\n",
              "      fill: #FFFFFF;\n",
              "    }\n",
              "  </style>\n",
              "\n",
              "    <script>\n",
              "      const buttonEl =\n",
              "        document.querySelector('#df-62cc33cf-b2a8-4164-b1ed-41cfaf7685ab button.colab-df-convert');\n",
              "      buttonEl.style.display =\n",
              "        google.colab.kernel.accessAllowed ? 'block' : 'none';\n",
              "\n",
              "      async function convertToInteractive(key) {\n",
              "        const element = document.querySelector('#df-62cc33cf-b2a8-4164-b1ed-41cfaf7685ab');\n",
              "        const dataTable =\n",
              "          await google.colab.kernel.invokeFunction('convertToInteractive',\n",
              "                                                    [key], {});\n",
              "        if (!dataTable) return;\n",
              "\n",
              "        const docLinkHtml = 'Like what you see? Visit the ' +\n",
              "          '<a target=\"_blank\" href=https://colab.research.google.com/notebooks/data_table.ipynb>data table notebook</a>'\n",
              "          + ' to learn more about interactive tables.';\n",
              "        element.innerHTML = '';\n",
              "        dataTable['output_type'] = 'display_data';\n",
              "        await google.colab.output.renderOutput(dataTable, element);\n",
              "        const docLink = document.createElement('div');\n",
              "        docLink.innerHTML = docLinkHtml;\n",
              "        element.appendChild(docLink);\n",
              "      }\n",
              "    </script>\n",
              "  </div>\n",
              "\n",
              "\n",
              "<div id=\"df-cb5e9e38-2301-4c57-8e88-98d8b91f2a62\">\n",
              "  <button class=\"colab-df-quickchart\" onclick=\"quickchart('df-cb5e9e38-2301-4c57-8e88-98d8b91f2a62')\"\n",
              "            title=\"Suggest charts.\"\n",
              "            style=\"display:none;\">\n",
              "\n",
              "<svg xmlns=\"http://www.w3.org/2000/svg\" height=\"24px\"viewBox=\"0 0 24 24\"\n",
              "     width=\"24px\">\n",
              "    <g>\n",
              "        <path d=\"M19 3H5c-1.1 0-2 .9-2 2v14c0 1.1.9 2 2 2h14c1.1 0 2-.9 2-2V5c0-1.1-.9-2-2-2zM9 17H7v-7h2v7zm4 0h-2V7h2v10zm4 0h-2v-4h2v4z\"/>\n",
              "    </g>\n",
              "</svg>\n",
              "  </button>\n",
              "\n",
              "<style>\n",
              "  .colab-df-quickchart {\n",
              "      --bg-color: #E8F0FE;\n",
              "      --fill-color: #1967D2;\n",
              "      --hover-bg-color: #E2EBFA;\n",
              "      --hover-fill-color: #174EA6;\n",
              "      --disabled-fill-color: #AAA;\n",
              "      --disabled-bg-color: #DDD;\n",
              "  }\n",
              "\n",
              "  [theme=dark] .colab-df-quickchart {\n",
              "      --bg-color: #3B4455;\n",
              "      --fill-color: #D2E3FC;\n",
              "      --hover-bg-color: #434B5C;\n",
              "      --hover-fill-color: #FFFFFF;\n",
              "      --disabled-bg-color: #3B4455;\n",
              "      --disabled-fill-color: #666;\n",
              "  }\n",
              "\n",
              "  .colab-df-quickchart {\n",
              "    background-color: var(--bg-color);\n",
              "    border: none;\n",
              "    border-radius: 50%;\n",
              "    cursor: pointer;\n",
              "    display: none;\n",
              "    fill: var(--fill-color);\n",
              "    height: 32px;\n",
              "    padding: 0;\n",
              "    width: 32px;\n",
              "  }\n",
              "\n",
              "  .colab-df-quickchart:hover {\n",
              "    background-color: var(--hover-bg-color);\n",
              "    box-shadow: 0 1px 2px rgba(60, 64, 67, 0.3), 0 1px 3px 1px rgba(60, 64, 67, 0.15);\n",
              "    fill: var(--button-hover-fill-color);\n",
              "  }\n",
              "\n",
              "  .colab-df-quickchart-complete:disabled,\n",
              "  .colab-df-quickchart-complete:disabled:hover {\n",
              "    background-color: var(--disabled-bg-color);\n",
              "    fill: var(--disabled-fill-color);\n",
              "    box-shadow: none;\n",
              "  }\n",
              "\n",
              "  .colab-df-spinner {\n",
              "    border: 2px solid var(--fill-color);\n",
              "    border-color: transparent;\n",
              "    border-bottom-color: var(--fill-color);\n",
              "    animation:\n",
              "      spin 1s steps(1) infinite;\n",
              "  }\n",
              "\n",
              "  @keyframes spin {\n",
              "    0% {\n",
              "      border-color: transparent;\n",
              "      border-bottom-color: var(--fill-color);\n",
              "      border-left-color: var(--fill-color);\n",
              "    }\n",
              "    20% {\n",
              "      border-color: transparent;\n",
              "      border-left-color: var(--fill-color);\n",
              "      border-top-color: var(--fill-color);\n",
              "    }\n",
              "    30% {\n",
              "      border-color: transparent;\n",
              "      border-left-color: var(--fill-color);\n",
              "      border-top-color: var(--fill-color);\n",
              "      border-right-color: var(--fill-color);\n",
              "    }\n",
              "    40% {\n",
              "      border-color: transparent;\n",
              "      border-right-color: var(--fill-color);\n",
              "      border-top-color: var(--fill-color);\n",
              "    }\n",
              "    60% {\n",
              "      border-color: transparent;\n",
              "      border-right-color: var(--fill-color);\n",
              "    }\n",
              "    80% {\n",
              "      border-color: transparent;\n",
              "      border-right-color: var(--fill-color);\n",
              "      border-bottom-color: var(--fill-color);\n",
              "    }\n",
              "    90% {\n",
              "      border-color: transparent;\n",
              "      border-bottom-color: var(--fill-color);\n",
              "    }\n",
              "  }\n",
              "</style>\n",
              "\n",
              "  <script>\n",
              "    async function quickchart(key) {\n",
              "      const quickchartButtonEl =\n",
              "        document.querySelector('#' + key + ' button');\n",
              "      quickchartButtonEl.disabled = true;  // To prevent multiple clicks.\n",
              "      quickchartButtonEl.classList.add('colab-df-spinner');\n",
              "      try {\n",
              "        const charts = await google.colab.kernel.invokeFunction(\n",
              "            'suggestCharts', [key], {});\n",
              "      } catch (error) {\n",
              "        console.error('Error during call to suggestCharts:', error);\n",
              "      }\n",
              "      quickchartButtonEl.classList.remove('colab-df-spinner');\n",
              "      quickchartButtonEl.classList.add('colab-df-quickchart-complete');\n",
              "    }\n",
              "    (() => {\n",
              "      let quickchartButtonEl =\n",
              "        document.querySelector('#df-cb5e9e38-2301-4c57-8e88-98d8b91f2a62 button');\n",
              "      quickchartButtonEl.style.display =\n",
              "        google.colab.kernel.accessAllowed ? 'block' : 'none';\n",
              "    })();\n",
              "  </script>\n",
              "</div>\n",
              "    </div>\n",
              "  </div>\n"
            ]
          },
          "metadata": {},
          "execution_count": 81
        }
      ],
      "source": [
        "# Dataset\n",
        "# repository https://github.com/iresiragusa/NLP/tree/main\n",
        "# https://www.kaggle.com/datasets/yufengdev/bbc-fulltext-and-category?select=bbc-text.csv\n",
        "# scarichiamo il dataset e lo carichiamo su COLAB\n",
        "\n",
        "root = \"/content/gdrive/MyDrive/Colab Notebooks/torch/\"\n",
        "df = pd.read_csv(root+\"data/BBC-text/bbc-text.csv\")\n",
        "df.head()"
      ]
    },
    {
      "cell_type": "code",
      "execution_count": null,
      "metadata": {
        "colab": {
          "base_uri": "https://localhost:8080/"
        },
        "id": "EBaXhs_hmXfD",
        "outputId": "c8c2e12b-f5cc-444e-a78c-d8cc0be1fe01"
      },
      "outputs": [
        {
          "output_type": "stream",
          "name": "stdout",
          "text": [
            "n sample -> 2225\n",
            "categories -> {'tech', 'sport', 'politics', 'entertainment', 'business'}[5]\n",
            "sport            511\n",
            "business         510\n",
            "politics         417\n",
            "tech             401\n",
            "entertainment    386\n",
            "Name: category, dtype: int64\n"
          ]
        }
      ],
      "source": [
        "# il dataset è formato da 2225 sample contenenti aricoli della BBC\n",
        "# suddivisi in 5 categorie in base al loro topic\n",
        "\n",
        "print('n sample -> '+str(len(df)))\n",
        "labels = set(df['category'])\n",
        "print('categories -> '+str(labels)+'['+str(len(labels))+']')\n",
        "print(df['category'].value_counts())\n",
        "#df.groupby(['category']).size().plot.bar()"
      ]
    },
    {
      "cell_type": "code",
      "execution_count": null,
      "metadata": {
        "colab": {
          "base_uri": "https://localhost:8080/"
        },
        "id": "SRFN-Xo3g9Vz",
        "outputId": "2008a4f0-4a74-4abd-932e-4d54a9841acc"
      },
      "outputs": [
        {
          "output_type": "execute_result",
          "data": {
            "text/plain": [
              "0                tech\n",
              "1            business\n",
              "2               sport\n",
              "3               sport\n",
              "4       entertainment\n",
              "            ...      \n",
              "2220         business\n",
              "2221         politics\n",
              "2222    entertainment\n",
              "2223         politics\n",
              "2224            sport\n",
              "Name: category, Length: 2225, dtype: object"
            ]
          },
          "metadata": {},
          "execution_count": 83
        }
      ],
      "source": [
        "df['category']"
      ]
    },
    {
      "cell_type": "code",
      "execution_count": null,
      "metadata": {
        "id": "M57lBcrOgpXT",
        "colab": {
          "base_uri": "https://localhost:8080/"
        },
        "outputId": "3422b836-f2a2-4d99-89e3-0d43b603c640"
      },
      "outputs": [
        {
          "output_type": "execute_result",
          "data": {
            "text/plain": [
              "0       2\n",
              "1       0\n",
              "2       3\n",
              "3       3\n",
              "4       4\n",
              "       ..\n",
              "2220    0\n",
              "2221    1\n",
              "2222    4\n",
              "2223    1\n",
              "2224    3\n",
              "Name: labels, Length: 2225, dtype: int64"
            ]
          },
          "metadata": {},
          "execution_count": 84
        }
      ],
      "source": [
        "# associo ad ogni categoria un indice, così ho delle label numeriche\n",
        "labels_dict = {\n",
        "    'business': 0,\n",
        "    'politics': 1,\n",
        "    'tech': 2,\n",
        "    'sport': 3,\n",
        "    'entertainment': 4\n",
        "}\n",
        "\n",
        "df['labels'] = df.apply(lambda row: labels_dict[row.category], axis = 1)\n",
        "\n",
        "df['labels']"
      ]
    },
    {
      "cell_type": "code",
      "execution_count": null,
      "metadata": {
        "id": "GPmyopURmgI2"
      },
      "outputs": [],
      "source": [
        "from sklearn.model_selection import train_test_split\n",
        "\n",
        "(x_train, x_test, y_train, y_test) = train_test_split(\n",
        "    df['text'], df['labels'], test_size=0.2, random_state=17)\n",
        "\n",
        "(x_train, x_val, y_train, y_val) = train_test_split(\n",
        "    x_train, y_train, test_size=0.1, random_state=17)\n",
        "\n",
        "# sarebbe uno split 72, 8, 20 per avere lo stesso test dell'altra volta"
      ]
    },
    {
      "cell_type": "code",
      "execution_count": null,
      "metadata": {
        "colab": {
          "base_uri": "https://localhost:8080/"
        },
        "id": "upjTaC4wdfUy",
        "outputId": "81a0af7b-9aa4-45ad-8b9a-0689102259d1"
      },
      "outputs": [
        {
          "output_type": "stream",
          "name": "stdout",
          "text": [
            "1602\n",
            "178\n",
            "445\n"
          ]
        }
      ],
      "source": [
        "print(len(x_train))\n",
        "print(len(x_val))\n",
        "print(len(x_test))"
      ]
    },
    {
      "cell_type": "code",
      "execution_count": null,
      "metadata": {
        "colab": {
          "base_uri": "https://localhost:8080/"
        },
        "id": "y6nwHqTEmuKx",
        "outputId": "6ea6c59f-c8d2-46e3-8559-15f82d8f9156"
      },
      "outputs": [
        {
          "output_type": "stream",
          "name": "stderr",
          "text": [
            "[nltk_data] Downloading package punkt to /root/nltk_data...\n",
            "[nltk_data]   Package punkt is already up-to-date!\n",
            "[nltk_data] Downloading package stopwords to /root/nltk_data...\n",
            "[nltk_data]   Package stopwords is already up-to-date!\n"
          ]
        }
      ],
      "source": [
        "nltk.download('punkt')\n",
        "nltk.download('stopwords')\n",
        "\n",
        "class Dataset(torch.utils.data.Dataset):\n",
        "\n",
        "    def __init__(self, x, y, stopwords):\n",
        "\n",
        "        if stopwords:\n",
        "            tokens_litt = [nltk.word_tokenize(text, language='english') for text in list(x)]\n",
        "            text_clean = []\n",
        "            for sentence in tqdm(tokens_litt, desc='Tokenizing ... '):\n",
        "                text_clean.append(' '.join([w for w in sentence if not w.lower() in nltk.corpus.stopwords.words(\"english\")]))\n",
        "        else:\n",
        "            tokens_litt = [nltk.word_tokenize(text, language='english') for text in list(x)]\n",
        "            text_clean = []\n",
        "            for sentence in tqdm(tokens_litt, desc='Tokenizing ... '):\n",
        "                #sentence_clean = ' '.join([w.lower() for w in sentence])\n",
        "                #text_clean.append(sentence_clean)\n",
        "                text_clean.append(' '.join([w.lower() for w in sentence]))\n",
        "            # ogni token è separato dall'altro con uno spazio\n",
        "        self.texts = [text for text in text_clean]\n",
        "        self.labels = [torch.tensor(label) for label in y]\n",
        "\n",
        "    def classes(self):\n",
        "        return self.labels\n",
        "\n",
        "    def __len__(self):\n",
        "        return len(self.labels)\n",
        "\n",
        "    def get_batch_labels(self, idx):\n",
        "        # Fetch a batch of labels\n",
        "        return np.array(self.labels[idx])\n",
        "\n",
        "    def get_batch_texts(self, idx):\n",
        "        # Fetch a batch of inputs\n",
        "        return self.texts[idx]\n",
        "\n",
        "    def __getitem__(self, idx):\n",
        "\n",
        "        batch_texts = self.get_batch_texts(idx)\n",
        "        batch_labels = self.get_batch_labels(idx)\n",
        "\n",
        "        return batch_texts, batch_labels"
      ]
    },
    {
      "cell_type": "code",
      "execution_count": null,
      "metadata": {
        "id": "YwK_BUUzlFJ-"
      },
      "outputs": [],
      "source": [
        "hyperparameters = {\n",
        "    \"epochs\": 5,\n",
        "    \"learning_rate\": 1e-3,\n",
        "    \"batch_size\": 64,\n",
        "    \"dropout\": 0.1,\n",
        "    #\"stopwords\": True,\n",
        "    \"stopwords\": False,\n",
        "    #\"layers\": 3,\n",
        "    \"layers\": 1,\n",
        "    \"h_dim\": 300,\n",
        "    #\"h_dim\": 50,\n",
        "    #\"bilstm\": False,\n",
        "    \"bilstm\": True,\n",
        "    \"patience\": 5,\n",
        "    \"min_delta\": 0.01\n",
        "}"
      ]
    },
    {
      "cell_type": "code",
      "execution_count": null,
      "metadata": {
        "colab": {
          "base_uri": "https://localhost:8080/"
        },
        "id": "DnC3SzpfpWrZ",
        "outputId": "7b3d1334-60e1-4c3d-e3b3-dc0bd31917b6"
      },
      "outputs": [
        {
          "output_type": "stream",
          "name": "stderr",
          "text": [
            "Tokenizing ... : 100%|██████████| 1602/1602 [00:00<00:00, 19886.10it/s]\n",
            "Tokenizing ... : 100%|██████████| 178/178 [00:00<00:00, 16945.53it/s]\n",
            "Tokenizing ... : 100%|██████████| 445/445 [00:00<00:00, 17445.56it/s]\n"
          ]
        }
      ],
      "source": [
        "#creo i dataset\n",
        "\n",
        "train_dataset = Dataset(x_train, y_train, hyperparameters[\"stopwords\"])\n",
        "val_dataset = Dataset(x_val, y_val, hyperparameters[\"stopwords\"])\n",
        "test_dataset = Dataset(x_test, y_test, hyperparameters[\"stopwords\"])"
      ]
    },
    {
      "cell_type": "code",
      "source": [
        "train_dataloader = torch.utils.data.DataLoader(train_dataset, batch_size=32, shuffle= True)\n",
        "for x,y in train_dataloader:\n",
        "#for x,y in train_dataset:\n",
        "    print(x)\n",
        "    print(y)\n",
        "    break"
      ],
      "metadata": {
        "colab": {
          "base_uri": "https://localhost:8080/"
        },
        "id": "JoJFjO3YFqL0",
        "outputId": "8f3995d2-4473-4c69-b964-4cb6f073a39f"
      },
      "execution_count": null,
      "outputs": [
        {
          "output_type": "stream",
          "name": "stdout",
          "text": [
            "('profits stall at china s lenovo profits at chinese computer firm lenovo have stood still amid slowing demand at home and stiffening competition . the firm is in the international spotlight after last year signing a deal to buy the pc division of personal computer pioneer ibm . lenovo s profit for the three months to december was hk $ 327m ( us $ 42m ; £22m ) less than 1 % up on the year before . chinese pc sales have risen by a fifth in each of the past two years but are now growing more slowly . the company is still by far the biggest player in china with more than a quarter of the market . but western firms such as dell and hewlett-packard are also mounting a more solid fight for market share in china and lenovo s sales were down 3.7 % by revenue to hk $ 6.31bn . if the $ 1.75bn agreement lenovo signed with ibm on 8 december goes through it will mark the end of an era . ibm pioneered the desktop pc market in the early 1980s although strategic mis-steps helped lose it its early dominance . in any case margins in pc market are now wafer thin and profits have been hard to come by for most vendors except direct-sales giant dell . but investors have been less than impressed with lenovo s move designed to take it out of china and further onto the world stage . its shares are down 20 % since the announcement two months ago largely because of the unprofitability of the unit it is buying . there have been rumours that the deal could be in trouble because us government agencies fear it could offer china opportunities for industrial espionage . the reports of the possibility of an investigation into the risk sent lenovo s shares up 6 % in late january .', 'parliament s record of scandal in a locked room at the heart of parliament there is a hive of scandal . sex betrayal and custody of children are all there in this affair but this time it has nothing to do with the recent troubles of david blunkett or boris johnson . few realise that westminster in effect has its own divorce den . for sprinkled among 12 floors of archives are blow-by-blow accounts of marital break-ups - and now you can search what s there online . until 1857 the only way in england to get a full divorce which allowed re-marriage was to obtain an act of parliament by proving adultery or life-threatening cruelty . the legacy is pages of testimonies used in the hearings dating back to 1670 all recorded among the 325 000 items which fill the 12 floors of the parliamentary archives in parliament s victoria tower . most people researching their family history want to discover some tale of illicit love . this gives them the chance . divorce by parliament was an expensive process open really only to the rich but the records also include the testimony of maids butlers and coachmen about their masters and mistresses . among the records is the story of jane campbell the first woman ever to divorce her husband . that happened in 1801 after she had discovered her husband edward addison had committed adultery with her sister jessy . a transcript of evidence from jessy s maid amelia laugher shows her telling how addison frequently passed by her on the way to the room where she had just put her mistress naked to bed . it must have been a killer blow to addison s case - he had already fled abroad rather than pay the £5 000 damages ordered by a civil court . as well as making divorce history jane campbell won custody of her children - unusual for a woman at the time . but divorces are by no means the only documents in the archives which hold personal details of people often far removed from politics and parliament . there are the protestation returns from 1642 - lists of the protestants who pledged to maintain the true reformed protestant religion . there are details of foreign nationals made british citizens by act of parliament including composer george frideric handel in 1727. and the mass of private bills which for example authorise the building of railways and roads contain both the names and addresses of those involved and testimonies giving people a unique perspective on how their ancestors opposed them . tax bills may be an extra source for pedigree hunters - the longest stretches for about 300m and is longer than the palace of westminster itself listing the names of appointed tax collectors . this wealth of material has long been open to the public at the house of lords record office with visitors able to phone ahead when they want to view particular items in the search room . but now five years of work has produced an online catalogue . david prior assistant clerk of the archives says the catalogue opens up new possibilities for research . before you just could not do it you faced trawling through pages and pages of printed material he says . mr prior sees the changes as part of a wider revolution in archives generally . the archive profession may look fairly staid but is in an enormous period of change mainly motivated by the potential of it which is opening up all sorts of vistas for us he says . the archives do of course hold records of high ( and low ) politics too for both houses of parliament including copies of all acts passed since 1497 - the oldest dealing with the employment of workers in the woollen industry in norfolk . records for the commons only date back to 1834 - anything earlier was wiped out by the fire which destroyed most of the parliament buildings in 1834. but that still leaves some of the most important documents of uk political history - parts of the bill of rights from 1689 the death warrant for charles i the private papers and diaries of major politicians such as david lloyd george and andrew bonar law . there is also the 1606 act establishing 5 november as a thanksgiving day - the year after the gunpowder plot . that document is likely to feature in the exhibition the archives will put on next year as part of a series of events across london to mark the 400th anniversary of guy fawkes conspiracy . as mr prior remarks as we walk by shelf after shelf of vellum ( parchment made from goat s skin ) : all human life is here .', 'terror powers expose tyranny the lord chancellor has defended government plans to introduce control orders to keep foreign and british terrorist suspects under house arrest where there isn t enough evidence to put them on trial . lord falconer insists that the proposals do not equate to a police state and strike a balance between protecting the public against the threat of terrorism and upholding civil liberties . but thriller writer frederick forsyth tells bbc news of his personal response to the move . there is a mortal danger aimed at the heart of britain . or so says home secretary charles clarke . my reaction so what it is not that i am cynical or just do not care . i care about this country very much . but in the 66 years that i have been alive there has not been one hour of one day of one month of one year when there has not been a threat aimed at us . my point is the british have always coped without becoming a dictatorship . we have coped with fear without becoming a state based on fear ; we have coped with threat without turning our country into a land of state threat . but that is what the blair government now seeks to do - create a tyranny to defend us from the al-qaeda tyranny . i was born on 25 august 1938. the mortal threat back then was a scruffy little austrian called adolf hitler . a week after my first birthday the threat had become reality . we were at war . my father wore a uniform for five years . after 1945 we yearned for peace at last . but in 1946 winston churchill told us - from the baltic to the adriatic an iron curtain has descended across europe . behind the iron curtain another genocidal psychopath another threat . josef stalin triggered the cold war with the berlin blockade in 1948. my whole generation was blighted by it . we were threatened by the nuclear holocaust the nuclear wind the nuclear winter . we built shelters that would have sheltered nothing . we spent our treasure on weapons instead of hospitals . we took silly precautions . some fought it ; some marched futilely against it . some pretended it was not there . the cold war lasted 43 years but we remained a parliamentary democracy . by the early seventies it was terrorism as well . al fatah black september red brigades but most of all for us the ira and the inla . thirty more years ; 300 policemen and women over 600 soldiers more than 3 000 civilians dead but we won because even ira bombs could not force us to become a tyranny . that was why the tyrants lost . civil rights were infringed as little as humanly possible . evidence had to be taken in secret to protect covert sources ; yes and one judge no-jury courts had to be instituted when juries were terrorised . informants had to be given immunity from their own crimes to win the bigger battle . but habeas corpus did not die ; right of appeal was not abolished . now the threat is islamic fundamentalism . its leaders want to destroy our society ; so did the ira . it is based and funded abroad ; so was the ira . it has sleeper fanatics inside our society ; so did the ira . it is extremely hard to penetrate with our agents ; so was the ira . the prime movers are not easy to bring to trial ; neither were the ira . but we did . and without becoming a tyranny . now the blair government proposes the law system of fascism and communism . the citizen can be arrested and held without charge or trial not even on the careful consideration of an experienced judge but the whim of a political activist called a government minister . to be protected from terror the government says we must become a tyranny . but a tyranny is based on the citizen s terror . this is not victory ; this is defeat before a shot is fired . an interesting article - its good to see widening participation in the debate - but i suggest we move one step further . our own bombs and bullets will can only shatter peace because invading foreign nations imprisoning the innocent and hunting in the shadows can not destroy an evil of the mind and hatred within the heart . rather than focusing upon effect we should consider the cause because terrorism does not begin with bombs . why not try a foreign policy of compassion it can only enhance our democracy and share our freedom . i agree with frederick forsyth . we really can t deal with terrorism by turning britain into a fascist state . what we really need is more honesty from our security services and our politicians . if they do not have evidence to bring these people to trial there probably isn t any . our security services behave like the detective who having decided that a certain person is guilty rakes over all kinds of obscure and flimsy evidence to try and prove it while the real villain gets away . remember there were no wmd in iraq . just because a person may have made some stupid and naive decisions in life does not make them a terrorist . in this overly politically correct society it is good to see someone like mr. forsyth speak out . yes there has been oppression by the british government in the past and overstepping the mark in places like ireland but yes we are still a democracy where it is rare to be arrested without charge/trial etc . ( apart from a number of prisoners in belmarsh goal for example ) .this country signs up to human rights and then pretends that they only apply to the people with nothing to fear the innocent people ( defined by whom ) . when id cards become mandatory the data collected will not be protected by the data protection act and will be readily available to people like gchq with no control by the person whose id is being checked . the threat now is new . you can not compare the threats of past years with now . forsyth says 3000 died over 30 years or terrorism ; 3000 people died in one morning in ny on september 11th 2001. the threat today is that terrorists will acquire nuclear or biological technology . a kilo of semtex will flatten a building a kilo of plutonium will flatten a city . you now have a combination of people who will perform terrorist acts with technology that is rapidly becoming accessible . i agree the government is probably encouraging a degree of mass-hysteria and talking up the threat ; but talking-down the threat and doing nothing is unacceptable too . the problem with this issue is not that it isn t important but the fact that in general we brits can be so politically apathetic some times that we will just let this go without telling the government no . however as the nation that gave the world the common law and a true sense of the rights of individual liberty i hope this will prove to be one step too far . as somebody of chinese origin i can say that this country used to be a good place to migrate and start a new life . whilst life wasn t perfect we could make better for ourselves . now we are riddled with red tape and be told what we can or can not do . we have to be politically-correct and we are not allowed to have beliefs or opinions . we have a prime minister who spends too much time meddling in us politics and affairs which have little to do with the lives of british citizens at home or abroad . mr forsyth has done a good job in voicing his opinions . let s hope the bbc doesn t get gagged for letting people express their views . the people have the right to know and the bbc s role is to inform educate and entertain ... i agree . terrorists intend to spread fear but in reality it is the government which has spread the fear by its constant publicising of the this invisible enemy so dangerous that we must allow them to ride roughshod over our rights and liberties . in the end the very thing we seek to protect is what we are giving up in the name of safety from this invisible enemy . the terrorists have already won . i absolutely agree with frederick forsyth . yes we have to defend ourselves against terrorism but existing laws seem to be more than adequate . the idea that the new terrorism demands new powers is erroneous . the evidence of any real terrorist capability in the uk is scant . ricin for example is a dangerous poison but it is not a weapon of mass destruction . what is really worrying is the enthusiasm of mr blair and his government for authoritarian reactions and attempts to manipulate the electorate through fear . if the government has its way with id cards tracking and so on then totalitarianism has won and as such it then matters little whether we give in to the terrorists demands or not . we will have lost the precious freedom which bush and blair constantly tells us we have and that they seek to bring to others . i agree wholeheartedly with mr forsyth . i am shocked at the ease with which this government is prepared to wipe out a major portion of the liberties that british people have enjoyed for centuries - the right not to be deprived of our liberty without a trial in open court . that goes right back to magna carta and ordinary people have spilled their blood to enforce that right against governments who thought they knew best . when you look at today s britain you realise george orwell was only wrong about one thing : the date . frederick forsyth puts it beautifully . the government is seeking to introduce a police state . the new powers of home internment without trial follow a pattern which includes the introduction of surveillance via compulsory id cards and the linking of data bases together with the un-british idea that we will have to swear allegiance to the state at the age of 18 years . we are sleep-walking into this . wake up ! an interesting view but missing two crucial facts of this new threat : 1 ) if these terrorists acquire weapons of mass destruction they will use them without fear of mutually assured destruction that kept the cold war in a state of tense balance . these people will use devastating force against us without fear of any consequence . 2 ) the terrorists are prepared to use suicide bombers which means they could kill innocent people on the london underground and we could do very little to stop it . because these terrorists are potentially so deadly we have to come up with new tougher responses . it will be a little late in the day when people outside london wake up one morning to find out that london has been nuked . we won t have much of a society left to debate ! he s correct in most of what he says . mind you he does seem to have forgotten that disgraceful internment policy in northern ireland which probably caused many idealistic if misguided young catholics to join the ira . administrative detention of muslims could have a similar effect now . surely we the public would be better protected if the security services rather than alerting a suspect terrorist by placing them under house arrest ( and for how long ) they were to place suspect terrorist under surveillance and maybe acquire sufficient evidence to prosecute or even better prevent a terrorist attack . i don t usually have much time for mr forsyth s largely right wing views but this time he has got it spot on . there is no doubt that there are terrorist organisations who would like to do harm to the u.k. but it is very doubtful whether al-qaeda is a global organisation co-ordinating this . the rise of surveillance cameras id cards the plan to charge for road use by tracking every vehicle at all times this is the stuff of nightmares . add to this this new legislation which effectively means that the protection of the law will be removed from anyone at the whim of the home secretary and i genuinely wonder what sort of world my two children will inherit . where will this end . as it stands terrorists do not need to attack the u.k. it s government will soon have it s people terrorised more that they could very achieve with a few bombs . mr forsyth has expressed exactly what my gut fears and reservations were about this proposed legislation but could not verbalise . thank you . mr forsyth seems to forget that killings in the troubles occurred on both sides of the religious divide and was carried out by killers from both sides . he also forgets basic human rights were suspended then as now . experienced judges sat over some of the greatest miscarriages of justice during those times . for very little return and maximum alienation . these laws and the emphasis on the islamic threat will just do the same . forsyth is wrong . the nature of the current threat is new . it is no longer to our armed forces as the soviet threat in the eastern bloc was . it is to you and i. the terrorist aim to kill indiscriminately . the best comparison is therefore the blitz 1941. at this time let us not forget suspects ( foreign and british were routinely rounded up and interned for the duration of the war without any complaints from the public . we must not forget we are at war . i d say that that the likelihood of an attack by a sleeper cell of fundamentalist lunatics against a major uk target is a when not an if probability . i ll bet any money you like that the day after any such attack freddie forsyth will be saying that the government didn t do enough to protect the uk . people like forsyth can only see one side of any argument and for him it is the side that is opposite new labour and tony blair . i agree wholeheartedly with mr forsyth . the very reason this country has been such a wonderful place to live is under attack not from terrorists but from this government . the perpetuation of the perceived terrorist threat is not because of what the alleged terrorists are doing but from our own government . i believe what this government is doing is at the very least highly questionable and at worst sinister . at what point will they feel they have enough control over every single person in the british isles ; when we are all tagged and monitored constantly our freedom is being craftily and surreptitiously whittled away by this government and we are gaining nothing . it should be of great concern to everyone . i am slightly older than mr forsyth and therefore have lived through the same history as him . i am against a police state and would not like to think that i lived in one . i think that the attack on iraq made the international situation worse and may have provoked further acts of terrorism . how true . there are extremely worrying parallels between britain now and germany during the 30 s. i never thought it would be so easy to take over a country from within . mr forsyth has forgotten one key point ; the terrorists who threaten britain today are well aware that hitler stalin and the ira all failed . as a result modern day terrorists are willing to do things their predecessors did not . that does not mean that the civil liberties of modern britain must be eroded to counter the threat ; that should always be the absolute last resort . but to meet the new threat to defeat the sinister fanaticism of today s terrorists we may need to do things a little differently . let us hope not . frederic forsythe s comments seem to me to be a well-thought-out analysis of why we ( human society as a whole and britain in particular ) should resist the temptation to over-protect through fear . it is this fear which enables terrorists to succeed in the end and terrorists can come in all forms as mr. forsythe s opening comments suggest . i am reminded of a quote attributed to thomas jefferson . a nation that limits freedom in the name of security will have neither . the government are faced with an incredibly difficult task and have made a policy to deal with it . it s all very well criticising that policy but if mr forsythe can t draw on his years of experience to offer an alternative i say so what to his opinions . frederick forsyth s rhetoric is absurd and his conclusions laughable . he distorts reality to serve his own prejudice against new labour . this government seeks to balance protection of our democracy with minimum loss of civil rights . it is frederick forsyth who is the extremist because he does not appreciate the need for balance . i rarely find myself agreeing with my forsyth but in this instance i think he is correct . the rule of law must prevail civil liberties are worth defending . if the government can hold suspects without charge or trial what s next i agree absolutely . by introducing fascist type laws we loose the moral high ground in our fight against terror . our democratic system is not perfect but as churchill points out it is better than all the others that have been tried . terrorist attacks will take place but for many reasons we should take that personal risk in return for personal freedom . i do not usually agree with mr. forsyth but he is spot on here . the single biggest threat we face is that of a government dedicated to acting illegally and manipulating international and national law to suit its own purpose . totalitarianism always requires an outside threat justifying a range of extraordinary powers leaders want . the british government is a far greater threat that and terrorist organisation . although in principle i agree with him frederick forsyth fails to address one key point- al-qaeda attacks ( though obviously there have been none yet in the uk ) seek to kill the maximum number of people . the ira wanted to limit the death toll of their attacks so as to maintain support among the republican movement . yes i agree with mr. forsyth s views . i do not believe the government s plans are justified . there is over reaction to and the negative influence of the us president s interpretation of democracy and freedom . he uses the same arguments that were current before the wwii the wars to liberate iraq afghanistan with syria and iran to come . we are leaving a poor inheritance for the future generations . mr forsyth is a wonderful writer and should keep his fiction where it belongs . the british government is not going down the road that mr forsyth suggests . sadly comments such as his will make a lot of people believe that they are governed by people who are fast becoming tyrants instead of being genuinely committed to stopping tyranny even if the method employed to do that is at the moment alien to the british people who have lived in a democracy protected by tony blair and others of like mind who mr. forsyth seems to be putting along side the scruffy little austrian . thomas hobbes would be smiling in his grave at labour s propositions . like new labour he called himself a libertarian . like new labour he believed he was promoting the people s best interests . but as forsythe criticises this government hobbes has been criticised by most subsequent philosophers for arguing his way into the hands of the totalitarians . simply put he argued that in favour of the ultimate liberty - the liberty to live - man should be prepared to surrender all other liberties to a supreme sovereign as protection against his fellow barbaric man . hobbes has been roundly condemned by posterity and rightly so . i hope new labour suffers the same treatment . i agree with mr forsyth s views . the governments approach is totally against the spirit of british democracy . they must not be allowed to get away with it . of course frederick is wrong about britain winning the war against the ira and he s wrong too about the country not becoming a tyranny . has he forgotten about shoot to kill torture internment without trial collusion with loyalist death squads etc my background is somewhat similar to freddie s so i am persuaded to agree with many of his sentiments . we can have no moral justification for imposing our system of government on anyone while we are systematically depriving our own citizens of basic individual and collective freedoms . whilst the principle of keeping potential terrorists under house arrest might seem superficially attractive it is unfortunately also the first step towards totalitarianism . who is to decide whom is a suspect why should we believe them who can have faith in the honesty integrity and competence of our intelligence services and politicians in light of the events of recent years what is to stop false denunciations what of those falsely accused who will lose their careers who will support their families will their children still go to school it smacks to me of the methods of nazi germany stalin s russia ceausescu s romania - the list goes on . it looks as if a new dark age is coming . i see that opinion on mr forsyth s remarks are divided . the problem i see is that those who support imprisonment without trial believe it will never happen to them or their family only to people they don t like or are scared of . but history has shown that if you have laws like that they always get abused by those in power . after all today you may be scared of the same people as those in power but someday those in power may be scared of you ! and that day you ll be the one imprisoned without the chance of justice . our laws are such that you can not just be imprisoned at the whim of our police forces you have to be shown to be deserving of it . if we imprison people without trial for an indeterminate period we are no better that those we are fighting . i never thought it possible for me to agree with a single word uttered by frederick forsyth but i m in wholehearted agreement with him on this one . we as a nation are in grave danger of being duped by pro us propaganda which of course also means we ll inherit most if not all of their total paranoia and allow our governments of any political persuasion incidentally to gradually and insidiously impose a police state by well tried & tested back door methods . i grieve for the future of my children it s no wonder they re adamant they don t ever want any of their own . this government with much fanfare signs us up to the european convention on human rights but now wants to introduce indefinite house arrest without trial . this puts it on a par with the government of burma . like many of your respondents i wouldn t usually think of mr forsyth as someone whose views i share but in the instance of opposing charles clark s proposals for house arrest i agree wholeheartedly with mr forsyth/ i agree with mr forsyth . just look at the facts - our government ( along with the us ) invaded another sovereign country ( iraq ) by selecting intelligence that backed it s case based on fear . the facts turned out to be very different . if individuals are treated in the same distorted way then we ve done ourselves more damage than any terrorist organisation could with bombs . we become animals too . i agree in many ways with what mr forsyth has said - if we are to be respected and have influence within the world we must be seen to be walking the walk as well as talking the talk - how can we accuse countries such as zimbabwe and burma of human rights abuses when we are locking up people who may be totally innocent it is hypocrisy of the highest order . mr forsyth links islamic fundamentalism to the new threat . however it appears that he has misunderstood the term islamic fundamentalism . it should be pointed out that a muslim who adheres to the true fundamentals of the qur aan and the teachings of the last prophet muhammad is an islamic fundamentalist . this person does not commit suicide in any shape or form nor does she/he kill innocent women men and children . this person is self-reflective and constantly tries to better her/his actions by being good to others . the people who mr forsyth labels the new threat are those who do not follow the correct teachings of islam . they have arrived at their own interpretations and assumptions with regards their actions . on top of that they claim to be following islam in its true form ! i accept that the intentions of these policies are to make britain a safer place but i can not think of a single example from history where doing this sort of thing has ever made any difference - in northern ireland internment certainly didn t achieve anything - the bombings didn t stop and it could be argued that all it achieved was to just supply the ira with yet more angry and resentful republicans willing to take up arms against the british . being eight years older than frederick forsyth and a survivor of the blitz on london it is easy to agree with him he is absolutely spot on . during the ira bombings there were massive explosions in canary wharf to the right of where i write this and also to the left in the city of london . notwithstanding these and the attempted and nearly successful assassination attempts on prime minister thatcher in brighton and on later occupants of 10 downing street there was no retaliatory blitz on belfast or dublin as there has been on afghanistan and iraq . even when england was in true peril in 1940 apart from some detentions there were no wholesale derogation of habeas corpus and the like . we have to see off these latest attempts on our liberties including id cards which winston churchill decided had to go since he said the average bobby on the beat could not be relied on to not be tempted to take undue advantage against the citizen going about their lawful activities ( incidentally i can still remember my old id card number ) . hence it is clear that the far too great police state powers set for the statute books have to be resisted and neutered . what can i add to mr. forsyth s eloquently put arguments ... except applause ! well done that man for standing up and being counted in the war against tyranny .', 'xbox power cable fire fear microsoft has said it will replace more than 14 million power cables for its xbox consoles due to safety concerns . the company said the move was a preventative step after reports of fire hazard problems with the cables . it affects xboxes made before 23 october 2003 for all regions but mainland europe - and consoles in that region made before 13 january 2004. microsoft said it had received 30 reports of minor injury or property damage due to faulty cables . the firm said fewer than one in 10 000 consoles had experienced component failures . the recall affects almost three quarters of all xboxes sold around the world since its launch in 2001. in a statement it added : in almost all instances any damage caused by these failures was contained within the console itself or limited to the tip of the power cord at the back of the console . but in seven cases customers reported sustaining a minor burn to their hand . in 23 cases customers reported smoke damage or minor damage to a carpet or entertainment centre . this is a preventative step we re choosing to take despite the rarity of these incidents said robbie bach senior vice president microsoft home and entertainment division . we regret the inconvenience but believe offering consumers a free replacement cord is the responsible thing to do . consumers can order a new cable from the xbox website or by telephoning 0800 028 9276 in the uk . microsoft said customers would get replacement cords within two to four weeks from the time of order . it advised users to turn off their xboxes when not in use . a follow-up to xbox is expected to released at the end of this year or the beginning of 2006 .', 'crisis ahead in social sciences a national body designed to tackle skills shortages in key subjects should be set up a committee of mps has said . there was an absolute crisis in the recruitment of statisticians and other social science experts the commons science and technology committee added . major problems are expected over the next 10 years as the social science workforce continues to age it said . the committee was reporting on the work strategy and spending plans of the economic social research council . the council aims to promote and support strategic research for social science postgraduates and provide social scientists to meet the needs of the country . it also liaises with the government and industry over their social science needs . in its report on the council s work the committee said : we are deeply concerned by the skills shortages afflicting in particular the qualitative branches of social sciences . this mirrored previous concerns the committee had expressed on shortages in the fields of maths and chemistry it said . it is hard to see how significant progress towards rectifying these shortages can be made through the deployment of economic and social research council s limited resources . if the government is serious about addressing skills shortages in key subjects it needs to find a more effective mechanism to achieve this . a national strategic capabilities fund to address shortages in key areas should be set up in response the committee added .', 'no jail for singer courtney love singer courtney love has been spared jail for assault and drug offences but must serve three years probation . she had back-to-back court appearances in two separate cases in los angeles first pleading no contest to attacking a woman with a whisky bottle . in the second ms love 40 pleaded guilty to possessing a forged prescription and painkiller oxycodone . she must also do 100 hours community service have drug treatment attend narcotics anonymous and pay a fine . the ex-hole singer s lawyer howard weitzman said ms love had turned her life around and she was clean and sober . the assault charge stemmed from april 2004 when ms love found musician kristin king in her boyfriend s home . ms king said the singer threw the bottle at the left side of my face in an angry vicious and erratic attack . ms love was originally charged with the more serious offence of assault with a deadly weapon but that was reduced to assault . judge rand rubin said she must : - spend three years on probation - have one year s anger management counselling - have one year s drug rehabilitation - do 100 hours community service - pay $ 1 000 ( £535 ) fine - have random drug tests - go to three narcotics anonymous meetings per week in the drugs case she was sentenced to 18 months probation to run concurrently with the probation for the assault . that offence stemmed from october 2003 when she suffered an overdose after breaking a window at her boyfriend s home . in a separate case relating to the same incident ms love was sentenced to 18 months in drug rehabilitation for being under the influence of cocaine and opiates . in another case last october she pleaded guilty to disorderly conduct for hitting a man on the head with a microphone stand at a new york city nightclub . last month her lawyers said she had won back custody of frances bean her 12-year-old daughter with former nirvana frontman kurt cobain . the girl was removed from her care following her double arrest in october 2003. cobain committed suicide in 1994 .', 'japanese growth grinds to a halt growth in japan evaporated in the three months to september sparking renewed concern about an economy not long out of a decade-long trough . output in the period grew just 0.1 % an annual rate of 0.3 % . exports - the usual engine of recovery - faltered while domestic demand stayed subdued and corporate investment also fell short . the growth falls well short of expectations but does mark a sixth straight quarter of expansion . the economy had stagnated throughout the 1990s experiencing only brief spurts of expansion amid long periods in the doldrums . one result was deflation - prices falling rather than rising - which made japanese shoppers cautious and kept them from spending . the effect was to leave the economy more dependent than ever on exports for its recent recovery . but high oil prices have knocked 0.2 % off the growth rate while the falling dollar means products shipped to the us are becoming relatively more expensive . the performance for the third quarter marks a sharp downturn from earlier in the year . the first quarter showed annual growth of 6.3 % with the second showing 1.1 % and economists had been predicting as much as 2 % this time around . exports slowed while capital spending became weaker said hiromichi shirakawa chief economist at ubs securities in tokyo . personal consumption looks good but it was mainly due to temporary factors such as the olympics . the amber light is flashing . the government may now find it more difficult to raise taxes a policy it will have to implement when the economy picks up to help deal with japan s massive public debt .', 'blair s hope for blunkett return the events leading to david blunkett s resignation must not swept under the carpet the tories have warned . on wednesday tony blair said he hoped the former home secretary would serve again in government in the future . mr blunkett quit in december after a probe linked him to the visa application of his ex-lover s nanny . mr blair said he left without a stain on his character but tory dominic grieve branded the way mr blunkett s office operated as scandalous . mr blair told bbc radio 4 s today programme : i know david very well and i believe him to be a man of real integrity and real ability and i was very sad for him as to what happened . he said mr blunkett still had an immense amount to offer the country but he was not making any guarantees or definitive statements about future jobs . but shadow attorney general mr grieve said : while i don t rule out the possibility that mr blunkett may return as a minister i don t think it s something that can simply be brushed under the carpet . senior labour backbencher martin o neill who chairs the commons trade committee said he believed the prime minister would want one of his praetorian guard - a reference to the elite body guard of roman emperors - back alongside him . but colleague ian gibson who chairs the science and technology committee said there was a question mark as to whether mr blunkett could serve at cabinet level again .', 'saudi investor picks up the savoy london s famous savoy hotel has been sold to a group combining saudi billionaire investor prince alwaleed bin talal and a unit of hbos bank . financial details of the deal which includes the nearby simpson s in the strand restaurant were not disclosed . the seller - irish-based property firm quinlan private - bought the savoy along with the berkeley claridge s and the connaught for £750m last year . prince alwaleed s hotel investments include the luxury george v in paris . he also has substantial stakes in fairmont hotels & resorts which will manage the savoy and simpson s in the strand and four seasons . fairmont said it planned to invest $ 48m ( £26m ) in renovating parts of the savoy including the river room and suites with views over the river thames . work was expected to be completed by summer 2006 fairmont said .', 'old firm pair handed suspensions celtic s henri camara and nacho novo of rangers have both been suspended for offences missed by the referee in a recent old firm game . both were given automatic one-match bans and 12 additional disciplinary points for their actions . that means novo will miss a further two games because of his prior record . camara will miss one additional game . novo was found guilty of stamping on celtic s stephen pearson . camara was punished for kicking gregory vignal . i m extremely disappointed . i don t know if there s a lot to add to that said rangers manager alex mcleish of novo s punishment . but what i will say is that i m at a loss as to why that incident should be picked up and highlighted when there were so many other incidents during the game . both players will miss this weekend s games when celtic host dundee united and rangers visit kilmarnock unless they decide to appeal . the additional bans come into effect from 28 december meaning camara will also be unavailable for the home game against livingston while novo will miss the meetings with dundee united and dunfermline . an sfa spokesman said : they have seven days to appeal but with matches coming along at the weekend they would need to do so before friday . but if they do appeal it won t be heard before this weekend because it takes a bit of time to seat up an appeals tribunal . meanwhile bob malcolm and rangers have been informed by letter as to the outcome of the hearing regarding his reaction to rangers being awarded a penalty in the same game . malcolm a substitute on the day was taken from the rangers dug-out and spoken to by police about an alleged gesture he made . but the sfa would not detail what if any punishment malcolm would receive . once rangers receive our letter we will be in a position to make a comment on the findings added the spokesman .', 'huge rush for jet airways shares indian airline jet airways initial public offering was oversubscribed 16.2 times bankers said on friday . over 85 % of the bids were at the higher end of the price range of 1 050-1 125 rupees ( $ 24- $ 26 ) . jet airways a low-fare airline was founded by london-based ex-travel agent naresh goya and controls 45 % of the indian domestic airline market . it sold 20 % of its equity or 17.2 million shares in a bid to raise up to $ 443m ( £230.8m ) . the price at which its shares will begin trading will be agreed over the weekend bankers said . the demand for the ipo was impressive . we believe that over the next two years the domestic aviation sector promises strong growth even though fuel prices could be high said hiten mehta manager of merchant banking firm fortune financial services . india began to open up its domestic airline market - previously dominated by state-run carrier indian airlines - in the 1990s . jet began flying in 1993 and now has competitors including air deccan and air sahara . budget carriers kingfisher airlines and spicejet are planning to launch operations in may this year . jet has 42 aircraft and runs 271 scheduled flights daily within india . it recently won government permission to fly to london singapore and kuala lumpur .', 'big guns ease through in san jose top-seeded americans andy roddick and andre agassi survived minor scares to reach the last eight of the sap open . agassi endured early problems against left-handed dane kenneth carlsen before sealing a 7-5 6-1 victory . and world number three roddick dropped a set to korean player hyung-taik lee before pulling out a 6-3 3-6 6-2 win in san jose california . seventh seed jurgen melzer came through 6-3 6-3 against xavier malisse - winner in delray beach last week . frenchman cyril saulnier meanwhile fired 19 aces to secure a 6-1 7-6 win over czech qualifier tomas zib . roddick broke a racket in frustration in the third game of the second set . and afterwards was unimpressed with his form . i m not playing great he said . but i m through and i m going to keep battling . a lot of people are under the assumption that it s easy to play well every week and it s not . it is the 12th time in 13 appearances at the event that agassi now 34 has progressed to the quarter-final stage . he came from 0-40 down in the opening game to hold serve and gradually wore carlsen down after attacking his backhand . agassi also employed several lobs and charged to the net to unsettle the 31-year-old dane ranked 88th in the world . as the match went on i got real patient and waited for my opportunities and felt pretty good said agassi .', 'china blocks google news site china has been accused of blocking access to google news by the media watchdog reporters without borders . the paris-based pressure group said the english-language news site had been unavailable for the past 10 days . it said the aim was to force people to use a chinese edition of the site which according to the watchdog does not include critical reports . google told the bbc news website it was aware of the problems and was investigating the causes . china is believed to extend greater censorship over the net than any other country in the world . a net police force monitors websites and e-mails and controls on gateways connecting the country to the global internet are designed to prevent access to critical information . popular chinese portals such as sina.com and sohu.com maintain a close eye on content and delete politically sensitive comments . and all 110 000 net cafes in the country have to use software to control access to websites considered harmful or subversive . china is censoring google news to force internet users to use the chinese version of the site which has been purged of the most critical news reports said the group in a statement . by agreeing to launch a news service that excludes publications disliked by the government google has let itself be used by beijing it said . for its part the search giant said it was looking into the issue . it appears that many users in china are having difficulty accessing google news sites in china and we are working to understand and resolve the issue said a google spokesperson . google news gathers information from some 4 500 news sources . headlines are selected for display entirely by a computer algorithm with no human editorial intervention . it offers 15 editions of the service including one tailored for china and one for hong kong . google launched a version in simplified chinese in september . the site does not filter news results to remove politically sensitive information . but google does not link to news sources which are inaccessible from within china as this would result in broken links .', 'us box office set for record high ticket sales at the us box office are predicted to break records this year with figures expected to reach $ 9.4 billion beating 2002 s all-time high . overall figures could be dampened by the lack of a christmas hit like last year s oscar-winning lord of the rings . traditionally ticket sales during the festive season account for 20 % of the annual total . although admissions have actually fallen this year the predicted high is down to increasing ticket prices . according to exhibitor relations president paul dergarabedian the average cost of a cinema ticket could be as high as $ 6.25 in 2004 compared to $ 5.80 in 2002. this year some of the biggest hits such as the passion of the christ and fahrenheit 9/11 came from outside the major studios which are usually responsible for the key blockbusters . many of the films that did well ( with audiences ) are not necessarily the films that made a lot of money said mr dergarabedian . he added that surprise hits had come from some of the more art-house offerings such as napoleon dynamite and critical hit sideways . sony pictures responsible for hits like spiderman 2 and the grudge are expected to top domestic market share for the second time in three years with $ 1 billion-plus in sales for the third consecutive year . sony pictures entertainment vice chairman . jeff blake said : we had a really diverse slate this year and ... certainly we pulled off one of the surprises with grudge . horror movie the grudge cost sony $ 10 million to make but brought in $ 110 million . it s the latest in a recent trend for hollywood studios to back the upper and lower ends of the market whilst ignoring the middle . warner inc are likely to end the year in second place on market share with around $ 1.25 billion with disney at number three .', 'ebbers denies worldcom fraud former worldcom chief bernie ebbers has denied claims that he knew accountants were doctoring the books at the firm . speaking in court mr ebbers rejected allegations he pressured ex-chief financial officer scott sullivan to falsify company financial statements . mr sullivan made accounting decisions he told the federal court saying his finance chief had a keen command of the numbers . mr ebbers has denied charges of fraud and conspiracy . during his second day of questioning in the new york trial mr ebbers played down his working relationship with mr sullivan and denied he frequently met him to discuss company business when questioned by the prosecution . in a lot of weeks we would speak ... three or four times mr ebbers said adding that conversations about finances were rarely one-on-one and were usually discussed by a group of people instead . mr ebbers relationship to mr sullivan is key to the case surrounding financial corruption that led to the collapse of the firm in 2002 following the discovery of an $ 11bn accounting fraud . the prosecution s star witness is mr sullivan one of six worldcom executives indicted in the case he has pleaded guilty to fraud and appeared as a prosecution witness as part of an agreement with prosecutors . during his time on the witness stand mr sullivan repeatedly told jurors he met frequently with mr ebbers told him about changes made to worldcom s accounts to hide costs and had warned him such practises were improper . however during the case on tuesday mr ebbers denied the allegations . i wasn t advised by scott sullivan of anything ever being wrong he told the court . he s never told me he made an entry that wasn t right . if he had we wouldn t be here today . mr ebbers could face a jail sentence of up to 85 years if convicted of all the charges he is facing . shareholders lost about $ 180bn in worldcom s collapse 20 000 workers lost their jobs and the company went bankrupt . the company emerged from bankruptcy last year and is now known as mci .', 'iraqis win death test case probe the family of an iraqi civilian allegedly killed by uk troops have won a challenge against the government s refusal to order a full inquiry . the high court ruled on tuesday that baha mousa s death in british custody in iraq fell within the european convention on human rights . and the judges paved the way for an independent inquiry by saying previous investigations were inadequate . but judicial reviews into five other deaths in southern iraq were ruled out . their families will be appealing against the judgement . the families solicitor phil shiner described it as a historic day for human rights and the rule of law in the uk . father-of-two mr mousa 28 a hotel receptionist was arrested with eight men seized at a hotel in basra in september 2003. he was allegedly beaten to death while in the custody of the queen s lancashire regiment . the iraqi families lawyer argued that failing to adequately investigate the death breached the european convention on human rights . ministry of defence lawyers argued the uk-controlled area of southern iraq was outside european jurisdiction . but lord justice rix and mr justice forbes ruled that uk jurisdiction could extend to a uk-run prison but did not apply to the total territory of another state . they said as mr mousa was in custody when he died his case came within the uk s jurisdiction . the other five iraqis did not die in custody so their cases had to fail they said . and it was difficult to say that the investigation which had already occurred has been timely open or effective the judges said . after the ruling carla ferstman legal director of the human rights organisation redress said : it is not enough for the military to investigate behind closed doors . there must be an effective public investigation by an independent official body . only such an investigation could reveal what really happened and who might be responsible . other allegations involving british soldiers included the shooting of an iraqi police commissioner and the shooting of four iraqi civilians in may 2003. both sides were granted permission to appeal . prime minister tony blair s official spokesman said : obviously we will need to study this detailed judgment . i would point out however that a separate criminal case is currently being considered by the army prosecuting authority . i can t say anything further for obvious reasons . the mod are considering whether to appeal . but former british commander colonel bob stewart said : anyone at the top [ of the military ] will be saddened by the verdict that has taken place but will say : if there s a case to answer let s have it out . because we don t want people thinking that british soldiers beat up civilians and get away with it he said . the ministry of defence does everything in its power to try to prove we act ethically and properly under the rules of war .', 'williams stays on despite dispute matt williams insists he has no thoughts of quitting as national coach as a result of the power struggle currently gripping scottish rugby . the chairman chief executive and three non-executive directors all departed in a row over the game s future direction . but williams said : i want to make it clear that i m committed totally to scottish rugby . i ve brought my family here and we ve immersed ourselves in scottish life . there s no way that i m walking away . however he attempted to steer clear of taking sides in the dispute . i d like to stress that the national team is separate to the political situation he said . when you come to an undertaking like this and you are trying to make a difference then there are always people who will begrudge you who are jealous and want to try to drag you down . when you have that situation you have to have the courage of your convictions to see it through . there was some very unhelpful and uninformed comment that the national team had received a massive increase in budget at the expense of other parts of scottish rugby and that is simply not the case . like all good coaches you go and ask for an increase . but we were told in no uncertain terms that the financial situation did not allow that . the idea that we are lighting cigars with £20 notes while the rest of scottish rugby flounders is absolutely untrue . we also attracted criticism because of the number of days players spent with the national team . but let me give you the truth . our irish counterparts whom we have to compete with in a few days time had 70 days together at the summer . they are currently in camp now and they will have another 21 days in camp before the six nations . that means they will have 91 days away from their club from july until the six nations . we on the other hand will have 16. there must be a win-win philosophy and attitude within scottish rugby and that is what we are after - both groups winning not competing .', 'prodigy join v festival line-up essex act prodigy are to headline the second stage at this year s v festival joining main stage headliners scissor sisters and franz ferdinand . the event which is in its 10th year will be held at two venues - hylands park in essex and weston park in staffordshire on 20 and 21 august . meanwhile rock veterans new order have joined the t in the park line-up alongside athlete and green day . the manchester band will play on 9 july at scotland s biggest festival . it will be their debut performance at the music event which is held over the weekend of 9 and 10 july in balado near kinross . other bands at the sold-out festival include queens of the stone age the killers keane the streets and foo fighters . a month later at the v festival prodigy will play at weston park on saturday 20 august and hylands park on sunday 21 august and the chemical brothers vice versa . it will be the chemical brothers only uk festival performance of the year . v festival director bob angus said : with the prodigy and the chemical brothers now confirmed to headline the second stage we are headed for a really stellar line-up . we pride ourselves on putting on an unbeatable live music experience and v festival 2005 will not disappoint . tickets for the v festival go on sale on friday 11 march .', 'aaliyah claim dismissed by court late r & b star aaliyah s record company has failed in an attempt to sue the video producer who booked the ill-fated flight on which she died in 2001. a new york appeals court has told blackground records that only the singer s parents had the right to launch a claim for wrongful death . the 22-year-old singer s family came to an undisclosed settlement over a negligence claim in 2003. aaliyah had completed a music video when the plane crashed in the bahamas . she and eight others were killed on the plane which crashed as if left for florida . blackground records lawyer frank penski said he had yet to examine the decision and did not know whether they would pursue the case . an investigation into the crash revealed the twin-engined cessna was overloaded by 700 pounds ( 320kg ) . a post-mortem carried out on the remains of the pilot showed there was cocaine and alcohol in his body . aaliyah was a rising star in music and film before she was killed . she was honoured with a string of posthumous awards and her single more than a woman went to number one in the uk .', 'fido to be taken off vote lists the risk of pets and children being given votes could be cut by changing how people register to vote the uk elections watchdog has said . those are some of the mistakes found under the current system where one person in each household applies for voting forms for the other occupants . the electoral commission says enabling people to register individually could cut some errors and combat fraud . voters need to register by 11 march if the next poll is on 5 may as expected . but any individual registration scheme would not be introduced in britain before that general election . the proposed scheme would mean voters using individual identifiers when they vote - such as their own voting number date of birth and signature . the electoral commission says having voters register individually rather than the head of household do it for them fits better with human rights laws . chairman sam younger told mps on tuesday care was needed to ensure that people were not lost off the register in the process - which happened when northern ireland switched to a similar system . there have been rare cases when household pets have been put on the electoral roll the mps heard . and some people have registered all their family regardless of their age - birth dates are not included on the forms so election officers can not easily check . non-british citizens who are not entitled to vote have also been registered in some cases . mr younger said there was anecdotal evidence of inaccuracies in the register the vast majority of which were caused by genuine mistakes . he argued local councils could look harder at promoting targeted campaigns at hard to reach voters for example . some authorities already run such programmes but in others councillors worry about the party political impact of encouraging particular areas to turn out . mr younger said using the royal mail s postal redirection service had already helped election officers retrace about 50 000 voters . he argued individual registration would also increase security for postal ballots and other new ways of voting . there have been fears there are too few checks to ensure current postal votes are cast by the person on the voting form . he said it might also help register students in halls of residences where the hall warden often has to do the job for everybody . the mps on the office of the deputy prime minister and constitutional affairs select committees pressed mr younger on how to avoid losing voters in any changeover . he said the northern ireland example illustrated real difficulties to be confronted . currently british voters have to re-register to vote every year or face being removed from the electoral rolls if they fail to do so two years running . mr younger suggested the re-registration could happen less frequently but argued efforts were needed to check the electoral rolls were up-to-date .', 'tory expert denies defeat warning the conservatives campaign director has denied a report claiming he warned michael howard the party could not win the next general election . the times on monday said australian lynton crosby told the party leader to focus on trying to increase the tories commons presence by 25 to 30 seats . but mr crosby said in a statement : i have never had any such conversation ... and i do not hold that view . mr howard later added there was not one iota of truth in the report . the strategist helped australia s pm john howard win four elections . mr howard appointed mr crosby as his elections chief last october . mr crosby s statement said : the conservative party has been making an impact on the issues of lower tax and controlled immigration over the past week . it added : the labour party will be wanting to do all they can to distract attention away from the issues that really matter to people .', 'rovers reject third ferguson bid blackburn have rejected a third bid from rangers for scotland captain barry ferguson bbc sport has learnt . it is thought blackburn want £6m for the midfielder but chief executive john williams has confirmed the club are still in dialogue with rangers . the 26-year-old has already handed in a transfer request at ewood park as he seeks a return to ibrox . but the clubs have been unable to reach agreement over a fee for ferguson who moved to lancashire in 2003 for £6.5m . on thursday rangers said they would not be increasing their offer of £4m . blackburn have said all along that they want £6m for the midfielder and williams has rejected proposals from rangers over a player-swap deal . williams said : we are in dialogue with glasgow rangers but we have no agreement . the negotiations will have to be concluded by midnight on monday when the winter transfer window shuts . williams conceded any deal for ferguson was looking unlikely before the close of the transfer window but rangers still had a chance to seal the deal . we have no comment to make other than we have not got an agreement with glasgow rangers he added . the way things are looking i think it is unlikely we are going to . the ball is in their court but we have not got an offer that is acceptable at this moment . it is understood that blackburn accepted a £5m offer for ferguson from everton at the weekend . but the player is determined to return to scotland and rejected a move to goodison park . ferguson did not play in the fa cup win over colchester on saturday despite recovering from a groin injury with rovers boss mark hughes claiming it had been an emotional and difficult time for the player .', 'ireland 19-13 england ireland consigned england to their third straight six nations defeat with a stirring victory at lansdowne road . a second-half try from captain brian o driscoll and 14 points from ronan o gara kept ireland on track for their first grand slam since 1948. england scored first through martin corry but had tries from mark cueto and josh lewsey disallowed . andy robinson s men have now lost nine of their last 14 matches since the 2003 world cup final . the defeat also heralded england s worst run in the championship since 1987. ireland last won the title then the five nations in 1985 but 20 years on they share top spot in the table on maximum points with wales . and eddie o sullivan s side banished the ghosts of 2003 when england were rampant 42-6 victors in claiming the grand slam at lansdowne road . in front of a supercharged home crowd on a dry but blustery day in dublin ireland tore into the white-shirted visitors from the kick-off and made their intentions clear when o gara landed a fourth-minute drop-goal . england took their time to settle but their first real venture into ireland s half produced a simple score for corry . the number eight picked up the ball from the back of a ruck and found an absence of green jerseys between himself and the irish line racing 25 yards to touch down . england fly-half charlie hodgson nailed the conversion from out on the left but almost immediately o gara winning his 50th cap answered with two penalties in quick succession . england were awarded a penalty of their own on the halfway line after 20 minutes and hodgson the villain at twickenham coolly bisected the posts . the first quarter was marked by periods of tactical kicking but it was ireland who were showing more willingness to spread the ball wide to their eager and inventive backs . a series of probes led by the talismanic o driscoll back from hamstring injury resulted in a penalty but ireland chose to kick for touch . from the line-out the ball was recycled back to o gara who stroked his second drop-goal this time off the right upright . as the interval approached wing josh lewsey was the catalyst for england s most promising attack . the wasps star raced up his touchline and hodgson s cross-kick put in mark cueto for an apparent score but the sale wing was ruled to have started in front of the kicker . england began the second half well and had ireland pinned in their own half . but another english indiscretion on a rare irish break-out awarded o gara a kick at goal which he missed . england s pressure continued and a wave of attacks saw centre jamie noon dragged down yards from the line before hodgson landed a drop-goal . the lead was shortlived however . ireland raced upfield deft handling from the backs including a clever dummy from geordan murphy on hodgson ending with o driscoll going over in the right corner and touching down close to the posts . o gara missed a penalty which would have put ireland nine points clear and the home crowd breathed a sigh of relief when hodgson s cross-kick was fumbled by lock ben kay near the line . anticipation of a home win sent the noise level sky-high but o gara missed another chance to seal the game with a wayward drop-goal attempt . inside the last 10 minutes england poured forward spurred on by scrum-half matt dawson who replaced leicester s harry ellis . but despite one near miss with the pack over the line - not checked on the tv replay by referee jonathan kaplan - england were unable to pull off a face-saving win . ireland next face france at lansdowne road in two weeks time before the potential title decider against wales in cardiff . england are still to meet italy at twickenham in what is now a wooden spoon decider and scotland . g murphy ; g dempsey b o driscoll s horgan d hickie ; r o gara p stringer ; r corrigan s byrne j hayes ; m o kelly p o connell ; s easterby j o connor a foley . f sheahan m horan d o callaghan e miller g easterby d humphreys k maggs . j robinson ( capt ) ; m cueto j noon o barkley j lewsey ; c hodgson h ellis ; g rowntree s thompson m stevens ; d grewcock b kay ; j worsley l moody m corry . a titterrell d bell s borthwick a hazell m dawson a goode o smith .', 'ref stands by scotland decisions the referee from saturday s france v scotland six nations match has defended the officials handling of the game after criticism by matt williams . the scotland coach said his side were robbed of victory by poor decisions made by the officials . but nigel williams said : i m satisfied the game was handled correctly . meanwhile matt williams will not be punished by the scottish rugby union for allegedly using bad language in his comments about the officials . he denies having done so . nonetheless he was furious about several decisions that he felt denied his side a famous victory . but nigel williams told the scottish daily mail : i spoke to matt williams at the post-match dinner . he made no mention of the disallowed try or any other refereeing decisions whatsoever . if matt has issues with the match officials then he is very welcome to phone me and discuss them . ultimately there is a match assessor at every international game to give an impartial and objective view of the performance of the officials . that is the beginning and end of it .', 'microsoft seeking spyware trojan microsoft is investigating a trojan program that attempts to switch off the firm s anti-spyware software . the spyware tool was only released by microsoft in the last few weeks and has been downloaded by six million people . stephen toulouse a security manager at microsoft said the malicious program was called bankash-a trojan and was being sent as an e-mail attachment . microsoft said it did not believe the program was widespread and recommended users to use an anti-virus program . the program attempts to disable or delete microsoft s anti-spyware tool and suppress warning messages given to users . it may also try to steal online banking passwords or other personal information by tracking users keystrokes . microsoft said in a statement it is investigating what it called a criminal attack on its software . earlier this week microsoft said it would buy anti-virus software maker sybari software to improve its security in its windows and e-mail software . microsoft has said it plans to offer its own paid-for anti-virus software but it has not yet set a date for its release . the anti-spyware program being targeted is currently only in beta form and aims to help users find and remove spyware - programs which monitor internet use causes advert pop-ups and slow a pc s performance .', 'calder fears for scottish rugby former scotland international finlay calder fears civil war at the sru could seriously hamper his country s rbs six nations campaign . four members of the executive board including the chairman david mackay have resigned after a simmering row . and calder said : this is terrible news for every level of scottish rugby . david is a successful businessman and i thought that if anybody could transform the negative atmosphere and rising debt level it was him . mackay s executive board has been in a power struggle with the general committee which contains members elected by scotland s club sides . he has been driven out by people who seem happier waging civil war than addressing the central issue that professional rugby can t be run by amateurs said calder . in fact i don t understand why we are still having this argument 10 years after professionalism arrived . but i don t believe the rest of the sru will take this lying down . i think the banks will be dismayed at this decision and ultimately it is them who pull the strings . so i wouldn t be surprised if they reviewed their position . but in the wider picture what message does this send out he thought the work of scotland s coaches who have been attempting to arrest the decline of the national side would be made much more difficult . matt williams and willie anderson must be wondering what have we walked into here said calder . and we can now expect weeks of arguments and acrimony just at a time when we should be looking forward to the six nations championship . i am very very disappointed more than you can imagine . why do so many scots have this knack of turning on each other when the going gets tough', 'teenager tait picked for england newcastle s teenage centre mathew tait has been named as a centre in england s team to face wales in the six nations opener in cardiff on saturday . the 18-year-old will play alongside falcons team-mate jamie noon in england s midfield . scrum-half matt dawson is also recalled despite been left out of the initial squad after a row over clashing tv and training commitments . bath lock danny grewcock will also start pending a possible citing . england coach andy robinson has also awarded gloucester flanker andy hazell his first six nations start . in another change to the side that lost to australia in november leicester lock ben kay replaces bath second row steve borthwick . robinson was already without jonny wilkinson mike tindall stuart abbott richard hill and will greenwood while mike catt had been left out of england s squad . j robinson ( sale sharks capt ) ; m cueto ( sale sharks ) m tait ( newcastle ) j noon ( newcastle ) j lewsey ( wasps ) ; c hodgson ( sale sharks ) m dawson ( wasps ) ; g rowntree ( leicester ) s thompson ( northampton ) j white ( leicester ) d grewcock ( bath ) b kay ( leicester ) l moody ( leicester ) a hazell ( gloucester ) j worsley ( wasps ) . replacements : a titterrell ( sale sharks ) p vickery ( gloucester ) s borthwick ( bath ) j forrester ( gloucester ) h ellis ( leicester ) o barkley ( bath ) b cohen ( northampton ) .', 'euro firms miss out on optimism more than 90 % of large companies around the world are highly optimistic about their economic prospects a survey of 1 300 bosses suggests . their biggest worries are not terror threats but over-regulation low-cost competition and the wild ups and downs of oil prices . there is one exception : firms in western europe - but not the uk - are lacking confidence after years of slow growth . when business advisers pricewaterhousecoopers ( pwc ) conducted the same survey two years ago nearly 30 % of bosses were gloomy about their prospects . global business leaders say that they are facing a two-pronged regulatory assault . after a string of corporate scandals in the united states - from enron to worldcom - the sarbanes-oxley act forces companies to be much more transparent but doing all the paperwork costs a lot of time and money . across europe meanwhile all stock exchange-listed companies are currently in the process of moving to new and complex accounting standards called ifrs . hacking through the red tape can hardly be avoided but many chief executives around the world appear to have decided on how to deal with low-cost competitors . already about 28 % of the bosses polled for the survey say that they have moved parts of their business into low-wage countries and another 11 % plan to do so in the future . possibly as a result the worry about low-cost competition has slightly fallen from last year with just 54 % of companies calling it a significant threat or one of the biggest threats . but pwc s global chief executive samuel dipiazza said a growing number of companies were also concerned that moves to outsource work to cheaper countries could both hurt their reputation in their home markets and harm the quality of service they provide to their customers . according to frank brown global advisory leader at pwc the trend of large companies to have global operations has one clear upside : one risk in one region - for example the middle east - won t kill your business anymore . surprisingly the survey suggests that the rapid decline of the us dollar is not seen as a huge threat anymore unlike even a year ago when it was cited as the third-largest problem . mr dipiazza said the interviews with chief executives suggested that companies had adjusted to the new reality of a euro that buys $ 1.30 and more while others had successfully hedged their positions and locked in more favourable exchange rates . - for the survey pricewaterhousecoopers interviewed 1 324 chief executives throughout the world during the last three months of 2004 .', 'super size me wins writers award super size me director morgan spurlock has won the writers guild of america s award for documentary feature writing . the oscar-nominated film followed spurlock as he ate only mcdonald s fast food for an entire month . spurlock was given the award at a special ceremony at the roosevelt hotel in hollywood on tuesday . organisers said the rising popularity of documentary films led them to honour a writer for a documentary screenplay for the first time . producer brian grazer presented the award to spurlock and the film s backers roadside attractions samuel goldwyn films and showtime independent films . spurlock set out to discover the effect of living on nothing but mcdonald s for a month upgrading to supersize portions when offered . the film followed his 25lb weight gain and the health effects on his body including his liver and cholesterol levels . mcdonald s announced it was to scrap its supersized meals last year but denied the move was as a result of the negative publicity created by spurlock s film . spurlock was given his award on the same day the european court of human rights ruled that two uk activists should have been given legal aid in their long fight against a mcdonald s libel action . helen steel and david morris from north london dubbed the mclibel two were found guilty in a 1990s trial of libelling the company in a leaflet they had been handing out at the end of the case the high court in london ruled mcdonald s had been libelled and awarded the company £60 000 in damages later reduced to £40 000 on appeal . but he found the leaflet was true in some aspects .', 'u2 to play at grammy awards show irish rock band u2 are to play live at the grammy awards presentation in the us next month organisers have said . other acts to play include soul singer alicia keys country singer tim mcgraw and punk band green day at the event on 13 february in los angeles . u2 are nominated twice for their recent single vertigo including a nomination for best rock song . this year the grammys have been dominated by rap star kanye west who is in contention for 10 awards . us comedian ellen degeneres and singer christine milian will present awards at the event . last week grammy producers announced the show will be hosted by rap star and chicago actress queen latifah . it will be held at the staples center . u2 had number one success in the album charts on both sides of the atlantic in november when their latest studio album how to dismantle an atomic bomb topped the us and uk charts . the band who are also dominated for best international album at this year s brit awards are to undertake a major world tour this year their first for four years .', 'fed chief warning on us deficit federal reserve chairman alan greenspan has warned that allowing huge us budget deficits to continue could have severe consequences . speaking to the house budget committee he urged congress to take action to cut the deficit such as increasing taxes . while the us economy is growing at a reasonably good pace he warned that budget concerns were clouding the economic outlook for the us . pension and healthcare costs posed the greatest risks to the economy he said . the government program faces severe financial strains in coming decades as the massive baby-boom generation retires . i fear that we may have already committed more physical resources to the baby-boom generation in its retirement years than our economy has the capacity to deliver . if existing promises need to be changed those changes should be made sooner rather than later mr greenspan said . he also warned that unless the nation sees unprecedented rises in productivity retirement and health programmes would need significant changes . he called on congress to cut promised benefits for retirees as the promised benefits for the soon-to-retire baby boom generation were much larger than the government could afford . meanwhile any move to narrow the deficit gap by raising taxes could pose a significant risk to the economy by dampening growth and spending he added . he also urged congress to reinstate lapsed rules that require tax cuts and spending to be offset elsewhere in the budget in an effort to prevent the us heading further into the red . despite the dire warnings mr greenspan did offer some good news for the short term . as us growth gathers steam and incomes rise that should lead to a narrowing of the deficit . recent increases in defence and homeland security spending were also not expected to continue indefinitely which should cut some costs . since president george w bush came to office the federal budget has swung from a record surplus to a record deficit of $ 412bn last year .', 'russian film wins bbc world prize russian drama the return ( vozvrashchenie ) has been named winner of the bbc four world cinema award . the film tells the story of two adolescent boys who are subjected to a harsh regime when their strict father returns after a 10-year absence . directed by andrey zvyagintsev the return previously won the 2003 golden lion award at the venice film festival . the prize was presented at an awards ceremony held in london on thursday and hosted by jonathan ross . the winner was chosen by a panel which included x files actress gillian anderson critic roger clarke and touching the void director kevin mcdonald . ross who is the presenter of bbc one s film 2005 was also involved in the deliberations . a shortlist of six films from around the world had been drawn up from which the panel chose . other nominees included the motorcycle diaries zatoichi and hero . a viewer poll saw director zhang yimou s martial arts epic hero emerge as the favourite with 32 % of votes cast . tragedy struck the production of the return when one of the young stars 15-year-old vladimir girin drowned in a lake . the winner of the world cinema award last year was the french animated feature belleville rendezvous')\n",
            "tensor([0, 1, 1, 2, 1, 4, 0, 1, 0, 3, 0, 3, 2, 4, 0, 1, 3, 4, 4, 1, 1, 3, 3, 3,\n",
            "        2, 3, 3, 0, 4, 4, 0, 4])\n"
          ]
        }
      ]
    },
    {
      "cell_type": "code",
      "execution_count": null,
      "metadata": {
        "colab": {
          "base_uri": "https://localhost:8080/"
        },
        "id": "gNLtFMArj4V-",
        "outputId": "fb59139d-875e-4fbd-c96e-c800fc0a7583"
      },
      "outputs": [
        {
          "output_type": "stream",
          "name": "stdout",
          "text": [
            "halo fans  hope for sequel xbox video game halo 2 has been released in the us on 9 november  with a uk release two days later. why is the game among the most anticipated of all time   halo is considered by many video game pundits to be one of the finest examples of interactive entertainment ever produced and more than 1.5 million people worldwide have pre-ordered the sequel. a science fiction epic  halo centred the action on a human cyborg  controlled by the player  who had to save his crew from an alien horde after a crash landing on a strange and exotic world contained on the interior surface of a giant ring in space. remembrance of things past it was not - but as a slice of schlock science fiction inspired by works such as larry niven s ringworld and the film starship troopers  it fit the bill perfectly. halo stood out from a crowd of similar titles - it was graphically impressive  had tremendous audio  using dolby digital  a decent storyline  instant playability and impressive physics.  but what marked halo as a classic were the thousands of details which brought a feeling of polish and the enormously-high production values not usually associated with video gaming.  produced by bungie software  renowned for their innovation in gaming  it caused a stir among the gaming fraternity when the developer was bought by microsoft and became an xbox exclusive. claude errera  editor of fansite halo.bungie.org  said:  bungie got everything right. they were really careful to make sure everything worked the way it was supposed to.  nothing distracts you when you were playing. there was nothing in halo that had not been done before but everything in there was as good as it could be.  he added:  graphically it was superior to everything else out there.   it also had a depth to it that made it stand out.  halo was unusually immersive  sucking the player into the action and blurring the interface between screen and controller. it also capitalised on the growing popularity of lan gaming in the pc world - for the first time it became easy to link multiple game consoles together  allowing up to 16 players to battle against each other at the same time.  the game instantly cultivated an online following  which continues today with a score of halo fan websites following every aspect of the sequel  halo 2. errera spends three to fours hours a day of his own time maintaining the hugely popular website  which attracts 600 000 page views a day from halo fans eager for the latest news.  when the xbox launched on november 15 2001 in the us  halo was one of the launch titles and had an immediate impact on critics and consumers.  halo is the most important launch game for any console ever   wrote the influential edge magazine in its review  giving it a rare 10 out of 10 mark. the game had its critics and while it is not a one-off original as a game  it brought many original touches and flourishes to the genre which have defined all other first person shooters since.  the first time i played it i just stood there watching the spent shells fall out of my gun   said errera  remarking on the level of detail in the game.  the game also inspired thousands of people to write their own fiction based on the storyline and produce downloadable video clips of the many weird and wonderful things that can be done in the game.  it blew me away the first time someone managed to climb to the top of halo   said errera  referring to a fan who had created a video of master chief scaling the landscape of the graphical world. video clips of the more outrageous stunts that are possible thanks to the game s amazing physics engine are incredibly popular and some have attained a cult following. speculation about the sequel has seen every titbit analysed and poured over with all the intent of a forensic scientist examining a body. when early screenshots of the game were released some people wrote essay-length articles highlighting everything from the texture of graphics to clues about the story line. errera said expectations of the sequel among fans were sky high.  it does not feel like a game release any more. somebody told me this was the biggest single release of any product in microsoft s history.  we re all just hoping that bungie has got it right again.   halo 2 is out on 9 november in the us and 11 november in the uk\n",
            "<class 'str'>\n",
            "('halo fans hope for sequel xbox video game halo 2 has been released in the us on 9 november with a uk release two days later . why is the game among the most anticipated of all time halo is considered by many video game pundits to be one of the finest examples of interactive entertainment ever produced and more than 1.5 million people worldwide have pre-ordered the sequel . a science fiction epic halo centred the action on a human cyborg controlled by the player who had to save his crew from an alien horde after a crash landing on a strange and exotic world contained on the interior surface of a giant ring in space . remembrance of things past it was not - but as a slice of schlock science fiction inspired by works such as larry niven s ringworld and the film starship troopers it fit the bill perfectly . halo stood out from a crowd of similar titles - it was graphically impressive had tremendous audio using dolby digital a decent storyline instant playability and impressive physics . but what marked halo as a classic were the thousands of details which brought a feeling of polish and the enormously-high production values not usually associated with video gaming . produced by bungie software renowned for their innovation in gaming it caused a stir among the gaming fraternity when the developer was bought by microsoft and became an xbox exclusive . claude errera editor of fansite halo.bungie.org said : bungie got everything right . they were really careful to make sure everything worked the way it was supposed to . nothing distracts you when you were playing . there was nothing in halo that had not been done before but everything in there was as good as it could be . he added : graphically it was superior to everything else out there . it also had a depth to it that made it stand out . halo was unusually immersive sucking the player into the action and blurring the interface between screen and controller . it also capitalised on the growing popularity of lan gaming in the pc world - for the first time it became easy to link multiple game consoles together allowing up to 16 players to battle against each other at the same time . the game instantly cultivated an online following which continues today with a score of halo fan websites following every aspect of the sequel halo 2. errera spends three to fours hours a day of his own time maintaining the hugely popular website which attracts 600 000 page views a day from halo fans eager for the latest news . when the xbox launched on november 15 2001 in the us halo was one of the launch titles and had an immediate impact on critics and consumers . halo is the most important launch game for any console ever wrote the influential edge magazine in its review giving it a rare 10 out of 10 mark . the game had its critics and while it is not a one-off original as a game it brought many original touches and flourishes to the genre which have defined all other first person shooters since . the first time i played it i just stood there watching the spent shells fall out of my gun said errera remarking on the level of detail in the game . the game also inspired thousands of people to write their own fiction based on the storyline and produce downloadable video clips of the many weird and wonderful things that can be done in the game . it blew me away the first time someone managed to climb to the top of halo said errera referring to a fan who had created a video of master chief scaling the landscape of the graphical world . video clips of the more outrageous stunts that are possible thanks to the game s amazing physics engine are incredibly popular and some have attained a cult following . speculation about the sequel has seen every titbit analysed and poured over with all the intent of a forensic scientist examining a body . when early screenshots of the game were released some people wrote essay-length articles highlighting everything from the texture of graphics to clues about the story line . errera said expectations of the sequel among fans were sky high . it does not feel like a game release any more . somebody told me this was the biggest single release of any product in microsoft s history . we re all just hoping that bungie has got it right again . halo 2 is out on 9 november in the us and 11 november in the uk', array(2))\n",
            "<class 'tuple'>\n"
          ]
        }
      ],
      "source": [
        "print(list(x_train)[0])\n",
        "print(type(list(x_train)[0]))\n",
        "\n",
        "print(train_dataset[0])\n",
        "print(type(train_dataset[0]))"
      ]
    },
    {
      "cell_type": "code",
      "execution_count": null,
      "metadata": {
        "id": "-KdTmVtrnCp6"
      },
      "outputs": [],
      "source": [
        "class EmbsLSTMClassifierDeep(nn.Module):\n",
        "\n",
        "    def __init__(self, labels, lstm_layers, lstm_hdim, bilstm, dropout):\n",
        "        super(EmbsLSTMClassifierDeep, self).__init__()\n",
        "        self.lstm = nn.LSTM(lstm_hdim, lstm_hdim, lstm_layers,\n",
        "            bidirectional=bilstm, batch_first=True)\n",
        "        if bilstm:\n",
        "            lstm_output = lstm_hdim*2\n",
        "        else :\n",
        "            lstm_output = lstm_hdim\n",
        "        self.bilstm = bilstm\n",
        "        self.classifier = nn.Sequential(\n",
        "            nn.Linear(lstm_output, lstm_output),\n",
        "            nn.BatchNorm1d(lstm_output),\n",
        "            nn.Dropout(dropout),\n",
        "            nn.ReLU(),\n",
        "            nn.Linear(lstm_output, labels),\n",
        "            )\n",
        "\n",
        "    def forward(self, input_texts):\n",
        "        _output, (hn, _cn) = self.lstm(input_texts)\n",
        "        if not self.bilstm:\n",
        "            lstm_output = hn[-1,:,:]\n",
        "        else:\n",
        "            lstm_output = torch.cat((hn[-2,:,:], hn[-1,:,:]), dim=1)\n",
        "        final = self.classifier(lstm_output)\n",
        "        return final"
      ]
    },
    {
      "cell_type": "code",
      "execution_count": null,
      "metadata": {
        "id": "In8JtAI6u-FE"
      },
      "outputs": [],
      "source": [
        "class EarlyStopping:\n",
        "    def __init__(self, patience=5, min_delta=0.0):\n",
        "\n",
        "        self.patience = patience\n",
        "        self.min_delta = min_delta              # valore minimo di decrescita della loss di validazione all'epoca corrente\n",
        "                                                # per asserire che c'è un miglioramenti della loss\n",
        "        self.counter = 0                        # contatore delle epoche di pazienza\n",
        "        self.early_stop = False                 # flag di early stop\n",
        "        self.min_validation_loss = torch.inf    # valore corrente ottimo della loss di validazione\n",
        "\n",
        "    def __call__(self, validation_loss):\n",
        "        # chiamata in forma funzionale dell'oggetto di classe EarlySopping\n",
        "\n",
        "        if (validation_loss + self.min_delta) >= self.min_validation_loss:  # la loss di validazione non decresce\n",
        "            self.counter += 1                                               # incrementiamo il contatore delle epoche di pazienza\n",
        "            if self.counter >= self.patience:\n",
        "                self.early_stop = True\n",
        "                print(\"Early stop!\")\n",
        "        else:                                                               # c'è un miglioramento della loss:\n",
        "            self.min_validation_loss = validation_loss                      # consideriamo la loss corrente\n",
        "                                                                            # come nuova loss ottimale\n",
        "            self.counter = 0                                                # e azzeriamo il contatore di pazienza\n"
      ]
    },
    {
      "cell_type": "code",
      "execution_count": null,
      "metadata": {
        "id": "HELuTg_mFiTQ"
      },
      "outputs": [],
      "source": [
        "import csv\n",
        "\n",
        "def load_glove():\n",
        "    glove_path = root+\"wordvectors/glove.6B.300d.txt\"\n",
        "    #glove_path = root+\"wordvectors/glove.6B.50d.txt\"\n",
        "    print(\"Loading glove vectors ...\")\n",
        "    with open(glove_path, encoding='utf-8') as f:\n",
        "        reader = csv.reader(f, delimiter=' ', quoting=csv.QUOTE_NONE)\n",
        "        model = {line[0]: np.array(list(map(float, line[1:])))\n",
        "                for line in reader}\n",
        "    print(\"Glove vectors loaded\")\n",
        "    return model"
      ]
    },
    {
      "cell_type": "code",
      "execution_count": null,
      "metadata": {
        "id": "ZmkzHey-RSta"
      },
      "outputs": [],
      "source": [
        "def gen_embeddings_glove(tokens, glove_embeddings):\n",
        "    embeddings = []\n",
        "    for sentence in tokens:\n",
        "        emb = []\n",
        "        for word in sentence:\n",
        "            if word in glove_embeddings:\n",
        "                emb.append(torch.tensor(glove_embeddings.get(word)))\n",
        "        embeddings.append(torch.stack(emb))\n",
        "    return embeddings\n",
        "\n",
        "def get_max_len(embeddings):\n",
        "    max_len = 0\n",
        "    for e in embeddings:\n",
        "        if e.shape[0] > max_len: max_len = e.shape[0]\n",
        "    return max_len"
      ]
    },
    {
      "cell_type": "code",
      "execution_count": null,
      "metadata": {
        "id": "t5jS3O-VvHv_"
      },
      "outputs": [],
      "source": [
        "def train_loop(model, dataloader, glove, loss, optimizer, device):\n",
        "    model.train()\n",
        "\n",
        "    epoch_acc = 0\n",
        "    epoch_loss = 0\n",
        "\n",
        "    for batch_texts, batch_labels in tqdm(dataloader, desc='training set'):\n",
        "\n",
        "        optimizer.zero_grad()\n",
        "\n",
        "        tokens = [nltk.word_tokenize(text, language='english')\n",
        "            for text in list(batch_texts)]\n",
        "        embeddings = gen_embeddings_glove(tokens, glove)\n",
        "        max_len_batch = get_max_len(embeddings)\n",
        "        input_embeddings =  torch.stack(\n",
        "            [torch.nn.functional.pad(x,(0,0,0, max_len_batch-x.shape[0])\n",
        "            ) for x in embeddings]).float().to(device)\n",
        "        batch_labels = batch_labels.to(device)\n",
        "        output = model(input_embeddings)\n",
        "\n",
        "        # la loss è una CrossEntropyLoss, al suo interno ha la logsoftmax + negative log likelihood loss\n",
        "        batch_loss = loss(output, batch_labels)\n",
        "        batch_loss.backward()\n",
        "        optimizer.step()\n",
        "\n",
        "        epoch_loss += batch_loss.item()\n",
        "\n",
        "        # per calcolare l'accuracy devo generare le predizioni applicando manualmente la logsoftmax\n",
        "        softmax = nn.LogSoftmax(dim=1)\n",
        "        epoch_acc += (softmax(output).argmax(dim=1) == batch_labels).sum().item()\n",
        "\n",
        "        batch_labels = batch_labels.detach().cpu()\n",
        "        input_embeddings = input_embeddings.detach().cpu()\n",
        "        output = output.detach().cpu()\n",
        "\n",
        "    return epoch_loss/len(dataloader), epoch_acc"
      ]
    },
    {
      "cell_type": "code",
      "execution_count": null,
      "metadata": {
        "id": "atbTc9ex1Q7S"
      },
      "outputs": [],
      "source": [
        "def test_loop(model, dataloader, glove, loss, device):\n",
        "    model.eval()\n",
        "\n",
        "    epoch_acc = 0\n",
        "    epoch_loss = 0\n",
        "\n",
        "    with torch.no_grad():\n",
        "\n",
        "        for batch_texts, batch_labels, in tqdm(dataloader, desc='dev set'):\n",
        "\n",
        "            tokens = [nltk.word_tokenize(text,\n",
        "                            language='english') for text in list(batch_texts)]\n",
        "            embeddings = gen_embeddings_glove(tokens, glove)\n",
        "            max_len_batch = get_max_len(embeddings)\n",
        "            input_embeddings =  torch.stack(\n",
        "                [torch.nn.functional.pad(x, (0,0,0, max_len_batch-x.shape[0])\n",
        "                ) for x in embeddings]).float().to(device)\n",
        "            batch_labels = batch_labels.to(device)\n",
        "            output = model(input_embeddings)\n",
        "\n",
        "            batch_loss = loss(output, batch_labels)\n",
        "            epoch_loss += batch_loss.item()\n",
        "\n",
        "            softmax = nn.LogSoftmax(dim=1)\n",
        "            epoch_acc += (softmax(output).argmax(dim=1) == batch_labels).sum().item()\n",
        "\n",
        "            batch_labels = batch_labels.detach().cpu()\n",
        "            input_embeddings = input_embeddings.detach().cpu()\n",
        "            output = output.detach().cpu()\n",
        "\n",
        "    return epoch_loss/len(dataloader), epoch_acc"
      ]
    },
    {
      "cell_type": "code",
      "execution_count": null,
      "metadata": {
        "id": "lK_cnWEHMavf"
      },
      "outputs": [],
      "source": [
        "def train_test(model,\n",
        "               epochs,\n",
        "               optimizer,\n",
        "               device,\n",
        "               train_data,\n",
        "               test_data,\n",
        "               batch_size,\n",
        "               train_loss_fn,\n",
        "               test_loss_fn=None,         # non necessariamente train e test loss devono differire\n",
        "               early_stopping=None,       # posso addstrare senza early stopping\n",
        "               val_data=None,       # e in questo caso non c'è validation set\n",
        "               scheduler=None):           # possibile scheduler per monitorare l'andamento di un iperparametro,\n",
        "                                          # tipicamente il learning rate\n",
        "\n",
        "    train_dataloader = torch.utils.data.DataLoader(train_data,\n",
        "                                        batch_size=batch_size, shuffle=True)\n",
        "    val_dataloader = torch.utils.data.DataLoader(val_data,\n",
        "                                        batch_size=batch_size)\n",
        "    test_dataloader = torch.utils.data.DataLoader(test_data,\n",
        "                                        batch_size=batch_size)\n",
        "\n",
        "    # check sulle funzioni di loss\n",
        "    if test_loss_fn == None:\n",
        "        test_loss_fn = train_loss_fn\n",
        "\n",
        "    # liste dei valori di loss e accuracy epoca per epoca per il plot\n",
        "    train_loss = []\n",
        "    validation_loss = []\n",
        "    test_loss = []\n",
        "\n",
        "    train_acc = []\n",
        "    validation_acc = []\n",
        "    test_acc = []\n",
        "\n",
        "    glove = load_glove()\n",
        "\n",
        "    # Ciclo di addestramento con early stopping\n",
        "    for epoch in tqdm(range(1,epochs+1)):\n",
        "\n",
        "        epoch_train_loss, epoch_train_acc = train_loop(model,\n",
        "                    train_dataloader, glove, train_loss_fn, optimizer, device)\n",
        "        train_loss.append(epoch_train_loss)\n",
        "        train_acc.append(epoch_train_acc/len(train_data))\n",
        "\n",
        "        # validation se è presente la callback di early stopping\n",
        "        if early_stopping != None:\n",
        "                epoch_validate_loss, epoch_validate_acc = test_loop(model,\n",
        "                                val_dataloader, glove, test_loss_fn, device)\n",
        "                validation_loss.append(epoch_validate_loss)\n",
        "                validation_acc.append(epoch_validate_acc/len(val_data))\n",
        "\n",
        "        # test\n",
        "        epoch_test_loss, epoch_test_acc,= test_loop(model,\n",
        "                                test_dataloader, glove, test_loss_fn, device)\n",
        "        test_loss.append(epoch_test_loss)\n",
        "        test_acc.append(epoch_test_acc/len(test_data))\n",
        "\n",
        "        val_loss_str = f'Validation loss: {epoch_validate_loss:6.4f} ' if early_stopping != None else ' '\n",
        "        val_acc_str = f'Validation accuracy: {(epoch_validate_acc/len(val_data)):6.4f} ' if early_stopping != None else ' '\n",
        "        print(f\"\\nTrain loss: {epoch_train_loss:6.4f} {val_loss_str}Test loss: {epoch_test_loss:6.4f}\")\n",
        "        print(f\"Train accuracy: {(epoch_train_acc/len(train_data)):6.4f} {val_acc_str}Test accuracy: {(epoch_test_acc/len(test_data)):6.4f}\")\n",
        "\n",
        "        # early stopping\n",
        "        if early_stopping != None:\n",
        "                early_stopping(epoch_validate_loss)\n",
        "                if early_stopping.early_stop:\n",
        "                    break\n",
        "\n",
        "    return train_loss, validation_loss, test_loss, train_acc, validation_acc, test_acc"
      ]
    },
    {
      "cell_type": "code",
      "execution_count": null,
      "metadata": {
        "colab": {
          "base_uri": "https://localhost:8080/"
        },
        "id": "YWgCYjxPPD8i",
        "outputId": "65bdd96b-93cf-49d3-c2dd-bd79b6a1ff64"
      },
      "outputs": [
        {
          "output_type": "stream",
          "name": "stdout",
          "text": [
            "Using cuda device\n",
            "EmbsLSTMClassifierDeep(\n",
            "  (lstm): LSTM(300, 300, batch_first=True, bidirectional=True)\n",
            "  (classifier): Sequential(\n",
            "    (0): Linear(in_features=600, out_features=600, bias=True)\n",
            "    (1): BatchNorm1d(600, eps=1e-05, momentum=0.1, affine=True, track_running_stats=True)\n",
            "    (2): Dropout(p=0.1, inplace=False)\n",
            "    (3): ReLU()\n",
            "    (4): Linear(in_features=600, out_features=5, bias=True)\n",
            "  )\n",
            ")\n",
            "Numbero totale dei parametri: 1809605\n"
          ]
        }
      ],
      "source": [
        "# Acquisiamo il device su cui effettueremo il training\n",
        "device = torch.device(\"cuda\" if torch.cuda.is_available() else \"cpu\")\n",
        "print(f\"Using {device} device\")\n",
        "\n",
        "model = EmbsLSTMClassifierDeep(len(labels_dict),\n",
        "                               hyperparameters[\"layers\"],\n",
        "                               hyperparameters[\"h_dim\"],\n",
        "                               hyperparameters[\"bilstm\"],\n",
        "                               hyperparameters[\"dropout\"]).to(device)\n",
        "print(model)\n",
        "\n",
        "# Calcoliamo il numero totale dei parametri del modello\n",
        "total_params = sum(p.numel() for p in model.parameters())\n",
        "print(f\"Numbero totale dei parametri: {total_params}\")\n",
        "\n",
        "criterion = nn.CrossEntropyLoss()\n",
        "optimizer = Adam(model.parameters(), lr=hyperparameters[\"learning_rate\"])\n",
        "\n",
        "# Creiamo la callback di early stopping da passare al nostro metodo di addestramento\n",
        "early_stopping = EarlyStopping(patience=hyperparameters['patience'],\n",
        "                               min_delta=hyperparameters['min_delta'])\n"
      ]
    },
    {
      "cell_type": "code",
      "execution_count": null,
      "metadata": {
        "id": "bEdv8U-wAL3L",
        "colab": {
          "base_uri": "https://localhost:8080/"
        },
        "outputId": "da3f8132-6277-4095-86b2-5add9bdf1459"
      },
      "outputs": [
        {
          "output_type": "stream",
          "name": "stdout",
          "text": [
            "Loading glove vectors ...\n",
            "Glove vectors loaded\n"
          ]
        },
        {
          "output_type": "stream",
          "name": "stderr",
          "text": [
            "  0%|          | 0/50 [00:00<?, ?it/s]\n",
            "training set:   0%|          | 0/26 [00:00<?, ?it/s]\u001b[A\n",
            "training set:   4%|▍         | 1/26 [00:01<00:29,  1.17s/it]\u001b[A\n",
            "training set:   8%|▊         | 2/26 [00:02<00:23,  1.01it/s]\u001b[A\n",
            "training set:  12%|█▏        | 3/26 [00:03<00:23,  1.02s/it]\u001b[A\n",
            "training set:  15%|█▌        | 4/26 [00:03<00:19,  1.11it/s]\u001b[A\n",
            "training set:  19%|█▉        | 5/26 [00:04<00:18,  1.15it/s]\u001b[A\n",
            "training set:  23%|██▎       | 6/26 [00:05<00:19,  1.03it/s]\u001b[A\n",
            "training set:  27%|██▋       | 7/26 [00:06<00:16,  1.15it/s]\u001b[A\n",
            "training set:  31%|███       | 8/26 [00:07<00:15,  1.18it/s]\u001b[A\n",
            "training set:  35%|███▍      | 9/26 [00:07<00:13,  1.24it/s]\u001b[A\n",
            "training set:  38%|███▊      | 10/26 [00:08<00:12,  1.30it/s]\u001b[A\n",
            "training set:  42%|████▏     | 11/26 [00:09<00:11,  1.33it/s]\u001b[A\n",
            "training set:  46%|████▌     | 12/26 [00:10<00:11,  1.19it/s]\u001b[A\n",
            "training set:  50%|█████     | 13/26 [00:11<00:11,  1.13it/s]\u001b[A\n",
            "training set:  54%|█████▍    | 14/26 [00:12<00:11,  1.07it/s]\u001b[A\n",
            "training set:  58%|█████▊    | 15/26 [00:13<00:09,  1.11it/s]\u001b[A\n",
            "training set:  62%|██████▏   | 16/26 [00:16<00:14,  1.49s/it]\u001b[A\n",
            "training set:  65%|██████▌   | 17/26 [00:16<00:11,  1.29s/it]\u001b[A\n",
            "training set:  69%|██████▉   | 18/26 [00:18<00:11,  1.47s/it]\u001b[A\n",
            "training set:  73%|███████▎  | 19/26 [00:19<00:08,  1.26s/it]\u001b[A\n",
            "training set:  77%|███████▋  | 20/26 [00:20<00:06,  1.12s/it]\u001b[A\n",
            "training set:  81%|████████  | 21/26 [00:21<00:04,  1.00it/s]\u001b[A\n",
            "training set:  85%|████████▍ | 22/26 [00:22<00:04,  1.13s/it]\u001b[A\n",
            "training set:  88%|████████▊ | 23/26 [00:23<00:03,  1.06s/it]\u001b[A\n",
            "training set:  92%|█████████▏| 24/26 [00:24<00:02,  1.02s/it]\u001b[A\n",
            "training set:  96%|█████████▌| 25/26 [00:25<00:00,  1.01it/s]\u001b[A\n",
            "training set: 100%|██████████| 26/26 [00:25<00:00,  1.02it/s]\n",
            "\n",
            "dev set:   0%|          | 0/3 [00:00<?, ?it/s]\u001b[A\n",
            "dev set:  33%|███▎      | 1/3 [00:01<00:02,  1.20s/it]\u001b[A\n",
            "dev set:  67%|██████▋   | 2/3 [00:02<00:01,  1.44s/it]\u001b[A\n",
            "dev set: 100%|██████████| 3/3 [00:03<00:00,  1.11s/it]\n",
            "\n",
            "dev set:   0%|          | 0/7 [00:00<?, ?it/s]\u001b[A\n",
            "dev set:  14%|█▍        | 1/7 [00:00<00:04,  1.26it/s]\u001b[A\n",
            "dev set:  29%|██▊       | 2/7 [00:01<00:03,  1.45it/s]\u001b[A\n",
            "dev set:  43%|████▎     | 3/7 [00:02<00:02,  1.48it/s]\u001b[A\n",
            "dev set:  57%|█████▋    | 4/7 [00:03<00:02,  1.09it/s]\u001b[A\n",
            "dev set:  71%|███████▏  | 5/7 [00:03<00:01,  1.29it/s]\u001b[A\n",
            "dev set:  86%|████████▌ | 6/7 [00:04<00:00,  1.40it/s]\u001b[A\n",
            "dev set: 100%|██████████| 7/7 [00:05<00:00,  1.18it/s]\n",
            "  2%|▏         | 1/50 [00:34<28:24, 34.78s/it]"
          ]
        },
        {
          "output_type": "stream",
          "name": "stdout",
          "text": [
            "\n",
            "Train loss: 0.4914 Validation loss: 0.2882 Test loss: 0.3287\n",
            "Train accuracy: 0.8308 Validation accuracy: 0.9213 Test accuracy: 0.8966\n"
          ]
        },
        {
          "output_type": "stream",
          "name": "stderr",
          "text": [
            "\n",
            "training set:   0%|          | 0/26 [00:00<?, ?it/s]\u001b[A\n",
            "training set:   4%|▍         | 1/26 [00:00<00:17,  1.45it/s]\u001b[A\n",
            "training set:   8%|▊         | 2/26 [00:01<00:16,  1.48it/s]\u001b[A\n",
            "training set:  12%|█▏        | 3/26 [00:02<00:15,  1.49it/s]\u001b[A\n",
            "training set:  15%|█▌        | 4/26 [00:04<00:29,  1.32s/it]\u001b[A\n",
            "training set:  19%|█▉        | 5/26 [00:05<00:24,  1.19s/it]\u001b[A\n",
            "training set:  23%|██▎       | 6/26 [00:06<00:24,  1.23s/it]\u001b[A\n",
            "training set:  27%|██▋       | 7/26 [00:07<00:20,  1.08s/it]\u001b[A\n",
            "training set:  31%|███       | 8/26 [00:08<00:19,  1.09s/it]\u001b[A\n",
            "training set:  35%|███▍      | 9/26 [00:09<00:16,  1.02it/s]\u001b[A\n",
            "training set:  38%|███▊      | 10/26 [00:09<00:14,  1.10it/s]\u001b[A\n",
            "training set:  42%|████▏     | 11/26 [00:10<00:12,  1.18it/s]\u001b[A\n",
            "training set:  46%|████▌     | 12/26 [00:11<00:11,  1.18it/s]\u001b[A\n",
            "training set:  50%|█████     | 13/26 [00:13<00:13,  1.07s/it]\u001b[A\n",
            "training set:  54%|█████▍    | 14/26 [00:13<00:11,  1.03it/s]\u001b[A\n",
            "training set:  58%|█████▊    | 15/26 [00:14<00:10,  1.02it/s]\u001b[A\n",
            "training set:  62%|██████▏   | 16/26 [00:15<00:08,  1.15it/s]\u001b[A\n",
            "training set:  65%|██████▌   | 17/26 [00:16<00:07,  1.20it/s]\u001b[A\n",
            "training set:  69%|██████▉   | 18/26 [00:17<00:07,  1.04it/s]\u001b[A\n",
            "training set:  73%|███████▎  | 19/26 [00:18<00:07,  1.01s/it]\u001b[A\n",
            "training set:  77%|███████▋  | 20/26 [00:21<00:10,  1.69s/it]\u001b[A\n",
            "training set:  81%|████████  | 21/26 [00:22<00:06,  1.40s/it]\u001b[A\n",
            "training set:  85%|████████▍ | 22/26 [00:23<00:04,  1.21s/it]\u001b[A\n",
            "training set:  88%|████████▊ | 23/26 [00:24<00:03,  1.09s/it]\u001b[A\n",
            "training set:  92%|█████████▏| 24/26 [00:24<00:01,  1.00it/s]\u001b[A\n",
            "training set: 100%|██████████| 26/26 [00:25<00:00,  1.01it/s]\n",
            "\n",
            "dev set:   0%|          | 0/3 [00:00<?, ?it/s]\u001b[A\n",
            "dev set:  33%|███▎      | 1/3 [00:00<00:01,  1.16it/s]\u001b[A\n",
            "dev set:  67%|██████▋   | 2/3 [00:02<00:01,  1.07s/it]\u001b[A\n",
            "dev set: 100%|██████████| 3/3 [00:02<00:00,  1.16it/s]\n",
            "\n",
            "dev set:   0%|          | 0/7 [00:00<?, ?it/s]\u001b[A\n",
            "dev set:  14%|█▍        | 1/7 [00:00<00:04,  1.31it/s]\u001b[A\n",
            "dev set:  29%|██▊       | 2/7 [00:01<00:03,  1.53it/s]\u001b[A\n",
            "dev set:  43%|████▎     | 3/7 [00:02<00:02,  1.51it/s]\u001b[A\n",
            "dev set:  57%|█████▋    | 4/7 [00:03<00:02,  1.02it/s]\u001b[A\n",
            "dev set:  71%|███████▏  | 5/7 [00:04<00:01,  1.14it/s]\u001b[A\n",
            "dev set:  86%|████████▌ | 6/7 [00:04<00:00,  1.18it/s]\u001b[A\n",
            "dev set: 100%|██████████| 7/7 [00:06<00:00,  1.07it/s]\n",
            "  4%|▍         | 2/50 [01:09<27:55, 34.91s/it]"
          ]
        },
        {
          "output_type": "stream",
          "name": "stdout",
          "text": [
            "\n",
            "Train loss: 0.1601 Validation loss: 0.2540 Test loss: 0.2728\n",
            "Train accuracy: 0.9476 Validation accuracy: 0.9101 Test accuracy: 0.9146\n"
          ]
        },
        {
          "output_type": "stream",
          "name": "stderr",
          "text": [
            "\n",
            "training set:   0%|          | 0/26 [00:00<?, ?it/s]\u001b[A\n",
            "training set:   4%|▍         | 1/26 [00:00<00:17,  1.45it/s]\u001b[A\n",
            "training set:   8%|▊         | 2/26 [00:01<00:17,  1.34it/s]\u001b[A\n",
            "training set:  12%|█▏        | 3/26 [00:02<00:16,  1.39it/s]\u001b[A\n",
            "training set:  15%|█▌        | 4/26 [00:02<00:16,  1.33it/s]\u001b[A\n",
            "training set:  19%|█▉        | 5/26 [00:04<00:23,  1.14s/it]\u001b[A\n",
            "training set:  23%|██▎       | 6/26 [00:05<00:20,  1.00s/it]\u001b[A\n",
            "training set:  27%|██▋       | 7/26 [00:07<00:23,  1.23s/it]\u001b[A\n",
            "training set:  31%|███       | 8/26 [00:08<00:20,  1.12s/it]\u001b[A\n",
            "training set:  35%|███▍      | 9/26 [00:08<00:16,  1.05it/s]\u001b[A\n",
            "training set:  38%|███▊      | 10/26 [00:09<00:16,  1.04s/it]\u001b[A\n",
            "training set:  42%|████▏     | 11/26 [00:10<00:15,  1.03s/it]\u001b[A\n",
            "training set:  46%|████▌     | 12/26 [00:12<00:14,  1.06s/it]\u001b[A\n",
            "training set:  50%|█████     | 13/26 [00:13<00:14,  1.09s/it]\u001b[A\n",
            "training set:  54%|█████▍    | 14/26 [00:13<00:11,  1.04it/s]\u001b[A\n",
            "training set:  58%|█████▊    | 15/26 [00:14<00:10,  1.05it/s]\u001b[A\n",
            "training set:  62%|██████▏   | 16/26 [00:15<00:08,  1.11it/s]\u001b[A\n",
            "training set:  65%|██████▌   | 17/26 [00:16<00:07,  1.21it/s]\u001b[A\n",
            "training set:  69%|██████▉   | 18/26 [00:17<00:06,  1.25it/s]\u001b[A\n",
            "training set:  73%|███████▎  | 19/26 [00:17<00:05,  1.25it/s]\u001b[A\n",
            "training set:  77%|███████▋  | 20/26 [00:18<00:04,  1.28it/s]\u001b[A\n",
            "training set:  81%|████████  | 21/26 [00:19<00:03,  1.30it/s]\u001b[A\n",
            "training set:  85%|████████▍ | 22/26 [00:21<00:04,  1.17s/it]\u001b[A\n",
            "training set:  88%|████████▊ | 23/26 [00:22<00:03,  1.02s/it]\u001b[A\n",
            "training set:  92%|█████████▏| 24/26 [00:24<00:03,  1.59s/it]\u001b[A\n",
            "training set: 100%|██████████| 26/26 [00:26<00:00,  1.01s/it]\n",
            "\n",
            "dev set:   0%|          | 0/3 [00:00<?, ?it/s]\u001b[A\n",
            "dev set:  33%|███▎      | 1/3 [00:00<00:01,  1.18it/s]\u001b[A\n",
            "dev set:  67%|██████▋   | 2/3 [00:02<00:01,  1.07s/it]\u001b[A\n",
            "dev set: 100%|██████████| 3/3 [00:02<00:00,  1.11it/s]\n",
            "\n",
            "dev set:   0%|          | 0/7 [00:00<?, ?it/s]\u001b[A\n",
            "dev set:  14%|█▍        | 1/7 [00:00<00:04,  1.29it/s]\u001b[A\n",
            "dev set:  29%|██▊       | 2/7 [00:01<00:03,  1.49it/s]\u001b[A\n",
            "dev set:  43%|████▎     | 3/7 [00:01<00:02,  1.54it/s]\u001b[A\n",
            "dev set:  57%|█████▋    | 4/7 [00:03<00:02,  1.13it/s]\u001b[A\n",
            "dev set:  71%|███████▏  | 5/7 [00:03<00:01,  1.36it/s]\u001b[A\n",
            "dev set:  86%|████████▌ | 6/7 [00:04<00:00,  1.49it/s]\u001b[A\n",
            "dev set: 100%|██████████| 7/7 [00:05<00:00,  1.25it/s]\n",
            "  6%|▌         | 3/50 [01:44<27:15, 34.81s/it]"
          ]
        },
        {
          "output_type": "stream",
          "name": "stdout",
          "text": [
            "\n",
            "Train loss: 0.1081 Validation loss: 0.3096 Test loss: 0.2289\n",
            "Train accuracy: 0.9688 Validation accuracy: 0.8933 Test accuracy: 0.9371\n"
          ]
        },
        {
          "output_type": "stream",
          "name": "stderr",
          "text": [
            "\n",
            "training set:   0%|          | 0/26 [00:00<?, ?it/s]\u001b[A\n",
            "training set:   4%|▍         | 1/26 [00:00<00:20,  1.22it/s]\u001b[A\n",
            "training set:   8%|▊         | 2/26 [00:01<00:23,  1.01it/s]\u001b[A\n",
            "training set:  12%|█▏        | 3/26 [00:02<00:23,  1.02s/it]\u001b[A\n",
            "training set:  15%|█▌        | 4/26 [00:04<00:22,  1.03s/it]\u001b[A\n",
            "training set:  19%|█▉        | 5/26 [00:04<00:20,  1.05it/s]\u001b[A\n",
            "training set:  23%|██▎       | 6/26 [00:06<00:26,  1.34s/it]\u001b[A\n",
            "training set:  27%|██▋       | 7/26 [00:07<00:21,  1.14s/it]\u001b[A\n",
            "training set:  31%|███       | 8/26 [00:08<00:18,  1.05s/it]\u001b[A\n",
            "training set:  35%|███▍      | 9/26 [00:09<00:15,  1.08it/s]\u001b[A\n",
            "training set:  38%|███▊      | 10/26 [00:09<00:13,  1.16it/s]\u001b[A\n",
            "training set:  42%|████▏     | 11/26 [00:10<00:12,  1.25it/s]\u001b[A\n",
            "training set:  46%|████▌     | 12/26 [00:11<00:10,  1.31it/s]\u001b[A\n",
            "training set:  50%|█████     | 13/26 [00:13<00:16,  1.29s/it]\u001b[A\n",
            "training set:  54%|█████▍    | 14/26 [00:15<00:17,  1.42s/it]\u001b[A\n",
            "training set:  58%|█████▊    | 15/26 [00:16<00:14,  1.29s/it]\u001b[A\n",
            "training set:  62%|██████▏   | 16/26 [00:17<00:11,  1.15s/it]\u001b[A\n",
            "training set:  65%|██████▌   | 17/26 [00:18<00:10,  1.12s/it]\u001b[A\n",
            "training set:  69%|██████▉   | 18/26 [00:19<00:07,  1.00it/s]\u001b[A\n",
            "training set:  73%|███████▎  | 19/26 [00:19<00:06,  1.10it/s]\u001b[A\n",
            "training set:  77%|███████▋  | 20/26 [00:20<00:05,  1.12it/s]\u001b[A\n",
            "training set:  81%|████████  | 21/26 [00:22<00:05,  1.12s/it]\u001b[A\n",
            "training set:  85%|████████▍ | 22/26 [00:22<00:03,  1.00it/s]\u001b[A\n",
            "training set:  88%|████████▊ | 23/26 [00:23<00:02,  1.08it/s]\u001b[A\n",
            "training set:  92%|█████████▏| 24/26 [00:24<00:01,  1.10it/s]\u001b[A\n",
            "training set: 100%|██████████| 26/26 [00:25<00:00,  1.01it/s]\n",
            "\n",
            "dev set:   0%|          | 0/3 [00:00<?, ?it/s]\u001b[A\n",
            "dev set:  33%|███▎      | 1/3 [00:00<00:01,  1.33it/s]\u001b[A\n",
            "dev set:  67%|██████▋   | 2/3 [00:01<00:00,  1.05it/s]\u001b[A\n",
            "dev set: 100%|██████████| 3/3 [00:02<00:00,  1.22it/s]\n",
            "\n",
            "dev set:   0%|          | 0/7 [00:00<?, ?it/s]\u001b[A\n",
            "dev set:  14%|█▍        | 1/7 [00:00<00:05,  1.00it/s]\u001b[A\n",
            "dev set:  29%|██▊       | 2/7 [00:01<00:04,  1.08it/s]\u001b[A\n",
            "dev set:  43%|████▎     | 3/7 [00:02<00:03,  1.11it/s]\u001b[A\n",
            "dev set:  57%|█████▋    | 4/7 [00:04<00:03,  1.11s/it]\u001b[A\n",
            "dev set:  71%|███████▏  | 5/7 [00:04<00:01,  1.11it/s]\u001b[A\n",
            "dev set:  86%|████████▌ | 6/7 [00:05<00:00,  1.29it/s]\u001b[A\n",
            "dev set: 100%|██████████| 7/7 [00:06<00:00,  1.05it/s]\n",
            "  8%|▊         | 4/50 [02:19<26:45, 34.90s/it]"
          ]
        },
        {
          "output_type": "stream",
          "name": "stdout",
          "text": [
            "\n",
            "Train loss: 0.1125 Validation loss: 0.2395 Test loss: 0.2448\n",
            "Train accuracy: 0.9713 Validation accuracy: 0.9270 Test accuracy: 0.9326\n"
          ]
        },
        {
          "output_type": "stream",
          "name": "stderr",
          "text": [
            "\n",
            "training set:   0%|          | 0/26 [00:00<?, ?it/s]\u001b[A\n",
            "training set:   4%|▍         | 1/26 [00:00<00:23,  1.09it/s]\u001b[A\n",
            "training set:   8%|▊         | 2/26 [00:03<00:39,  1.63s/it]\u001b[A\n",
            "training set:  12%|█▏        | 3/26 [00:03<00:27,  1.20s/it]\u001b[A\n",
            "training set:  15%|█▌        | 4/26 [00:04<00:22,  1.02s/it]\u001b[A\n",
            "training set:  19%|█▉        | 5/26 [00:05<00:21,  1.00s/it]\u001b[A\n",
            "training set:  23%|██▎       | 6/26 [00:06<00:18,  1.10it/s]\u001b[A\n",
            "training set:  27%|██▋       | 7/26 [00:07<00:19,  1.00s/it]\u001b[A\n",
            "training set:  31%|███       | 8/26 [00:08<00:16,  1.07it/s]\u001b[A\n",
            "training set:  35%|███▍      | 9/26 [00:09<00:16,  1.02it/s]\u001b[A\n",
            "training set:  38%|███▊      | 10/26 [00:10<00:16,  1.05s/it]\u001b[A\n",
            "training set:  42%|████▏     | 11/26 [00:11<00:15,  1.03s/it]\u001b[A\n",
            "training set:  46%|████▌     | 12/26 [00:12<00:16,  1.15s/it]\u001b[A\n",
            "training set:  50%|█████     | 13/26 [00:15<00:21,  1.64s/it]\u001b[A\n",
            "training set:  54%|█████▍    | 14/26 [00:16<00:16,  1.37s/it]\u001b[A\n",
            "training set:  58%|█████▊    | 15/26 [00:18<00:16,  1.49s/it]\u001b[A\n",
            "training set:  62%|██████▏   | 16/26 [00:18<00:12,  1.29s/it]\u001b[A\n",
            "training set:  65%|██████▌   | 17/26 [00:19<00:09,  1.10s/it]\u001b[A\n",
            "training set:  69%|██████▉   | 18/26 [00:20<00:08,  1.01s/it]\u001b[A\n",
            "training set:  73%|███████▎  | 19/26 [00:21<00:07,  1.04s/it]\u001b[A\n",
            "training set:  77%|███████▋  | 20/26 [00:22<00:06,  1.00s/it]\u001b[A\n",
            "training set:  81%|████████  | 21/26 [00:23<00:05,  1.03s/it]\u001b[A\n",
            "training set:  85%|████████▍ | 22/26 [00:24<00:03,  1.03it/s]\u001b[A\n",
            "training set:  88%|████████▊ | 23/26 [00:25<00:02,  1.12it/s]\u001b[A\n",
            "training set:  92%|█████████▏| 24/26 [00:25<00:01,  1.17it/s]\u001b[A\n",
            "training set: 100%|██████████| 26/26 [00:26<00:00,  1.03s/it]\n",
            "\n",
            "dev set:   0%|          | 0/3 [00:00<?, ?it/s]\u001b[A\n",
            "dev set:  33%|███▎      | 1/3 [00:00<00:01,  1.17it/s]\u001b[A\n",
            "dev set:  67%|██████▋   | 2/3 [00:02<00:01,  1.11s/it]\u001b[A\n",
            "dev set: 100%|██████████| 3/3 [00:02<00:00,  1.13it/s]\n",
            "\n",
            "dev set:   0%|          | 0/7 [00:00<?, ?it/s]\u001b[A\n",
            "dev set:  14%|█▍        | 1/7 [00:00<00:04,  1.35it/s]\u001b[A\n",
            "dev set:  29%|██▊       | 2/7 [00:01<00:03,  1.50it/s]\u001b[A\n",
            "dev set:  43%|████▎     | 3/7 [00:01<00:02,  1.55it/s]\u001b[A\n",
            "dev set:  57%|█████▋    | 4/7 [00:03<00:02,  1.17it/s]\u001b[A\n",
            "dev set:  71%|███████▏  | 5/7 [00:03<00:01,  1.39it/s]\u001b[A\n",
            "dev set:  86%|████████▌ | 6/7 [00:04<00:00,  1.47it/s]\u001b[A\n",
            "dev set: 100%|██████████| 7/7 [00:06<00:00,  1.11it/s]\n",
            " 10%|█         | 5/50 [02:55<26:23, 35.18s/it]"
          ]
        },
        {
          "output_type": "stream",
          "name": "stdout",
          "text": [
            "\n",
            "Train loss: 0.0580 Validation loss: 0.2701 Test loss: 0.2671\n",
            "Train accuracy: 0.9788 Validation accuracy: 0.9213 Test accuracy: 0.9191\n"
          ]
        },
        {
          "output_type": "stream",
          "name": "stderr",
          "text": [
            "\n",
            "training set:   0%|          | 0/26 [00:00<?, ?it/s]\u001b[A\n",
            "training set:   4%|▍         | 1/26 [00:00<00:24,  1.03it/s]\u001b[A\n",
            "training set:   8%|▊         | 2/26 [00:04<00:54,  2.26s/it]\u001b[A\n",
            "training set:  12%|█▏        | 3/26 [00:04<00:37,  1.62s/it]\u001b[A\n",
            "training set:  15%|█▌        | 4/26 [00:05<00:27,  1.27s/it]\u001b[A\n",
            "training set:  19%|█▉        | 5/26 [00:06<00:23,  1.11s/it]\u001b[A\n",
            "training set:  23%|██▎       | 6/26 [00:07<00:20,  1.01s/it]\u001b[A\n",
            "training set:  27%|██▋       | 7/26 [00:08<00:19,  1.01s/it]\u001b[A\n",
            "training set:  31%|███       | 8/26 [00:09<00:15,  1.13it/s]\u001b[A\n",
            "training set:  35%|███▍      | 9/26 [00:09<00:14,  1.21it/s]\u001b[A\n",
            "training set:  38%|███▊      | 10/26 [00:10<00:14,  1.10it/s]\u001b[A\n",
            "training set:  42%|████▏     | 11/26 [00:11<00:12,  1.22it/s]\u001b[A\n",
            "training set:  46%|████▌     | 12/26 [00:12<00:11,  1.22it/s]\u001b[A\n",
            "training set:  50%|█████     | 13/26 [00:15<00:18,  1.45s/it]\u001b[A\n",
            "training set:  54%|█████▍    | 14/26 [00:15<00:14,  1.24s/it]\u001b[A\n",
            "training set:  58%|█████▊    | 15/26 [00:17<00:14,  1.33s/it]\u001b[A\n",
            "training set:  62%|██████▏   | 16/26 [00:18<00:11,  1.14s/it]\u001b[A\n",
            "training set:  65%|██████▌   | 17/26 [00:18<00:09,  1.02s/it]\u001b[A\n",
            "training set:  69%|██████▉   | 18/26 [00:19<00:08,  1.01s/it]\u001b[A\n",
            "training set:  73%|███████▎  | 19/26 [00:21<00:09,  1.31s/it]\u001b[A\n",
            "training set:  77%|███████▋  | 20/26 [00:22<00:06,  1.16s/it]\u001b[A\n",
            "training set:  81%|████████  | 21/26 [00:23<00:05,  1.02s/it]\u001b[A\n",
            "training set:  85%|████████▍ | 22/26 [00:24<00:04,  1.03s/it]\u001b[A\n",
            "training set:  88%|████████▊ | 23/26 [00:25<00:02,  1.05it/s]\u001b[A\n",
            "training set:  92%|█████████▏| 24/26 [00:26<00:01,  1.03it/s]\u001b[A\n",
            "training set: 100%|██████████| 26/26 [00:27<00:00,  1.05s/it]\n",
            "\n",
            "dev set:   0%|          | 0/3 [00:00<?, ?it/s]\u001b[A\n",
            "dev set:  33%|███▎      | 1/3 [00:01<00:02,  1.38s/it]\u001b[A\n",
            "dev set:  67%|██████▋   | 2/3 [00:02<00:01,  1.30s/it]\u001b[A\n",
            "dev set: 100%|██████████| 3/3 [00:03<00:00,  1.05s/it]\n",
            "\n",
            "dev set:   0%|          | 0/7 [00:00<?, ?it/s]\u001b[A\n",
            "dev set:  14%|█▍        | 1/7 [00:00<00:04,  1.35it/s]\u001b[A\n",
            "dev set:  29%|██▊       | 2/7 [00:01<00:03,  1.49it/s]\u001b[A\n",
            "dev set:  43%|████▎     | 3/7 [00:02<00:02,  1.51it/s]\u001b[A\n",
            "dev set:  57%|█████▋    | 4/7 [00:03<00:02,  1.17it/s]\u001b[A\n",
            "dev set:  71%|███████▏  | 5/7 [00:03<00:01,  1.40it/s]\u001b[A\n",
            "dev set:  86%|████████▌ | 6/7 [00:04<00:00,  1.55it/s]\u001b[A\n",
            "dev set: 100%|██████████| 7/7 [00:05<00:00,  1.26it/s]\n",
            " 12%|█▏        | 6/50 [03:31<26:02, 35.50s/it]"
          ]
        },
        {
          "output_type": "stream",
          "name": "stdout",
          "text": [
            "\n",
            "Train loss: 0.0380 Validation loss: 0.2625 Test loss: 0.3050\n",
            "Train accuracy: 0.9913 Validation accuracy: 0.9101 Test accuracy: 0.9258\n"
          ]
        },
        {
          "output_type": "stream",
          "name": "stderr",
          "text": [
            "\n",
            "training set:   0%|          | 0/26 [00:00<?, ?it/s]\u001b[A\n",
            "training set:   4%|▍         | 1/26 [00:00<00:20,  1.20it/s]\u001b[A\n",
            "training set:   8%|▊         | 2/26 [00:01<00:19,  1.24it/s]\u001b[A\n",
            "training set:  12%|█▏        | 3/26 [00:03<00:32,  1.42s/it]\u001b[A\n",
            "training set:  15%|█▌        | 4/26 [00:04<00:26,  1.20s/it]\u001b[A\n",
            "training set:  19%|█▉        | 5/26 [00:05<00:22,  1.09s/it]\u001b[A\n",
            "training set:  23%|██▎       | 6/26 [00:06<00:20,  1.04s/it]\u001b[A\n",
            "training set:  27%|██▋       | 7/26 [00:07<00:17,  1.06it/s]\u001b[A\n",
            "training set:  31%|███       | 8/26 [00:07<00:15,  1.17it/s]\u001b[A\n",
            "training set:  35%|███▍      | 9/26 [00:08<00:13,  1.24it/s]\u001b[A\n",
            "training set:  38%|███▊      | 10/26 [00:09<00:12,  1.33it/s]\u001b[A\n",
            "training set:  42%|████▏     | 11/26 [00:10<00:11,  1.29it/s]\u001b[A\n",
            "training set:  46%|████▌     | 12/26 [00:10<00:10,  1.33it/s]\u001b[A\n",
            "training set:  50%|█████     | 13/26 [00:11<00:10,  1.29it/s]\u001b[A\n",
            "training set:  54%|█████▍    | 14/26 [00:12<00:09,  1.26it/s]\u001b[A\n",
            "training set:  58%|█████▊    | 15/26 [00:13<00:08,  1.25it/s]\u001b[A\n",
            "training set:  62%|██████▏   | 16/26 [00:14<00:08,  1.17it/s]\u001b[A\n",
            "training set:  65%|██████▌   | 17/26 [00:16<00:10,  1.15s/it]\u001b[A\n",
            "training set:  69%|██████▉   | 18/26 [00:17<00:08,  1.10s/it]\u001b[A\n",
            "training set:  73%|███████▎  | 19/26 [00:18<00:09,  1.32s/it]\u001b[A\n",
            "training set:  77%|███████▋  | 20/26 [00:20<00:08,  1.33s/it]\u001b[A\n",
            "training set:  81%|████████  | 21/26 [00:21<00:05,  1.18s/it]\u001b[A\n",
            "training set:  85%|████████▍ | 22/26 [00:23<00:06,  1.62s/it]\u001b[A\n",
            "training set:  88%|████████▊ | 23/26 [00:24<00:04,  1.36s/it]\u001b[A\n",
            "training set:  92%|█████████▏| 24/26 [00:25<00:02,  1.13s/it]\u001b[A\n",
            "training set: 100%|██████████| 26/26 [00:25<00:00,  1.00it/s]\n",
            "\n",
            "dev set:   0%|          | 0/3 [00:00<?, ?it/s]\u001b[A\n",
            "dev set:  33%|███▎      | 1/3 [00:00<00:01,  1.52it/s]\u001b[A\n",
            "dev set:  67%|██████▋   | 2/3 [00:01<00:00,  1.16it/s]\u001b[A\n",
            "dev set: 100%|██████████| 3/3 [00:02<00:00,  1.38it/s]\n",
            "\n",
            "dev set:   0%|          | 0/7 [00:00<?, ?it/s]\u001b[A\n",
            "dev set:  14%|█▍        | 1/7 [00:00<00:03,  1.64it/s]\u001b[A\n",
            "dev set:  29%|██▊       | 2/7 [00:01<00:02,  1.80it/s]\u001b[A\n",
            "dev set:  43%|████▎     | 3/7 [00:01<00:02,  1.84it/s]\u001b[A\n",
            "dev set:  57%|█████▋    | 4/7 [00:02<00:02,  1.17it/s]\u001b[A\n",
            "dev set:  71%|███████▏  | 5/7 [00:03<00:01,  1.29it/s]\u001b[A\n",
            "dev set:  86%|████████▌ | 6/7 [00:04<00:00,  1.34it/s]\u001b[A\n",
            "dev set: 100%|██████████| 7/7 [00:05<00:00,  1.18it/s]\n",
            " 14%|█▍        | 7/50 [04:05<25:06, 35.04s/it]"
          ]
        },
        {
          "output_type": "stream",
          "name": "stdout",
          "text": [
            "\n",
            "Train loss: 0.0279 Validation loss: 0.2237 Test loss: 0.2242\n",
            "Train accuracy: 0.9906 Validation accuracy: 0.9326 Test accuracy: 0.9281\n"
          ]
        },
        {
          "output_type": "stream",
          "name": "stderr",
          "text": [
            "\n",
            "training set:   0%|          | 0/26 [00:00<?, ?it/s]\u001b[A\n",
            "training set:   4%|▍         | 1/26 [00:00<00:17,  1.47it/s]\u001b[A\n",
            "training set:   8%|▊         | 2/26 [00:01<00:19,  1.23it/s]\u001b[A\n",
            "training set:  12%|█▏        | 3/26 [00:02<00:19,  1.19it/s]\u001b[A\n",
            "training set:  15%|█▌        | 4/26 [00:03<00:17,  1.26it/s]\u001b[A\n",
            "training set:  19%|█▉        | 5/26 [00:03<00:15,  1.32it/s]\u001b[A\n",
            "training set:  23%|██▎       | 6/26 [00:04<00:14,  1.41it/s]\u001b[A\n",
            "training set:  27%|██▋       | 7/26 [00:05<00:13,  1.38it/s]\u001b[A\n",
            "training set:  31%|███       | 8/26 [00:07<00:19,  1.08s/it]\u001b[A\n",
            "training set:  35%|███▍      | 9/26 [00:07<00:16,  1.04it/s]\u001b[A\n",
            "training set:  38%|███▊      | 10/26 [00:08<00:13,  1.16it/s]\u001b[A\n",
            "training set:  42%|████▏     | 11/26 [00:09<00:12,  1.15it/s]\u001b[A\n",
            "training set:  46%|████▌     | 12/26 [00:10<00:12,  1.12it/s]\u001b[A\n",
            "training set:  50%|█████     | 13/26 [00:11<00:11,  1.11it/s]\u001b[A\n",
            "training set:  54%|█████▍    | 14/26 [00:12<00:11,  1.00it/s]\u001b[A\n",
            "training set:  58%|█████▊    | 15/26 [00:13<00:11,  1.01s/it]\u001b[A\n",
            "training set:  62%|██████▏   | 16/26 [00:15<00:13,  1.38s/it]\u001b[A\n",
            "training set:  65%|██████▌   | 17/26 [00:16<00:10,  1.19s/it]\u001b[A\n",
            "training set:  69%|██████▉   | 18/26 [00:17<00:08,  1.07s/it]\u001b[A\n",
            "training set:  73%|███████▎  | 19/26 [00:17<00:06,  1.02it/s]\u001b[A\n",
            "training set:  77%|███████▋  | 20/26 [00:18<00:05,  1.10it/s]\u001b[A\n",
            "training set:  81%|████████  | 21/26 [00:19<00:04,  1.16it/s]\u001b[A\n",
            "training set:  85%|████████▍ | 22/26 [00:20<00:03,  1.21it/s]\u001b[A\n",
            "training set:  88%|████████▊ | 23/26 [00:20<00:02,  1.29it/s]\u001b[A\n",
            "training set:  92%|█████████▏| 24/26 [00:23<00:02,  1.42s/it]\u001b[A\n",
            "training set:  96%|█████████▌| 25/26 [00:24<00:01,  1.32s/it]\u001b[A\n",
            "training set: 100%|██████████| 26/26 [00:24<00:00,  1.04it/s]\n",
            "\n",
            "dev set:   0%|          | 0/3 [00:00<?, ?it/s]\u001b[A\n",
            "dev set:  33%|███▎      | 1/3 [00:01<00:02,  1.26s/it]\u001b[A\n",
            "dev set:  67%|██████▋   | 2/3 [00:02<00:01,  1.26s/it]\u001b[A\n",
            "dev set: 100%|██████████| 3/3 [00:03<00:00,  1.01s/it]\n",
            "\n",
            "dev set:   0%|          | 0/7 [00:00<?, ?it/s]\u001b[A\n",
            "dev set:  14%|█▍        | 1/7 [00:00<00:04,  1.24it/s]\u001b[A\n",
            "dev set:  29%|██▊       | 2/7 [00:01<00:03,  1.38it/s]\u001b[A\n",
            "dev set:  43%|████▎     | 3/7 [00:02<00:02,  1.44it/s]\u001b[A\n",
            "dev set:  57%|█████▋    | 4/7 [00:03<00:02,  1.16it/s]\u001b[A\n",
            "dev set:  71%|███████▏  | 5/7 [00:03<00:01,  1.37it/s]\u001b[A\n",
            "dev set:  86%|████████▌ | 6/7 [00:04<00:00,  1.47it/s]\u001b[A\n",
            "dev set: 100%|██████████| 7/7 [00:05<00:00,  1.24it/s]\n",
            " 16%|█▌        | 8/50 [04:39<24:14, 34.63s/it]"
          ]
        },
        {
          "output_type": "stream",
          "name": "stdout",
          "text": [
            "\n",
            "Train loss: 0.1305 Validation loss: 1.3812 Test loss: 1.0453\n",
            "Train accuracy: 0.9963 Validation accuracy: 0.7584 Test accuracy: 0.8360\n"
          ]
        },
        {
          "output_type": "stream",
          "name": "stderr",
          "text": [
            "\n",
            "training set:   0%|          | 0/26 [00:00<?, ?it/s]\u001b[A\n",
            "training set:   4%|▍         | 1/26 [00:00<00:16,  1.51it/s]\u001b[A\n",
            "training set:   8%|▊         | 2/26 [00:01<00:20,  1.16it/s]\u001b[A\n",
            "training set:  12%|█▏        | 3/26 [00:02<00:19,  1.15it/s]\u001b[A\n",
            "training set:  15%|█▌        | 4/26 [00:03<00:20,  1.07it/s]\u001b[A\n",
            "training set:  19%|█▉        | 5/26 [00:05<00:28,  1.35s/it]\u001b[A\n",
            "training set:  23%|██▎       | 6/26 [00:06<00:24,  1.24s/it]\u001b[A\n",
            "training set:  27%|██▋       | 7/26 [00:07<00:21,  1.12s/it]\u001b[A\n",
            "training set:  31%|███       | 8/26 [00:08<00:17,  1.02it/s]\u001b[A\n",
            "training set:  35%|███▍      | 9/26 [00:09<00:16,  1.04it/s]\u001b[A\n",
            "training set:  38%|███▊      | 10/26 [00:09<00:13,  1.15it/s]\u001b[A\n",
            "training set:  42%|████▏     | 11/26 [00:11<00:17,  1.17s/it]\u001b[A\n",
            "training set:  46%|████▌     | 12/26 [00:13<00:20,  1.48s/it]\u001b[A\n",
            "training set:  50%|█████     | 13/26 [00:14<00:16,  1.27s/it]\u001b[A\n",
            "training set:  54%|█████▍    | 14/26 [00:17<00:19,  1.62s/it]\u001b[A\n",
            "training set:  58%|█████▊    | 15/26 [00:17<00:15,  1.40s/it]\u001b[A\n",
            "training set:  62%|██████▏   | 16/26 [00:18<00:12,  1.25s/it]\u001b[A\n",
            "training set:  65%|██████▌   | 17/26 [00:19<00:10,  1.18s/it]\u001b[A\n",
            "training set:  69%|██████▉   | 18/26 [00:20<00:08,  1.05s/it]\u001b[A\n",
            "training set:  73%|███████▎  | 19/26 [00:21<00:06,  1.07it/s]\u001b[A\n",
            "training set:  77%|███████▋  | 20/26 [00:22<00:05,  1.04it/s]\u001b[A\n",
            "training set:  81%|████████  | 21/26 [00:23<00:05,  1.10s/it]\u001b[A\n",
            "training set:  85%|████████▍ | 22/26 [00:24<00:04,  1.03s/it]\u001b[A\n",
            "training set:  88%|████████▊ | 23/26 [00:25<00:02,  1.02it/s]\u001b[A\n",
            "training set:  92%|█████████▏| 24/26 [00:26<00:01,  1.05it/s]\u001b[A\n",
            "training set: 100%|██████████| 26/26 [00:27<00:00,  1.06s/it]\n",
            "\n",
            "dev set:   0%|          | 0/3 [00:00<?, ?it/s]\u001b[A\n",
            "dev set:  33%|███▎      | 1/3 [00:00<00:01,  1.25it/s]\u001b[A\n",
            "dev set:  67%|██████▋   | 2/3 [00:02<00:01,  1.05s/it]\u001b[A\n",
            "dev set: 100%|██████████| 3/3 [00:02<00:00,  1.12it/s]\n",
            "\n",
            "dev set:   0%|          | 0/7 [00:00<?, ?it/s]\u001b[A\n",
            "dev set:  14%|█▍        | 1/7 [00:01<00:06,  1.15s/it]\u001b[A\n",
            "dev set:  29%|██▊       | 2/7 [00:02<00:04,  1.00it/s]\u001b[A\n",
            "dev set:  43%|████▎     | 3/7 [00:02<00:03,  1.04it/s]\u001b[A\n",
            "dev set:  57%|█████▋    | 4/7 [00:04<00:03,  1.06s/it]\u001b[A\n",
            "dev set:  71%|███████▏  | 5/7 [00:04<00:01,  1.18it/s]\u001b[A\n",
            "dev set:  86%|████████▌ | 6/7 [00:05<00:00,  1.38it/s]\u001b[A\n",
            "dev set: 100%|██████████| 7/7 [00:06<00:00,  1.07it/s]\n",
            " 18%|█▊        | 9/50 [05:15<24:06, 35.29s/it]"
          ]
        },
        {
          "output_type": "stream",
          "name": "stdout",
          "text": [
            "\n",
            "Train loss: 0.1578 Validation loss: 0.5188 Test loss: 0.6050\n",
            "Train accuracy: 0.9544 Validation accuracy: 0.8539 Test accuracy: 0.8247\n"
          ]
        },
        {
          "output_type": "stream",
          "name": "stderr",
          "text": [
            "\n",
            "training set:   0%|          | 0/26 [00:00<?, ?it/s]\u001b[A\n",
            "training set:   4%|▍         | 1/26 [00:00<00:18,  1.33it/s]\u001b[A\n",
            "training set:   8%|▊         | 2/26 [00:01<00:19,  1.24it/s]\u001b[A\n",
            "training set:  12%|█▏        | 3/26 [00:03<00:33,  1.45s/it]\u001b[A\n",
            "training set:  15%|█▌        | 4/26 [00:05<00:34,  1.59s/it]\u001b[A\n",
            "training set:  19%|█▉        | 5/26 [00:06<00:26,  1.27s/it]\u001b[A\n",
            "training set:  23%|██▎       | 6/26 [00:07<00:23,  1.19s/it]\u001b[A\n",
            "training set:  27%|██▋       | 7/26 [00:08<00:21,  1.13s/it]\u001b[A\n",
            "training set:  31%|███       | 8/26 [00:09<00:19,  1.07s/it]\u001b[A\n",
            "training set:  35%|███▍      | 9/26 [00:10<00:17,  1.00s/it]\u001b[A\n",
            "training set:  38%|███▊      | 10/26 [00:10<00:14,  1.08it/s]\u001b[A\n",
            "training set:  42%|████▏     | 11/26 [00:11<00:13,  1.10it/s]\u001b[A\n",
            "training set:  46%|████▌     | 12/26 [00:12<00:13,  1.03it/s]\u001b[A\n",
            "training set:  50%|█████     | 13/26 [00:13<00:12,  1.02it/s]\u001b[A\n",
            "training set:  54%|█████▍    | 14/26 [00:14<00:10,  1.11it/s]\u001b[A\n",
            "training set:  58%|█████▊    | 15/26 [00:15<00:09,  1.12it/s]\u001b[A\n",
            "training set:  62%|██████▏   | 16/26 [00:18<00:14,  1.42s/it]\u001b[A\n",
            "training set:  65%|██████▌   | 17/26 [00:18<00:10,  1.20s/it]\u001b[A\n",
            "training set:  69%|██████▉   | 18/26 [00:19<00:08,  1.04s/it]\u001b[A\n",
            "training set:  73%|███████▎  | 19/26 [00:20<00:06,  1.03it/s]\u001b[A\n",
            "training set:  77%|███████▋  | 20/26 [00:21<00:06,  1.07s/it]\u001b[A\n",
            "training set:  81%|████████  | 21/26 [00:22<00:05,  1.03s/it]\u001b[A\n",
            "training set:  85%|████████▍ | 22/26 [00:23<00:04,  1.00s/it]\u001b[A\n",
            "training set:  88%|████████▊ | 23/26 [00:24<00:02,  1.05it/s]\u001b[A\n",
            "training set:  92%|█████████▏| 24/26 [00:25<00:02,  1.13s/it]\u001b[A\n",
            "training set: 100%|██████████| 26/26 [00:26<00:00,  1.04s/it]\n",
            "\n",
            "dev set:   0%|          | 0/3 [00:00<?, ?it/s]\u001b[A\n",
            "dev set:  33%|███▎      | 1/3 [00:00<00:01,  1.23it/s]\u001b[A\n",
            "dev set:  67%|██████▋   | 2/3 [00:02<00:01,  1.06s/it]\u001b[A\n",
            "dev set: 100%|██████████| 3/3 [00:02<00:00,  1.15it/s]\n",
            "\n",
            "dev set:   0%|          | 0/7 [00:00<?, ?it/s]\u001b[A\n",
            "dev set:  14%|█▍        | 1/7 [00:00<00:04,  1.34it/s]\u001b[A\n",
            "dev set:  29%|██▊       | 2/7 [00:01<00:03,  1.52it/s]\u001b[A\n",
            "dev set:  43%|████▎     | 3/7 [00:01<00:02,  1.57it/s]\u001b[A\n",
            "dev set:  57%|█████▋    | 4/7 [00:03<00:02,  1.19it/s]\u001b[A\n",
            "dev set:  71%|███████▏  | 5/7 [00:03<00:01,  1.40it/s]\u001b[A\n",
            "dev set:  86%|████████▌ | 6/7 [00:04<00:00,  1.44it/s]\u001b[A\n",
            "dev set: 100%|██████████| 7/7 [00:06<00:00,  1.15it/s]\n",
            " 20%|██        | 10/50 [05:51<23:36, 35.41s/it]"
          ]
        },
        {
          "output_type": "stream",
          "name": "stdout",
          "text": [
            "\n",
            "Train loss: 0.0636 Validation loss: 0.6097 Test loss: 0.4985\n",
            "Train accuracy: 0.9788 Validation accuracy: 0.8371 Test accuracy: 0.8742\n"
          ]
        },
        {
          "output_type": "stream",
          "name": "stderr",
          "text": [
            "\n",
            "training set:   0%|          | 0/26 [00:00<?, ?it/s]\u001b[A\n",
            "training set:   4%|▍         | 1/26 [00:01<00:47,  1.90s/it]\u001b[A\n",
            "training set:   8%|▊         | 2/26 [00:02<00:32,  1.36s/it]\u001b[A\n",
            "training set:  12%|█▏        | 3/26 [00:03<00:24,  1.05s/it]\u001b[A\n",
            "training set:  15%|█▌        | 4/26 [00:04<00:21,  1.02it/s]\u001b[A\n",
            "training set:  19%|█▉        | 5/26 [00:05<00:18,  1.12it/s]\u001b[A\n",
            "training set:  23%|██▎       | 6/26 [00:06<00:17,  1.14it/s]\u001b[A\n",
            "training set:  27%|██▋       | 7/26 [00:07<00:17,  1.08it/s]\u001b[A\n",
            "training set:  31%|███       | 8/26 [00:07<00:15,  1.17it/s]\u001b[A\n",
            "training set:  35%|███▍      | 9/26 [00:09<00:19,  1.14s/it]\u001b[A\n",
            "training set:  38%|███▊      | 10/26 [00:10<00:16,  1.01s/it]\u001b[A\n",
            "training set:  42%|████▏     | 11/26 [00:12<00:20,  1.39s/it]\u001b[A\n",
            "training set:  46%|████▌     | 12/26 [00:13<00:17,  1.26s/it]\u001b[A\n",
            "training set:  50%|█████     | 13/26 [00:14<00:16,  1.29s/it]\u001b[A\n",
            "training set:  54%|█████▍    | 14/26 [00:15<00:13,  1.10s/it]\u001b[A\n",
            "training set:  58%|█████▊    | 15/26 [00:16<00:11,  1.03s/it]\u001b[A\n",
            "training set:  62%|██████▏   | 16/26 [00:17<00:09,  1.01it/s]\u001b[A\n",
            "training set:  65%|██████▌   | 17/26 [00:18<00:08,  1.06it/s]\u001b[A\n",
            "training set:  69%|██████▉   | 18/26 [00:20<00:11,  1.46s/it]\u001b[A\n",
            "training set:  73%|███████▎  | 19/26 [00:21<00:08,  1.23s/it]\u001b[A\n",
            "training set:  77%|███████▋  | 20/26 [00:22<00:06,  1.11s/it]\u001b[A\n",
            "training set:  81%|████████  | 21/26 [00:23<00:05,  1.02s/it]\u001b[A\n",
            "training set:  85%|████████▍ | 22/26 [00:23<00:03,  1.06it/s]\u001b[A\n",
            "training set:  88%|████████▊ | 23/26 [00:24<00:02,  1.06it/s]\u001b[A\n",
            "training set:  92%|█████████▏| 24/26 [00:25<00:01,  1.08it/s]\u001b[A\n",
            "training set: 100%|██████████| 26/26 [00:26<00:00,  1.03s/it]\n",
            "\n",
            "dev set:   0%|          | 0/3 [00:00<?, ?it/s]\u001b[A\n",
            "dev set:  33%|███▎      | 1/3 [00:01<00:02,  1.23s/it]\u001b[A\n",
            "dev set:  67%|██████▋   | 2/3 [00:02<00:01,  1.30s/it]\u001b[A\n",
            "dev set: 100%|██████████| 3/3 [00:03<00:00,  1.09s/it]\n",
            "\n",
            "dev set:   0%|          | 0/7 [00:00<?, ?it/s]\u001b[A\n",
            "dev set:  14%|█▍        | 1/7 [00:00<00:04,  1.37it/s]\u001b[A\n",
            "dev set:  29%|██▊       | 2/7 [00:01<00:03,  1.56it/s]\u001b[A\n",
            "dev set:  43%|████▎     | 3/7 [00:01<00:02,  1.58it/s]\u001b[A\n",
            "dev set:  57%|█████▋    | 4/7 [00:03<00:02,  1.18it/s]\u001b[A\n",
            "dev set:  71%|███████▏  | 5/7 [00:03<00:01,  1.40it/s]\u001b[A\n",
            "dev set:  86%|████████▌ | 6/7 [00:04<00:00,  1.47it/s]\u001b[A\n",
            "dev set: 100%|██████████| 7/7 [00:05<00:00,  1.24it/s]\n",
            " 22%|██▏       | 11/50 [06:27<23:06, 35.54s/it]"
          ]
        },
        {
          "output_type": "stream",
          "name": "stdout",
          "text": [
            "\n",
            "Train loss: 0.1676 Validation loss: 0.4254 Test loss: 0.4446\n",
            "Train accuracy: 0.9551 Validation accuracy: 0.8820 Test accuracy: 0.8831\n"
          ]
        },
        {
          "output_type": "stream",
          "name": "stderr",
          "text": [
            "\n",
            "training set:   0%|          | 0/26 [00:00<?, ?it/s]\u001b[A\n",
            "training set:   4%|▍         | 1/26 [00:00<00:17,  1.41it/s]\u001b[A\n",
            "training set:   8%|▊         | 2/26 [00:01<00:18,  1.31it/s]\u001b[A\n",
            "training set:  12%|█▏        | 3/26 [00:02<00:18,  1.25it/s]\u001b[A\n",
            "training set:  15%|█▌        | 4/26 [00:03<00:21,  1.04it/s]\u001b[A\n",
            "training set:  19%|█▉        | 5/26 [00:04<00:22,  1.08s/it]\u001b[A\n",
            "training set:  23%|██▎       | 6/26 [00:06<00:22,  1.11s/it]\u001b[A\n",
            "training set:  27%|██▋       | 7/26 [00:06<00:19,  1.02s/it]\u001b[A\n",
            "training set:  31%|███       | 8/26 [00:07<00:17,  1.04it/s]\u001b[A\n",
            "training set:  35%|███▍      | 9/26 [00:08<00:17,  1.03s/it]\u001b[A\n",
            "training set:  38%|███▊      | 10/26 [00:09<00:15,  1.02it/s]\u001b[A\n",
            "training set:  42%|████▏     | 11/26 [00:10<00:13,  1.09it/s]\u001b[A\n",
            "training set:  46%|████▌     | 12/26 [00:11<00:12,  1.13it/s]\u001b[A\n",
            "training set:  50%|█████     | 13/26 [00:12<00:11,  1.09it/s]\u001b[A\n",
            "training set:  54%|█████▍    | 14/26 [00:14<00:16,  1.38s/it]\u001b[A\n",
            "training set:  58%|█████▊    | 15/26 [00:15<00:13,  1.21s/it]\u001b[A\n",
            "training set:  62%|██████▏   | 16/26 [00:16<00:10,  1.09s/it]\u001b[A\n",
            "training set:  65%|██████▌   | 17/26 [00:19<00:14,  1.61s/it]\u001b[A\n",
            "training set:  69%|██████▉   | 18/26 [00:19<00:10,  1.35s/it]\u001b[A\n",
            "training set:  73%|███████▎  | 19/26 [00:21<00:10,  1.51s/it]\u001b[A\n",
            "training set:  77%|███████▋  | 20/26 [00:22<00:07,  1.28s/it]\u001b[A\n",
            "training set:  81%|████████  | 21/26 [00:23<00:05,  1.10s/it]\u001b[A\n",
            "training set:  85%|████████▍ | 22/26 [00:24<00:04,  1.03s/it]\u001b[A\n",
            "training set:  88%|████████▊ | 23/26 [00:25<00:02,  1.02it/s]\u001b[A\n",
            "training set:  92%|█████████▏| 24/26 [00:25<00:01,  1.13it/s]\u001b[A\n",
            "training set: 100%|██████████| 26/26 [00:26<00:00,  1.02s/it]\n",
            "\n",
            "dev set:   0%|          | 0/3 [00:00<?, ?it/s]\u001b[A\n",
            "dev set:  33%|███▎      | 1/3 [00:00<00:01,  1.13it/s]\u001b[A\n",
            "dev set:  67%|██████▋   | 2/3 [00:02<00:01,  1.09s/it]\u001b[A\n",
            "dev set: 100%|██████████| 3/3 [00:02<00:00,  1.14it/s]\n",
            "\n",
            "dev set:   0%|          | 0/7 [00:00<?, ?it/s]\u001b[A\n",
            "dev set:  14%|█▍        | 1/7 [00:00<00:05,  1.13it/s]\u001b[A\n",
            "dev set:  29%|██▊       | 2/7 [00:01<00:04,  1.12it/s]\u001b[A\n",
            "dev set:  43%|████▎     | 3/7 [00:02<00:03,  1.10it/s]\u001b[A\n",
            "dev set:  57%|█████▋    | 4/7 [00:04<00:03,  1.11s/it]\u001b[A\n",
            "dev set:  71%|███████▏  | 5/7 [00:04<00:01,  1.13it/s]\u001b[A\n",
            "dev set:  86%|████████▌ | 6/7 [00:05<00:00,  1.28it/s]\u001b[A\n",
            "dev set: 100%|██████████| 7/7 [00:06<00:00,  1.05it/s]\n",
            " 22%|██▏       | 11/50 [07:03<25:00, 38.48s/it]\n"
          ]
        },
        {
          "output_type": "stream",
          "name": "stdout",
          "text": [
            "\n",
            "Train loss: 0.0984 Validation loss: 0.5738 Test loss: 0.5426\n",
            "Train accuracy: 0.9663 Validation accuracy: 0.8596 Test accuracy: 0.8584\n",
            "Early stop!\n"
          ]
        }
      ],
      "source": [
        "# Routine di addestramento\n",
        "train_loss, validation_loss,test_loss, train_acc, validation_acc, test_acc = train_test(model,\n",
        "                                                #hyperparameters['epochs'],\n",
        "                                                50,\n",
        "                                                optimizer,\n",
        "                                                device,\n",
        "                                                train_dataset,\n",
        "                                                test_dataset,\n",
        "                                                hyperparameters['batch_size'],\n",
        "                                                criterion,\n",
        "                                                criterion,\n",
        "                                                early_stopping,\n",
        "                                                val_dataset)"
      ]
    },
    {
      "cell_type": "code",
      "source": [
        "import matplotlib.pyplot as plt\n",
        "\n",
        "plt.plot(train_loss, label='training loss')\n",
        "plt.plot(validation_loss, label='validation loss')\n",
        "plt.plot(test_loss, label='test loss')\n",
        "plt.legend(loc='lower right')\n",
        "plt.ylim(0,4)\n",
        "plt.show()"
      ],
      "metadata": {
        "colab": {
          "base_uri": "https://localhost:8080/",
          "height": 435
        },
        "id": "v3jFVtjAzFqO",
        "outputId": "2a444b46-2d18-438f-bcc6-b78238a7350c"
      },
      "execution_count": null,
      "outputs": [
        {
          "output_type": "display_data",
          "data": {
            "text/plain": [
              "<Figure size 640x480 with 1 Axes>"
            ],
            "image/png": "[encoded data removed]"
          },
          "metadata": {}
        }
      ]
    },
    {
      "cell_type": "code",
      "execution_count": null,
      "metadata": {
        "id": "9v9uNvAKPPvG",
        "colab": {
          "base_uri": "https://localhost:8080/",
          "height": 435
        },
        "outputId": "056e84a3-7510-44dd-baf1-c53da0b61795"
      },
      "outputs": [
        {
          "output_type": "display_data",
          "data": {
            "text/plain": [
              "<Figure size 640x480 with 1 Axes>"
            ],
            "image/png": "[encoded data removed]"
          },
          "metadata": {}
        }
      ],
      "source": [
        "plt.plot(train_acc, label='training accuracy')\n",
        "plt.plot(validation_acc, label='validation accuracy')\n",
        "plt.plot(test_acc, label='test accuracy')\n",
        "plt.legend(loc='lower right')\n",
        "plt.ylim(0,2)\n",
        "plt.show()"
      ]
    }
  ],
  "metadata": {
    "accelerator": "GPU",
    "colab": {
      "gpuType": "T4",
      "provenance": [],
      "include_colab_link": true
    },
    "kernelspec": {
      "display_name": "Python 3",
      "name": "python3"
    },
    "language_info": {
      "codemirror_mode": {
        "name": "ipython",
        "version": 3
      },
      "file_extension": ".py",
      "mimetype": "text/x-python",
      "name": "python",
      "nbconvert_exporter": "python",
      "pygments_lexer": "ipython3",
      "version": "3.7.11"
    }
  },
  "nbformat": 4,
  "nbformat_minor": 0
}