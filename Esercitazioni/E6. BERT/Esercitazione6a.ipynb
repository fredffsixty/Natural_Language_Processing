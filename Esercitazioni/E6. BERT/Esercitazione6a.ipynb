{
  "nbformat": 4,
  "nbformat_minor": 0,
  "metadata": {
    "colab": {
      "provenance": [],
      "gpuType": "T4"
    },
    "kernelspec": {
      "name": "python3",
      "display_name": "Python 3"
    },
    "language_info": {
      "name": "python"
    },
    "accelerator": "GPU"
  },
  "cells": [
    {
      "cell_type": "code",
      "source": [
        "!pip install transformers"
      ],
      "metadata": {
        "colab": {
          "base_uri": "https://localhost:8080/"
        },
        "id": "o_9x1m3YC3RF",
        "outputId": "33c96774-21a3-4986-a60f-b95cde7f00de"
      },
      "execution_count": null,
      "outputs": [
        {
          "output_type": "stream",
          "name": "stdout",
          "text": [
            "Requirement already satisfied: transformers in /usr/local/lib/python3.10/dist-packages (4.35.2)\n",
            "Requirement already satisfied: filelock in /usr/local/lib/python3.10/dist-packages (from transformers) (3.13.1)\n",
            "Requirement already satisfied: huggingface-hub<1.0,>=0.16.4 in /usr/local/lib/python3.10/dist-packages (from transformers) (0.19.3)\n",
            "Requirement already satisfied: numpy>=1.17 in /usr/local/lib/python3.10/dist-packages (from transformers) (1.23.5)\n",
            "Requirement already satisfied: packaging>=20.0 in /usr/local/lib/python3.10/dist-packages (from transformers) (23.2)\n",
            "Requirement already satisfied: pyyaml>=5.1 in /usr/local/lib/python3.10/dist-packages (from transformers) (6.0.1)\n",
            "Requirement already satisfied: regex!=2019.12.17 in /usr/local/lib/python3.10/dist-packages (from transformers) (2023.6.3)\n",
            "Requirement already satisfied: requests in /usr/local/lib/python3.10/dist-packages (from transformers) (2.31.0)\n",
            "Requirement already satisfied: tokenizers<0.19,>=0.14 in /usr/local/lib/python3.10/dist-packages (from transformers) (0.15.0)\n",
            "Requirement already satisfied: safetensors>=0.3.1 in /usr/local/lib/python3.10/dist-packages (from transformers) (0.4.0)\n",
            "Requirement already satisfied: tqdm>=4.27 in /usr/local/lib/python3.10/dist-packages (from transformers) (4.66.1)\n",
            "Requirement already satisfied: fsspec>=2023.5.0 in /usr/local/lib/python3.10/dist-packages (from huggingface-hub<1.0,>=0.16.4->transformers) (2023.6.0)\n",
            "Requirement already satisfied: typing-extensions>=3.7.4.3 in /usr/local/lib/python3.10/dist-packages (from huggingface-hub<1.0,>=0.16.4->transformers) (4.5.0)\n",
            "Requirement already satisfied: charset-normalizer<4,>=2 in /usr/local/lib/python3.10/dist-packages (from requests->transformers) (3.3.2)\n",
            "Requirement already satisfied: idna<4,>=2.5 in /usr/local/lib/python3.10/dist-packages (from requests->transformers) (3.4)\n",
            "Requirement already satisfied: urllib3<3,>=1.21.1 in /usr/local/lib/python3.10/dist-packages (from requests->transformers) (2.0.7)\n",
            "Requirement already satisfied: certifi>=2017.4.17 in /usr/local/lib/python3.10/dist-packages (from requests->transformers) (2023.7.22)\n"
          ]
        }
      ]
    },
    {
      "cell_type": "code",
      "execution_count": null,
      "metadata": {
        "colab": {
          "base_uri": "https://localhost:8080/"
        },
        "id": "k5jGMRPJ1E1e",
        "outputId": "52032414-1f8a-4ab2-a352-cecc144c8de3"
      },
      "outputs": [
        {
          "output_type": "stream",
          "name": "stdout",
          "text": [
            "Mounted at /content/gdrive\n"
          ]
        }
      ],
      "source": [
        "import pandas as pd\n",
        "import sklearn\n",
        "from google.colab import drive\n",
        "import nltk\n",
        "import torch\n",
        "from torch import nn\n",
        "import numpy as np\n",
        "from tqdm import tqdm\n",
        "from torch.optim import Adam\n",
        "from sklearn.model_selection import train_test_split\n",
        "from transformers import AutoConfig, AutoModel, AutoTokenizer\n",
        "\n",
        "\n",
        "drive.mount('/content/gdrive')\n",
        "\n",
        "# Dataset\n",
        "# repository https://github.com/iresiragusa/NLP/tree/main\n",
        "# https://www.kaggle.com/datasets/yufengdev/bbc-fulltext-and-category?select=bbc-text.csv\n",
        "# scarichiamo il dataset e lo carichiamo su COLAB\n",
        "\n",
        "root = \"/content/gdrive/MyDrive/Colab Notebooks/torch/\"\n",
        "df = pd.read_csv(root+\"data/BBC-text/bbc-text.csv\")"
      ]
    },
    {
      "cell_type": "code",
      "source": [
        "# associo ad ogni categoria un indice, così ho delle label numeriche\n",
        "labels_dict = {\n",
        "    'business': 0,\n",
        "    'politics': 1,\n",
        "    'tech': 2,\n",
        "    'sport': 3,\n",
        "    'entertainment': 4\n",
        "}\n",
        "\n",
        "df['labels'] = df.apply(lambda row: labels_dict[row.category], axis = 1)"
      ],
      "metadata": {
        "id": "ystNFP_lfgwp"
      },
      "execution_count": null,
      "outputs": []
    },
    {
      "cell_type": "code",
      "source": [
        "# creo train, val e test\n",
        "\n",
        "(x_train, x_test, y_train, y_test) = train_test_split(df['text'], df['labels'], test_size=0.2, random_state=17)\n",
        "\n",
        "(x_train, x_val, y_train, y_val) = train_test_split( x_train, y_train, test_size=0.1, random_state=17)"
      ],
      "metadata": {
        "id": "s16PrHdD1bs_"
      },
      "execution_count": null,
      "outputs": []
    },
    {
      "cell_type": "code",
      "source": [
        "from transformers import AutoConfig, AutoModel, AutoTokenizer\n",
        "\n",
        "model_name = \"roberta-base\"\n",
        "config = AutoConfig.from_pretrained(model_name)\n",
        "tokenizer = AutoTokenizer.from_pretrained(model_name)\n",
        "model = AutoModel.from_pretrained(model_name, config=config)"
      ],
      "metadata": {
        "id": "_H4RzL8u1kHh",
        "colab": {
          "base_uri": "https://localhost:8080/"
        },
        "outputId": "f4178d1e-9ee3-4626-d680-bc30f3b1891f"
      },
      "execution_count": null,
      "outputs": [
        {
          "output_type": "stream",
          "name": "stderr",
          "text": [
            "Some weights of RobertaModel were not initialized from the model checkpoint at roberta-base and are newly initialized: ['roberta.pooler.dense.bias', 'roberta.pooler.dense.weight']\n",
            "You should probably TRAIN this model on a down-stream task to be able to use it for predictions and inference.\n"
          ]
        }
      ]
    },
    {
      "cell_type": "code",
      "source": [
        "# come funziona il tokenizzatore di BERT\n",
        "\n",
        "s = 'The quick brown fox, jumps over: the lazy dog.'\n",
        "print(len(s))\n",
        "print(s)\n",
        "print(len(tokenizer.tokenize(s)))\n",
        "print(tokenizer.tokenize(s)) # è la lista delle parole tokenizzate\n",
        "\n",
        "tensors = True\n",
        "\n",
        "# tk = tokenizer(s, add_special_tokens=True, return_tensors=\"pt\")\n",
        "# restituisce un dizionario con i seguenti campi\n",
        "# input_ids -> tokens numerici\n",
        "# token_type_ids -> se 0 è la prima frase, se è 1 è la  seconda [CLS] sentence 1 [SEP] sentence 2\n",
        "# attention_mask -> 1 se c'è un token in posizione, si vede meglio sotto quando passo una lista di frasi da processare\n",
        "\n",
        "if tensors:\n",
        "    tk = tokenizer(s, add_special_tokens=True, return_tensors=\"pt\")\n",
        "    print(tk['input_ids'].shape)\n",
        "    print(type(tk['input_ids']))\n",
        "    print(tk['input_ids'])\n",
        "    print('----')\n",
        "    print(tk['attention_mask'].shape)\n",
        "    print(type(tk['attention_mask']))\n",
        "    print(tk['attention_mask'])\n",
        "else:\n",
        "    tk = tokenizer(s, add_special_tokens=False)\n",
        "    print(len(tk['input_ids']))\n",
        "    print(type(tk['input_ids']))\n",
        "    print(tk['input_ids'])\n",
        "    print('----')\n",
        "    print(len(tk['attention_mask']))\n",
        "    print(type(tk['attention_mask']))\n",
        "    print(tk['attention_mask'])"
      ],
      "metadata": {
        "colab": {
          "base_uri": "https://localhost:8080/"
        },
        "id": "mdO7Gv_bECSA",
        "outputId": "bfe650b7-bda4-428a-b4ba-b14402e4e9e6"
      },
      "execution_count": null,
      "outputs": [
        {
          "output_type": "stream",
          "name": "stdout",
          "text": [
            "46\n",
            "The quick brown fox, jumps over: the lazy dog.\n",
            "12\n",
            "['the', 'quick', 'brown', 'fox', ',', 'jumps', 'over', ':', 'the', 'lazy', 'dog', '.']\n",
            "torch.Size([1, 14])\n",
            "<class 'torch.Tensor'>\n",
            "tensor([[  101,  1996,  4248,  2829,  4419,  1010, 14523,  2058,  1024,  1996,\n",
            "         13971,  3899,  1012,   102]])\n",
            "----\n",
            "torch.Size([1, 14])\n",
            "<class 'torch.Tensor'>\n",
            "tensor([[1, 1, 1, 1, 1, 1, 1, 1, 1, 1, 1, 1, 1, 1]])\n"
          ]
        }
      ]
    },
    {
      "cell_type": "code",
      "source": [
        "tokenizer = AutoTokenizer.from_pretrained(\"bert-base-uncased\")\n",
        "print(tokenizer.tokenize(s))\n",
        "if tensors:\n",
        "    tk = tokenizer(s, add_special_tokens=True, return_tensors=\"pt\")\n",
        "    print(tk['input_ids'].shape)\n",
        "    print(type(tk['input_ids']))\n",
        "    print(tk['input_ids'])\n",
        "    print('----')\n",
        "    print(tk['attention_mask'].shape)\n",
        "    print(type(tk['attention_mask']))\n",
        "    print(tk['attention_mask'])\n",
        "else:\n",
        "    tk = tokenizer(s, add_special_tokens=False)\n",
        "    print(len(tk['input_ids']))\n",
        "    print(type(tk['input_ids']))\n",
        "    print(tk['input_ids'])\n",
        "    print('----')\n",
        "    print(len(tk['attention_mask']))\n",
        "    print(type(tk['attention_mask']))\n",
        "    print(tk['attention_mask'])"
      ],
      "metadata": {
        "colab": {
          "base_uri": "https://localhost:8080/"
        },
        "id": "5TTKjJZmC7Zd",
        "outputId": "0990c603-60a3-4612-a7b2-fb14763a4a0e"
      },
      "execution_count": null,
      "outputs": [
        {
          "output_type": "stream",
          "name": "stdout",
          "text": [
            "['the', 'quick', 'brown', 'fox', ',', 'jumps', 'over', ':', 'the', 'lazy', 'dog', '.']\n",
            "torch.Size([1, 14])\n",
            "<class 'torch.Tensor'>\n",
            "tensor([[  101,  1996,  4248,  2829,  4419,  1010, 14523,  2058,  1024,  1996,\n",
            "         13971,  3899,  1012,   102]])\n",
            "----\n",
            "torch.Size([1, 14])\n",
            "<class 'torch.Tensor'>\n",
            "tensor([[1, 1, 1, 1, 1, 1, 1, 1, 1, 1, 1, 1, 1, 1]])\n"
          ]
        }
      ]
    },
    {
      "cell_type": "code",
      "source": [
        "s = ['The quick brown fox',\n",
        "     'jumps over: the lazy dog.',\n",
        "     'The quick brown fox, jumps over: the lazy dog.']\n",
        "\n",
        "tk = tokenizer(s, add_special_tokens=True, return_tensors=\"pt\", padding=True)\n",
        "print(tk['input_ids'].shape)\n",
        "print(type(tk['input_ids']))\n",
        "print(tk['input_ids'])\n",
        "print('----')\n",
        "print(tk['attention_mask'].shape)\n",
        "print(type(tk['attention_mask']))\n",
        "print(tk['attention_mask'])\n"
      ],
      "metadata": {
        "colab": {
          "base_uri": "https://localhost:8080/"
        },
        "id": "ZSgOHdIcs9Na",
        "outputId": "dea937da-fc05-439c-c7e1-283dc39821bb"
      },
      "execution_count": null,
      "outputs": [
        {
          "output_type": "stream",
          "name": "stdout",
          "text": [
            "torch.Size([3, 14])\n",
            "<class 'torch.Tensor'>\n",
            "tensor([[    0,   133,  2119,  6219, 23602,     2,     1,     1,     1,     1,\n",
            "             1,     1,     1,     1],\n",
            "        [    0,   267, 11768,    81,    35,     5, 22414,  2335,     4,     2,\n",
            "             1,     1,     1,     1],\n",
            "        [    0,   133,  2119,  6219, 23602,     6, 13855,    81,    35,     5,\n",
            "         22414,  2335,     4,     2]])\n",
            "----\n",
            "torch.Size([3, 14])\n",
            "<class 'torch.Tensor'>\n",
            "tensor([[1, 1, 1, 1, 1, 1, 0, 0, 0, 0, 0, 0, 0, 0],\n",
            "        [1, 1, 1, 1, 1, 1, 1, 1, 1, 1, 0, 0, 0, 0],\n",
            "        [1, 1, 1, 1, 1, 1, 1, 1, 1, 1, 1, 1, 1, 1]])\n"
          ]
        }
      ]
    },
    {
      "cell_type": "code",
      "source": [
        "outputs = model(**tk)\n",
        "last_hidden_states = outputs.last_hidden_state\n",
        "print(last_hidden_states.shape)\n",
        "# (n, l, d)\n",
        "    # n batch size\n",
        "    # l max len (padding value)\n",
        "    # d emb size\n",
        "print(last_hidden_states)\n",
        "#print(outputs)"
      ],
      "metadata": {
        "colab": {
          "base_uri": "https://localhost:8080/"
        },
        "id": "mGk9palVFteL",
        "outputId": "b4744a2a-c5b4-46f1-93be-4947b6865ad7"
      },
      "execution_count": null,
      "outputs": [
        {
          "output_type": "stream",
          "name": "stdout",
          "text": [
            "torch.Size([3, 14, 768])\n",
            "tensor([[[-0.0633,  0.0878,  0.0058,  ..., -0.0603, -0.0532,  0.0037],\n",
            "         [-0.1798, -0.0565,  0.2604,  ...,  0.0176,  0.0379,  0.1828],\n",
            "         [-0.1793,  0.1984,  0.0795,  ..., -0.4205,  0.0426,  0.1241],\n",
            "         ...,\n",
            "         [-0.0439,  0.0719,  0.1323,  ...,  0.0635, -0.0428,  0.0897],\n",
            "         [-0.0439,  0.0719,  0.1323,  ...,  0.0635, -0.0428,  0.0897],\n",
            "         [-0.0439,  0.0719,  0.1323,  ...,  0.0635, -0.0428,  0.0897]],\n",
            "\n",
            "        [[-0.1462,  0.0946, -0.0063,  ..., -0.1004, -0.0628, -0.0156],\n",
            "         [ 0.0551, -0.0620, -0.0420,  ..., -0.2772, -0.0434,  0.0910],\n",
            "         [-0.0131,  0.1782,  0.0057,  ..., -0.4606, -0.0345,  0.0100],\n",
            "         ...,\n",
            "         [-0.0063, -0.0916,  0.0834,  ..., -0.0252, -0.0698,  0.0268],\n",
            "         [-0.0063, -0.0916,  0.0834,  ..., -0.0252, -0.0698,  0.0268],\n",
            "         [-0.0063, -0.0916,  0.0834,  ..., -0.0252, -0.0698,  0.0268]],\n",
            "\n",
            "        [[-0.1371,  0.0902, -0.0104,  ..., -0.0628, -0.0530,  0.0093],\n",
            "         [-0.1730, -0.0013,  0.0470,  ...,  0.0945, -0.0013,  0.1585],\n",
            "         [-0.0590,  0.1471, -0.0120,  ..., -0.2976, -0.0327,  0.1491],\n",
            "         ...,\n",
            "         [-0.0096,  0.2085,  0.0613,  ..., -0.1549, -0.0044,  0.1903],\n",
            "         [-0.1360,  0.0879, -0.0339,  ..., -0.0914, -0.0577, -0.0015],\n",
            "         [-0.0598,  0.1404,  0.1136,  ...,  0.2383, -0.1246,  0.1007]]],\n",
            "       grad_fn=<NativeLayerNormBackward0>)\n"
          ]
        }
      ]
    },
    {
      "cell_type": "code",
      "source": [
        "from transformers import pipeline\n",
        "\n",
        "\n",
        "model = \"bert-base-uncased\"\n",
        "task = \"feature-extraction\"\n",
        "tokenizer = AutoTokenizer.from_pretrained(model)\n",
        "\n",
        "\n",
        "text = 'The quick brown fox, jumps over: the lazy dog.'\n",
        "tokenized_text = tokenizer.tokenize(text)\n",
        "\n",
        "\n",
        "feature_extractor = pipeline(task = task, model=model, tokenizer=tokenizer)\n",
        "result = feature_extractor(text, return_tensors=True)\n",
        "# con pipeline di hugging face fa la stessa cosa, estrae i cls token"
      ],
      "metadata": {
        "id": "6ezG6qR16JAD"
      },
      "execution_count": null,
      "outputs": []
    },
    {
      "cell_type": "code",
      "source": [
        "s = 'The quick brown fox, jumps over: the lazy dog.'\n",
        "tk = tokenizer(s, add_special_tokens=True, return_tensors=\"pt\")\n",
        "outputs = model(**tk)\n",
        "last_hidden_states = outputs.last_hidden_state\n",
        "print(last_hidden_states.shape)\n",
        "# (n, l, d)\n",
        "    # n batch size\n",
        "    # l max len (padding value)\n",
        "    # d emb size\n",
        "print(last_hidden_states)\n",
        "#print(outputs)"
      ],
      "metadata": {
        "colab": {
          "base_uri": "https://localhost:8080/"
        },
        "id": "4xkkg1K2u11P",
        "outputId": "a28aba84-f331-4d02-d21e-37e57a9aeac4"
      },
      "execution_count": null,
      "outputs": [
        {
          "output_type": "stream",
          "name": "stdout",
          "text": [
            "torch.Size([1, 14, 768])\n",
            "tensor([[[-0.5449, -0.0099, -0.3117,  ..., -0.2595,  0.4935,  0.5315],\n",
            "         [-0.4142, -0.4263, -0.3243,  ..., -0.0633,  1.3985, -0.1521],\n",
            "         [-0.5988, -0.4446,  0.6228,  ..., -0.0395,  0.3968, -0.1668],\n",
            "         ...,\n",
            "         [ 0.2650,  0.2589,  0.1067,  ..., -0.2739,  0.3995,  0.4982],\n",
            "         [-0.9317, -0.5384, -0.3776,  ...,  0.5825,  0.4579, -0.5600],\n",
            "         [ 0.6834,  0.2844, -0.5239,  ...,  0.0819, -0.5736, -0.3002]]],\n",
            "       grad_fn=<NativeLayerNormBackward0>)\n"
          ]
        }
      ]
    },
    {
      "cell_type": "code",
      "source": [
        "last_hidden_states == result"
      ],
      "metadata": {
        "colab": {
          "base_uri": "https://localhost:8080/"
        },
        "id": "LMOK-89FHssg",
        "outputId": "f4e9f11d-1d4c-4f9f-b868-e2de217aad53"
      },
      "execution_count": null,
      "outputs": [
        {
          "output_type": "execute_result",
          "data": {
            "text/plain": [
              "tensor([[[True, True, True,  ..., True, True, True],\n",
              "         [True, True, True,  ..., True, True, True],\n",
              "         [True, True, True,  ..., True, True, True],\n",
              "         ...,\n",
              "         [True, True, True,  ..., True, True, True],\n",
              "         [True, True, True,  ..., True, True, True],\n",
              "         [True, True, True,  ..., True, True, True]]])"
            ]
          },
          "metadata": {},
          "execution_count": 15
        }
      ]
    },
    {
      "cell_type": "code",
      "source": [
        "nltk.download('punkt')\n",
        "nltk.download('stopwords')\n",
        "\n",
        "# rimozione stopword e creazione dataset\n",
        "\n",
        "class Dataset(torch.utils.data.Dataset):\n",
        "\n",
        "    def __init__(self, x, y, stopwords):\n",
        "\n",
        "        if stopwords:\n",
        "            tokens_litt = [nltk.word_tokenize(text, language='english') for text\n",
        "                           in list(x)]\n",
        "            text_clean = []\n",
        "            for sentence in tqdm(tokens_litt, desc='Tokenizing ... '):\n",
        "                text_clean.append(' '.join([w for w in sentence if not w.lower()\n",
        "                in nltk.corpus.stopwords.words(\"english\")]))\n",
        "        else:\n",
        "            tokens_litt = [nltk.word_tokenize(text, language='english') for text\n",
        "                           in list(x)]\n",
        "            text_clean = []\n",
        "            for sentence in tqdm(tokens_litt, desc='Tokenizing ... '):\n",
        "                #sentence_clean = ' '.join([w.lower() for w in sentence])\n",
        "                #text_clean.append(sentence_clean)\n",
        "                text_clean.append(' '.join([w.lower() for w in sentence]))\n",
        "            # ogni token è separato dall'altro con uno spazio\n",
        "        self.texts = [text for text in text_clean]\n",
        "        self.labels = [torch.tensor(label) for label in y]\n",
        "\n",
        "    def classes(self):\n",
        "        return self.labels\n",
        "\n",
        "    def __len__(self):\n",
        "        return len(self.labels)\n",
        "\n",
        "    def get_batch_labels(self, idx):\n",
        "        # Fetch a batch of labels\n",
        "        return np.array(self.labels[idx])\n",
        "\n",
        "    def get_batch_texts(self, idx):\n",
        "        # Fetch a batch of inputs\n",
        "        return self.texts[idx]\n",
        "\n",
        "    def __getitem__(self, idx):\n",
        "        batch_texts = self.get_batch_texts(idx)\n",
        "        batch_labels = self.get_batch_labels(idx)\n",
        "        return batch_texts, batch_labels"
      ],
      "metadata": {
        "colab": {
          "base_uri": "https://localhost:8080/"
        },
        "id": "WlYWKSjDeQi8",
        "outputId": "82ff1091-8423-49c7-d4c8-25a229460e15"
      },
      "execution_count": null,
      "outputs": [
        {
          "output_type": "stream",
          "name": "stderr",
          "text": [
            "[nltk_data] Downloading package punkt to /root/nltk_data...\n",
            "[nltk_data]   Unzipping tokenizers/punkt.zip.\n",
            "[nltk_data] Downloading package stopwords to /root/nltk_data...\n",
            "[nltk_data]   Unzipping corpora/stopwords.zip.\n"
          ]
        }
      ]
    },
    {
      "cell_type": "code",
      "source": [
        "hyperparameters = {\n",
        "    \"epochs\": 5,\n",
        "    \"learning_rate\": 1e-3,\n",
        "    \"batch_size\": 64,\n",
        "    \"dropout\": 0.1,\n",
        "    #\"stopwords\": True,\n",
        "    \"stopwords\": False,\n",
        "    \"h_dim\": 768,\n",
        "    \"patience\": 5,\n",
        "    \"min_delta\": 0.01,\n",
        "    #\"language_model\": \"bert-base-uncased\"\n",
        "    \"language_model\": \"roberta-base\"\n",
        "}"
      ],
      "metadata": {
        "id": "TdXojbqsejFp"
      },
      "execution_count": null,
      "outputs": []
    },
    {
      "cell_type": "code",
      "source": [
        "#creo i dataset\n",
        "\n",
        "train_dataset = Dataset(x_train, y_train, hyperparameters[\"stopwords\"])\n",
        "val_dataset = Dataset(x_val, y_val, hyperparameters[\"stopwords\"])\n",
        "test_dataset = Dataset(x_test, y_test, hyperparameters[\"stopwords\"])"
      ],
      "metadata": {
        "colab": {
          "base_uri": "https://localhost:8080/"
        },
        "id": "WbuEU9Xzevlz",
        "outputId": "3d21efd8-a70f-4893-c7c6-76734a41fbd4"
      },
      "execution_count": null,
      "outputs": [
        {
          "output_type": "stream",
          "name": "stderr",
          "text": [
            "Tokenizing ... : 100%|██████████| 1602/1602 [00:00<00:00, 12170.42it/s]\n",
            "Tokenizing ... : 100%|██████████| 178/178 [00:00<00:00, 9817.30it/s]\n",
            "Tokenizing ... : 100%|██████████| 445/445 [00:00<00:00, 11895.66it/s]\n"
          ]
        }
      ]
    },
    {
      "cell_type": "code",
      "source": [
        "class ClassifierDeep(nn.Module):\n",
        "\n",
        "    def __init__(self, labels, hdim, dropout):\n",
        "        super(ClassifierDeep, self).__init__()\n",
        "        self.classifier = nn.Sequential(\n",
        "            nn.Linear(hdim, hdim),\n",
        "            nn.BatchNorm1d(hdim),\n",
        "            nn.Dropout(dropout),\n",
        "            nn.ReLU(),\n",
        "            nn.Linear(hdim, labels),\n",
        "            )\n",
        "\n",
        "    def forward(self, input_texts):\n",
        "        return self.classifier(input_texts)"
      ],
      "metadata": {
        "id": "qrQ38Hr5a_xQ"
      },
      "execution_count": null,
      "outputs": []
    },
    {
      "cell_type": "code",
      "source": [
        "class EarlyStopping:\n",
        "    def __init__(self, patience=5, min_delta=0.0):\n",
        "\n",
        "        self.patience = patience\n",
        "        self.min_delta = min_delta              # valore minimo di decrescita della loss di validazione all'epoca corrente\n",
        "                                                # per asserire che c'è un miglioramenti della loss\n",
        "        self.counter = 0                        # contatore delle epoche di pazienza\n",
        "        self.early_stop = False                 # flag di early stop\n",
        "        self.min_validation_loss = torch.inf    # valore corrente ottimo della loss di validazione\n",
        "\n",
        "    def __call__(self, validation_loss):\n",
        "        # chiamata in forma funzionale dell'oggetto di classe EarlySopping\n",
        "        if (validation_loss + self.min_delta) >= self.min_validation_loss:  # la loss di validazione non decresce\n",
        "            self.counter += 1                                               # incrementiamo il contatore delle epoche di pazienza\n",
        "            if self.counter >= self.patience:\n",
        "                self.early_stop = True\n",
        "                print(\"Early stop!\")\n",
        "        else:                                                               # c'è un miglioramento della loss:\n",
        "            self.min_validation_loss = validation_loss                      # consideriamo la loss corrente\n",
        "                                                                            # come nuova loss ottimale\n",
        "            self.counter = 0                                                # e azzeriamo il contatore di pazienza"
      ],
      "metadata": {
        "id": "YeLXqnCIgc9X"
      },
      "execution_count": null,
      "outputs": []
    },
    {
      "cell_type": "code",
      "source": [
        "def gen_embeddings(input_id_text, attention_mask, lm_model):\n",
        "    with torch.no_grad():\n",
        "        last_hidden_states = lm_model(input_id_text,\n",
        "                            attention_mask=attention_mask).last_hidden_state\n",
        "        last_hidden_states = last_hidden_states[:,0,:]\n",
        "    return last_hidden_states"
      ],
      "metadata": {
        "id": "kOpbdbRHsOpI"
      },
      "execution_count": null,
      "outputs": []
    },
    {
      "cell_type": "code",
      "source": [
        "def train_loop(model, dataloader, tokenizer, lm_model, loss, optimizer, device):\n",
        "    model.train()\n",
        "\n",
        "    epoch_acc = 0\n",
        "    epoch_loss = 0\n",
        "\n",
        "    for batch_texts, batch_labels in tqdm(dataloader, desc='training set'):\n",
        "\n",
        "        optimizer.zero_grad()\n",
        "        tokens = tokenizer(list(batch_texts), add_special_tokens=True,\n",
        "                return_tensors='pt', padding='max_length',\n",
        "                max_length = 512, truncation=True)\n",
        "        input_id_texts = tokens['input_ids'].squeeze(1).to(device)\n",
        "        mask_texts = tokens['attention_mask'].squeeze(1).to(device)\n",
        "        batch_labels = batch_labels.to(device)\n",
        "        embeddings_texts = gen_embeddings(input_id_texts, mask_texts, lm_model)\n",
        "        output = model(embeddings_texts)\n",
        "\n",
        "        # la loss è una CrossEntropyLoss, al suo interno ha la logsoftmax + negative log likelihood loss\n",
        "        batch_loss = loss(output, batch_labels)\n",
        "        batch_loss.backward()\n",
        "        optimizer.step()\n",
        "\n",
        "        epoch_loss += batch_loss.item()\n",
        "\n",
        "        # per calcolare l'accuracy devo generare le predizioni applicando manualmente la logsoftmax\n",
        "        softmax = nn.LogSoftmax(dim=1)\n",
        "        epoch_acc += (softmax(output).argmax(dim=1) == batch_labels).sum().item()\n",
        "\n",
        "        batch_labels = batch_labels.detach().cpu()\n",
        "        input_id_texts = input_id_texts.detach().cpu()\n",
        "        mask_texts = mask_texts.detach().cpu()\n",
        "        output = output.detach().cpu()\n",
        "\n",
        "    return epoch_loss/len(dataloader), epoch_acc"
      ],
      "metadata": {
        "id": "eRwTy5yVgoCQ"
      },
      "execution_count": null,
      "outputs": []
    },
    {
      "cell_type": "code",
      "source": [
        "def test_loop(model, dataloader, tokenizer, lm_model, loss, device):\n",
        "    model.eval()\n",
        "\n",
        "    epoch_acc = 0\n",
        "    epoch_loss = 0\n",
        "\n",
        "    with torch.no_grad():\n",
        "\n",
        "        for batch_texts, batch_labels, in tqdm(dataloader, desc='dev set'):\n",
        "\n",
        "            tokens = tokenizer(list(batch_texts), add_special_tokens=True, return_tensors='pt', padding='max_length', max_length = 512, truncation=True)\n",
        "            input_id_texts = tokens['input_ids'].squeeze(1).to(device)\n",
        "            mask_texts = tokens['attention_mask'].squeeze(1).to(device)\n",
        "            batch_labels = batch_labels.to(device)\n",
        "            embeddings_texts = gen_embeddings(input_id_texts, mask_texts, lm_model)\n",
        "            output = model(embeddings_texts)\n",
        "\n",
        "            batch_loss = loss(output, batch_labels)\n",
        "            epoch_loss += batch_loss.item()\n",
        "\n",
        "            softmax = nn.LogSoftmax(dim=1)\n",
        "            epoch_acc += (softmax(output).argmax(dim=1) == batch_labels).sum().item()\n",
        "\n",
        "            batch_labels = batch_labels.detach().cpu()\n",
        "            input_id_texts = input_id_texts.detach().cpu()\n",
        "            mask_texts = mask_texts.detach().cpu()\n",
        "            output = output.detach().cpu()\n",
        "\n",
        "    return epoch_loss/len(dataloader), epoch_acc"
      ],
      "metadata": {
        "id": "Jo7jZ2PDuRAh"
      },
      "execution_count": null,
      "outputs": []
    },
    {
      "cell_type": "code",
      "source": [
        "def train_test(model, epochs, optimizer, device, train_data, test_data,\n",
        "               batch_size, language_model, train_loss_fn, test_loss_fn=None,\n",
        "               early_stopping=None, val_data=None, scheduler=None):\n",
        "\n",
        "    train_dataloader = torch.utils.data.DataLoader(train_data, batch_size=batch_size, shuffle=True)\n",
        "    val_dataloader = torch.utils.data.DataLoader(val_data, batch_size=batch_size)\n",
        "    test_dataloader = torch.utils.data.DataLoader(test_data, batch_size=batch_size)\n",
        "\n",
        "    # check sulle funzioni di loss\n",
        "    if test_loss_fn == None:\n",
        "        test_loss_fn = train_loss_fn\n",
        "\n",
        "    # liste dei valori di loss e accuracy epoca per epoca per il plot\n",
        "    train_loss = []\n",
        "    validation_loss = []\n",
        "    test_loss = []\n",
        "\n",
        "    train_acc = []\n",
        "    validation_acc = []\n",
        "    test_acc = []\n",
        "\n",
        "    config = AutoConfig.from_pretrained(model_name)\n",
        "    tokenizer = AutoTokenizer.from_pretrained(model_name)\n",
        "    lm_model = AutoModel.from_pretrained(model_name, config=config).to(device)\n",
        "\n",
        "    # Ciclo di addestramento con early stopping\n",
        "    for epoch in tqdm(range(1,epochs+1)):\n",
        "        epoch_train_loss, epoch_train_acc = train_loop(model,\n",
        "                    train_dataloader, tokenizer, lm_model, train_loss_fn, optimizer, device)\n",
        "        train_loss.append(epoch_train_loss)\n",
        "        train_acc.append(epoch_train_acc/len(train_data))\n",
        "\n",
        "        # validation se è presente la callback di early stopping\n",
        "        if early_stopping != None:\n",
        "                epoch_validate_loss, epoch_validate_acc = test_loop(model, val_dataloader, tokenizer, lm_model, test_loss_fn, device)\n",
        "                validation_loss.append(epoch_validate_loss)\n",
        "                validation_acc.append(epoch_validate_acc/len(val_data))\n",
        "\n",
        "        # test\n",
        "        epoch_test_loss, epoch_test_acc,= test_loop(model, test_dataloader, tokenizer, lm_model, test_loss_fn, device)\n",
        "        test_loss.append(epoch_test_loss)\n",
        "        test_acc.append(epoch_test_acc/len(test_data))\n",
        "\n",
        "        val_loss_str = f'Validation loss: {epoch_validate_loss:6.4f} ' if early_stopping != None else ' '\n",
        "        val_acc_str = f'Validation accuracy: {(epoch_validate_acc/len(val_data)):6.4f} ' if early_stopping != None else ' '\n",
        "        print(f\"\\nTrain loss: {epoch_train_loss:6.4f} {val_loss_str} Test loss: {epoch_test_loss:6.4f}\")\n",
        "        print(f\"Train accuracy: {(epoch_train_acc/len(train_data)):6.4f} {val_acc_str}Test accuracy: {(epoch_test_acc/len(test_data)):6.4f}\")\n",
        "\n",
        "        # early stopping\n",
        "        if early_stopping != None:\n",
        "                early_stopping(epoch_validate_loss)\n",
        "                if early_stopping.early_stop:\n",
        "                    break\n",
        "\n",
        "    return train_loss, validation_loss, test_loss, train_acc, validation_acc, test_acc"
      ],
      "metadata": {
        "id": "W_urLi5MubL6"
      },
      "execution_count": null,
      "outputs": []
    },
    {
      "cell_type": "code",
      "source": [
        "# Acquisiamo il device su cui effettueremo il training\n",
        "device = torch.device(\"cuda\" if torch.cuda.is_available() else \"cpu\")\n",
        "print(f\"Using {device} device\")\n",
        "model = ClassifierDeep(len(labels_dict),\n",
        "                    hyperparameters[\"h_dim\"],\n",
        "                    hyperparameters[\"dropout\"]).to(device)\n",
        "print(model)\n",
        "\n",
        "# Calcoliamo il numero totale dei parametri del modello\n",
        "total_params = sum(p.numel() for p in model.parameters())\n",
        "print(f\"Numbero totale dei parametri: {total_params}\")\n",
        "criterion = nn.CrossEntropyLoss()\n",
        "optimizer = Adam(model.parameters(), lr=hyperparameters[\"learning_rate\"])\n",
        "# Creiamo la callback di early stopping da passare al nostro metodo di addestramento\n",
        "early_stopping = EarlyStopping(patience=hyperparameters['patience'], min_delta=hyperparameters['min_delta'])\n"
      ],
      "metadata": {
        "colab": {
          "base_uri": "https://localhost:8080/"
        },
        "id": "ozVTHJGFvjEi",
        "outputId": "c0d03348-f0bb-4c72-9da6-1c42fd9fcc20"
      },
      "execution_count": null,
      "outputs": [
        {
          "output_type": "stream",
          "name": "stdout",
          "text": [
            "Using cuda device\n",
            "ClassifierDeep(\n",
            "  (classifier): Sequential(\n",
            "    (0): Linear(in_features=768, out_features=768, bias=True)\n",
            "    (1): BatchNorm1d(768, eps=1e-05, momentum=0.1, affine=True, track_running_stats=True)\n",
            "    (2): Dropout(p=0.1, inplace=False)\n",
            "    (3): ReLU()\n",
            "    (4): Linear(in_features=768, out_features=5, bias=True)\n",
            "  )\n",
            ")\n",
            "Numbero totale dei parametri: 595973\n"
          ]
        }
      ]
    },
    {
      "cell_type": "code",
      "source": [
        "# Routine di addestramento\n",
        "train_loss, validation_loss,test_loss, train_acc, validation_acc, test_acc = train_test(model,\n",
        "                                                hyperparameters['epochs'],\n",
        "                                                #50,\n",
        "                                                optimizer,\n",
        "                                                device,\n",
        "                                                train_dataset,\n",
        "                                                test_dataset,\n",
        "                                                hyperparameters['batch_size'],\n",
        "                                                hyperparameters['language_model'],\n",
        "                                                criterion,\n",
        "                                                criterion,\n",
        "                                                early_stopping,\n",
        "                                                val_dataset)"
      ],
      "metadata": {
        "colab": {
          "base_uri": "https://localhost:8080/"
        },
        "id": "aHT4iHdawXrT",
        "outputId": "b695bdd1-7ef8-404e-aa75-f570e2c3dc36"
      },
      "execution_count": null,
      "outputs": [
        {
          "output_type": "stream",
          "name": "stderr",
          "text": [
            "Some weights of RobertaModel were not initialized from the model checkpoint at roberta-base and are newly initialized: ['roberta.pooler.dense.bias', 'roberta.pooler.dense.weight']\n",
            "You should probably TRAIN this model on a down-stream task to be able to use it for predictions and inference.\n",
            "  0%|          | 0/5 [00:00<?, ?it/s]\n",
            "training set:   0%|          | 0/26 [00:00<?, ?it/s]\u001b[A\n",
            "training set:   4%|▍         | 1/26 [00:04<01:59,  4.78s/it]\u001b[A\n",
            "training set:   8%|▊         | 2/26 [00:06<01:14,  3.10s/it]\u001b[A\n",
            "training set:  12%|█▏        | 3/26 [00:08<00:58,  2.53s/it]\u001b[A\n",
            "training set:  15%|█▌        | 4/26 [00:10<00:49,  2.25s/it]\u001b[A\n",
            "training set:  19%|█▉        | 5/26 [00:12<00:44,  2.11s/it]\u001b[A\n",
            "training set:  23%|██▎       | 6/26 [00:14<00:40,  2.01s/it]\u001b[A\n",
            "training set:  27%|██▋       | 7/26 [00:15<00:37,  1.96s/it]\u001b[A\n",
            "training set:  31%|███       | 8/26 [00:17<00:34,  1.92s/it]\u001b[A\n",
            "training set:  35%|███▍      | 9/26 [00:19<00:32,  1.93s/it]\u001b[A\n",
            "training set:  38%|███▊      | 10/26 [00:21<00:30,  1.93s/it]\u001b[A\n",
            "training set:  42%|████▏     | 11/26 [00:23<00:28,  1.93s/it]\u001b[A\n",
            "training set:  46%|████▌     | 12/26 [00:25<00:26,  1.91s/it]\u001b[A\n",
            "training set:  50%|█████     | 13/26 [00:27<00:24,  1.90s/it]\u001b[A\n",
            "training set:  54%|█████▍    | 14/26 [00:29<00:22,  1.89s/it]\u001b[A\n",
            "training set:  58%|█████▊    | 15/26 [00:31<00:20,  1.88s/it]\u001b[A\n",
            "training set:  62%|██████▏   | 16/26 [00:32<00:18,  1.88s/it]\u001b[A\n",
            "training set:  65%|██████▌   | 17/26 [00:34<00:17,  1.89s/it]\u001b[A\n",
            "training set:  69%|██████▉   | 18/26 [00:36<00:15,  1.90s/it]\u001b[A\n",
            "training set:  73%|███████▎  | 19/26 [00:38<00:13,  1.92s/it]\u001b[A\n",
            "training set:  77%|███████▋  | 20/26 [00:40<00:11,  1.91s/it]\u001b[A\n",
            "training set:  81%|████████  | 21/26 [00:42<00:09,  1.94s/it]\u001b[A\n",
            "training set:  85%|████████▍ | 22/26 [00:44<00:08,  2.01s/it]\u001b[A\n",
            "training set:  88%|████████▊ | 23/26 [00:46<00:06,  2.03s/it]\u001b[A\n",
            "training set:  92%|█████████▏| 24/26 [00:48<00:04,  2.02s/it]\u001b[A\n",
            "training set: 100%|██████████| 26/26 [00:50<00:00,  1.96s/it]\n",
            "\n",
            "dev set:   0%|          | 0/3 [00:00<?, ?it/s]\u001b[A\n",
            "dev set:  33%|███▎      | 1/3 [00:01<00:03,  1.93s/it]\u001b[A\n",
            "dev set:  67%|██████▋   | 2/3 [00:03<00:01,  1.95s/it]\u001b[A\n",
            "dev set: 100%|██████████| 3/3 [00:05<00:00,  1.78s/it]\n",
            "\n",
            "dev set:   0%|          | 0/7 [00:00<?, ?it/s]\u001b[A\n",
            "dev set:  14%|█▍        | 1/7 [00:01<00:11,  1.91s/it]\u001b[A\n",
            "dev set:  29%|██▊       | 2/7 [00:03<00:09,  1.94s/it]\u001b[A\n",
            "dev set:  43%|████▎     | 3/7 [00:05<00:07,  1.93s/it]\u001b[A\n",
            "dev set:  57%|█████▋    | 4/7 [00:07<00:05,  1.93s/it]\u001b[A\n",
            "dev set:  71%|███████▏  | 5/7 [00:09<00:03,  1.92s/it]\u001b[A\n",
            "dev set:  86%|████████▌ | 6/7 [00:11<00:01,  1.93s/it]\u001b[A\n",
            "dev set: 100%|██████████| 7/7 [00:13<00:00,  1.92s/it]\n",
            " 20%|██        | 1/5 [01:09<04:39, 69.78s/it]"
          ]
        },
        {
          "output_type": "stream",
          "name": "stdout",
          "text": [
            "\n",
            "Train loss: 0.2390 Validation loss: 1.0323  Test loss: 1.0141\n",
            "Train accuracy: 0.9238 Validation accuracy: 0.9494 Test accuracy: 0.9483\n"
          ]
        },
        {
          "output_type": "stream",
          "name": "stderr",
          "text": [
            "\n",
            "training set:   0%|          | 0/26 [00:00<?, ?it/s]\u001b[A\n",
            "training set:   4%|▍         | 1/26 [00:02<00:50,  2.01s/it]\u001b[A\n",
            "training set:   8%|▊         | 2/26 [00:03<00:47,  1.96s/it]\u001b[A\n",
            "training set:  12%|█▏        | 3/26 [00:05<00:44,  1.95s/it]\u001b[A\n",
            "training set:  15%|█▌        | 4/26 [00:07<00:42,  1.95s/it]\u001b[A\n",
            "training set:  19%|█▉        | 5/26 [00:09<00:40,  1.95s/it]\u001b[A\n",
            "training set:  23%|██▎       | 6/26 [00:11<00:38,  1.95s/it]\u001b[A\n",
            "training set:  27%|██▋       | 7/26 [00:13<00:37,  1.96s/it]\u001b[A\n",
            "training set:  31%|███       | 8/26 [00:15<00:35,  1.99s/it]\u001b[A\n",
            "training set:  35%|███▍      | 9/26 [00:17<00:34,  2.00s/it]\u001b[A\n",
            "training set:  38%|███▊      | 10/26 [00:19<00:31,  1.99s/it]\u001b[A\n",
            "training set:  42%|████▏     | 11/26 [00:21<00:29,  1.98s/it]\u001b[A\n",
            "training set:  46%|████▌     | 12/26 [00:23<00:27,  1.98s/it]\u001b[A\n",
            "training set:  50%|█████     | 13/26 [00:25<00:25,  1.98s/it]\u001b[A\n",
            "training set:  54%|█████▍    | 14/26 [00:27<00:23,  1.98s/it]\u001b[A\n",
            "training set:  58%|█████▊    | 15/26 [00:29<00:22,  2.01s/it]\u001b[A\n",
            "training set:  62%|██████▏   | 16/26 [00:31<00:20,  2.03s/it]\u001b[A\n",
            "training set:  65%|██████▌   | 17/26 [00:33<00:18,  2.06s/it]\u001b[A\n",
            "training set:  69%|██████▉   | 18/26 [00:35<00:16,  2.04s/it]\u001b[A\n",
            "training set:  73%|███████▎  | 19/26 [00:37<00:14,  2.03s/it]\u001b[A\n",
            "training set:  77%|███████▋  | 20/26 [00:39<00:12,  2.03s/it]\u001b[A\n",
            "training set:  81%|████████  | 21/26 [00:41<00:10,  2.03s/it]\u001b[A\n",
            "training set:  85%|████████▍ | 22/26 [00:43<00:08,  2.03s/it]\u001b[A\n",
            "training set:  88%|████████▊ | 23/26 [00:46<00:06,  2.04s/it]\u001b[A\n",
            "training set:  92%|█████████▏| 24/26 [00:48<00:04,  2.05s/it]\u001b[A\n",
            "training set: 100%|██████████| 26/26 [00:50<00:00,  1.93s/it]\n",
            "\n",
            "dev set:   0%|          | 0/3 [00:00<?, ?it/s]\u001b[A\n",
            "dev set:  33%|███▎      | 1/3 [00:02<00:04,  2.01s/it]\u001b[A\n",
            "dev set:  67%|██████▋   | 2/3 [00:04<00:02,  2.01s/it]\u001b[A\n",
            "dev set: 100%|██████████| 3/3 [00:05<00:00,  1.85s/it]\n",
            "\n",
            "dev set:   0%|          | 0/7 [00:00<?, ?it/s]\u001b[A\n",
            "dev set:  14%|█▍        | 1/7 [00:01<00:11,  2.00s/it]\u001b[A\n",
            "dev set:  29%|██▊       | 2/7 [00:03<00:09,  2.00s/it]\u001b[A\n",
            "dev set:  43%|████▎     | 3/7 [00:06<00:08,  2.03s/it]\u001b[A\n",
            "dev set:  57%|█████▋    | 4/7 [00:08<00:06,  2.06s/it]\u001b[A\n",
            "dev set:  71%|███████▏  | 5/7 [00:10<00:04,  2.05s/it]\u001b[A\n",
            "dev set:  86%|████████▌ | 6/7 [00:12<00:02,  2.03s/it]\u001b[A\n",
            "dev set: 100%|██████████| 7/7 [00:14<00:00,  2.00s/it]\n",
            " 40%|████      | 2/5 [02:19<03:29, 69.84s/it]"
          ]
        },
        {
          "output_type": "stream",
          "name": "stdout",
          "text": [
            "\n",
            "Train loss: 0.2050 Validation loss: 0.2978  Test loss: 0.2737\n",
            "Train accuracy: 0.9838 Validation accuracy: 0.9494 Test accuracy: 0.9416\n"
          ]
        },
        {
          "output_type": "stream",
          "name": "stderr",
          "text": [
            "\n",
            "training set:   0%|          | 0/26 [00:00<?, ?it/s]\u001b[A\n",
            "training set:   4%|▍         | 1/26 [00:01<00:49,  1.96s/it]\u001b[A\n",
            "training set:   8%|▊         | 2/26 [00:03<00:47,  1.97s/it]\u001b[A\n",
            "training set:  12%|█▏        | 3/26 [00:05<00:45,  1.98s/it]\u001b[A\n",
            "training set:  15%|█▌        | 4/26 [00:07<00:44,  2.01s/it]\u001b[A\n",
            "training set:  19%|█▉        | 5/26 [00:10<00:42,  2.01s/it]\u001b[A\n",
            "training set:  23%|██▎       | 6/26 [00:12<00:40,  2.02s/it]\u001b[A\n",
            "training set:  27%|██▋       | 7/26 [00:14<00:38,  2.00s/it]\u001b[A\n",
            "training set:  31%|███       | 8/26 [00:15<00:35,  2.00s/it]\u001b[A\n",
            "training set:  35%|███▍      | 9/26 [00:18<00:35,  2.07s/it]\u001b[A\n",
            "training set:  38%|███▊      | 10/26 [00:20<00:32,  2.04s/it]\u001b[A\n",
            "training set:  42%|████▏     | 11/26 [00:22<00:30,  2.02s/it]\u001b[A\n",
            "training set:  46%|████▌     | 12/26 [00:24<00:28,  2.03s/it]\u001b[A\n",
            "training set:  50%|█████     | 13/26 [00:26<00:26,  2.05s/it]\u001b[A\n",
            "training set:  54%|█████▍    | 14/26 [00:28<00:24,  2.05s/it]\u001b[A\n",
            "training set:  58%|█████▊    | 15/26 [00:30<00:22,  2.02s/it]\u001b[A\n",
            "training set:  62%|██████▏   | 16/26 [00:32<00:20,  2.01s/it]\u001b[A\n",
            "training set:  65%|██████▌   | 17/26 [00:34<00:18,  2.00s/it]\u001b[A\n",
            "training set:  69%|██████▉   | 18/26 [00:36<00:15,  2.00s/it]\u001b[A\n",
            "training set:  73%|███████▎  | 19/26 [00:38<00:13,  2.00s/it]\u001b[A\n",
            "training set:  77%|███████▋  | 20/26 [00:40<00:12,  2.01s/it]\u001b[A\n",
            "training set:  81%|████████  | 21/26 [00:42<00:10,  2.03s/it]\u001b[A\n",
            "training set:  85%|████████▍ | 22/26 [00:44<00:08,  2.03s/it]\u001b[A\n",
            "training set:  88%|████████▊ | 23/26 [00:46<00:06,  2.02s/it]\u001b[A\n",
            "training set:  92%|█████████▏| 24/26 [00:48<00:04,  2.01s/it]\u001b[A\n",
            "training set: 100%|██████████| 26/26 [00:50<00:00,  1.94s/it]\n",
            "\n",
            "dev set:   0%|          | 0/3 [00:00<?, ?it/s]\u001b[A\n",
            "dev set:  33%|███▎      | 1/3 [00:01<00:03,  1.98s/it]\u001b[A\n",
            "dev set:  67%|██████▋   | 2/3 [00:03<00:01,  2.00s/it]\u001b[A\n",
            "dev set: 100%|██████████| 3/3 [00:05<00:00,  1.86s/it]\n",
            "\n",
            "dev set:   0%|          | 0/7 [00:00<?, ?it/s]\u001b[A\n",
            "dev set:  14%|█▍        | 1/7 [00:02<00:12,  2.06s/it]\u001b[A\n",
            "dev set:  29%|██▊       | 2/7 [00:04<00:10,  2.07s/it]\u001b[A\n",
            "dev set:  43%|████▎     | 3/7 [00:06<00:08,  2.04s/it]\u001b[A\n",
            "dev set:  57%|█████▋    | 4/7 [00:08<00:06,  2.03s/it]\u001b[A\n",
            "dev set:  71%|███████▏  | 5/7 [00:10<00:04,  2.02s/it]\u001b[A\n",
            "dev set:  86%|████████▌ | 6/7 [00:12<00:02,  2.01s/it]\u001b[A\n",
            "dev set: 100%|██████████| 7/7 [00:13<00:00,  2.00s/it]\n",
            " 60%|██████    | 3/5 [03:29<02:19, 69.95s/it]"
          ]
        },
        {
          "output_type": "stream",
          "name": "stdout",
          "text": [
            "\n",
            "Train loss: 0.0307 Validation loss: 0.0993  Test loss: 0.0720\n",
            "Train accuracy: 0.9950 Validation accuracy: 0.9775 Test accuracy: 0.9798\n"
          ]
        },
        {
          "output_type": "stream",
          "name": "stderr",
          "text": [
            "\n",
            "training set:   0%|          | 0/26 [00:00<?, ?it/s]\u001b[A\n",
            "training set:   4%|▍         | 1/26 [00:02<00:50,  2.04s/it]\u001b[A\n",
            "training set:   8%|▊         | 2/26 [00:04<00:49,  2.05s/it]\u001b[A\n",
            "training set:  12%|█▏        | 3/26 [00:06<00:47,  2.06s/it]\u001b[A\n",
            "training set:  15%|█▌        | 4/26 [00:08<00:44,  2.03s/it]\u001b[A\n",
            "training set:  19%|█▉        | 5/26 [00:10<00:42,  2.01s/it]\u001b[A\n",
            "training set:  23%|██▎       | 6/26 [00:12<00:40,  2.01s/it]\u001b[A\n",
            "training set:  27%|██▋       | 7/26 [00:14<00:38,  2.00s/it]\u001b[A\n",
            "training set:  31%|███       | 8/26 [00:16<00:36,  2.00s/it]\u001b[A\n",
            "training set:  35%|███▍      | 9/26 [00:18<00:34,  2.02s/it]\u001b[A\n",
            "training set:  38%|███▊      | 10/26 [00:20<00:32,  2.02s/it]\u001b[A\n",
            "training set:  42%|████▏     | 11/26 [00:22<00:30,  2.02s/it]\u001b[A\n",
            "training set:  46%|████▌     | 12/26 [00:24<00:28,  2.01s/it]\u001b[A\n",
            "training set:  50%|█████     | 13/26 [00:26<00:26,  2.02s/it]\u001b[A\n",
            "training set:  54%|█████▍    | 14/26 [00:28<00:24,  2.04s/it]\u001b[A\n",
            "training set:  58%|█████▊    | 15/26 [00:30<00:22,  2.03s/it]\u001b[A\n",
            "training set:  62%|██████▏   | 16/26 [00:32<00:20,  2.02s/it]\u001b[A\n",
            "training set:  65%|██████▌   | 17/26 [00:34<00:18,  2.03s/it]\u001b[A\n",
            "training set:  69%|██████▉   | 18/26 [00:36<00:16,  2.04s/it]\u001b[A\n",
            "training set:  73%|███████▎  | 19/26 [00:38<00:14,  2.04s/it]\u001b[A\n",
            "training set:  77%|███████▋  | 20/26 [00:40<00:12,  2.03s/it]\u001b[A\n",
            "training set:  81%|████████  | 21/26 [00:42<00:10,  2.02s/it]\u001b[A\n",
            "training set:  85%|████████▍ | 22/26 [00:44<00:08,  2.01s/it]\u001b[A\n",
            "training set:  88%|████████▊ | 23/26 [00:46<00:06,  2.01s/it]\u001b[A\n",
            "training set:  92%|█████████▏| 24/26 [00:48<00:04,  2.00s/it]\u001b[A\n",
            "training set: 100%|██████████| 26/26 [00:50<00:00,  1.95s/it]\n",
            "\n",
            "dev set:   0%|          | 0/3 [00:00<?, ?it/s]\u001b[A\n",
            "dev set:  33%|███▎      | 1/3 [00:02<00:04,  2.06s/it]\u001b[A\n",
            "dev set:  67%|██████▋   | 2/3 [00:04<00:02,  2.06s/it]\u001b[A\n",
            "dev set: 100%|██████████| 3/3 [00:05<00:00,  1.88s/it]\n",
            "\n",
            "dev set:   0%|          | 0/7 [00:00<?, ?it/s]\u001b[A\n",
            "dev set:  14%|█▍        | 1/7 [00:02<00:12,  2.00s/it]\u001b[A\n",
            "dev set:  29%|██▊       | 2/7 [00:04<00:10,  2.00s/it]\u001b[A\n",
            "dev set:  43%|████▎     | 3/7 [00:06<00:08,  2.01s/it]\u001b[A\n",
            "dev set:  57%|█████▋    | 4/7 [00:08<00:06,  2.01s/it]\u001b[A\n",
            "dev set:  71%|███████▏  | 5/7 [00:10<00:04,  2.02s/it]\u001b[A\n",
            "dev set:  86%|████████▌ | 6/7 [00:12<00:02,  2.03s/it]\u001b[A\n",
            "dev set: 100%|██████████| 7/7 [00:14<00:00,  2.00s/it]\n",
            " 80%|████████  | 4/5 [04:40<01:10, 70.11s/it]"
          ]
        },
        {
          "output_type": "stream",
          "name": "stdout",
          "text": [
            "\n",
            "Train loss: 0.0505 Validation loss: 0.2017  Test loss: 0.1289\n",
            "Train accuracy: 0.9969 Validation accuracy: 0.9438 Test accuracy: 0.9618\n"
          ]
        },
        {
          "output_type": "stream",
          "name": "stderr",
          "text": [
            "\n",
            "training set:   0%|          | 0/26 [00:00<?, ?it/s]\u001b[A\n",
            "training set:   4%|▍         | 1/26 [00:01<00:49,  2.00s/it]\u001b[A\n",
            "training set:   8%|▊         | 2/26 [00:03<00:47,  1.99s/it]\u001b[A\n",
            "training set:  12%|█▏        | 3/26 [00:05<00:45,  2.00s/it]\u001b[A\n",
            "training set:  15%|█▌        | 4/26 [00:08<00:44,  2.00s/it]\u001b[A\n",
            "training set:  19%|█▉        | 5/26 [00:10<00:42,  2.01s/it]\u001b[A\n",
            "training set:  23%|██▎       | 6/26 [00:12<00:40,  2.02s/it]\u001b[A\n",
            "training set:  27%|██▋       | 7/26 [00:14<00:38,  2.04s/it]\u001b[A\n",
            "training set:  31%|███       | 8/26 [00:16<00:36,  2.05s/it]\u001b[A\n",
            "training set:  35%|███▍      | 9/26 [00:18<00:34,  2.03s/it]\u001b[A\n",
            "training set:  38%|███▊      | 10/26 [00:20<00:32,  2.02s/it]\u001b[A\n",
            "training set:  42%|████▏     | 11/26 [00:22<00:30,  2.01s/it]\u001b[A\n",
            "training set:  46%|████▌     | 12/26 [00:24<00:28,  2.00s/it]\u001b[A\n",
            "training set:  50%|█████     | 13/26 [00:26<00:26,  2.00s/it]\u001b[A\n",
            "training set:  54%|█████▍    | 14/26 [00:28<00:24,  2.01s/it]\u001b[A\n",
            "training set:  58%|█████▊    | 15/26 [00:30<00:22,  2.02s/it]\u001b[A\n",
            "training set:  62%|██████▏   | 16/26 [00:32<00:20,  2.04s/it]\u001b[A\n",
            "training set:  65%|██████▌   | 17/26 [00:34<00:18,  2.03s/it]\u001b[A\n",
            "training set:  69%|██████▉   | 18/26 [00:36<00:16,  2.02s/it]\u001b[A\n",
            "training set:  73%|███████▎  | 19/26 [00:38<00:14,  2.01s/it]\u001b[A\n",
            "training set:  77%|███████▋  | 20/26 [00:40<00:12,  2.01s/it]\u001b[A\n",
            "training set:  81%|████████  | 21/26 [00:42<00:10,  2.01s/it]\u001b[A\n",
            "training set:  85%|████████▍ | 22/26 [00:44<00:08,  2.02s/it]\u001b[A\n",
            "training set:  88%|████████▊ | 23/26 [00:46<00:06,  2.02s/it]\u001b[A\n",
            "training set:  92%|█████████▏| 24/26 [00:48<00:04,  2.03s/it]\u001b[A\n",
            "training set: 100%|██████████| 26/26 [00:50<00:00,  1.94s/it]\n",
            "\n",
            "dev set:   0%|          | 0/3 [00:00<?, ?it/s]\u001b[A\n",
            "dev set:  33%|███▎      | 1/3 [00:01<00:03,  1.98s/it]\u001b[A\n",
            "dev set:  67%|██████▋   | 2/3 [00:03<00:01,  1.99s/it]\u001b[A\n",
            "dev set: 100%|██████████| 3/3 [00:05<00:00,  1.83s/it]\n",
            "\n",
            "dev set:   0%|          | 0/7 [00:00<?, ?it/s]\u001b[A\n",
            "dev set:  14%|█▍        | 1/7 [00:01<00:11,  1.99s/it]\u001b[A\n",
            "dev set:  29%|██▊       | 2/7 [00:04<00:10,  2.05s/it]\u001b[A\n",
            "dev set:  43%|████▎     | 3/7 [00:06<00:08,  2.05s/it]\u001b[A\n",
            "dev set:  57%|█████▋    | 4/7 [00:08<00:06,  2.05s/it]\u001b[A\n",
            "dev set:  71%|███████▏  | 5/7 [00:10<00:04,  2.03s/it]\u001b[A\n",
            "dev set:  86%|████████▌ | 6/7 [00:12<00:02,  2.02s/it]\u001b[A\n",
            "dev set: 100%|██████████| 7/7 [00:14<00:00,  2.00s/it]\n",
            "100%|██████████| 5/5 [05:50<00:00, 70.04s/it]"
          ]
        },
        {
          "output_type": "stream",
          "name": "stdout",
          "text": [
            "\n",
            "Train loss: 0.0185 Validation loss: 0.1346  Test loss: 0.0949\n",
            "Train accuracy: 0.9969 Validation accuracy: 0.9551 Test accuracy: 0.9663\n"
          ]
        },
        {
          "output_type": "stream",
          "name": "stderr",
          "text": [
            "\n"
          ]
        }
      ]
    },
    {
      "cell_type": "code",
      "source": [
        "import matplotlib.pyplot as plt\n",
        "\n",
        "plt.plot(train_loss, label='training loss')\n",
        "plt.plot(validation_loss, label='validation loss')\n",
        "plt.plot(test_loss, label='test loss')\n",
        "plt.legend(loc='lower right')\n",
        "plt.ylim(0,4)\n",
        "plt.show()"
      ],
      "metadata": {
        "id": "Iec8xbPLJheR",
        "colab": {
          "base_uri": "https://localhost:8080/",
          "height": 435
        },
        "outputId": "8f21defc-353a-48cc-cc42-b8223dd3fa3f"
      },
      "execution_count": null,
      "outputs": [
        {
          "output_type": "display_data",
          "data": {
            "text/plain": [
              "<Figure size 640x480 with 1 Axes>"
            ],
            "image/png": "[encoded data removed]"
          },
          "metadata": {}
        }
      ]
    },
    {
      "cell_type": "code",
      "source": [
        "plt.plot(train_acc, label='training accuracy')\n",
        "plt.plot(validation_acc, label='validation accuracy')\n",
        "plt.plot(test_acc, label='test accuracy')\n",
        "plt.legend(loc='lower right')\n",
        "plt.ylim(0,2)\n",
        "plt.show()"
      ],
      "metadata": {
        "id": "_w9lnCY3JiPu",
        "colab": {
          "base_uri": "https://localhost:8080/",
          "height": 435
        },
        "outputId": "c732d536-c1a6-4f0b-d5d3-a6761fc341b4"
      },
      "execution_count": null,
      "outputs": [
        {
          "output_type": "display_data",
          "data": {
            "text/plain": [
              "<Figure size 640x480 with 1 Axes>"
            ],
            "image/png": "[encoded data removed]"
          },
          "metadata": {}
        }
      ]
    }
  ]
}